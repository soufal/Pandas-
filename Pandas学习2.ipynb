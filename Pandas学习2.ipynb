{
  "nbformat": 4,
  "nbformat_minor": 0,
  "metadata": {
    "colab": {
      "name": "Pandas学习2",
      "provenance": [],
      "collapsed_sections": []
    },
    "kernelspec": {
      "name": "python3",
      "display_name": "Python 3"
    }
  },
  "cells": [
    {
      "cell_type": "markdown",
      "metadata": {
        "id": "J8bChS8gzcsc"
      },
      "source": [
        "# Pandas—Task02：pandas基础"
      ]
    },
    {
      "cell_type": "code",
      "metadata": {
        "id": "Es2BvOpLzaia"
      },
      "source": [
        "import numpy as np\r\n",
        "import pandas as pd"
      ],
      "execution_count": 145,
      "outputs": []
    },
    {
      "cell_type": "code",
      "metadata": {
        "colab": {
          "base_uri": "https://localhost:8080/",
          "height": 35
        },
        "id": "oTFEoVS40dEv",
        "outputId": "bb2fd8d4-73bd-409d-e373-3377202f0ee6"
      },
      "source": [
        "pd.__version__"
      ],
      "execution_count": 146,
      "outputs": [
        {
          "output_type": "execute_result",
          "data": {
            "application/vnd.google.colaboratory.intrinsic+json": {
              "type": "string"
            },
            "text/plain": [
              "'1.1.5'"
            ]
          },
          "metadata": {
            "tags": []
          },
          "execution_count": 146
        }
      ]
    },
    {
      "cell_type": "markdown",
      "metadata": {
        "id": "xJXgPJ8k0vPn"
      },
      "source": [
        "# 一、文件的读取和写入\r\n",
        "pandas 可以读取的文件格式有很多，这里主要介绍读取 csv, excel, txt 文件"
      ]
    },
    {
      "cell_type": "markdown",
      "metadata": {
        "id": "VYP9IW_y4BZ8"
      },
      "source": [
        "## 1.文件读取"
      ]
    },
    {
      "cell_type": "code",
      "metadata": {
        "colab": {
          "base_uri": "https://localhost:8080/"
        },
        "id": "MLkqJsEk3H6Z",
        "outputId": "fcc88801-d2ea-4ccd-e84e-c769a8249888"
      },
      "source": [
        "%cd drive/MyDrive/\r\n",
        "!ls"
      ],
      "execution_count": 147,
      "outputs": [
        {
          "output_type": "stream",
          "text": [
            "[Errno 2] No such file or directory: 'drive/MyDrive/'\n",
            "/content/drive/MyDrive\n",
            "'Colab Notebooks'   data\n"
          ],
          "name": "stdout"
        }
      ]
    },
    {
      "cell_type": "code",
      "metadata": {
        "colab": {
          "base_uri": "https://localhost:8080/",
          "height": 166
        },
        "id": "r4gvUB9X2F0G",
        "outputId": "8e2f0682-bd7f-4510-ff5b-6c7d3ee2f6aa"
      },
      "source": [
        "df_csv = pd.read_csv('data/my_csv.csv')\r\n",
        "df_csv"
      ],
      "execution_count": null,
      "outputs": [
        {
          "output_type": "execute_result",
          "data": {
            "text/html": [
              "<div>\n",
              "<style scoped>\n",
              "    .dataframe tbody tr th:only-of-type {\n",
              "        vertical-align: middle;\n",
              "    }\n",
              "\n",
              "    .dataframe tbody tr th {\n",
              "        vertical-align: top;\n",
              "    }\n",
              "\n",
              "    .dataframe thead th {\n",
              "        text-align: right;\n",
              "    }\n",
              "</style>\n",
              "<table border=\"1\" class=\"dataframe\">\n",
              "  <thead>\n",
              "    <tr style=\"text-align: right;\">\n",
              "      <th></th>\n",
              "      <th>col1</th>\n",
              "      <th>col2</th>\n",
              "      <th>col3</th>\n",
              "      <th>col4</th>\n",
              "      <th>col5</th>\n",
              "    </tr>\n",
              "  </thead>\n",
              "  <tbody>\n",
              "    <tr>\n",
              "      <th>0</th>\n",
              "      <td>2</td>\n",
              "      <td>a</td>\n",
              "      <td>1.4</td>\n",
              "      <td>apple</td>\n",
              "      <td>2020/1/1</td>\n",
              "    </tr>\n",
              "    <tr>\n",
              "      <th>1</th>\n",
              "      <td>3</td>\n",
              "      <td>b</td>\n",
              "      <td>3.4</td>\n",
              "      <td>banana</td>\n",
              "      <td>2020/1/2</td>\n",
              "    </tr>\n",
              "    <tr>\n",
              "      <th>2</th>\n",
              "      <td>6</td>\n",
              "      <td>c</td>\n",
              "      <td>2.5</td>\n",
              "      <td>orange</td>\n",
              "      <td>2020/1/5</td>\n",
              "    </tr>\n",
              "    <tr>\n",
              "      <th>3</th>\n",
              "      <td>5</td>\n",
              "      <td>d</td>\n",
              "      <td>3.2</td>\n",
              "      <td>lemon</td>\n",
              "      <td>2020/1/7</td>\n",
              "    </tr>\n",
              "  </tbody>\n",
              "</table>\n",
              "</div>"
            ],
            "text/plain": [
              "   col1 col2  col3    col4      col5\n",
              "0     2    a   1.4   apple  2020/1/1\n",
              "1     3    b   3.4  banana  2020/1/2\n",
              "2     6    c   2.5  orange  2020/1/5\n",
              "3     5    d   3.2   lemon  2020/1/7"
            ]
          },
          "metadata": {
            "tags": []
          },
          "execution_count": 56
        }
      ]
    },
    {
      "cell_type": "code",
      "metadata": {
        "id": "_Ati4Dg12Ki2"
      },
      "source": [
        "# 尝试写出txt、excel的读取\r\n",
        "df_txt = pd.read_table('data/my_table.txt')\r\n",
        "df_excel = pd.read_excel('data/my_excel.xlsx')"
      ],
      "execution_count": null,
      "outputs": []
    },
    {
      "cell_type": "code",
      "metadata": {
        "colab": {
          "base_uri": "https://localhost:8080/",
          "height": 166
        },
        "id": "CrAVHcUV31TZ",
        "outputId": "80904241-9b2f-47a4-dda9-fa0267e65625"
      },
      "source": [
        "df_txt"
      ],
      "execution_count": null,
      "outputs": [
        {
          "output_type": "execute_result",
          "data": {
            "text/html": [
              "<div>\n",
              "<style scoped>\n",
              "    .dataframe tbody tr th:only-of-type {\n",
              "        vertical-align: middle;\n",
              "    }\n",
              "\n",
              "    .dataframe tbody tr th {\n",
              "        vertical-align: top;\n",
              "    }\n",
              "\n",
              "    .dataframe thead th {\n",
              "        text-align: right;\n",
              "    }\n",
              "</style>\n",
              "<table border=\"1\" class=\"dataframe\">\n",
              "  <thead>\n",
              "    <tr style=\"text-align: right;\">\n",
              "      <th></th>\n",
              "      <th>col1</th>\n",
              "      <th>col2</th>\n",
              "      <th>col3</th>\n",
              "      <th>col4</th>\n",
              "    </tr>\n",
              "  </thead>\n",
              "  <tbody>\n",
              "    <tr>\n",
              "      <th>0</th>\n",
              "      <td>2</td>\n",
              "      <td>a</td>\n",
              "      <td>1.4</td>\n",
              "      <td>apple 2020/1/1</td>\n",
              "    </tr>\n",
              "    <tr>\n",
              "      <th>1</th>\n",
              "      <td>3</td>\n",
              "      <td>b</td>\n",
              "      <td>3.4</td>\n",
              "      <td>banana 2020/1/2</td>\n",
              "    </tr>\n",
              "    <tr>\n",
              "      <th>2</th>\n",
              "      <td>6</td>\n",
              "      <td>c</td>\n",
              "      <td>2.5</td>\n",
              "      <td>orange 2020/1/5</td>\n",
              "    </tr>\n",
              "    <tr>\n",
              "      <th>3</th>\n",
              "      <td>5</td>\n",
              "      <td>d</td>\n",
              "      <td>3.2</td>\n",
              "      <td>lemon 2020/1/7</td>\n",
              "    </tr>\n",
              "  </tbody>\n",
              "</table>\n",
              "</div>"
            ],
            "text/plain": [
              "   col1 col2  col3             col4\n",
              "0     2    a   1.4   apple 2020/1/1\n",
              "1     3    b   3.4  banana 2020/1/2\n",
              "2     6    c   2.5  orange 2020/1/5\n",
              "3     5    d   3.2   lemon 2020/1/7"
            ]
          },
          "metadata": {
            "tags": []
          },
          "execution_count": 58
        }
      ]
    },
    {
      "cell_type": "markdown",
      "metadata": {
        "id": "iE8OKFbY7sR1"
      },
      "source": [
        "常用的公共参数：\r\n"
      ]
    },
    {
      "cell_type": "markdown",
      "metadata": {
        "id": "At9B_nJP83we"
      },
      "source": [
        "1、header=None 表示第一行，不作为列名；     \r\n",
        "2、index_col 表示把某一列或几列作为索引；    \r\n",
        "3、usecols 表示读取列的集合，默认读取所有列      \r\n",
        "4、parse_dates 表示需要转化为时间的列    \r\n",
        "5、nrows 表示读取的数据行数\r\n"
      ]
    },
    {
      "cell_type": "code",
      "metadata": {
        "id": "i0SAC3Qp8w5_",
        "colab": {
          "base_uri": "https://localhost:8080/",
          "height": 106
        },
        "outputId": "e9d511ef-ef87-4c4d-ed05-dd8e6e857342"
      },
      "source": [
        "pd.read_table('data/my_table.txt', header=None)\r\n",
        "pd.read_csv('data/my_csv.csv', index_col=['col1', 'col2']) #usecols、index_col用法类似\r\n",
        "pd.read_excel('data/my_excel.xlsx', nrows=2)"
      ],
      "execution_count": null,
      "outputs": [
        {
          "output_type": "execute_result",
          "data": {
            "text/html": [
              "<div>\n",
              "<style scoped>\n",
              "    .dataframe tbody tr th:only-of-type {\n",
              "        vertical-align: middle;\n",
              "    }\n",
              "\n",
              "    .dataframe tbody tr th {\n",
              "        vertical-align: top;\n",
              "    }\n",
              "\n",
              "    .dataframe thead th {\n",
              "        text-align: right;\n",
              "    }\n",
              "</style>\n",
              "<table border=\"1\" class=\"dataframe\">\n",
              "  <thead>\n",
              "    <tr style=\"text-align: right;\">\n",
              "      <th></th>\n",
              "      <th>col1</th>\n",
              "      <th>col2</th>\n",
              "      <th>col3</th>\n",
              "      <th>col4</th>\n",
              "      <th>col5</th>\n",
              "    </tr>\n",
              "  </thead>\n",
              "  <tbody>\n",
              "    <tr>\n",
              "      <th>0</th>\n",
              "      <td>2</td>\n",
              "      <td>a</td>\n",
              "      <td>1.4</td>\n",
              "      <td>apple</td>\n",
              "      <td>2020/1/1</td>\n",
              "    </tr>\n",
              "    <tr>\n",
              "      <th>1</th>\n",
              "      <td>3</td>\n",
              "      <td>b</td>\n",
              "      <td>3.4</td>\n",
              "      <td>banana</td>\n",
              "      <td>2020/1/2</td>\n",
              "    </tr>\n",
              "  </tbody>\n",
              "</table>\n",
              "</div>"
            ],
            "text/plain": [
              "   col1 col2  col3    col4      col5\n",
              "0     2    a   1.4   apple  2020/1/1\n",
              "1     3    b   3.4  banana  2020/1/2"
            ]
          },
          "metadata": {
            "tags": []
          },
          "execution_count": 59
        }
      ]
    },
    {
      "cell_type": "markdown",
      "metadata": {
        "id": "N8ohzO9yJE46"
      },
      "source": [
        "读取 txt 文件时，经常遇到分隔符非空格的情况， read_table 有一个分割参数 sep ，它使得用户可以自定义分割符号，进行 txt 数据的读取"
      ]
    },
    {
      "cell_type": "markdown",
      "metadata": {
        "id": "nutofgweL72S"
      },
      "source": [
        "例如，当读取的表以||||为分割时，可以用sep，同时需要制定引擎为python"
      ]
    },
    {
      "cell_type": "code",
      "metadata": {
        "id": "KvgJzxaMMPvs",
        "colab": {
          "base_uri": "https://localhost:8080/",
          "height": 166
        },
        "outputId": "54bf4ec5-1d99-4d68-a5c7-080d946bfa15"
      },
      "source": [
        "pd.read_table('data/my_table_special_sep.txt')#效果不好，读出的结果有||||分割\r\n",
        "pd.read_table('data/my_table_special_sep.txt',sep=' \\|\\|\\|\\| ', engine='python')\r\n",
        "# 用sep分割参数自定义分割符，再进行读取\r\n",
        "#注意：sep是正则参数！！！所以在使用参数 sep 时，需要对 | 进行转义，否则无法读取到正确的结果"
      ],
      "execution_count": null,
      "outputs": [
        {
          "output_type": "execute_result",
          "data": {
            "text/html": [
              "<div>\n",
              "<style scoped>\n",
              "    .dataframe tbody tr th:only-of-type {\n",
              "        vertical-align: middle;\n",
              "    }\n",
              "\n",
              "    .dataframe tbody tr th {\n",
              "        vertical-align: top;\n",
              "    }\n",
              "\n",
              "    .dataframe thead th {\n",
              "        text-align: right;\n",
              "    }\n",
              "</style>\n",
              "<table border=\"1\" class=\"dataframe\">\n",
              "  <thead>\n",
              "    <tr style=\"text-align: right;\">\n",
              "      <th></th>\n",
              "      <th>col1</th>\n",
              "      <th>col2</th>\n",
              "    </tr>\n",
              "  </thead>\n",
              "  <tbody>\n",
              "    <tr>\n",
              "      <th>0</th>\n",
              "      <td>TS</td>\n",
              "      <td>This is an apple.</td>\n",
              "    </tr>\n",
              "    <tr>\n",
              "      <th>1</th>\n",
              "      <td>GQ</td>\n",
              "      <td>My name is Bob.</td>\n",
              "    </tr>\n",
              "    <tr>\n",
              "      <th>2</th>\n",
              "      <td>WT</td>\n",
              "      <td>Well done!</td>\n",
              "    </tr>\n",
              "    <tr>\n",
              "      <th>3</th>\n",
              "      <td>PT</td>\n",
              "      <td>May I help you?</td>\n",
              "    </tr>\n",
              "  </tbody>\n",
              "</table>\n",
              "</div>"
            ],
            "text/plain": [
              "  col1               col2\n",
              "0   TS  This is an apple.\n",
              "1   GQ    My name is Bob.\n",
              "2   WT         Well done!\n",
              "3   PT    May I help you?"
            ]
          },
          "metadata": {
            "tags": []
          },
          "execution_count": 60
        }
      ]
    },
    {
      "cell_type": "markdown",
      "metadata": {
        "id": "vIXe-tF7M_S-"
      },
      "source": [
        "## 2.数据写入"
      ]
    },
    {
      "cell_type": "markdown",
      "metadata": {
        "id": "dseiEznhNM_4"
      },
      "source": [
        "一般在数据写入中，最常用的操作是把 index 设置为 False ，特别当索引没有特殊意义的时候，这样的行为能把索引在保存的时候去除"
      ]
    },
    {
      "cell_type": "code",
      "metadata": {
        "id": "Z9-AZGcvQYyL"
      },
      "source": [
        "df_csv.to_csv('data/my_csv_saved.csv', index=False)\r\n",
        "df_excel.to_excel('data/my_excel_saved.xlsx', index=False)"
      ],
      "execution_count": null,
      "outputs": []
    },
    {
      "cell_type": "markdown",
      "metadata": {
        "id": "fbFZLUffRqc6"
      },
      "source": [
        "！！注意：pandas中没有定义to_table函数，但to_csv可以保存为txt文件，且允许允许自定义分隔符，常用制表符 \\t 分割"
      ]
    },
    {
      "cell_type": "code",
      "metadata": {
        "id": "Pi_s8cpZVDJJ"
      },
      "source": [
        "df_txt.to_csv('data/my_txt_saved.txt',sep='\\t', index=False)"
      ],
      "execution_count": null,
      "outputs": []
    },
    {
      "cell_type": "markdown",
      "metadata": {
        "id": "ydYqNC-zNwsw"
      },
      "source": [
        "如果想要把表格快速转换为 markdown 和 latex 语言，可以使用 to_markdown 和 to_latex 函数，此处需要安装 tabulate 包"
      ]
    },
    {
      "cell_type": "code",
      "metadata": {
        "id": "xCSnUMcGVoqT",
        "colab": {
          "base_uri": "https://localhost:8080/"
        },
        "outputId": "b5617d8f-d0dd-4126-9d7c-f4c1e2f7fbca"
      },
      "source": [
        "print(df_csv.to_markdown())\r\n",
        "print(df_csv.to_latex())"
      ],
      "execution_count": null,
      "outputs": [
        {
          "output_type": "stream",
          "text": [
            "|    |   col1 | col2   |   col3 | col4   | col5     |\n",
            "|---:|-------:|:-------|-------:|:-------|:---------|\n",
            "|  0 |      2 | a      |    1.4 | apple  | 2020/1/1 |\n",
            "|  1 |      3 | b      |    3.4 | banana | 2020/1/2 |\n",
            "|  2 |      6 | c      |    2.5 | orange | 2020/1/5 |\n",
            "|  3 |      5 | d      |    3.2 | lemon  | 2020/1/7 |\n",
            "\\begin{tabular}{lrlrll}\n",
            "\\toprule\n",
            "{} &  col1 & col2 &  col3 &    col4 &      col5 \\\\\n",
            "\\midrule\n",
            "0 &     2 &    a &   1.4 &   apple &  2020/1/1 \\\\\n",
            "1 &     3 &    b &   3.4 &  banana &  2020/1/2 \\\\\n",
            "2 &     6 &    c &   2.5 &  orange &  2020/1/5 \\\\\n",
            "3 &     5 &    d &   3.2 &   lemon &  2020/1/7 \\\\\n",
            "\\bottomrule\n",
            "\\end{tabular}\n",
            "\n"
          ],
          "name": "stdout"
        }
      ]
    },
    {
      "cell_type": "markdown",
      "metadata": {
        "id": "m5p4ZNYqVxZE"
      },
      "source": [
        "# 二、基本数据结构\r\n",
        "pandas 中具有两种基本的数据存储结构，存储一维 values 的 Series 和存储二维 values 的 DataFrame "
      ]
    },
    {
      "cell_type": "markdown",
      "metadata": {
        "id": "RJ1r5rWnV5L2"
      },
      "source": [
        "## 1.Series\r\n",
        "Series 一般由四个部分组成，分别是序列的值 data 、索引 index 、存储类型 dtype 、序列的名字 name 。其中，索引也可以指定它的名字，默认为空"
      ]
    },
    {
      "cell_type": "code",
      "metadata": {
        "colab": {
          "base_uri": "https://localhost:8080/"
        },
        "id": "BjxQk2cHWAHL",
        "outputId": "90ae4f49-9cdd-4416-8f82-bf3ff51659bc"
      },
      "source": [
        "s = pd.Series(data = [100, 'a', {'dic1':5}],\r\n",
        "   index = pd.Index(['id1', 20, 'third'], name='my_idx'),\r\n",
        "   dtype = 'object',\r\n",
        "   name = 'my_name')\r\n",
        "s"
      ],
      "execution_count": null,
      "outputs": [
        {
          "output_type": "execute_result",
          "data": {
            "text/plain": [
              "my_idx\n",
              "id1              100\n",
              "20                 a\n",
              "third    {'dic1': 5}\n",
              "Name: my_name, dtype: object"
            ]
          },
          "metadata": {
            "tags": []
          },
          "execution_count": 64
        }
      ]
    },
    {
      "cell_type": "markdown",
      "metadata": {
        "id": "Yp6OFrhYWoCj"
      },
      "source": [
        "!! 注意：object 代表了一种混合类型，正如上面的例子中存储了整数、字符串以及 Python 的字典数据结构。此外，目前 pandas 把纯字符串序列也默认认为是一种 object 类型的序列，但它也可以用 string 类型存储"
      ]
    },
    {
      "cell_type": "markdown",
      "metadata": {
        "id": "z9f6Xx3OWxmA"
      },
      "source": [
        "（1）可以通过 . 的方式获取属性"
      ]
    },
    {
      "cell_type": "code",
      "metadata": {
        "id": "3ThE2lAoXEad",
        "colab": {
          "base_uri": "https://localhost:8080/"
        },
        "outputId": "5c4ba30c-9b84-43f5-d1f2-514b620f1405"
      },
      "source": [
        "s.values"
      ],
      "execution_count": null,
      "outputs": [
        {
          "output_type": "execute_result",
          "data": {
            "text/plain": [
              "array([100, 'a', {'dic1': 5}], dtype=object)"
            ]
          },
          "metadata": {
            "tags": []
          },
          "execution_count": 65
        }
      ]
    },
    {
      "cell_type": "code",
      "metadata": {
        "id": "4RHgs8k5XKaW",
        "colab": {
          "base_uri": "https://localhost:8080/"
        },
        "outputId": "6aca87b1-c802-4c64-944f-522b8f8bed61"
      },
      "source": [
        "s.index"
      ],
      "execution_count": null,
      "outputs": [
        {
          "output_type": "execute_result",
          "data": {
            "text/plain": [
              "Index(['id1', 20, 'third'], dtype='object', name='my_idx')"
            ]
          },
          "metadata": {
            "tags": []
          },
          "execution_count": 66
        }
      ]
    },
    {
      "cell_type": "code",
      "metadata": {
        "id": "MpqPJY2RXLG6",
        "colab": {
          "base_uri": "https://localhost:8080/"
        },
        "outputId": "2d4cfd43-5724-4321-eced-21cc9cfb650a"
      },
      "source": [
        "s.dtype"
      ],
      "execution_count": null,
      "outputs": [
        {
          "output_type": "execute_result",
          "data": {
            "text/plain": [
              "dtype('O')"
            ]
          },
          "metadata": {
            "tags": []
          },
          "execution_count": 67
        }
      ]
    },
    {
      "cell_type": "code",
      "metadata": {
        "id": "L0GpPgXpXOvv",
        "colab": {
          "base_uri": "https://localhost:8080/",
          "height": 35
        },
        "outputId": "929a682b-c66e-4526-96a1-7f8ab6f1a7cb"
      },
      "source": [
        "s.name"
      ],
      "execution_count": null,
      "outputs": [
        {
          "output_type": "execute_result",
          "data": {
            "application/vnd.google.colaboratory.intrinsic+json": {
              "type": "string"
            },
            "text/plain": [
              "'my_name'"
            ]
          },
          "metadata": {
            "tags": []
          },
          "execution_count": 68
        }
      ]
    },
    {
      "cell_type": "markdown",
      "metadata": {
        "id": "DoZUGKqYXOON"
      },
      "source": [
        "（2）可以用 .shape 获取序列长度"
      ]
    },
    {
      "cell_type": "code",
      "metadata": {
        "colab": {
          "base_uri": "https://localhost:8080/"
        },
        "id": "0F2uwxgSXhVF",
        "outputId": "d76af5c9-399a-4e4c-cd0f-4ae9b3cc2376"
      },
      "source": [
        "s.shape"
      ],
      "execution_count": null,
      "outputs": [
        {
          "output_type": "execute_result",
          "data": {
            "text/plain": [
              "(3,)"
            ]
          },
          "metadata": {
            "tags": []
          },
          "execution_count": 69
        }
      ]
    },
    {
      "cell_type": "markdown",
      "metadata": {
        "id": "aqV9ECW0Xpzd"
      },
      "source": [
        "（3）取出单个索引对应的值，可以用[index_item]"
      ]
    },
    {
      "cell_type": "markdown",
      "metadata": {
        "id": "iJmzJvRNX43c"
      },
      "source": [
        "## 2.DataFrame"
      ]
    },
    {
      "cell_type": "markdown",
      "metadata": {
        "id": "kydr6RZFX9EG"
      },
      "source": [
        "DataFrame 在 Series 的基础上增加了列索引，一个数据框可以由二维的 data 与行列索引来构造"
      ]
    },
    {
      "cell_type": "code",
      "metadata": {
        "colab": {
          "base_uri": "https://localhost:8080/",
          "height": 136
        },
        "id": "Lv3hreWkYAZZ",
        "outputId": "502d8950-f35b-435c-9e4d-82a190b1fdd9"
      },
      "source": [
        "data = [[1, 'a', 1.2], [2, 'b', 2.2], [3, 'c', 3.2]]\r\n",
        "df = pd.DataFrame(data = data,\r\n",
        "    index = ['row_%d'%i for i in range(3)],\r\n",
        "    columns=['col_0', 'col_1', 'col_2'])\r\n",
        "df"
      ],
      "execution_count": null,
      "outputs": [
        {
          "output_type": "execute_result",
          "data": {
            "text/html": [
              "<div>\n",
              "<style scoped>\n",
              "    .dataframe tbody tr th:only-of-type {\n",
              "        vertical-align: middle;\n",
              "    }\n",
              "\n",
              "    .dataframe tbody tr th {\n",
              "        vertical-align: top;\n",
              "    }\n",
              "\n",
              "    .dataframe thead th {\n",
              "        text-align: right;\n",
              "    }\n",
              "</style>\n",
              "<table border=\"1\" class=\"dataframe\">\n",
              "  <thead>\n",
              "    <tr style=\"text-align: right;\">\n",
              "      <th></th>\n",
              "      <th>col_0</th>\n",
              "      <th>col_1</th>\n",
              "      <th>col_2</th>\n",
              "    </tr>\n",
              "  </thead>\n",
              "  <tbody>\n",
              "    <tr>\n",
              "      <th>row_0</th>\n",
              "      <td>1</td>\n",
              "      <td>a</td>\n",
              "      <td>1.2</td>\n",
              "    </tr>\n",
              "    <tr>\n",
              "      <th>row_1</th>\n",
              "      <td>2</td>\n",
              "      <td>b</td>\n",
              "      <td>2.2</td>\n",
              "    </tr>\n",
              "    <tr>\n",
              "      <th>row_2</th>\n",
              "      <td>3</td>\n",
              "      <td>c</td>\n",
              "      <td>3.2</td>\n",
              "    </tr>\n",
              "  </tbody>\n",
              "</table>\n",
              "</div>"
            ],
            "text/plain": [
              "       col_0 col_1  col_2\n",
              "row_0      1     a    1.2\n",
              "row_1      2     b    2.2\n",
              "row_2      3     c    3.2"
            ]
          },
          "metadata": {
            "tags": []
          },
          "execution_count": 70
        }
      ]
    },
    {
      "cell_type": "markdown",
      "metadata": {
        "id": "MxNbh6YqYRt3"
      },
      "source": [
        "一般而言，更多的时候会采用从列索引名到数据的映射来构造数据框，同时再加上行索引"
      ]
    },
    {
      "cell_type": "code",
      "metadata": {
        "colab": {
          "base_uri": "https://localhost:8080/",
          "height": 136
        },
        "id": "ddAOwlEXYUCu",
        "outputId": "5e23e092-a6b4-4196-ff6f-fa5a6a3bb4f6"
      },
      "source": [
        "df = pd.DataFrame(data = {'col_0': [1,2,3], 'col_1':list('abc'),\r\n",
        "    'col_2': [1.2, 2.2, 3.2]},\r\n",
        "   index = ['row_%d'%i for i in range(3)])\r\n",
        "df"
      ],
      "execution_count": null,
      "outputs": [
        {
          "output_type": "execute_result",
          "data": {
            "text/html": [
              "<div>\n",
              "<style scoped>\n",
              "    .dataframe tbody tr th:only-of-type {\n",
              "        vertical-align: middle;\n",
              "    }\n",
              "\n",
              "    .dataframe tbody tr th {\n",
              "        vertical-align: top;\n",
              "    }\n",
              "\n",
              "    .dataframe thead th {\n",
              "        text-align: right;\n",
              "    }\n",
              "</style>\n",
              "<table border=\"1\" class=\"dataframe\">\n",
              "  <thead>\n",
              "    <tr style=\"text-align: right;\">\n",
              "      <th></th>\n",
              "      <th>col_0</th>\n",
              "      <th>col_1</th>\n",
              "      <th>col_2</th>\n",
              "    </tr>\n",
              "  </thead>\n",
              "  <tbody>\n",
              "    <tr>\n",
              "      <th>row_0</th>\n",
              "      <td>1</td>\n",
              "      <td>a</td>\n",
              "      <td>1.2</td>\n",
              "    </tr>\n",
              "    <tr>\n",
              "      <th>row_1</th>\n",
              "      <td>2</td>\n",
              "      <td>b</td>\n",
              "      <td>2.2</td>\n",
              "    </tr>\n",
              "    <tr>\n",
              "      <th>row_2</th>\n",
              "      <td>3</td>\n",
              "      <td>c</td>\n",
              "      <td>3.2</td>\n",
              "    </tr>\n",
              "  </tbody>\n",
              "</table>\n",
              "</div>"
            ],
            "text/plain": [
              "       col_0 col_1  col_2\n",
              "row_0      1     a    1.2\n",
              "row_1      2     b    2.2\n",
              "row_2      3     c    3.2"
            ]
          },
          "metadata": {
            "tags": []
          },
          "execution_count": 71
        }
      ]
    },
    {
      "cell_type": "markdown",
      "metadata": {
        "id": "0ofhCh5fYrvf"
      },
      "source": [
        "在 DataFrame 中可以用 [col_name] 与 [col_list] 来取出相应的列与由多个列组成的表，结果分别为 Series 和 DataFrame"
      ]
    },
    {
      "cell_type": "code",
      "metadata": {
        "id": "OhnYpEL8YwJj",
        "colab": {
          "base_uri": "https://localhost:8080/",
          "height": 136
        },
        "outputId": "cd99f5f3-fcdf-41b7-f910-527043656d95"
      },
      "source": [
        " df['col_0']#单列\r\n",
        " df[['col_0', 'col_1']]#多列"
      ],
      "execution_count": null,
      "outputs": [
        {
          "output_type": "execute_result",
          "data": {
            "text/html": [
              "<div>\n",
              "<style scoped>\n",
              "    .dataframe tbody tr th:only-of-type {\n",
              "        vertical-align: middle;\n",
              "    }\n",
              "\n",
              "    .dataframe tbody tr th {\n",
              "        vertical-align: top;\n",
              "    }\n",
              "\n",
              "    .dataframe thead th {\n",
              "        text-align: right;\n",
              "    }\n",
              "</style>\n",
              "<table border=\"1\" class=\"dataframe\">\n",
              "  <thead>\n",
              "    <tr style=\"text-align: right;\">\n",
              "      <th></th>\n",
              "      <th>col_0</th>\n",
              "      <th>col_1</th>\n",
              "    </tr>\n",
              "  </thead>\n",
              "  <tbody>\n",
              "    <tr>\n",
              "      <th>row_0</th>\n",
              "      <td>1</td>\n",
              "      <td>a</td>\n",
              "    </tr>\n",
              "    <tr>\n",
              "      <th>row_1</th>\n",
              "      <td>2</td>\n",
              "      <td>b</td>\n",
              "    </tr>\n",
              "    <tr>\n",
              "      <th>row_2</th>\n",
              "      <td>3</td>\n",
              "      <td>c</td>\n",
              "    </tr>\n",
              "  </tbody>\n",
              "</table>\n",
              "</div>"
            ],
            "text/plain": [
              "       col_0 col_1\n",
              "row_0      1     a\n",
              "row_1      2     b\n",
              "row_2      3     c"
            ]
          },
          "metadata": {
            "tags": []
          },
          "execution_count": 72
        }
      ]
    },
    {
      "cell_type": "markdown",
      "metadata": {
        "id": "hT8DvYh9ZC4y"
      },
      "source": [
        "与 Series 类似，在数据框中同样可以取出相应的属性"
      ]
    },
    {
      "cell_type": "code",
      "metadata": {
        "colab": {
          "base_uri": "https://localhost:8080/"
        },
        "id": "iD1JHnwlZHLe",
        "outputId": "df42e369-250a-4929-823e-69eda8a35f0c"
      },
      "source": [
        "df.values"
      ],
      "execution_count": null,
      "outputs": [
        {
          "output_type": "execute_result",
          "data": {
            "text/plain": [
              "array([[1, 'a', 1.2],\n",
              "       [2, 'b', 2.2],\n",
              "       [3, 'c', 3.2]], dtype=object)"
            ]
          },
          "metadata": {
            "tags": []
          },
          "execution_count": 73
        }
      ]
    },
    {
      "cell_type": "code",
      "metadata": {
        "colab": {
          "base_uri": "https://localhost:8080/"
        },
        "id": "RoS5QBKHZOlV",
        "outputId": "10c772fc-616f-4c13-e748-490f319d197a"
      },
      "source": [
        "df.dtypes # 返回的是值为相应列数据类型的Series"
      ],
      "execution_count": null,
      "outputs": [
        {
          "output_type": "execute_result",
          "data": {
            "text/plain": [
              "col_0      int64\n",
              "col_1     object\n",
              "col_2    float64\n",
              "dtype: object"
            ]
          },
          "metadata": {
            "tags": []
          },
          "execution_count": 74
        }
      ]
    },
    {
      "cell_type": "markdown",
      "metadata": {
        "id": "sVs43acAZSTv"
      },
      "source": [
        "DataFrame转置： .T"
      ]
    },
    {
      "cell_type": "code",
      "metadata": {
        "colab": {
          "base_uri": "https://localhost:8080/",
          "height": 141
        },
        "id": "ux6bODEvZZFH",
        "outputId": "6496152f-2526-4051-ddfe-3c61a6ed27ae"
      },
      "source": [
        "df.T"
      ],
      "execution_count": null,
      "outputs": [
        {
          "output_type": "execute_result",
          "data": {
            "text/html": [
              "<div>\n",
              "<style scoped>\n",
              "    .dataframe tbody tr th:only-of-type {\n",
              "        vertical-align: middle;\n",
              "    }\n",
              "\n",
              "    .dataframe tbody tr th {\n",
              "        vertical-align: top;\n",
              "    }\n",
              "\n",
              "    .dataframe thead th {\n",
              "        text-align: right;\n",
              "    }\n",
              "</style>\n",
              "<table border=\"1\" class=\"dataframe\">\n",
              "  <thead>\n",
              "    <tr style=\"text-align: right;\">\n",
              "      <th></th>\n",
              "      <th>row_0</th>\n",
              "      <th>row_1</th>\n",
              "      <th>row_2</th>\n",
              "    </tr>\n",
              "  </thead>\n",
              "  <tbody>\n",
              "    <tr>\n",
              "      <th>col_0</th>\n",
              "      <td>1</td>\n",
              "      <td>2</td>\n",
              "      <td>3</td>\n",
              "    </tr>\n",
              "    <tr>\n",
              "      <th>col_1</th>\n",
              "      <td>a</td>\n",
              "      <td>b</td>\n",
              "      <td>c</td>\n",
              "    </tr>\n",
              "    <tr>\n",
              "      <th>col_2</th>\n",
              "      <td>1.2</td>\n",
              "      <td>2.2</td>\n",
              "      <td>3.2</td>\n",
              "    </tr>\n",
              "  </tbody>\n",
              "</table>\n",
              "</div>"
            ],
            "text/plain": [
              "      row_0 row_1 row_2\n",
              "col_0     1     2     3\n",
              "col_1     a     b     c\n",
              "col_2   1.2   2.2   3.2"
            ]
          },
          "metadata": {
            "tags": []
          },
          "execution_count": 36
        }
      ]
    },
    {
      "cell_type": "markdown",
      "metadata": {
        "id": "WMhcJx7HZcLW"
      },
      "source": [
        "# 三、常用基本函数\r\n",
        "learn_pandas.csv 的虚拟数据集，记录了四所学校学生的体测个人信息。作为后续举例说明"
      ]
    },
    {
      "cell_type": "code",
      "metadata": {
        "id": "htdI8LjcaBkw",
        "colab": {
          "base_uri": "https://localhost:8080/"
        },
        "outputId": "18ef0f3e-ffac-4066-f38b-a24712e801a6"
      },
      "source": [
        "df = pd.read_csv('data/learn_pandas.csv')\r\n",
        "df.columns\r\n",
        "# out：Index(['School', 'Grade', 'Name', 'Gender', 'Height', 'Weight', 'Transfer',\r\n",
        "# 'Test_Number', 'Test_Date', 'Time_Record'],dtype='object')"
      ],
      "execution_count": null,
      "outputs": [
        {
          "output_type": "execute_result",
          "data": {
            "text/plain": [
              "Index(['School', 'Grade', 'Name', 'Gender', 'Height', 'Weight', 'Transfer',\n",
              "       'Test_Number', 'Test_Date', 'Time_Record'],\n",
              "      dtype='object')"
            ]
          },
          "metadata": {
            "tags": []
          },
          "execution_count": 77
        }
      ]
    },
    {
      "cell_type": "markdown",
      "metadata": {
        "id": "R0wt7ihRaT4A"
      },
      "source": [
        "上述列名依次代表学校、年级、姓名、性别、身高、体重、是否为转系生、体测场次、测试时间、1000米成绩"
      ]
    },
    {
      "cell_type": "code",
      "metadata": {
        "id": "1L6m_ra8aWl_",
        "colab": {
          "base_uri": "https://localhost:8080/",
          "height": 402
        },
        "outputId": "b20e2bd0-5df8-4af9-e275-3a80431934fc"
      },
      "source": [
        "df = df[df.columns[:7]]\r\n",
        "df"
      ],
      "execution_count": null,
      "outputs": [
        {
          "output_type": "execute_result",
          "data": {
            "text/html": [
              "<div>\n",
              "<style scoped>\n",
              "    .dataframe tbody tr th:only-of-type {\n",
              "        vertical-align: middle;\n",
              "    }\n",
              "\n",
              "    .dataframe tbody tr th {\n",
              "        vertical-align: top;\n",
              "    }\n",
              "\n",
              "    .dataframe thead th {\n",
              "        text-align: right;\n",
              "    }\n",
              "</style>\n",
              "<table border=\"1\" class=\"dataframe\">\n",
              "  <thead>\n",
              "    <tr style=\"text-align: right;\">\n",
              "      <th></th>\n",
              "      <th>School</th>\n",
              "      <th>Grade</th>\n",
              "      <th>Name</th>\n",
              "      <th>Gender</th>\n",
              "      <th>Height</th>\n",
              "      <th>Weight</th>\n",
              "      <th>Transfer</th>\n",
              "    </tr>\n",
              "  </thead>\n",
              "  <tbody>\n",
              "    <tr>\n",
              "      <th>0</th>\n",
              "      <td>Shanghai Jiao Tong University</td>\n",
              "      <td>Freshman</td>\n",
              "      <td>Gaopeng Yang</td>\n",
              "      <td>Female</td>\n",
              "      <td>158.9</td>\n",
              "      <td>46.0</td>\n",
              "      <td>N</td>\n",
              "    </tr>\n",
              "    <tr>\n",
              "      <th>1</th>\n",
              "      <td>Peking University</td>\n",
              "      <td>Freshman</td>\n",
              "      <td>Changqiang You</td>\n",
              "      <td>Male</td>\n",
              "      <td>166.5</td>\n",
              "      <td>70.0</td>\n",
              "      <td>N</td>\n",
              "    </tr>\n",
              "    <tr>\n",
              "      <th>2</th>\n",
              "      <td>Shanghai Jiao Tong University</td>\n",
              "      <td>Senior</td>\n",
              "      <td>Mei Sun</td>\n",
              "      <td>Male</td>\n",
              "      <td>188.9</td>\n",
              "      <td>89.0</td>\n",
              "      <td>N</td>\n",
              "    </tr>\n",
              "    <tr>\n",
              "      <th>3</th>\n",
              "      <td>Fudan University</td>\n",
              "      <td>Sophomore</td>\n",
              "      <td>Xiaojuan Sun</td>\n",
              "      <td>Female</td>\n",
              "      <td>NaN</td>\n",
              "      <td>41.0</td>\n",
              "      <td>N</td>\n",
              "    </tr>\n",
              "    <tr>\n",
              "      <th>4</th>\n",
              "      <td>Fudan University</td>\n",
              "      <td>Sophomore</td>\n",
              "      <td>Gaojuan You</td>\n",
              "      <td>Male</td>\n",
              "      <td>174.0</td>\n",
              "      <td>74.0</td>\n",
              "      <td>N</td>\n",
              "    </tr>\n",
              "    <tr>\n",
              "      <th>...</th>\n",
              "      <td>...</td>\n",
              "      <td>...</td>\n",
              "      <td>...</td>\n",
              "      <td>...</td>\n",
              "      <td>...</td>\n",
              "      <td>...</td>\n",
              "      <td>...</td>\n",
              "    </tr>\n",
              "    <tr>\n",
              "      <th>195</th>\n",
              "      <td>Fudan University</td>\n",
              "      <td>Junior</td>\n",
              "      <td>Xiaojuan Sun</td>\n",
              "      <td>Female</td>\n",
              "      <td>153.9</td>\n",
              "      <td>46.0</td>\n",
              "      <td>N</td>\n",
              "    </tr>\n",
              "    <tr>\n",
              "      <th>196</th>\n",
              "      <td>Tsinghua University</td>\n",
              "      <td>Senior</td>\n",
              "      <td>Li Zhao</td>\n",
              "      <td>Female</td>\n",
              "      <td>160.9</td>\n",
              "      <td>50.0</td>\n",
              "      <td>N</td>\n",
              "    </tr>\n",
              "    <tr>\n",
              "      <th>197</th>\n",
              "      <td>Shanghai Jiao Tong University</td>\n",
              "      <td>Senior</td>\n",
              "      <td>Chengqiang Chu</td>\n",
              "      <td>Female</td>\n",
              "      <td>153.9</td>\n",
              "      <td>45.0</td>\n",
              "      <td>N</td>\n",
              "    </tr>\n",
              "    <tr>\n",
              "      <th>198</th>\n",
              "      <td>Shanghai Jiao Tong University</td>\n",
              "      <td>Senior</td>\n",
              "      <td>Chengmei Shen</td>\n",
              "      <td>Male</td>\n",
              "      <td>175.3</td>\n",
              "      <td>71.0</td>\n",
              "      <td>N</td>\n",
              "    </tr>\n",
              "    <tr>\n",
              "      <th>199</th>\n",
              "      <td>Tsinghua University</td>\n",
              "      <td>Sophomore</td>\n",
              "      <td>Chunpeng Lv</td>\n",
              "      <td>Male</td>\n",
              "      <td>155.7</td>\n",
              "      <td>51.0</td>\n",
              "      <td>N</td>\n",
              "    </tr>\n",
              "  </tbody>\n",
              "</table>\n",
              "<p>200 rows × 7 columns</p>\n",
              "</div>"
            ],
            "text/plain": [
              "                            School      Grade  ... Weight Transfer\n",
              "0    Shanghai Jiao Tong University   Freshman  ...   46.0        N\n",
              "1                Peking University   Freshman  ...   70.0        N\n",
              "2    Shanghai Jiao Tong University     Senior  ...   89.0        N\n",
              "3                 Fudan University  Sophomore  ...   41.0        N\n",
              "4                 Fudan University  Sophomore  ...   74.0        N\n",
              "..                             ...        ...  ...    ...      ...\n",
              "195               Fudan University     Junior  ...   46.0        N\n",
              "196            Tsinghua University     Senior  ...   50.0        N\n",
              "197  Shanghai Jiao Tong University     Senior  ...   45.0        N\n",
              "198  Shanghai Jiao Tong University     Senior  ...   71.0        N\n",
              "199            Tsinghua University  Sophomore  ...   51.0        N\n",
              "\n",
              "[200 rows x 7 columns]"
            ]
          },
          "metadata": {
            "tags": []
          },
          "execution_count": 81
        }
      ]
    },
    {
      "cell_type": "markdown",
      "metadata": {
        "id": "hEO_2PEJaaHx"
      },
      "source": [
        "## 1.汇总函数\r\n",
        "head, tail 函数分别表示返回表或者序列的前 n 行和后 n 行，其中 n 默认为5"
      ]
    },
    {
      "cell_type": "code",
      "metadata": {
        "id": "v0nNcYS9ajHu",
        "colab": {
          "base_uri": "https://localhost:8080/",
          "height": 136
        },
        "outputId": "0540e104-4a79-439d-9975-001e637c8862"
      },
      "source": [
        "df.head(2) #前2行\r\n",
        "df.tail(3) #后3行"
      ],
      "execution_count": null,
      "outputs": [
        {
          "output_type": "execute_result",
          "data": {
            "text/html": [
              "<div>\n",
              "<style scoped>\n",
              "    .dataframe tbody tr th:only-of-type {\n",
              "        vertical-align: middle;\n",
              "    }\n",
              "\n",
              "    .dataframe tbody tr th {\n",
              "        vertical-align: top;\n",
              "    }\n",
              "\n",
              "    .dataframe thead th {\n",
              "        text-align: right;\n",
              "    }\n",
              "</style>\n",
              "<table border=\"1\" class=\"dataframe\">\n",
              "  <thead>\n",
              "    <tr style=\"text-align: right;\">\n",
              "      <th></th>\n",
              "      <th>School</th>\n",
              "      <th>Grade</th>\n",
              "      <th>Name</th>\n",
              "      <th>Gender</th>\n",
              "      <th>Height</th>\n",
              "      <th>Weight</th>\n",
              "      <th>Transfer</th>\n",
              "    </tr>\n",
              "  </thead>\n",
              "  <tbody>\n",
              "    <tr>\n",
              "      <th>197</th>\n",
              "      <td>Shanghai Jiao Tong University</td>\n",
              "      <td>Senior</td>\n",
              "      <td>Chengqiang Chu</td>\n",
              "      <td>Female</td>\n",
              "      <td>153.9</td>\n",
              "      <td>45.0</td>\n",
              "      <td>N</td>\n",
              "    </tr>\n",
              "    <tr>\n",
              "      <th>198</th>\n",
              "      <td>Shanghai Jiao Tong University</td>\n",
              "      <td>Senior</td>\n",
              "      <td>Chengmei Shen</td>\n",
              "      <td>Male</td>\n",
              "      <td>175.3</td>\n",
              "      <td>71.0</td>\n",
              "      <td>N</td>\n",
              "    </tr>\n",
              "    <tr>\n",
              "      <th>199</th>\n",
              "      <td>Tsinghua University</td>\n",
              "      <td>Sophomore</td>\n",
              "      <td>Chunpeng Lv</td>\n",
              "      <td>Male</td>\n",
              "      <td>155.7</td>\n",
              "      <td>51.0</td>\n",
              "      <td>N</td>\n",
              "    </tr>\n",
              "  </tbody>\n",
              "</table>\n",
              "</div>"
            ],
            "text/plain": [
              "                            School      Grade  ... Weight Transfer\n",
              "197  Shanghai Jiao Tong University     Senior  ...   45.0        N\n",
              "198  Shanghai Jiao Tong University     Senior  ...   71.0        N\n",
              "199            Tsinghua University  Sophomore  ...   51.0        N\n",
              "\n",
              "[3 rows x 7 columns]"
            ]
          },
          "metadata": {
            "tags": []
          },
          "execution_count": 82
        }
      ]
    },
    {
      "cell_type": "markdown",
      "metadata": {
        "id": "uOTSs6E2b6Uh"
      },
      "source": [
        "info, describe 分别返回表的 信息概况 和表中 数值列对应的主要统计量"
      ]
    },
    {
      "cell_type": "code",
      "metadata": {
        "id": "XZJyL8cob9pv",
        "colab": {
          "base_uri": "https://localhost:8080/"
        },
        "outputId": "184b43e9-a987-4261-8246-66ad6404e3fd"
      },
      "source": [
        "df.info()\r\n",
        "#输出结果如下：\r\n",
        "# <class 'pandas.core.frame.DataFrame'>\r\n",
        "# RangeIndex: 200 entries, 0 to 199\r\n",
        "# Data columns (total 7 columns):\r\n",
        "#  #   Column    Non-Null Count  Dtype  \r\n",
        "# ---  ------    --------------  -----  \r\n",
        "#  0   School    200 non-null    object \r\n",
        "#  1   Grade     200 non-null    object \r\n",
        "#  2   Name      200 non-null    object \r\n",
        "#  3   Gender    200 non-null    object \r\n",
        "#  4   Height    183 non-null    float64\r\n",
        "#  5   Weight    189 non-null    float64\r\n",
        "#  6   Transfer  188 non-null    object \r\n",
        "# dtypes: float64(2), object(5)\r\n",
        "# memory usage: 11.1+ KB "
      ],
      "execution_count": null,
      "outputs": [
        {
          "output_type": "stream",
          "text": [
            "<class 'pandas.core.frame.DataFrame'>\n",
            "RangeIndex: 200 entries, 0 to 199\n",
            "Data columns (total 7 columns):\n",
            " #   Column    Non-Null Count  Dtype  \n",
            "---  ------    --------------  -----  \n",
            " 0   School    200 non-null    object \n",
            " 1   Grade     200 non-null    object \n",
            " 2   Name      200 non-null    object \n",
            " 3   Gender    200 non-null    object \n",
            " 4   Height    183 non-null    float64\n",
            " 5   Weight    189 non-null    float64\n",
            " 6   Transfer  188 non-null    object \n",
            "dtypes: float64(2), object(5)\n",
            "memory usage: 11.1+ KB\n"
          ],
          "name": "stdout"
        }
      ]
    },
    {
      "cell_type": "code",
      "metadata": {
        "id": "pdUvClYHcPmE",
        "colab": {
          "base_uri": "https://localhost:8080/",
          "height": 284
        },
        "outputId": "c93b4794-3135-48a5-f8ed-3c5f5610d7a3"
      },
      "source": [
        "df.describe()\r\n",
        "#输出结果如下：\r\n",
        "#    Height      Weight\r\n",
        "# count  183.000000  189.000000\r\n",
        "# mean   163.218033   55.015873\r\n",
        "# std      8.608879   12.824294\r\n",
        "# min    145.400000   34.000000\r\n",
        "# 25%    157.150000   46.000000\r\n",
        "# 50%    161.900000   51.000000\r\n",
        "# 75%    167.500000   65.000000\r\n",
        "# max    193.900000   89.000000"
      ],
      "execution_count": null,
      "outputs": [
        {
          "output_type": "execute_result",
          "data": {
            "text/html": [
              "<div>\n",
              "<style scoped>\n",
              "    .dataframe tbody tr th:only-of-type {\n",
              "        vertical-align: middle;\n",
              "    }\n",
              "\n",
              "    .dataframe tbody tr th {\n",
              "        vertical-align: top;\n",
              "    }\n",
              "\n",
              "    .dataframe thead th {\n",
              "        text-align: right;\n",
              "    }\n",
              "</style>\n",
              "<table border=\"1\" class=\"dataframe\">\n",
              "  <thead>\n",
              "    <tr style=\"text-align: right;\">\n",
              "      <th></th>\n",
              "      <th>Height</th>\n",
              "      <th>Weight</th>\n",
              "    </tr>\n",
              "  </thead>\n",
              "  <tbody>\n",
              "    <tr>\n",
              "      <th>count</th>\n",
              "      <td>183.000000</td>\n",
              "      <td>189.000000</td>\n",
              "    </tr>\n",
              "    <tr>\n",
              "      <th>mean</th>\n",
              "      <td>163.218033</td>\n",
              "      <td>55.015873</td>\n",
              "    </tr>\n",
              "    <tr>\n",
              "      <th>std</th>\n",
              "      <td>8.608879</td>\n",
              "      <td>12.824294</td>\n",
              "    </tr>\n",
              "    <tr>\n",
              "      <th>min</th>\n",
              "      <td>145.400000</td>\n",
              "      <td>34.000000</td>\n",
              "    </tr>\n",
              "    <tr>\n",
              "      <th>25%</th>\n",
              "      <td>157.150000</td>\n",
              "      <td>46.000000</td>\n",
              "    </tr>\n",
              "    <tr>\n",
              "      <th>50%</th>\n",
              "      <td>161.900000</td>\n",
              "      <td>51.000000</td>\n",
              "    </tr>\n",
              "    <tr>\n",
              "      <th>75%</th>\n",
              "      <td>167.500000</td>\n",
              "      <td>65.000000</td>\n",
              "    </tr>\n",
              "    <tr>\n",
              "      <th>max</th>\n",
              "      <td>193.900000</td>\n",
              "      <td>89.000000</td>\n",
              "    </tr>\n",
              "  </tbody>\n",
              "</table>\n",
              "</div>"
            ],
            "text/plain": [
              "           Height      Weight\n",
              "count  183.000000  189.000000\n",
              "mean   163.218033   55.015873\n",
              "std      8.608879   12.824294\n",
              "min    145.400000   34.000000\n",
              "25%    157.150000   46.000000\n",
              "50%    161.900000   51.000000\n",
              "75%    167.500000   65.000000\n",
              "max    193.900000   89.000000"
            ]
          },
          "metadata": {
            "tags": []
          },
          "execution_count": 85
        }
      ]
    },
    {
      "cell_type": "markdown",
      "metadata": {
        "id": "atip-cvlcWUT"
      },
      "source": [
        "！！注意：info, describe 只能实现较少信息的展示，如果想要对一份数据集进行全面且有效的观察，特别是在列较多的情况下，推荐使用 pandas-profiling 包"
      ]
    },
    {
      "cell_type": "markdown",
      "metadata": {
        "id": "B6Tp09GUcavE"
      },
      "source": [
        "## 2.特征统计函数\r\n",
        "在 Series 和 DataFrame 上定义了许多统计函数，最常见的是 sum, mean, median, var, std, max, min"
      ]
    },
    {
      "cell_type": "code",
      "metadata": {
        "id": "C3m2qURocfoM",
        "colab": {
          "base_uri": "https://localhost:8080/"
        },
        "outputId": "7c003825-92b2-45e8-aec4-77acd1336713"
      },
      "source": [
        "df_demo = df[['Height', 'Weight']]\r\n",
        "df_demo.mean() #输出身高、体重的平均值\r\n",
        "df_demo.max() #输出身高、体重的最大值"
      ],
      "execution_count": null,
      "outputs": [
        {
          "output_type": "execute_result",
          "data": {
            "text/plain": [
              "Height    193.9\n",
              "Weight     89.0\n",
              "dtype: float64"
            ]
          },
          "metadata": {
            "tags": []
          },
          "execution_count": 86
        }
      ]
    },
    {
      "cell_type": "markdown",
      "metadata": {
        "id": "2jGWiG9hcv0n"
      },
      "source": [
        "quantile：分位数；count：非缺失值个数；idxmax：最大值对应的索引"
      ]
    },
    {
      "cell_type": "code",
      "metadata": {
        "id": "YRmbqegJc6vT",
        "colab": {
          "base_uri": "https://localhost:8080/"
        },
        "outputId": "bb133945-939e-4fa1-ebae-b12bd4786945"
      },
      "source": [
        "df_demo.quantile(0.75)\r\n",
        "df_demo.count()\r\n",
        "df_demo.idxmax() # idxmin是对应的函数"
      ],
      "execution_count": null,
      "outputs": [
        {
          "output_type": "execute_result",
          "data": {
            "text/plain": [
              "Height    193\n",
              "Weight      2\n",
              "dtype: int64"
            ]
          },
          "metadata": {
            "tags": []
          },
          "execution_count": 87
        }
      ]
    },
    {
      "cell_type": "markdown",
      "metadata": {
        "id": "QHdMHkXodSSI"
      },
      "source": [
        "！！注意：以上所有的函数，由于操作后返回的是标量，所以又称为聚合函数，它们有一个公共参数 axis ，默认为0代表逐列聚合，如果设置为1则表示逐行聚合"
      ]
    },
    {
      "cell_type": "code",
      "metadata": {
        "id": "gt2YzOF5dWJL",
        "colab": {
          "base_uri": "https://localhost:8080/"
        },
        "outputId": "5510fe4a-59d6-4196-c7a3-5ec78056908b"
      },
      "source": [
        "df_demo.mean(axis=1).head() # 在这个数据集上体重和身高的均值并没有意义"
      ],
      "execution_count": null,
      "outputs": [
        {
          "output_type": "execute_result",
          "data": {
            "text/plain": [
              "0    102.45\n",
              "1    118.25\n",
              "2    138.95\n",
              "3     41.00\n",
              "4    124.00\n",
              "dtype: float64"
            ]
          },
          "metadata": {
            "tags": []
          },
          "execution_count": 88
        }
      ]
    },
    {
      "cell_type": "markdown",
      "metadata": {
        "id": "hLgWMOYHe8q7"
      },
      "source": [
        "## 3.唯一值函数\r\n",
        "对序列使用 unique 和 nunique 可以分别得到其唯一值组成的列表和唯一值的个数"
      ]
    },
    {
      "cell_type": "code",
      "metadata": {
        "id": "QDu5TJGSfEcf",
        "colab": {
          "base_uri": "https://localhost:8080/"
        },
        "outputId": "c0e4ea17-37f9-40f8-c8c9-a4908c53e2ec"
      },
      "source": [
        "df['School'].unique()#去重，返回值\r\n",
        "df['School'].nunique()#去重，返回个数"
      ],
      "execution_count": null,
      "outputs": [
        {
          "output_type": "execute_result",
          "data": {
            "text/plain": [
              "4"
            ]
          },
          "metadata": {
            "tags": []
          },
          "execution_count": 89
        }
      ]
    },
    {
      "cell_type": "markdown",
      "metadata": {
        "id": "-8e9L70pgBta"
      },
      "source": [
        "value_counts 可以得到唯一值和其对应出现的频数"
      ]
    },
    {
      "cell_type": "code",
      "metadata": {
        "id": "gsBb2pxpgFii",
        "colab": {
          "base_uri": "https://localhost:8080/"
        },
        "outputId": "1f608085-b678-4a8d-d324-37d92d51bbd3"
      },
      "source": [
        "df['School'].value_counts()\r\n",
        "#输出结果如下：\r\n",
        "# Tsinghua University          69\r\n",
        "# Shanghai Jiao Tong University    57\r\n",
        "# Fudan University            40\r\n",
        "# Peking University           34\r\n",
        "# Name: School, dtype: int64"
      ],
      "execution_count": null,
      "outputs": [
        {
          "output_type": "execute_result",
          "data": {
            "text/plain": [
              "Tsinghua University              69\n",
              "Shanghai Jiao Tong University    57\n",
              "Fudan University                 40\n",
              "Peking University                34\n",
              "Name: School, dtype: int64"
            ]
          },
          "metadata": {
            "tags": []
          },
          "execution_count": 91
        }
      ]
    },
    {
      "cell_type": "markdown",
      "metadata": {
        "id": "OGPL71qkgfeb"
      },
      "source": [
        "drop_duplicates 观察多个列组合的唯一值。\r\n",
        "关键参数是 keep ，默认值 first 表示每个组合保留第一次出现的所在行， last 表示保留最后一次出现的所在行， False 表示把所有重复组合所在的行剔除"
      ]
    },
    {
      "cell_type": "code",
      "metadata": {
        "id": "Qh7w2fohhn3h",
        "colab": {
          "base_uri": "https://localhost:8080/"
        },
        "outputId": "1f263f94-a12d-412f-e656-30f861bd91b9"
      },
      "source": [
        "df_demo = df[['Gender','Transfer','Name']]\r\n",
        "df_demo.drop_duplicates(['Gender', 'Transfer'])\r\n",
        "df_demo.drop_duplicates(['Gender', 'Transfer'], keep='last') # 表示保留最后一次出现的所在行\r\n",
        "df_demo.drop_duplicates(['Name', 'Gender'],keep=False).head() # 保留只出现过一次的性别和姓名组合\r\n",
        "df['School'].drop_duplicates() # 在Series上也可以使用"
      ],
      "execution_count": null,
      "outputs": [
        {
          "output_type": "execute_result",
          "data": {
            "text/plain": [
              "0    Shanghai Jiao Tong University\n",
              "1                Peking University\n",
              "3                 Fudan University\n",
              "5              Tsinghua University\n",
              "Name: School, dtype: object"
            ]
          },
          "metadata": {
            "tags": []
          },
          "execution_count": 93
        }
      ]
    },
    {
      "cell_type": "markdown",
      "metadata": {
        "id": "toQFcxXRjc8i"
      },
      "source": [
        "duplicated 和 drop_duplicates 的功能类似，但前者返回了是否为唯一值的布尔列表，其 keep 参数与后者一致。其返回的序列，把重复元素设为 True ，否则为 False 。 drop_duplicates 等价于把 duplicated 为 True 的对应行剔除。"
      ]
    },
    {
      "cell_type": "code",
      "metadata": {
        "id": "NEooebuFkFcv",
        "colab": {
          "base_uri": "https://localhost:8080/"
        },
        "outputId": "7a8cedd7-42bc-4671-e436-f9c604bc5db2"
      },
      "source": [
        "df_demo.duplicated(['Gender', 'Transfer']).head()\r\n",
        "df['School'].duplicated().head() # 在Series上也可以使用"
      ],
      "execution_count": null,
      "outputs": [
        {
          "output_type": "execute_result",
          "data": {
            "text/plain": [
              "0    False\n",
              "1    False\n",
              "2     True\n",
              "3    False\n",
              "4     True\n",
              "Name: School, dtype: bool"
            ]
          },
          "metadata": {
            "tags": []
          },
          "execution_count": 94
        }
      ]
    },
    {
      "cell_type": "markdown",
      "metadata": {
        "id": "AQdQoWeyj0t-"
      },
      "source": [
        "## 4.替换函数\r\n",
        "一般，替换操作是针对某一个列进行的，因此下面的例子都以 Series 举例"
      ]
    },
    {
      "cell_type": "markdown",
      "metadata": {
        "id": "MG2xF3OAkcN9"
      },
      "source": [
        "pandas 中的替换函数可以归纳为三类：映射替换、逻辑替换、数值替换。"
      ]
    },
    {
      "cell_type": "markdown",
      "metadata": {
        "id": "Ij2pAiFRkhsz"
      },
      "source": [
        "（1）映射替换： replace 中，可以通过字典构造，或者传入两个列表来进行替换"
      ]
    },
    {
      "cell_type": "code",
      "metadata": {
        "id": "3V7ABCnqkgxN",
        "colab": {
          "base_uri": "https://localhost:8080/"
        },
        "outputId": "fdd09032-c518-4cdf-c170-2a3ece98fe30"
      },
      "source": [
        "df['Gender'].replace({'Female':0, 'Male':1}).head() # 字典构造\r\n",
        "df['Gender'].replace(['Female', 'Male'], [0, 1]).head() # 列表构造"
      ],
      "execution_count": null,
      "outputs": [
        {
          "output_type": "execute_result",
          "data": {
            "text/plain": [
              "0    0\n",
              "1    1\n",
              "2    1\n",
              "3    0\n",
              "4    1\n",
              "Name: Gender, dtype: int64"
            ]
          },
          "metadata": {
            "tags": []
          },
          "execution_count": 95
        }
      ]
    },
    {
      "cell_type": "markdown",
      "metadata": {
        "id": "YFs6T9-nk8lh"
      },
      "source": [
        "replace 还有一种特殊的方向替换，指定 method 参数为 ffill 则为用前面一个最近的未被替换的值进行替换， bfill 则使用后面最近的未被替换的值进行替换"
      ]
    },
    {
      "cell_type": "code",
      "metadata": {
        "id": "_b4xMmX_k_sZ",
        "colab": {
          "base_uri": "https://localhost:8080/"
        },
        "outputId": "f4ae500c-1d85-4032-af28-a837d3d4709b"
      },
      "source": [
        "s = pd.Series(['a', 1, 'b', 2, 1, 1, 'a'])\r\n",
        "s.replace([1, 2], method='ffill') # 替换后输出 a,a,b,a,b,b,b,a\r\n",
        "s.replace([1, 2], method='bfill') # 替换后输出 a,b,b,a,a,a,a"
      ],
      "execution_count": null,
      "outputs": [
        {
          "output_type": "execute_result",
          "data": {
            "text/plain": [
              "0    a\n",
              "1    b\n",
              "2    b\n",
              "3    a\n",
              "4    a\n",
              "5    a\n",
              "6    a\n",
              "dtype: object"
            ]
          },
          "metadata": {
            "tags": []
          },
          "execution_count": 98
        }
      ]
    },
    {
      "cell_type": "markdown",
      "metadata": {
        "id": "i7OZrumal78h"
      },
      "source": [
        "！！注意：正则替换请使用 str.replace！！\r\n",
        "虽然对于 replace 而言可以使用正则替换，但是当前版本下对于 string 类型的正则替换还存在 bug ，因此如有此需求，请选择 str.replace 进行替换操作"
      ]
    },
    {
      "cell_type": "markdown",
      "metadata": {
        "id": "IqP4eaDQmEBk"
      },
      "source": [
        "（2）逻辑替换： where 和 mask \r\n"
      ]
    },
    {
      "cell_type": "markdown",
      "metadata": {
        "id": "Fe7sK4ULngew"
      },
      "source": [
        "这两个函数是完全对称的。\r\n",
        "where：在传入条件为 False 的对应行进行替换；\r\n",
        "mask：在传入条件为 True 的对应行进行替换，当不指定替换值时，替换为缺失值"
      ]
    },
    {
      "cell_type": "code",
      "metadata": {
        "id": "_Ik1WtC3nqZZ",
        "colab": {
          "base_uri": "https://localhost:8080/"
        },
        "outputId": "56eb53b4-8494-49db-e30f-3d4119057332"
      },
      "source": [
        " s = pd.Series([-1, 1.2345, 100, -50])\r\n",
        " s.where(s<0) # T,F,F,T\r\n",
        " s.mask(s<0) # T,F,F,T"
      ],
      "execution_count": null,
      "outputs": [
        {
          "output_type": "execute_result",
          "data": {
            "text/plain": [
              "0         NaN\n",
              "1      1.2345\n",
              "2    100.0000\n",
              "3         NaN\n",
              "dtype: float64"
            ]
          },
          "metadata": {
            "tags": []
          },
          "execution_count": 99
        }
      ]
    },
    {
      "cell_type": "code",
      "metadata": {
        "id": "coHoyfJwn5ZT",
        "colab": {
          "base_uri": "https://localhost:8080/"
        },
        "outputId": "59898d89-1365-482e-9261-3abeea358808"
      },
      "source": [
        "s.where(s<0, 100) # 传入条件为 F 的时候替换，即把s>0的值换为100\r\n",
        "s.mask(s<0, -50) # 传入条件为 T 的时候替换，即把s<0的值换为-50"
      ],
      "execution_count": null,
      "outputs": [
        {
          "output_type": "execute_result",
          "data": {
            "text/plain": [
              "0    -50.0000\n",
              "1      1.2345\n",
              "2    100.0000\n",
              "3    -50.0000\n",
              "dtype: float64"
            ]
          },
          "metadata": {
            "tags": []
          },
          "execution_count": 101
        }
      ]
    },
    {
      "cell_type": "markdown",
      "metadata": {
        "id": "u5lpYlzIqPzS"
      },
      "source": [
        "（3）数值替换"
      ]
    },
    {
      "cell_type": "markdown",
      "metadata": {
        "id": "PY1OFMPYqRsT"
      },
      "source": [
        "round：按照给定精度四舍五入；abs：取绝对值；clip：截断\r\n",
        "\r\n"
      ]
    },
    {
      "cell_type": "code",
      "metadata": {
        "id": "rljzmv20qcH4",
        "colab": {
          "base_uri": "https://localhost:8080/"
        },
        "outputId": "d906f816-9210-43d8-aa7c-2bb47918654a"
      },
      "source": [
        "s = pd.Series([-1, 1.2345, 100, -50])\r\n",
        "s.round(2)#保留两位\r\n",
        "s.abs()\r\n",
        "s.clip(0, 2) # 前两个数分别表示上下截断边界，输出 0,1.2345,2,0"
      ],
      "execution_count": null,
      "outputs": [
        {
          "output_type": "execute_result",
          "data": {
            "text/plain": [
              "0    0.0000\n",
              "1    1.2345\n",
              "2    2.0000\n",
              "3    0.0000\n",
              "dtype: float64"
            ]
          },
          "metadata": {
            "tags": []
          },
          "execution_count": 102
        }
      ]
    },
    {
      "cell_type": "markdown",
      "metadata": {
        "id": "V0Ua7w-Dqymg"
      },
      "source": [
        "## 5.排序函数"
      ]
    },
    {
      "cell_type": "markdown",
      "metadata": {
        "id": "csLB_j4Yq1fb"
      },
      "source": [
        "排序共有两种方式，其一为值排序，其二为索引排序，对应的函数是 sort_values 和 sort_index "
      ]
    },
    {
      "cell_type": "code",
      "metadata": {
        "id": "q_kycq-Iq41B",
        "colab": {
          "base_uri": "https://localhost:8080/",
          "height": 402
        },
        "outputId": "e6e7595e-65b3-4677-c18d-f9e62d28b7be"
      },
      "source": [
        "df_demo = df[['Grade', 'Name', 'Height','Weight']].set_index(['Grade','Name'])\r\n",
        "df\r\n",
        "#用 set_index 方法把年级和姓名两列作为索引"
      ],
      "execution_count": null,
      "outputs": [
        {
          "output_type": "execute_result",
          "data": {
            "text/html": [
              "<div>\n",
              "<style scoped>\n",
              "    .dataframe tbody tr th:only-of-type {\n",
              "        vertical-align: middle;\n",
              "    }\n",
              "\n",
              "    .dataframe tbody tr th {\n",
              "        vertical-align: top;\n",
              "    }\n",
              "\n",
              "    .dataframe thead th {\n",
              "        text-align: right;\n",
              "    }\n",
              "</style>\n",
              "<table border=\"1\" class=\"dataframe\">\n",
              "  <thead>\n",
              "    <tr style=\"text-align: right;\">\n",
              "      <th></th>\n",
              "      <th>School</th>\n",
              "      <th>Grade</th>\n",
              "      <th>Name</th>\n",
              "      <th>Gender</th>\n",
              "      <th>Height</th>\n",
              "      <th>Weight</th>\n",
              "      <th>Transfer</th>\n",
              "    </tr>\n",
              "  </thead>\n",
              "  <tbody>\n",
              "    <tr>\n",
              "      <th>0</th>\n",
              "      <td>Shanghai Jiao Tong University</td>\n",
              "      <td>Freshman</td>\n",
              "      <td>Gaopeng Yang</td>\n",
              "      <td>Female</td>\n",
              "      <td>158.9</td>\n",
              "      <td>46.0</td>\n",
              "      <td>N</td>\n",
              "    </tr>\n",
              "    <tr>\n",
              "      <th>1</th>\n",
              "      <td>Peking University</td>\n",
              "      <td>Freshman</td>\n",
              "      <td>Changqiang You</td>\n",
              "      <td>Male</td>\n",
              "      <td>166.5</td>\n",
              "      <td>70.0</td>\n",
              "      <td>N</td>\n",
              "    </tr>\n",
              "    <tr>\n",
              "      <th>2</th>\n",
              "      <td>Shanghai Jiao Tong University</td>\n",
              "      <td>Senior</td>\n",
              "      <td>Mei Sun</td>\n",
              "      <td>Male</td>\n",
              "      <td>188.9</td>\n",
              "      <td>89.0</td>\n",
              "      <td>N</td>\n",
              "    </tr>\n",
              "    <tr>\n",
              "      <th>3</th>\n",
              "      <td>Fudan University</td>\n",
              "      <td>Sophomore</td>\n",
              "      <td>Xiaojuan Sun</td>\n",
              "      <td>Female</td>\n",
              "      <td>NaN</td>\n",
              "      <td>41.0</td>\n",
              "      <td>N</td>\n",
              "    </tr>\n",
              "    <tr>\n",
              "      <th>4</th>\n",
              "      <td>Fudan University</td>\n",
              "      <td>Sophomore</td>\n",
              "      <td>Gaojuan You</td>\n",
              "      <td>Male</td>\n",
              "      <td>174.0</td>\n",
              "      <td>74.0</td>\n",
              "      <td>N</td>\n",
              "    </tr>\n",
              "    <tr>\n",
              "      <th>...</th>\n",
              "      <td>...</td>\n",
              "      <td>...</td>\n",
              "      <td>...</td>\n",
              "      <td>...</td>\n",
              "      <td>...</td>\n",
              "      <td>...</td>\n",
              "      <td>...</td>\n",
              "    </tr>\n",
              "    <tr>\n",
              "      <th>195</th>\n",
              "      <td>Fudan University</td>\n",
              "      <td>Junior</td>\n",
              "      <td>Xiaojuan Sun</td>\n",
              "      <td>Female</td>\n",
              "      <td>153.9</td>\n",
              "      <td>46.0</td>\n",
              "      <td>N</td>\n",
              "    </tr>\n",
              "    <tr>\n",
              "      <th>196</th>\n",
              "      <td>Tsinghua University</td>\n",
              "      <td>Senior</td>\n",
              "      <td>Li Zhao</td>\n",
              "      <td>Female</td>\n",
              "      <td>160.9</td>\n",
              "      <td>50.0</td>\n",
              "      <td>N</td>\n",
              "    </tr>\n",
              "    <tr>\n",
              "      <th>197</th>\n",
              "      <td>Shanghai Jiao Tong University</td>\n",
              "      <td>Senior</td>\n",
              "      <td>Chengqiang Chu</td>\n",
              "      <td>Female</td>\n",
              "      <td>153.9</td>\n",
              "      <td>45.0</td>\n",
              "      <td>N</td>\n",
              "    </tr>\n",
              "    <tr>\n",
              "      <th>198</th>\n",
              "      <td>Shanghai Jiao Tong University</td>\n",
              "      <td>Senior</td>\n",
              "      <td>Chengmei Shen</td>\n",
              "      <td>Male</td>\n",
              "      <td>175.3</td>\n",
              "      <td>71.0</td>\n",
              "      <td>N</td>\n",
              "    </tr>\n",
              "    <tr>\n",
              "      <th>199</th>\n",
              "      <td>Tsinghua University</td>\n",
              "      <td>Sophomore</td>\n",
              "      <td>Chunpeng Lv</td>\n",
              "      <td>Male</td>\n",
              "      <td>155.7</td>\n",
              "      <td>51.0</td>\n",
              "      <td>N</td>\n",
              "    </tr>\n",
              "  </tbody>\n",
              "</table>\n",
              "<p>200 rows × 7 columns</p>\n",
              "</div>"
            ],
            "text/plain": [
              "                            School      Grade  ... Weight Transfer\n",
              "0    Shanghai Jiao Tong University   Freshman  ...   46.0        N\n",
              "1                Peking University   Freshman  ...   70.0        N\n",
              "2    Shanghai Jiao Tong University     Senior  ...   89.0        N\n",
              "3                 Fudan University  Sophomore  ...   41.0        N\n",
              "4                 Fudan University  Sophomore  ...   74.0        N\n",
              "..                             ...        ...  ...    ...      ...\n",
              "195               Fudan University     Junior  ...   46.0        N\n",
              "196            Tsinghua University     Senior  ...   50.0        N\n",
              "197  Shanghai Jiao Tong University     Senior  ...   45.0        N\n",
              "198  Shanghai Jiao Tong University     Senior  ...   71.0        N\n",
              "199            Tsinghua University  Sophomore  ...   51.0        N\n",
              "\n",
              "[200 rows x 7 columns]"
            ]
          },
          "metadata": {
            "tags": []
          },
          "execution_count": 106
        }
      ]
    },
    {
      "cell_type": "markdown",
      "metadata": {
        "id": "stlyGltGrQ4n"
      },
      "source": [
        "默认参数 ascending=True 为升序"
      ]
    },
    {
      "cell_type": "code",
      "metadata": {
        "id": "HepoZnK_rVDP",
        "colab": {
          "base_uri": "https://localhost:8080/",
          "height": 225
        },
        "outputId": "56e97624-0adf-4e24-d379-4157f5665e1f"
      },
      "source": [
        "df_demo.sort_values('Height').head()\r\n",
        "df_demo.sort_values('Height', ascending=False).head()# 对身高进行排序，降序"
      ],
      "execution_count": null,
      "outputs": [
        {
          "output_type": "execute_result",
          "data": {
            "text/html": [
              "<div>\n",
              "<style scoped>\n",
              "    .dataframe tbody tr th:only-of-type {\n",
              "        vertical-align: middle;\n",
              "    }\n",
              "\n",
              "    .dataframe tbody tr th {\n",
              "        vertical-align: top;\n",
              "    }\n",
              "\n",
              "    .dataframe thead th {\n",
              "        text-align: right;\n",
              "    }\n",
              "</style>\n",
              "<table border=\"1\" class=\"dataframe\">\n",
              "  <thead>\n",
              "    <tr style=\"text-align: right;\">\n",
              "      <th></th>\n",
              "      <th></th>\n",
              "      <th>Height</th>\n",
              "      <th>Weight</th>\n",
              "    </tr>\n",
              "    <tr>\n",
              "      <th>Grade</th>\n",
              "      <th>Name</th>\n",
              "      <th></th>\n",
              "      <th></th>\n",
              "    </tr>\n",
              "  </thead>\n",
              "  <tbody>\n",
              "    <tr>\n",
              "      <th rowspan=\"3\" valign=\"top\">Senior</th>\n",
              "      <th>Xiaoqiang Qin</th>\n",
              "      <td>193.9</td>\n",
              "      <td>79.0</td>\n",
              "    </tr>\n",
              "    <tr>\n",
              "      <th>Mei Sun</th>\n",
              "      <td>188.9</td>\n",
              "      <td>89.0</td>\n",
              "    </tr>\n",
              "    <tr>\n",
              "      <th>Gaoli Zhao</th>\n",
              "      <td>186.5</td>\n",
              "      <td>83.0</td>\n",
              "    </tr>\n",
              "    <tr>\n",
              "      <th>Freshman</th>\n",
              "      <th>Qiang Han</th>\n",
              "      <td>185.3</td>\n",
              "      <td>87.0</td>\n",
              "    </tr>\n",
              "    <tr>\n",
              "      <th>Senior</th>\n",
              "      <th>Qiang Zheng</th>\n",
              "      <td>183.9</td>\n",
              "      <td>87.0</td>\n",
              "    </tr>\n",
              "  </tbody>\n",
              "</table>\n",
              "</div>"
            ],
            "text/plain": [
              "                        Height  Weight\n",
              "Grade    Name                         \n",
              "Senior   Xiaoqiang Qin   193.9    79.0\n",
              "         Mei Sun         188.9    89.0\n",
              "         Gaoli Zhao      186.5    83.0\n",
              "Freshman Qiang Han       185.3    87.0\n",
              "Senior   Qiang Zheng     183.9    87.0"
            ]
          },
          "metadata": {
            "tags": []
          },
          "execution_count": 107
        }
      ]
    },
    {
      "cell_type": "markdown",
      "metadata": {
        "id": "_KO2kxMgrvlC"
      },
      "source": [
        "多列排序的问题，比如在体重相同的情况下，对身高进行排序，并且保持身高降序排列，体重升序排列"
      ]
    },
    {
      "cell_type": "code",
      "metadata": {
        "id": "EJTHOptzrzJh",
        "colab": {
          "base_uri": "https://localhost:8080/",
          "height": 225
        },
        "outputId": "87627560-2b2f-446d-d308-53a9f192b44c"
      },
      "source": [
        "df_demo.sort_values(['Weight','Height'],ascending=[True,False]).head()\r\n",
        "#体重升序，身高降序"
      ],
      "execution_count": null,
      "outputs": [
        {
          "output_type": "execute_result",
          "data": {
            "text/html": [
              "<div>\n",
              "<style scoped>\n",
              "    .dataframe tbody tr th:only-of-type {\n",
              "        vertical-align: middle;\n",
              "    }\n",
              "\n",
              "    .dataframe tbody tr th {\n",
              "        vertical-align: top;\n",
              "    }\n",
              "\n",
              "    .dataframe thead th {\n",
              "        text-align: right;\n",
              "    }\n",
              "</style>\n",
              "<table border=\"1\" class=\"dataframe\">\n",
              "  <thead>\n",
              "    <tr style=\"text-align: right;\">\n",
              "      <th></th>\n",
              "      <th></th>\n",
              "      <th>Height</th>\n",
              "      <th>Weight</th>\n",
              "    </tr>\n",
              "    <tr>\n",
              "      <th>Grade</th>\n",
              "      <th>Name</th>\n",
              "      <th></th>\n",
              "      <th></th>\n",
              "    </tr>\n",
              "  </thead>\n",
              "  <tbody>\n",
              "    <tr>\n",
              "      <th>Sophomore</th>\n",
              "      <th>Peng Han</th>\n",
              "      <td>147.8</td>\n",
              "      <td>34.0</td>\n",
              "    </tr>\n",
              "    <tr>\n",
              "      <th>Senior</th>\n",
              "      <th>Gaomei Lv</th>\n",
              "      <td>147.3</td>\n",
              "      <td>34.0</td>\n",
              "    </tr>\n",
              "    <tr>\n",
              "      <th>Junior</th>\n",
              "      <th>Xiaoli Chu</th>\n",
              "      <td>145.4</td>\n",
              "      <td>34.0</td>\n",
              "    </tr>\n",
              "    <tr>\n",
              "      <th>Sophomore</th>\n",
              "      <th>Qiang Zhou</th>\n",
              "      <td>150.5</td>\n",
              "      <td>36.0</td>\n",
              "    </tr>\n",
              "    <tr>\n",
              "      <th>Freshman</th>\n",
              "      <th>Yanqiang Xu</th>\n",
              "      <td>152.4</td>\n",
              "      <td>38.0</td>\n",
              "    </tr>\n",
              "  </tbody>\n",
              "</table>\n",
              "</div>"
            ],
            "text/plain": [
              "                       Height  Weight\n",
              "Grade     Name                       \n",
              "Sophomore Peng Han      147.8    34.0\n",
              "Senior    Gaomei Lv     147.3    34.0\n",
              "Junior    Xiaoli Chu    145.4    34.0\n",
              "Sophomore Qiang Zhou    150.5    36.0\n",
              "Freshman  Yanqiang Xu   152.4    38.0"
            ]
          },
          "metadata": {
            "tags": []
          },
          "execution_count": 108
        }
      ]
    },
    {
      "cell_type": "markdown",
      "metadata": {
        "id": "o_JmmO_zrhMS"
      },
      "source": [
        "索引排序的用法和值排序完全一致，只不过元素的值在索引中，此时需要指定索引层的名字或者层号，用参数 level 表示。另外，需要注意的是字符串的排列顺序由字母顺序决定。"
      ]
    },
    {
      "cell_type": "code",
      "metadata": {
        "id": "h2FClDB8rlSx",
        "colab": {
          "base_uri": "https://localhost:8080/",
          "height": 225
        },
        "outputId": "f89ee987-a501-441e-e787-4833ba046397"
      },
      "source": [
        "df_demo.sort_index(level=['Grade','Name'],ascending=[True,False]).head()"
      ],
      "execution_count": null,
      "outputs": [
        {
          "output_type": "execute_result",
          "data": {
            "text/html": [
              "<div>\n",
              "<style scoped>\n",
              "    .dataframe tbody tr th:only-of-type {\n",
              "        vertical-align: middle;\n",
              "    }\n",
              "\n",
              "    .dataframe tbody tr th {\n",
              "        vertical-align: top;\n",
              "    }\n",
              "\n",
              "    .dataframe thead th {\n",
              "        text-align: right;\n",
              "    }\n",
              "</style>\n",
              "<table border=\"1\" class=\"dataframe\">\n",
              "  <thead>\n",
              "    <tr style=\"text-align: right;\">\n",
              "      <th></th>\n",
              "      <th></th>\n",
              "      <th>Height</th>\n",
              "      <th>Weight</th>\n",
              "    </tr>\n",
              "    <tr>\n",
              "      <th>Grade</th>\n",
              "      <th>Name</th>\n",
              "      <th></th>\n",
              "      <th></th>\n",
              "    </tr>\n",
              "  </thead>\n",
              "  <tbody>\n",
              "    <tr>\n",
              "      <th rowspan=\"5\" valign=\"top\">Freshman</th>\n",
              "      <th>Yanquan Wang</th>\n",
              "      <td>163.5</td>\n",
              "      <td>55.0</td>\n",
              "    </tr>\n",
              "    <tr>\n",
              "      <th>Yanqiang Xu</th>\n",
              "      <td>152.4</td>\n",
              "      <td>38.0</td>\n",
              "    </tr>\n",
              "    <tr>\n",
              "      <th>Yanqiang Feng</th>\n",
              "      <td>162.3</td>\n",
              "      <td>51.0</td>\n",
              "    </tr>\n",
              "    <tr>\n",
              "      <th>Yanpeng Lv</th>\n",
              "      <td>NaN</td>\n",
              "      <td>65.0</td>\n",
              "    </tr>\n",
              "    <tr>\n",
              "      <th>Yanli Zhang</th>\n",
              "      <td>165.1</td>\n",
              "      <td>52.0</td>\n",
              "    </tr>\n",
              "  </tbody>\n",
              "</table>\n",
              "</div>"
            ],
            "text/plain": [
              "                        Height  Weight\n",
              "Grade    Name                         \n",
              "Freshman Yanquan Wang    163.5    55.0\n",
              "         Yanqiang Xu     152.4    38.0\n",
              "         Yanqiang Feng   162.3    51.0\n",
              "         Yanpeng Lv        NaN    65.0\n",
              "         Yanli Zhang     165.1    52.0"
            ]
          },
          "metadata": {
            "tags": []
          },
          "execution_count": 109
        }
      ]
    },
    {
      "cell_type": "markdown",
      "metadata": {
        "id": "Sy10lbXHsQJK"
      },
      "source": [
        "## 6.apply方法"
      ]
    },
    {
      "cell_type": "markdown",
      "metadata": {
        "id": "aFPGOx3isTAj"
      },
      "source": [
        "apply 方法常用于 DataFrame 的行迭代或者列迭代，它的 axis 含义与第2小节中的统计聚合函数一致， apply 的参数往往是一个以序列为输入的函数"
      ]
    },
    {
      "cell_type": "code",
      "metadata": {
        "id": "5gGISkvMsWQY"
      },
      "source": [
        "df_demo = df[['Height', 'Weight']]\r\n",
        "def my_mean(x):\r\n",
        "   res = x.mean()\r\n",
        "   return res"
      ],
      "execution_count": null,
      "outputs": []
    },
    {
      "cell_type": "code",
      "metadata": {
        "id": "__EsN3E6s0f7",
        "colab": {
          "base_uri": "https://localhost:8080/"
        },
        "outputId": "25becf39-6048-42de-f443-b10557d570f2"
      },
      "source": [
        "# 对于上述 .mean() ，使用 apply 可以如下地写出\r\n",
        "df_demo.apply(my_mean)"
      ],
      "execution_count": null,
      "outputs": [
        {
          "output_type": "execute_result",
          "data": {
            "text/plain": [
              "Height    163.218033\n",
              "Weight     55.015873\n",
              "dtype: float64"
            ]
          },
          "metadata": {
            "tags": []
          },
          "execution_count": 114
        }
      ]
    },
    {
      "cell_type": "code",
      "metadata": {
        "id": "y7rik81_tBB-",
        "colab": {
          "base_uri": "https://localhost:8080/"
        },
        "outputId": "bb9585d3-86e4-49d1-c966-445c48f76941"
      },
      "source": [
        "#利用 lambda 表达式使得书写简洁，这里的x就指代被调用的df_demo表中逐个输入的序列\r\n",
        "df_demo.apply(lambda x:x.mean())"
      ],
      "execution_count": null,
      "outputs": [
        {
          "output_type": "execute_result",
          "data": {
            "text/plain": [
              "Height    163.218033\n",
              "Weight     55.015873\n",
              "dtype: float64"
            ]
          },
          "metadata": {
            "tags": []
          },
          "execution_count": 115
        }
      ]
    },
    {
      "cell_type": "code",
      "metadata": {
        "id": "yulFbYdItP8g",
        "colab": {
          "base_uri": "https://localhost:8080/"
        },
        "outputId": "54fd127d-e744-4f8f-beff-1b40483e8bee"
      },
      "source": [
        "#若指定 axis=1 ，那么每次传入函数的就是行元素组成的 Series\r\n",
        "#其结果与之前的逐行均值结果一致\r\n",
        "df_demo.apply(lambda x:x.mean(), axis=1).head()"
      ],
      "execution_count": null,
      "outputs": [
        {
          "output_type": "execute_result",
          "data": {
            "text/plain": [
              "0    102.45\n",
              "1    118.25\n",
              "2    138.95\n",
              "3     41.00\n",
              "4    124.00\n",
              "dtype: float64"
            ]
          },
          "metadata": {
            "tags": []
          },
          "execution_count": 116
        }
      ]
    },
    {
      "cell_type": "markdown",
      "metadata": {
        "id": "AgfV4WgfthsX"
      },
      "source": [
        "例子：ad 函数返回的是一个序列中偏离该序列均值的绝对值大小的均值，例如序列1,3,7,10中，均值为5.25，每一个元素偏离的绝对值为4.25,2.25,1.75,4.75，这个偏离序列的均值为3.25"
      ]
    },
    {
      "cell_type": "code",
      "metadata": {
        "id": "mNt5Af--tl2z",
        "colab": {
          "base_uri": "https://localhost:8080/"
        },
        "outputId": "cb360b93-8d5f-4015-f10f-8a5f7cc84d54"
      },
      "source": [
        "#现在利用 apply 计算升高和体重的 mad 指标\r\n",
        "df_demo.apply(lambda x:(x-x.mean()).abs().mean())\r\n",
        "#使用内置的 mad 函数计算\r\n",
        "df_demo.mad()\r\n",
        "#两个计算结果一致"
      ],
      "execution_count": null,
      "outputs": [
        {
          "output_type": "execute_result",
          "data": {
            "text/plain": [
              "Height     6.707229\n",
              "Weight    10.391870\n",
              "dtype: float64"
            ]
          },
          "metadata": {
            "tags": []
          },
          "execution_count": 117
        }
      ]
    },
    {
      "cell_type": "markdown",
      "metadata": {
        "id": "pkmxqhmNt7YR"
      },
      "source": [
        "！！注意：谨慎使用 apply"
      ]
    },
    {
      "cell_type": "markdown",
      "metadata": {
        "id": "slgCBu-dt-uM"
      },
      "source": [
        "得益于传入自定义函数的处理， apply 的自由度很高，但这是以性能为代价的。一般而言，使用 pandas 的内置函数处理和 apply 来处理同一个任务，其速度会相差较多，因此只有在确实存在自定义需求的情境下才考虑使用 apply 。\r\n",
        "\r\n"
      ]
    },
    {
      "cell_type": "markdown",
      "metadata": {
        "id": "-z366IY9uCae"
      },
      "source": [
        "# 四、窗口对象\r\n",
        "pandas 中有3类窗口，分别是滑动窗口 rolling 、扩张窗口 expanding 以及指数加权窗口 ewm "
      ]
    },
    {
      "cell_type": "markdown",
      "metadata": {
        "id": "gBqedlHVuIPv"
      },
      "source": [
        "## 1.滑窗对象"
      ]
    },
    {
      "cell_type": "markdown",
      "metadata": {
        "id": "bxCcuN7GuR6x"
      },
      "source": [
        "要使用滑窗函数，就必须先要对一个序列使用 .rolling 得到滑窗对象，其最重要的参数为窗口大小 window "
      ]
    },
    {
      "cell_type": "code",
      "metadata": {
        "colab": {
          "base_uri": "https://localhost:8080/"
        },
        "id": "BQoHC2USu3ac",
        "outputId": "40670b1a-f7b3-4ba9-fee7-826480550e44"
      },
      "source": [
        "s = pd.Series([1,2,3,4,5])\r\n",
        "roller = s.rolling(window = 3)\r\n",
        "roller"
      ],
      "execution_count": null,
      "outputs": [
        {
          "output_type": "execute_result",
          "data": {
            "text/plain": [
              "Rolling [window=3,center=False,axis=0]"
            ]
          },
          "metadata": {
            "tags": []
          },
          "execution_count": 118
        }
      ]
    },
    {
      "cell_type": "markdown",
      "metadata": {
        "id": "i_a32SofvH4T"
      },
      "source": [
        "得到了滑窗对象后，能够使用相应的聚合函数进行计算，需要注意的是窗口包含当前行所在的元素。例如在第四个位置进行均值运算时，应当计算(2+3+4)/3，而不是(1+2+3)/3"
      ]
    },
    {
      "cell_type": "code",
      "metadata": {
        "colab": {
          "base_uri": "https://localhost:8080/"
        },
        "id": "46-sMfLhvMox",
        "outputId": "4471485b-1085-4196-a89e-436e05532a1e"
      },
      "source": [
        " roller.mean()"
      ],
      "execution_count": null,
      "outputs": [
        {
          "output_type": "execute_result",
          "data": {
            "text/plain": [
              "0    NaN\n",
              "1    NaN\n",
              "2    2.0\n",
              "3    3.0\n",
              "4    4.0\n",
              "dtype: float64"
            ]
          },
          "metadata": {
            "tags": []
          },
          "execution_count": 119
        }
      ]
    },
    {
      "cell_type": "code",
      "metadata": {
        "colab": {
          "base_uri": "https://localhost:8080/"
        },
        "id": "jaKgeKKTvU3v",
        "outputId": "54c3d5be-cce4-4331-bc85-45f9aa1a3a3e"
      },
      "source": [
        "roller.sum()"
      ],
      "execution_count": null,
      "outputs": [
        {
          "output_type": "execute_result",
          "data": {
            "text/plain": [
              "0     NaN\n",
              "1     NaN\n",
              "2     6.0\n",
              "3     9.0\n",
              "4    12.0\n",
              "dtype: float64"
            ]
          },
          "metadata": {
            "tags": []
          },
          "execution_count": 120
        }
      ]
    },
    {
      "cell_type": "markdown",
      "metadata": {
        "id": "tMwE_57vvc73"
      },
      "source": [
        "滑动相关系数或滑动协方差的计算"
      ]
    },
    {
      "cell_type": "code",
      "metadata": {
        "id": "TQhl8VeGvd0C",
        "colab": {
          "base_uri": "https://localhost:8080/"
        },
        "outputId": "ecb8a755-e372-44d3-d869-bab168de94ef"
      },
      "source": [
        "s2 = pd.Series([1,2,6,16,30])\r\n",
        "roller.cov(s2) # 滑动相关系数\r\n",
        "roller.corr(s2) # 滑动协方差"
      ],
      "execution_count": null,
      "outputs": [
        {
          "output_type": "execute_result",
          "data": {
            "text/plain": [
              "0         NaN\n",
              "1         NaN\n",
              "2    0.944911\n",
              "3    0.970725\n",
              "4    0.995402\n",
              "dtype: float64"
            ]
          },
          "metadata": {
            "tags": []
          },
          "execution_count": 121
        }
      ]
    },
    {
      "cell_type": "markdown",
      "metadata": {
        "id": "K1lkqzlxv6tN"
      },
      "source": [
        "支持使用 apply 传入自定义函数，其传入值是对应窗口的 Series ，例如上述的均值函数可以等效表示"
      ]
    },
    {
      "cell_type": "code",
      "metadata": {
        "id": "41qRFjmuv_93",
        "colab": {
          "base_uri": "https://localhost:8080/"
        },
        "outputId": "964623c8-3eb4-4ad4-93fd-aeaa86734ebd"
      },
      "source": [
        "roller.apply(lambda x:x.mean())"
      ],
      "execution_count": null,
      "outputs": [
        {
          "output_type": "execute_result",
          "data": {
            "text/plain": [
              "0    NaN\n",
              "1    NaN\n",
              "2    2.0\n",
              "3    3.0\n",
              "4    4.0\n",
              "dtype: float64"
            ]
          },
          "metadata": {
            "tags": []
          },
          "execution_count": 122
        }
      ]
    },
    {
      "cell_type": "markdown",
      "metadata": {
        "id": "TdehG0InwCMv"
      },
      "source": [
        "shift, diff, pct_change 是一组类滑窗函数，它们的公共参数为 periods=n ，默认为1。shift表示取向前第 n 个元素的值；diff表示与向前第 n 个元素做差（与 Numpy 中不同，后者表示 n 阶差分）；pct_change表示与向前第 n 个元素相比计算增长率。这里的 n 可以为负，表示反方向的类似操作"
      ]
    },
    {
      "cell_type": "code",
      "metadata": {
        "id": "I0OuqRN1wbpD",
        "colab": {
          "base_uri": "https://localhost:8080/"
        },
        "outputId": "e9125f10-3adc-40fb-e2df-f3b57d56fa07"
      },
      "source": [
        "s = pd.Series([1,3,6,10,15])\r\n",
        "s.shift(2) # 取向前第2个元素的值，输出：N,N,1.0,3.0,6.0\r\n",
        "s.diff(3) #与向前第 3 个元素做差\r\n",
        "s.pct_change() #与向前第 n 个元素相比计算增长率\r\n",
        "s.shift(-1) #取向后第1个元素的值"
      ],
      "execution_count": null,
      "outputs": [
        {
          "output_type": "execute_result",
          "data": {
            "text/plain": [
              "0     3.0\n",
              "1     6.0\n",
              "2    10.0\n",
              "3    15.0\n",
              "4     NaN\n",
              "dtype: float64"
            ]
          },
          "metadata": {
            "tags": []
          },
          "execution_count": 123
        }
      ]
    },
    {
      "cell_type": "markdown",
      "metadata": {
        "id": "OSG1xpdOyU2F"
      },
      "source": [
        "将其视作类滑窗函数的原因是，它们的功能可以用窗口大小为 n+1 的 rolling 方法等价代替"
      ]
    },
    {
      "cell_type": "code",
      "metadata": {
        "id": "4BuABjBTyX5T",
        "colab": {
          "base_uri": "https://localhost:8080/"
        },
        "outputId": "68b7fab4-c6e1-41e5-bd22-e6c339d3c0b0"
      },
      "source": [
        "s.rolling(3).apply(lambda x:list(x)[0]) # s.shift(2)\r\n",
        "s.rolling(4).apply(lambda x:list(x)[-1]-list(x)[0]) # s.diff(3)\r\n",
        "def my_pct(x):\r\n",
        " L = list(x)\r\n",
        " return L[-1]/L[0]-1\r\n",
        "s.rolling(2).apply(my_pct) # s.pct_change()"
      ],
      "execution_count": null,
      "outputs": [
        {
          "output_type": "execute_result",
          "data": {
            "text/plain": [
              "0         NaN\n",
              "1    2.000000\n",
              "2    1.000000\n",
              "3    0.666667\n",
              "4    0.500000\n",
              "dtype: float64"
            ]
          },
          "metadata": {
            "tags": []
          },
          "execution_count": 126
        }
      ]
    },
    {
      "cell_type": "markdown",
      "metadata": {
        "id": "CgPgH_8EynUn"
      },
      "source": [
        "## 2.扩张窗口\r\n",
        "扩张窗口又称累计窗口，可以理解为一个动态长度的窗口，其窗口的大小就是从序列开始处到具体操作的对应位置，其使用的聚合函数会作用于这些逐步扩张的窗口上。"
      ]
    },
    {
      "cell_type": "markdown",
      "metadata": {
        "id": "Oo4LWOclyrVt"
      },
      "source": [
        "具体地说，设序列为a1, a2, a3, a4，则其每个位置对应的窗口即[a1]、[a1, a2]、[a1, a2, a3]、[a1, a2, a3, a4]"
      ]
    },
    {
      "cell_type": "code",
      "metadata": {
        "colab": {
          "base_uri": "https://localhost:8080/"
        },
        "id": "xG_PL6hOyt36",
        "outputId": "4c8cc0d1-4a34-4212-b4b8-961e20b00928"
      },
      "source": [
        " s = pd.Series([1, 3, 6, 10])\r\n",
        " s.expanding().mean()"
      ],
      "execution_count": null,
      "outputs": [
        {
          "output_type": "execute_result",
          "data": {
            "text/plain": [
              "0    1.000000\n",
              "1    2.000000\n",
              "2    3.333333\n",
              "3    5.000000\n",
              "dtype: float64"
            ]
          },
          "metadata": {
            "tags": []
          },
          "execution_count": 127
        }
      ]
    },
    {
      "cell_type": "markdown",
      "metadata": {
        "id": "mWHrs0Bfy_-X"
      },
      "source": [
        "# 五、练习"
      ]
    },
    {
      "cell_type": "markdown",
      "metadata": {
        "id": "qPsHMNEkzEuo"
      },
      "source": [
        "## EX1：口袋妖怪数据集"
      ]
    },
    {
      "cell_type": "markdown",
      "metadata": {
        "id": "ff9coywdzLpn"
      },
      "source": [
        "现有一份口袋妖怪的数据集，下面进行一些背景说明：\r\n",
        "\r\n",
        "‘#’代表全国图鉴编号，不同行存在相同数字则表示为该妖怪的不同状态\r\n",
        "\r\n",
        "妖怪具有单属性和双属性两种，对于单属性的妖怪， Type 2 为缺失值\r\n",
        "\r\n",
        "Total, HP, Attack, Defense, Sp. Atk, Sp. Def, Speed 分别代表种族值、体力、物攻、防御、特攻、特防、速度，其中种族值为后6项之和"
      ]
    },
    {
      "cell_type": "code",
      "metadata": {
        "colab": {
          "base_uri": "https://localhost:8080/"
        },
        "id": "j96_fhbRzSon",
        "outputId": "676b8987-8770-4526-b872-c25510f7b8ff"
      },
      "source": [
        "#Q1:对后六项进行加总，验证是否为 Total 值\r\n",
        "df = pd.read_csv('data/pokemon.csv')\r\n",
        "df_demo = df[['HP','Attack','Defense','Sp. Atk','Sp. Def','Speed']]\r\n",
        "(df_demo.sum(1)==df['Total']).mean() # 验证每行是否都相等"
      ],
      "execution_count": 157,
      "outputs": [
        {
          "output_type": "execute_result",
          "data": {
            "text/plain": [
              "1.0"
            ]
          },
          "metadata": {
            "tags": []
          },
          "execution_count": 157
        }
      ]
    },
    {
      "cell_type": "code",
      "metadata": {
        "id": "aO1cpOor1snu",
        "colab": {
          "base_uri": "https://localhost:8080/"
        },
        "outputId": "2eade46c-a866-48b1-aebe-2c46755616cf"
      },
      "source": [
        "#Q2:\r\n",
        "df = pd.read_csv('data/pokemon.csv')\r\n",
        "df_dup = df.drop_duplicates('#',keep='first') # 对于 '#' 重复的妖怪只保留第一条记录\r\n",
        "df_dup['Type 1'].nunique() #第一种属性的种类数"
      ],
      "execution_count": 166,
      "outputs": [
        {
          "output_type": "execute_result",
          "data": {
            "text/plain": [
              "18"
            ]
          },
          "metadata": {
            "tags": []
          },
          "execution_count": 166
        }
      ]
    },
    {
      "cell_type": "code",
      "metadata": {
        "colab": {
          "base_uri": "https://localhost:8080/"
        },
        "id": "Zm1qhFIfWB3p",
        "outputId": "c0d43340-001c-4982-e6fb-1ffcffcfe3bf"
      },
      "source": [
        "df_dup['Type 1'].value_counts().index[0:3] #第一种属性前三多数量对应的种类"
      ],
      "execution_count": 170,
      "outputs": [
        {
          "output_type": "execute_result",
          "data": {
            "text/plain": [
              "Index(['Water', 'Normal', 'Grass'], dtype='object')"
            ]
          },
          "metadata": {
            "tags": []
          },
          "execution_count": 170
        }
      ]
    },
    {
      "cell_type": "code",
      "metadata": {
        "colab": {
          "base_uri": "https://localhost:8080/"
        },
        "id": "Mwru14ltX_xo",
        "outputId": "3945406e-a43e-4719-c9b9-28d244e79525"
      },
      "source": [
        "df_dupp = df_dup.drop_duplicates(['Type 1','Type 2']) # 对第一、第二属性有重复的进行去重\r\n",
        "df_dupp.shape[0] #利用 .shape 可以获取序列的长度,即可求出第一属性和第二属性的组合种类"
      ],
      "execution_count": 191,
      "outputs": [
        {
          "output_type": "execute_result",
          "data": {
            "text/plain": [
              "143"
            ]
          },
          "metadata": {
            "tags": []
          },
          "execution_count": 191
        }
      ]
    },
    {
      "cell_type": "code",
      "metadata": {
        "id": "EhhuRJuAbd7D"
      },
      "source": [
        "#求尚未出现过的属性组合"
      ],
      "execution_count": null,
      "outputs": []
    },
    {
      "cell_type": "code",
      "metadata": {
        "colab": {
          "base_uri": "https://localhost:8080/"
        },
        "id": "dBSx8QIkb_J8",
        "outputId": "20908363-1617-481d-8ae1-00a18377ccc1"
      },
      "source": [
        " #Q3:(1)取出物攻，超过120的替换为 high ，不足50的替换为 low ，否则设为 mid\r\n",
        " df['Attack'].mask(df['Attack']>120, 'high').mask(df['Attack']<50, 'low').mask((50<=df['Attack'])&(df['Attack']<=120), 'mid')"
      ],
      "execution_count": 195,
      "outputs": [
        {
          "output_type": "execute_result",
          "data": {
            "text/plain": [
              "0       low\n",
              "1       mid\n",
              "2       mid\n",
              "3       mid\n",
              "4       mid\n",
              "       ... \n",
              "795     mid\n",
              "796    high\n",
              "797     mid\n",
              "798    high\n",
              "799     mid\n",
              "Name: Attack, Length: 800, dtype: object"
            ]
          },
          "metadata": {
            "tags": []
          },
          "execution_count": 195
        }
      ]
    },
    {
      "cell_type": "code",
      "metadata": {
        "colab": {
          "base_uri": "https://localhost:8080/"
        },
        "id": "yPRUrO4dd5x-",
        "outputId": "ba4d8e16-7e71-463d-de62-77fead96809a"
      },
      "source": [
        "#Q3:(2)取出第一属性，分别用 replace 和 apply 替换所有字母为大写\r\n",
        "df['Type 1'].str.upper()"
      ],
      "execution_count": 202,
      "outputs": [
        {
          "output_type": "execute_result",
          "data": {
            "text/plain": [
              "0        GRASS\n",
              "1        GRASS\n",
              "2        GRASS\n",
              "3        GRASS\n",
              "4         FIRE\n",
              "        ...   \n",
              "795       ROCK\n",
              "796       ROCK\n",
              "797    PSYCHIC\n",
              "798    PSYCHIC\n",
              "799       FIRE\n",
              "Name: Type 1, Length: 800, dtype: object"
            ]
          },
          "metadata": {
            "tags": []
          },
          "execution_count": 202
        }
      ]
    },
    {
      "cell_type": "code",
      "metadata": {
        "id": "G7Dd0G9WfybD"
      },
      "source": [
        "df['Type 1'].replace({i:str.upper(i) for i in df['Type 1'].unique()}).head()"
      ],
      "execution_count": null,
      "outputs": []
    },
    {
      "cell_type": "code",
      "metadata": {
        "id": "aawljjcbgdLB"
      },
      "source": [
        "df['Type 1'].apply(lambda x:str.upper(x)).head()"
      ],
      "execution_count": null,
      "outputs": []
    },
    {
      "cell_type": "code",
      "metadata": {
        "colab": {
          "base_uri": "https://localhost:8080/",
          "height": 502
        },
        "id": "K6e1kttGgk4n",
        "outputId": "6319e7a9-a3dc-4fff-b50f-4a7a3003bd63"
      },
      "source": [
        "#Q3:(3)求每个妖怪六项能力的离差，即所有能力中偏离中位数最大的值，添加到 df 并从大到小排序\r\n",
        "df_demo = df[['HP','Attack','Defense','Sp. Atk','Sp. Def','Speed']]\r\n",
        "df_demo['dev'] = df_demo.apply(lambda x:np.max((x-x.median()).abs()), axis=1)#创建一个新的列\r\n",
        "df_demo.sort_values('dev',ascending=[False])#降序排序"
      ],
      "execution_count": 219,
      "outputs": [
        {
          "output_type": "stream",
          "text": [
            "/usr/local/lib/python3.6/dist-packages/ipykernel_launcher.py:3: SettingWithCopyWarning: \n",
            "A value is trying to be set on a copy of a slice from a DataFrame.\n",
            "Try using .loc[row_indexer,col_indexer] = value instead\n",
            "\n",
            "See the caveats in the documentation: https://pandas.pydata.org/pandas-docs/stable/user_guide/indexing.html#returning-a-view-versus-a-copy\n",
            "  This is separate from the ipykernel package so we can avoid doing imports until\n"
          ],
          "name": "stderr"
        },
        {
          "output_type": "execute_result",
          "data": {
            "text/html": [
              "<div>\n",
              "<style scoped>\n",
              "    .dataframe tbody tr th:only-of-type {\n",
              "        vertical-align: middle;\n",
              "    }\n",
              "\n",
              "    .dataframe tbody tr th {\n",
              "        vertical-align: top;\n",
              "    }\n",
              "\n",
              "    .dataframe thead th {\n",
              "        text-align: right;\n",
              "    }\n",
              "</style>\n",
              "<table border=\"1\" class=\"dataframe\">\n",
              "  <thead>\n",
              "    <tr style=\"text-align: right;\">\n",
              "      <th></th>\n",
              "      <th>HP</th>\n",
              "      <th>Attack</th>\n",
              "      <th>Defense</th>\n",
              "      <th>Sp. Atk</th>\n",
              "      <th>Sp. Def</th>\n",
              "      <th>Speed</th>\n",
              "      <th>dev</th>\n",
              "    </tr>\n",
              "  </thead>\n",
              "  <tbody>\n",
              "    <tr>\n",
              "      <th>230</th>\n",
              "      <td>20</td>\n",
              "      <td>10</td>\n",
              "      <td>230</td>\n",
              "      <td>10</td>\n",
              "      <td>230</td>\n",
              "      <td>5</td>\n",
              "      <td>215.0</td>\n",
              "    </tr>\n",
              "    <tr>\n",
              "      <th>121</th>\n",
              "      <td>250</td>\n",
              "      <td>5</td>\n",
              "      <td>5</td>\n",
              "      <td>35</td>\n",
              "      <td>105</td>\n",
              "      <td>50</td>\n",
              "      <td>207.5</td>\n",
              "    </tr>\n",
              "    <tr>\n",
              "      <th>261</th>\n",
              "      <td>255</td>\n",
              "      <td>10</td>\n",
              "      <td>10</td>\n",
              "      <td>75</td>\n",
              "      <td>135</td>\n",
              "      <td>55</td>\n",
              "      <td>190.0</td>\n",
              "    </tr>\n",
              "    <tr>\n",
              "      <th>333</th>\n",
              "      <td>70</td>\n",
              "      <td>140</td>\n",
              "      <td>230</td>\n",
              "      <td>60</td>\n",
              "      <td>80</td>\n",
              "      <td>50</td>\n",
              "      <td>155.0</td>\n",
              "    </tr>\n",
              "    <tr>\n",
              "      <th>224</th>\n",
              "      <td>75</td>\n",
              "      <td>125</td>\n",
              "      <td>230</td>\n",
              "      <td>55</td>\n",
              "      <td>95</td>\n",
              "      <td>30</td>\n",
              "      <td>145.0</td>\n",
              "    </tr>\n",
              "    <tr>\n",
              "      <th>...</th>\n",
              "      <td>...</td>\n",
              "      <td>...</td>\n",
              "      <td>...</td>\n",
              "      <td>...</td>\n",
              "      <td>...</td>\n",
              "      <td>...</td>\n",
              "      <td>...</td>\n",
              "    </tr>\n",
              "    <tr>\n",
              "      <th>143</th>\n",
              "      <td>48</td>\n",
              "      <td>48</td>\n",
              "      <td>48</td>\n",
              "      <td>48</td>\n",
              "      <td>48</td>\n",
              "      <td>48</td>\n",
              "      <td>0.0</td>\n",
              "    </tr>\n",
              "    <tr>\n",
              "      <th>165</th>\n",
              "      <td>100</td>\n",
              "      <td>100</td>\n",
              "      <td>100</td>\n",
              "      <td>100</td>\n",
              "      <td>100</td>\n",
              "      <td>100</td>\n",
              "      <td>0.0</td>\n",
              "    </tr>\n",
              "    <tr>\n",
              "      <th>255</th>\n",
              "      <td>35</td>\n",
              "      <td>35</td>\n",
              "      <td>35</td>\n",
              "      <td>35</td>\n",
              "      <td>35</td>\n",
              "      <td>35</td>\n",
              "      <td>0.0</td>\n",
              "    </tr>\n",
              "    <tr>\n",
              "      <th>206</th>\n",
              "      <td>30</td>\n",
              "      <td>30</td>\n",
              "      <td>30</td>\n",
              "      <td>30</td>\n",
              "      <td>30</td>\n",
              "      <td>30</td>\n",
              "      <td>0.0</td>\n",
              "    </tr>\n",
              "    <tr>\n",
              "      <th>271</th>\n",
              "      <td>100</td>\n",
              "      <td>100</td>\n",
              "      <td>100</td>\n",
              "      <td>100</td>\n",
              "      <td>100</td>\n",
              "      <td>100</td>\n",
              "      <td>0.0</td>\n",
              "    </tr>\n",
              "  </tbody>\n",
              "</table>\n",
              "<p>800 rows × 7 columns</p>\n",
              "</div>"
            ],
            "text/plain": [
              "      HP  Attack  Defense  Sp. Atk  Sp. Def  Speed    dev\n",
              "230   20      10      230       10      230      5  215.0\n",
              "121  250       5        5       35      105     50  207.5\n",
              "261  255      10       10       75      135     55  190.0\n",
              "333   70     140      230       60       80     50  155.0\n",
              "224   75     125      230       55       95     30  145.0\n",
              "..   ...     ...      ...      ...      ...    ...    ...\n",
              "143   48      48       48       48       48     48    0.0\n",
              "165  100     100      100      100      100    100    0.0\n",
              "255   35      35       35       35       35     35    0.0\n",
              "206   30      30       30       30       30     30    0.0\n",
              "271  100     100      100      100      100    100    0.0\n",
              "\n",
              "[800 rows x 7 columns]"
            ]
          },
          "metadata": {
            "tags": []
          },
          "execution_count": 219
        }
      ]
    },
    {
      "cell_type": "code",
      "metadata": {
        "id": "clkDaQMjju2M"
      },
      "source": [
        ""
      ],
      "execution_count": null,
      "outputs": []
    }
  ]
}