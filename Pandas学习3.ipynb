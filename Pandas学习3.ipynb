{
  "nbformat": 4,
  "nbformat_minor": 0,
  "metadata": {
    "colab": {
      "name": "Pandas学习3.ipynb",
      "provenance": [],
      "collapsed_sections": []
    },
    "kernelspec": {
      "name": "python3",
      "display_name": "Python 3"
    }
  },
  "cells": [
    {
      "cell_type": "markdown",
      "metadata": {
        "id": "Tyl5rnvhTrOR"
      },
      "source": [
        "# 第三章 索引\r\n"
      ]
    },
    {
      "cell_type": "code",
      "metadata": {
        "colab": {
          "base_uri": "https://localhost:8080/"
        },
        "id": "NtAwQG9hT_XG",
        "outputId": "35d5d221-5c73-43b6-8a30-8e8c09e5523f"
      },
      "source": [
        "import numpy as np\r\n",
        "import pandas as pd\r\n",
        "%cd drive/MyDrive/\r\n",
        "!ls"
      ],
      "execution_count": 17,
      "outputs": [
        {
          "output_type": "stream",
          "text": [
            "[Errno 2] No such file or directory: 'drive/MyDrive/'\n",
            "/content/drive/MyDrive\n",
            "'Colab Notebooks'   data\n"
          ],
          "name": "stdout"
        }
      ]
    },
    {
      "cell_type": "markdown",
      "metadata": {
        "id": "6c3snyNjT2iv"
      },
      "source": [
        "## 一、索引器"
      ]
    },
    {
      "cell_type": "markdown",
      "metadata": {
        "id": "G4-QUwfgUM4I"
      },
      "source": [
        "### 1.表的列索引"
      ]
    },
    {
      "cell_type": "markdown",
      "metadata": {
        "id": "pHJ7UfSthoPK"
      },
      "source": [
        "一般通过 [ ] 实现，返回值是Series"
      ]
    },
    {
      "cell_type": "code",
      "metadata": {
        "colab": {
          "base_uri": "https://localhost:8080/"
        },
        "id": "_5qhk9xChz29",
        "outputId": "efd00628-1c39-4e30-e125-4c3c065f0a8d"
      },
      "source": [
        "df = pd.read_csv('data/learn_pandas.csv',usecols = ['School', 'Grade', 'Name', 'Gender','Weight', 'Transfer'])\r\n",
        "df['Name'].head()"
      ],
      "execution_count": null,
      "outputs": [
        {
          "output_type": "execute_result",
          "data": {
            "text/plain": [
              "0      Gaopeng Yang\n",
              "1    Changqiang You\n",
              "2           Mei Sun\n",
              "3      Xiaojuan Sun\n",
              "4       Gaojuan You\n",
              "Name: Name, dtype: object"
            ]
          },
          "metadata": {
            "tags": []
          },
          "execution_count": 14
        }
      ]
    },
    {
      "cell_type": "markdown",
      "metadata": {
        "id": "jYxbeKkmnZRs"
      },
      "source": [
        "取多个列，用[列名组成的列表]，返回值是个DataFrame"
      ]
    },
    {
      "cell_type": "code",
      "metadata": {
        "id": "K5WUBVE3oCda",
        "colab": {
          "base_uri": "https://localhost:8080/",
          "height": 202
        },
        "outputId": "599ee304-6ce8-4584-b441-e3660aa3a567"
      },
      "source": [
        "df[['Gender', 'Name']].head()"
      ],
      "execution_count": 18,
      "outputs": [
        {
          "output_type": "execute_result",
          "data": {
            "text/html": [
              "<div>\n",
              "<style scoped>\n",
              "    .dataframe tbody tr th:only-of-type {\n",
              "        vertical-align: middle;\n",
              "    }\n",
              "\n",
              "    .dataframe tbody tr th {\n",
              "        vertical-align: top;\n",
              "    }\n",
              "\n",
              "    .dataframe thead th {\n",
              "        text-align: right;\n",
              "    }\n",
              "</style>\n",
              "<table border=\"1\" class=\"dataframe\">\n",
              "  <thead>\n",
              "    <tr style=\"text-align: right;\">\n",
              "      <th></th>\n",
              "      <th>Gender</th>\n",
              "      <th>Name</th>\n",
              "    </tr>\n",
              "  </thead>\n",
              "  <tbody>\n",
              "    <tr>\n",
              "      <th>0</th>\n",
              "      <td>Female</td>\n",
              "      <td>Gaopeng Yang</td>\n",
              "    </tr>\n",
              "    <tr>\n",
              "      <th>1</th>\n",
              "      <td>Male</td>\n",
              "      <td>Changqiang You</td>\n",
              "    </tr>\n",
              "    <tr>\n",
              "      <th>2</th>\n",
              "      <td>Male</td>\n",
              "      <td>Mei Sun</td>\n",
              "    </tr>\n",
              "    <tr>\n",
              "      <th>3</th>\n",
              "      <td>Female</td>\n",
              "      <td>Xiaojuan Sun</td>\n",
              "    </tr>\n",
              "    <tr>\n",
              "      <th>4</th>\n",
              "      <td>Male</td>\n",
              "      <td>Gaojuan You</td>\n",
              "    </tr>\n",
              "  </tbody>\n",
              "</table>\n",
              "</div>"
            ],
            "text/plain": [
              "   Gender            Name\n",
              "0  Female    Gaopeng Yang\n",
              "1    Male  Changqiang You\n",
              "2    Male         Mei Sun\n",
              "3  Female    Xiaojuan Sun\n",
              "4    Male     Gaojuan You"
            ]
          },
          "metadata": {
            "tags": []
          },
          "execution_count": 18
        }
      ]
    },
    {
      "cell_type": "markdown",
      "metadata": {
        "id": "TPDIKb4Hnnou"
      },
      "source": [
        "取单列且列名中不包含空格，则可以用 .列名 取出，等价于[列名]"
      ]
    },
    {
      "cell_type": "code",
      "metadata": {
        "id": "NXiOLbkqnl0z",
        "colab": {
          "base_uri": "https://localhost:8080/"
        },
        "outputId": "288b36be-9909-493f-f94b-1f8c1fa75cf2"
      },
      "source": [
        "df.Name.head()\r\n",
        "#等价于 df['Name'].head()"
      ],
      "execution_count": 19,
      "outputs": [
        {
          "output_type": "execute_result",
          "data": {
            "text/plain": [
              "0      Gaopeng Yang\n",
              "1    Changqiang You\n",
              "2           Mei Sun\n",
              "3      Xiaojuan Sun\n",
              "4       Gaojuan You\n",
              "Name: Name, dtype: object"
            ]
          },
          "metadata": {
            "tags": []
          },
          "execution_count": 19
        }
      ]
    },
    {
      "cell_type": "markdown",
      "metadata": {
        "id": "iQP37e0moFxh"
      },
      "source": [
        "### 2.序列的行索引"
      ]
    },
    {
      "cell_type": "markdown",
      "metadata": {
        "id": "0inTPgIfoJMa"
      },
      "source": [
        "（1）以字符串为索引的 Series"
      ]
    },
    {
      "cell_type": "markdown",
      "metadata": {
        "id": "UtbXVWQNoNbd"
      },
      "source": [
        "取出单个索引的对应元素，用 [item] ，若 Series 只有单个值对应，则返回这个标量值，如果有多个值对应，则返回一个 Series。\r\n",
        "\r\n",
        "对应的，取多个索引的对应元素就用[items的列表]"
      ]
    },
    {
      "cell_type": "markdown",
      "metadata": {
        "id": "3rw10_pSpG6s"
      },
      "source": [
        "取出某两个索引之间的元素，且这两个索引是唯一出现，则可以使用切片。注意：这里的切片会包含两个端点，如果前后端点的值存在重复，即非唯一值，那么需要经过排序才能使用切片。"
      ]
    },
    {
      "cell_type": "code",
      "metadata": {
        "id": "wEhxs9_TpsAG",
        "colab": {
          "base_uri": "https://localhost:8080/"
        },
        "outputId": "6fd8e963-9d17-40fa-9d65-7c5f8480f60d"
      },
      "source": [
        "s = pd.Series(['a', 'b', 'c', 'd', 'e', 'f'],index=[1, 3, 1, 2, 5, 4])\r\n",
        "try:\r\n",
        "   s['a': 'b']\r\n",
        "except Exception as e:\r\n",
        "   Err_Msg = e\r\n",
        "Err_Msg\r\n",
        "s.sort_index()"
      ],
      "execution_count": 22,
      "outputs": [
        {
          "output_type": "execute_result",
          "data": {
            "text/plain": [
              "1    a\n",
              "1    c\n",
              "2    d\n",
              "3    b\n",
              "4    f\n",
              "5    e\n",
              "dtype: object"
            ]
          },
          "metadata": {
            "tags": []
          },
          "execution_count": 22
        }
      ]
    },
    {
      "cell_type": "markdown",
      "metadata": {
        "id": "c-B3LOXKp5dZ"
      },
      "source": [
        "（2）以整数为索引的Series"
      ]
    },
    {
      "cell_type": "markdown",
      "metadata": {
        "id": "pnWoymnrp_Yw"
      },
      "source": [
        "读入函数时，如果不特别指定，则会生成从0开始的整数索引作为默认索引。任意一组符合长度要求的整数都可以作为索引。\r\n",
        "\r\n",
        "和字符串一样，如果使用 [int] 或 [int_list] ，则可以取出对应索引元素的值"
      ]
    },
    {
      "cell_type": "code",
      "metadata": {
        "id": "MN8vOYnSqceq",
        "colab": {
          "base_uri": "https://localhost:8080/"
        },
        "outputId": "1728eda3-9df6-49f8-b5b5-ee189c43f30f"
      },
      "source": [
        "s = pd.Series(['a', 'b', 'c', 'd', 'e', 'f'],\r\n",
        "   index=[1, 3, 1, 2, 5, 4])\r\n",
        "s[1]\r\n",
        "s[[2,3]]"
      ],
      "execution_count": 23,
      "outputs": [
        {
          "output_type": "execute_result",
          "data": {
            "text/plain": [
              "2    d\n",
              "3    b\n",
              "dtype: object"
            ]
          },
          "metadata": {
            "tags": []
          },
          "execution_count": 23
        }
      ]
    },
    {
      "cell_type": "markdown",
      "metadata": {
        "id": "iZRv3tWeqwW9"
      },
      "source": [
        "如果使用整数切片，则会取出对应索引位置的值\r\n",
        "\r\n",
        "**注意这里的整数切片同 Python 中的切片一样不包含右端点**"
      ]
    },
    {
      "cell_type": "code",
      "metadata": {
        "id": "Nv12aTIJq7Ja",
        "colab": {
          "base_uri": "https://localhost:8080/"
        },
        "outputId": "6e921a25-2b5d-4f6a-d0c8-831418d6357d"
      },
      "source": [
        "s[1:-1:2]"
      ],
      "execution_count": 24,
      "outputs": [
        {
          "output_type": "execute_result",
          "data": {
            "text/plain": [
              "3    b\n",
              "2    d\n",
              "dtype: object"
            ]
          },
          "metadata": {
            "tags": []
          },
          "execution_count": 24
        }
      ]
    },
    {
      "cell_type": "markdown",
      "metadata": {
        "id": "AOC-85yIq_LZ"
      },
      "source": [
        "注意！！\r\n",
        "\r\n",
        "不要把纯浮点以及任何混合类型（字符串、整数、浮点类型等的混合）作为索引，否则可能会在具体的操作时报错或者返回非预期的结果，实际也无该操作需求。"
      ]
    },
    {
      "cell_type": "markdown",
      "metadata": {
        "id": "tfuYK4oFrMSW"
      },
      "source": [
        "### 3.loc 索引器\r\n",
        "对于表而言，有两种索引器，一种是基于 元素 的 loc 索引器，另一种是基于 位置 的 iloc 索引器"
      ]
    },
    {
      "cell_type": "markdown",
      "metadata": {
        "id": "4XON-bvfrWL2"
      },
      "source": [
        "loc 索引器的一般形式是 loc[*, *] ，其中第一个 * 代表行的选择，第二个 * 代表列的选择，\r\n",
        "\r\n",
        "如果省略第二个位置写作 loc[*] ，这个 * 是指行的筛选。\r\n",
        "\r\n",
        "其中， * 的位置一共有五类合法对象，分别是：单个元素、元素列表、元素切片、布尔列表以及函数"
      ]
    },
    {
      "cell_type": "markdown",
      "metadata": {
        "id": "MkgjPbpwrRif"
      },
      "source": [
        "（1）* 为单个元素\r\n",
        "\r\n",
        "此时，直接取出相应的行或列，如果该元素在索引中重复则结果为 DataFrame，否则为 Series\r\n",
        "\r\n",
        "也可同时选择行和列"
      ]
    },
    {
      "cell_type": "code",
      "metadata": {
        "id": "NwXYQh_ksSbK",
        "colab": {
          "base_uri": "https://localhost:8080/",
          "height": 35
        },
        "outputId": "70e0e72a-c04a-42a8-f718-f5e2d8172997"
      },
      "source": [
        "df_demo = df.set_index('Name')\r\n",
        "df_demo.loc['Qiang Sun'] # 多个人叫此名字\r\n",
        "df_demo.loc['Quan Zhao'] # 名字唯一\r\n",
        "df_demo.loc['Qiang Sun', 'School'] # 返回Series\r\n",
        "df_demo.loc['Quan Zhao', 'School'] # 返回单个元素"
      ],
      "execution_count": 26,
      "outputs": [
        {
          "output_type": "execute_result",
          "data": {
            "application/vnd.google.colaboratory.intrinsic+json": {
              "type": "string"
            },
            "text/plain": [
              "'Shanghai Jiao Tong University'"
            ]
          },
          "metadata": {
            "tags": []
          },
          "execution_count": 26
        }
      ]
    },
    {
      "cell_type": "markdown",
      "metadata": {
        "id": "UetAkfJkrh7W"
      },
      "source": [
        "（2）*为元素列表\r\n",
        "\r\n",
        "此时，取出列表中所有元素值对应的行或列"
      ]
    },
    {
      "cell_type": "code",
      "metadata": {
        "id": "mUu5kU-xsPPv",
        "colab": {
          "base_uri": "https://localhost:8080/",
          "height": 202
        },
        "outputId": "8831e993-7a69-453e-be1d-a2aea775902e"
      },
      "source": [
        "df_demo.loc[['Qiang Sun','Quan Zhao'], ['School','Gender']]"
      ],
      "execution_count": 27,
      "outputs": [
        {
          "output_type": "execute_result",
          "data": {
            "text/html": [
              "<div>\n",
              "<style scoped>\n",
              "    .dataframe tbody tr th:only-of-type {\n",
              "        vertical-align: middle;\n",
              "    }\n",
              "\n",
              "    .dataframe tbody tr th {\n",
              "        vertical-align: top;\n",
              "    }\n",
              "\n",
              "    .dataframe thead th {\n",
              "        text-align: right;\n",
              "    }\n",
              "</style>\n",
              "<table border=\"1\" class=\"dataframe\">\n",
              "  <thead>\n",
              "    <tr style=\"text-align: right;\">\n",
              "      <th></th>\n",
              "      <th>School</th>\n",
              "      <th>Gender</th>\n",
              "    </tr>\n",
              "    <tr>\n",
              "      <th>Name</th>\n",
              "      <th></th>\n",
              "      <th></th>\n",
              "    </tr>\n",
              "  </thead>\n",
              "  <tbody>\n",
              "    <tr>\n",
              "      <th>Qiang Sun</th>\n",
              "      <td>Tsinghua University</td>\n",
              "      <td>Female</td>\n",
              "    </tr>\n",
              "    <tr>\n",
              "      <th>Qiang Sun</th>\n",
              "      <td>Tsinghua University</td>\n",
              "      <td>Female</td>\n",
              "    </tr>\n",
              "    <tr>\n",
              "      <th>Qiang Sun</th>\n",
              "      <td>Shanghai Jiao Tong University</td>\n",
              "      <td>Female</td>\n",
              "    </tr>\n",
              "    <tr>\n",
              "      <th>Quan Zhao</th>\n",
              "      <td>Shanghai Jiao Tong University</td>\n",
              "      <td>Female</td>\n",
              "    </tr>\n",
              "  </tbody>\n",
              "</table>\n",
              "</div>"
            ],
            "text/plain": [
              "                                  School  Gender\n",
              "Name                                            \n",
              "Qiang Sun            Tsinghua University  Female\n",
              "Qiang Sun            Tsinghua University  Female\n",
              "Qiang Sun  Shanghai Jiao Tong University  Female\n",
              "Quan Zhao  Shanghai Jiao Tong University  Female"
            ]
          },
          "metadata": {
            "tags": []
          },
          "execution_count": 27
        }
      ]
    },
    {
      "cell_type": "markdown",
      "metadata": {
        "id": "ZdBOT6yOscEv"
      },
      "source": [
        "（3）*为切片\r\n",
        "\r\n",
        "如果是唯一值的起点和终点字符，那么就可以使用切片，并且包含两个端点，如果不唯一则报错"
      ]
    },
    {
      "cell_type": "code",
      "metadata": {
        "id": "5by6aJMpsfhz",
        "colab": {
          "base_uri": "https://localhost:8080/",
          "height": 202
        },
        "outputId": "6c513df1-b089-48e7-abdf-7259a82a98a9"
      },
      "source": [
        " df_demo.loc['Gaojuan You':'Gaoqiang Qian', 'School':'Gender']"
      ],
      "execution_count": 28,
      "outputs": [
        {
          "output_type": "execute_result",
          "data": {
            "text/html": [
              "<div>\n",
              "<style scoped>\n",
              "    .dataframe tbody tr th:only-of-type {\n",
              "        vertical-align: middle;\n",
              "    }\n",
              "\n",
              "    .dataframe tbody tr th {\n",
              "        vertical-align: top;\n",
              "    }\n",
              "\n",
              "    .dataframe thead th {\n",
              "        text-align: right;\n",
              "    }\n",
              "</style>\n",
              "<table border=\"1\" class=\"dataframe\">\n",
              "  <thead>\n",
              "    <tr style=\"text-align: right;\">\n",
              "      <th></th>\n",
              "      <th>School</th>\n",
              "      <th>Grade</th>\n",
              "      <th>Gender</th>\n",
              "    </tr>\n",
              "    <tr>\n",
              "      <th>Name</th>\n",
              "      <th></th>\n",
              "      <th></th>\n",
              "      <th></th>\n",
              "    </tr>\n",
              "  </thead>\n",
              "  <tbody>\n",
              "    <tr>\n",
              "      <th>Gaojuan You</th>\n",
              "      <td>Fudan University</td>\n",
              "      <td>Sophomore</td>\n",
              "      <td>Male</td>\n",
              "    </tr>\n",
              "    <tr>\n",
              "      <th>Xiaoli Qian</th>\n",
              "      <td>Tsinghua University</td>\n",
              "      <td>Freshman</td>\n",
              "      <td>Female</td>\n",
              "    </tr>\n",
              "    <tr>\n",
              "      <th>Qiang Chu</th>\n",
              "      <td>Shanghai Jiao Tong University</td>\n",
              "      <td>Freshman</td>\n",
              "      <td>Female</td>\n",
              "    </tr>\n",
              "    <tr>\n",
              "      <th>Gaoqiang Qian</th>\n",
              "      <td>Tsinghua University</td>\n",
              "      <td>Junior</td>\n",
              "      <td>Female</td>\n",
              "    </tr>\n",
              "  </tbody>\n",
              "</table>\n",
              "</div>"
            ],
            "text/plain": [
              "                                      School      Grade  Gender\n",
              "Name                                                           \n",
              "Gaojuan You                 Fudan University  Sophomore    Male\n",
              "Xiaoli Qian              Tsinghua University   Freshman  Female\n",
              "Qiang Chu      Shanghai Jiao Tong University   Freshman  Female\n",
              "Gaoqiang Qian            Tsinghua University     Junior  Female"
            ]
          },
          "metadata": {
            "tags": []
          },
          "execution_count": 28
        }
      ]
    },
    {
      "cell_type": "markdown",
      "metadata": {
        "id": "iCekHR5Zsq6j"
      },
      "source": [
        "注意！！如果 DataFrame 使用整数索引，其使用整数切片的时候和上面字符串索引的要求一致，都是 元素切片，包含端点且起点、终点不允许有重复值。"
      ]
    },
    {
      "cell_type": "code",
      "metadata": {
        "id": "tQ-_Warws0Of",
        "colab": {
          "base_uri": "https://localhost:8080/",
          "height": 49
        },
        "outputId": "72debd8e-a43d-41f0-c7f4-f4c29254f269"
      },
      "source": [
        "df_loc_slice_demo = df_demo.copy()\r\n",
        "df_loc_slice_demo.index = range(df_demo.shape[0],0,-1)\r\n",
        "df_loc_slice_demo.loc[5:3]\r\n",
        "df_loc_slice_demo.loc[3:5] # 没有返回，说明不是整数位置切片"
      ],
      "execution_count": 29,
      "outputs": [
        {
          "output_type": "execute_result",
          "data": {
            "text/html": [
              "<div>\n",
              "<style scoped>\n",
              "    .dataframe tbody tr th:only-of-type {\n",
              "        vertical-align: middle;\n",
              "    }\n",
              "\n",
              "    .dataframe tbody tr th {\n",
              "        vertical-align: top;\n",
              "    }\n",
              "\n",
              "    .dataframe thead th {\n",
              "        text-align: right;\n",
              "    }\n",
              "</style>\n",
              "<table border=\"1\" class=\"dataframe\">\n",
              "  <thead>\n",
              "    <tr style=\"text-align: right;\">\n",
              "      <th></th>\n",
              "      <th>School</th>\n",
              "      <th>Grade</th>\n",
              "      <th>Gender</th>\n",
              "      <th>Weight</th>\n",
              "      <th>Transfer</th>\n",
              "    </tr>\n",
              "  </thead>\n",
              "  <tbody>\n",
              "  </tbody>\n",
              "</table>\n",
              "</div>"
            ],
            "text/plain": [
              "Empty DataFrame\n",
              "Columns: [School, Grade, Gender, Weight, Transfer]\n",
              "Index: []"
            ]
          },
          "metadata": {
            "tags": []
          },
          "execution_count": 29
        }
      ]
    },
    {
      "cell_type": "markdown",
      "metadata": {
        "id": "O-_Y7q0ltBue"
      },
      "source": [
        "（4）*为布尔列表\r\n",
        "\r\n",
        "传入 loc 的布尔列表与 DataFrame 长度相同，且列表为 True 的位置所对应的行会被选中， False 则会被剔除。"
      ]
    },
    {
      "cell_type": "code",
      "metadata": {
        "id": "lYELA6sEtMBJ",
        "colab": {
          "base_uri": "https://localhost:8080/",
          "height": 233
        },
        "outputId": "45d84239-c9fa-4e65-bc24-632fe639d553"
      },
      "source": [
        "df_demo.loc[df_demo.Weight>70].head()\r\n",
        "# 也可以通过 isin 方法返回的布尔列表等价写出\r\n",
        "# df_demo.loc[df_demo.Grade.isin(['Freshman', 'Senior'])].head()"
      ],
      "execution_count": 30,
      "outputs": [
        {
          "output_type": "execute_result",
          "data": {
            "text/html": [
              "<div>\n",
              "<style scoped>\n",
              "    .dataframe tbody tr th:only-of-type {\n",
              "        vertical-align: middle;\n",
              "    }\n",
              "\n",
              "    .dataframe tbody tr th {\n",
              "        vertical-align: top;\n",
              "    }\n",
              "\n",
              "    .dataframe thead th {\n",
              "        text-align: right;\n",
              "    }\n",
              "</style>\n",
              "<table border=\"1\" class=\"dataframe\">\n",
              "  <thead>\n",
              "    <tr style=\"text-align: right;\">\n",
              "      <th></th>\n",
              "      <th>School</th>\n",
              "      <th>Grade</th>\n",
              "      <th>Gender</th>\n",
              "      <th>Weight</th>\n",
              "      <th>Transfer</th>\n",
              "    </tr>\n",
              "    <tr>\n",
              "      <th>Name</th>\n",
              "      <th></th>\n",
              "      <th></th>\n",
              "      <th></th>\n",
              "      <th></th>\n",
              "      <th></th>\n",
              "    </tr>\n",
              "  </thead>\n",
              "  <tbody>\n",
              "    <tr>\n",
              "      <th>Mei Sun</th>\n",
              "      <td>Shanghai Jiao Tong University</td>\n",
              "      <td>Senior</td>\n",
              "      <td>Male</td>\n",
              "      <td>89.0</td>\n",
              "      <td>N</td>\n",
              "    </tr>\n",
              "    <tr>\n",
              "      <th>Gaojuan You</th>\n",
              "      <td>Fudan University</td>\n",
              "      <td>Sophomore</td>\n",
              "      <td>Male</td>\n",
              "      <td>74.0</td>\n",
              "      <td>N</td>\n",
              "    </tr>\n",
              "    <tr>\n",
              "      <th>Xiaopeng Zhou</th>\n",
              "      <td>Shanghai Jiao Tong University</td>\n",
              "      <td>Freshman</td>\n",
              "      <td>Male</td>\n",
              "      <td>74.0</td>\n",
              "      <td>N</td>\n",
              "    </tr>\n",
              "    <tr>\n",
              "      <th>Xiaofeng Sun</th>\n",
              "      <td>Tsinghua University</td>\n",
              "      <td>Senior</td>\n",
              "      <td>Male</td>\n",
              "      <td>71.0</td>\n",
              "      <td>N</td>\n",
              "    </tr>\n",
              "    <tr>\n",
              "      <th>Qiang Zheng</th>\n",
              "      <td>Shanghai Jiao Tong University</td>\n",
              "      <td>Senior</td>\n",
              "      <td>Male</td>\n",
              "      <td>87.0</td>\n",
              "      <td>N</td>\n",
              "    </tr>\n",
              "  </tbody>\n",
              "</table>\n",
              "</div>"
            ],
            "text/plain": [
              "                                      School      Grade Gender  Weight Transfer\n",
              "Name                                                                           \n",
              "Mei Sun        Shanghai Jiao Tong University     Senior   Male    89.0        N\n",
              "Gaojuan You                 Fudan University  Sophomore   Male    74.0        N\n",
              "Xiaopeng Zhou  Shanghai Jiao Tong University   Freshman   Male    74.0        N\n",
              "Xiaofeng Sun             Tsinghua University     Senior   Male    71.0        N\n",
              "Qiang Zheng    Shanghai Jiao Tong University     Senior   Male    87.0        N"
            ]
          },
          "metadata": {
            "tags": []
          },
          "execution_count": 30
        }
      ]
    },
    {
      "cell_type": "markdown",
      "metadata": {
        "id": "ZCyvQglBtYiZ"
      },
      "source": [
        "对于复合条件而言，可以用 |（或）, &（且）, ~（取反） 的组合来实现"
      ]
    },
    {
      "cell_type": "code",
      "metadata": {
        "id": "Qd47YZSctb7-",
        "colab": {
          "base_uri": "https://localhost:8080/",
          "height": 202
        },
        "outputId": "bfeef7a2-7e09-4b4f-e29b-3f0a49e86241"
      },
      "source": [
        "# 选出复旦大学中体重超过70kg的大四学生，或者北大男生中体重超过80kg的非大四的学生\r\n",
        "condition_1_1 = df_demo.School == 'Fudan University'\r\n",
        "condition_1_2 = df_demo.Grade == 'Senior'\r\n",
        "condition_1_3 = df_demo.Weight > 70\r\n",
        "condition_1 = condition_1_1 & condition_1_2 & condition_1_3\r\n",
        "condition_2_1 = df_demo.School == 'Peking University'\r\n",
        "condition_2_2 = df_demo.Grade == 'Senior'\r\n",
        "condition_2_3 = df_demo.Weight > 80\r\n",
        "condition_2 = condition_2_1 & (~condition_2_2) & condition_2_3\r\n",
        "df_demo.loc[condition_1 | condition_2]"
      ],
      "execution_count": 31,
      "outputs": [
        {
          "output_type": "execute_result",
          "data": {
            "text/html": [
              "<div>\n",
              "<style scoped>\n",
              "    .dataframe tbody tr th:only-of-type {\n",
              "        vertical-align: middle;\n",
              "    }\n",
              "\n",
              "    .dataframe tbody tr th {\n",
              "        vertical-align: top;\n",
              "    }\n",
              "\n",
              "    .dataframe thead th {\n",
              "        text-align: right;\n",
              "    }\n",
              "</style>\n",
              "<table border=\"1\" class=\"dataframe\">\n",
              "  <thead>\n",
              "    <tr style=\"text-align: right;\">\n",
              "      <th></th>\n",
              "      <th>School</th>\n",
              "      <th>Grade</th>\n",
              "      <th>Gender</th>\n",
              "      <th>Weight</th>\n",
              "      <th>Transfer</th>\n",
              "    </tr>\n",
              "    <tr>\n",
              "      <th>Name</th>\n",
              "      <th></th>\n",
              "      <th></th>\n",
              "      <th></th>\n",
              "      <th></th>\n",
              "      <th></th>\n",
              "    </tr>\n",
              "  </thead>\n",
              "  <tbody>\n",
              "    <tr>\n",
              "      <th>Qiang Han</th>\n",
              "      <td>Peking University</td>\n",
              "      <td>Freshman</td>\n",
              "      <td>Male</td>\n",
              "      <td>87.0</td>\n",
              "      <td>N</td>\n",
              "    </tr>\n",
              "    <tr>\n",
              "      <th>Chengpeng Zhou</th>\n",
              "      <td>Fudan University</td>\n",
              "      <td>Senior</td>\n",
              "      <td>Male</td>\n",
              "      <td>81.0</td>\n",
              "      <td>N</td>\n",
              "    </tr>\n",
              "    <tr>\n",
              "      <th>Changpeng Zhao</th>\n",
              "      <td>Peking University</td>\n",
              "      <td>Freshman</td>\n",
              "      <td>Male</td>\n",
              "      <td>83.0</td>\n",
              "      <td>N</td>\n",
              "    </tr>\n",
              "    <tr>\n",
              "      <th>Chengpeng Qian</th>\n",
              "      <td>Fudan University</td>\n",
              "      <td>Senior</td>\n",
              "      <td>Male</td>\n",
              "      <td>73.0</td>\n",
              "      <td>Y</td>\n",
              "    </tr>\n",
              "  </tbody>\n",
              "</table>\n",
              "</div>"
            ],
            "text/plain": [
              "                           School     Grade Gender  Weight Transfer\n",
              "Name                                                               \n",
              "Qiang Han       Peking University  Freshman   Male    87.0        N\n",
              "Chengpeng Zhou   Fudan University    Senior   Male    81.0        N\n",
              "Changpeng Zhao  Peking University  Freshman   Male    83.0        N\n",
              "Chengpeng Qian   Fudan University    Senior   Male    73.0        Y"
            ]
          },
          "metadata": {
            "tags": []
          },
          "execution_count": 31
        }
      ]
    },
    {
      "cell_type": "markdown",
      "metadata": {
        "id": "mK4_3tgBtub8"
      },
      "source": [
        "（5）*为函数\r\n",
        "\r\n",
        "这里的函数，必须以前面的四种合法形式之一为返回值，并且函数的输入值为 DataFrame 本身\r\n",
        "\r\n",
        "可以把逻辑写入一个函数中再返回，需要注意的是函数的形式参数 x 本质上即为 df_demo"
      ]
    },
    {
      "cell_type": "code",
      "metadata": {
        "id": "JnP-qB_It6fM"
      },
      "source": [
        "def condition(x):\r\n",
        "   ondition_1_1 = x.School == 'Fudan University'\r\n",
        "   condition_1_2 = x.Grade == 'Senior'\r\n",
        "   condition_1_3 = x.Weight > 70\r\n",
        "   condition_1 = condition_1_1 & condition_1_2 & condition_1_3\r\n",
        "   condition_2_1 = x.School == 'Peking University'\r\n",
        "   condition_2_2 = x.Grade == 'Senior'\r\n",
        "   condition_2_3 = x.Weight > 80\r\n",
        "   condition_2 = condition_2_1 & (~condition_2_2) & condition_2_3\r\n",
        "   result = condition_1 | condition_2\r\n",
        "   return result\r\n",
        "df_demo.loc[condition]"
      ],
      "execution_count": null,
      "outputs": []
    },
    {
      "cell_type": "code",
      "metadata": {
        "id": "ZVPZpFBCuN7e",
        "colab": {
          "base_uri": "https://localhost:8080/",
          "height": 35
        },
        "outputId": "e0d703d1-18b3-47ac-f078-90ad4172b0d5"
      },
      "source": [
        "# 还支持使用 lambda 表达式，其返回值也同样必须是先前提到的四种形式之一\r\n",
        "df_demo.loc[lambda x:'Quan Zhao', lambda x:'Gender']"
      ],
      "execution_count": 33,
      "outputs": [
        {
          "output_type": "execute_result",
          "data": {
            "application/vnd.google.colaboratory.intrinsic+json": {
              "type": "string"
            },
            "text/plain": [
              "'Female'"
            ]
          },
          "metadata": {
            "tags": []
          },
          "execution_count": 33
        }
      ]
    },
    {
      "cell_type": "markdown",
      "metadata": {
        "id": "s3Wo0be2uWMC"
      },
      "source": [
        "函数无法返回如 start: end: step 的切片形式，故返回切片时要用 slice 对象进行包装"
      ]
    },
    {
      "cell_type": "code",
      "metadata": {
        "id": "ZfhOtW3zuYyt",
        "colab": {
          "base_uri": "https://localhost:8080/",
          "height": 202
        },
        "outputId": "997b8ab8-93ac-4431-9720-3bc1db0ea0a1"
      },
      "source": [
        " df_demo.loc[lambda x: slice('Gaojuan You', 'Gaoqiang Qian')]"
      ],
      "execution_count": 34,
      "outputs": [
        {
          "output_type": "execute_result",
          "data": {
            "text/html": [
              "<div>\n",
              "<style scoped>\n",
              "    .dataframe tbody tr th:only-of-type {\n",
              "        vertical-align: middle;\n",
              "    }\n",
              "\n",
              "    .dataframe tbody tr th {\n",
              "        vertical-align: top;\n",
              "    }\n",
              "\n",
              "    .dataframe thead th {\n",
              "        text-align: right;\n",
              "    }\n",
              "</style>\n",
              "<table border=\"1\" class=\"dataframe\">\n",
              "  <thead>\n",
              "    <tr style=\"text-align: right;\">\n",
              "      <th></th>\n",
              "      <th>School</th>\n",
              "      <th>Grade</th>\n",
              "      <th>Gender</th>\n",
              "      <th>Weight</th>\n",
              "      <th>Transfer</th>\n",
              "    </tr>\n",
              "    <tr>\n",
              "      <th>Name</th>\n",
              "      <th></th>\n",
              "      <th></th>\n",
              "      <th></th>\n",
              "      <th></th>\n",
              "      <th></th>\n",
              "    </tr>\n",
              "  </thead>\n",
              "  <tbody>\n",
              "    <tr>\n",
              "      <th>Gaojuan You</th>\n",
              "      <td>Fudan University</td>\n",
              "      <td>Sophomore</td>\n",
              "      <td>Male</td>\n",
              "      <td>74.0</td>\n",
              "      <td>N</td>\n",
              "    </tr>\n",
              "    <tr>\n",
              "      <th>Xiaoli Qian</th>\n",
              "      <td>Tsinghua University</td>\n",
              "      <td>Freshman</td>\n",
              "      <td>Female</td>\n",
              "      <td>51.0</td>\n",
              "      <td>N</td>\n",
              "    </tr>\n",
              "    <tr>\n",
              "      <th>Qiang Chu</th>\n",
              "      <td>Shanghai Jiao Tong University</td>\n",
              "      <td>Freshman</td>\n",
              "      <td>Female</td>\n",
              "      <td>52.0</td>\n",
              "      <td>N</td>\n",
              "    </tr>\n",
              "    <tr>\n",
              "      <th>Gaoqiang Qian</th>\n",
              "      <td>Tsinghua University</td>\n",
              "      <td>Junior</td>\n",
              "      <td>Female</td>\n",
              "      <td>50.0</td>\n",
              "      <td>N</td>\n",
              "    </tr>\n",
              "  </tbody>\n",
              "</table>\n",
              "</div>"
            ],
            "text/plain": [
              "                                      School      Grade  ... Weight  Transfer\n",
              "Name                                                     ...                 \n",
              "Gaojuan You                 Fudan University  Sophomore  ...   74.0         N\n",
              "Xiaoli Qian              Tsinghua University   Freshman  ...   51.0         N\n",
              "Qiang Chu      Shanghai Jiao Tong University   Freshman  ...   52.0         N\n",
              "Gaoqiang Qian            Tsinghua University     Junior  ...   50.0         N\n",
              "\n",
              "[4 rows x 5 columns]"
            ]
          },
          "metadata": {
            "tags": []
          },
          "execution_count": 34
        }
      ]
    },
    {
      "cell_type": "markdown",
      "metadata": {
        "id": "NlhszkVMuctV"
      },
      "source": [
        "！对于 Series 也可以使用 loc 索引，其遵循的原则与 DataFrame 中用于行筛选的 loc[*] 完全一致"
      ]
    },
    {
      "cell_type": "markdown",
      "metadata": {
        "id": "Vkaxo9ljugxY"
      },
      "source": [
        "注意！！不要使用链式赋值\r\n",
        "\r\n",
        "在对表或者序列赋值时，应当在使用一层索引器后直接进行赋值操作"
      ]
    },
    {
      "cell_type": "markdown",
      "metadata": {
        "id": "8qeL-pTOuv8v"
      },
      "source": [
        "### 4.iloc索引器\r\n",
        "\r\n",
        "iloc 的使用与 loc 完全类似，只不过是针对位置进行筛选"
      ]
    },
    {
      "cell_type": "code",
      "metadata": {
        "id": "9a6Ga8mju8HG",
        "colab": {
          "base_uri": "https://localhost:8080/",
          "height": 171
        },
        "outputId": "48276b61-4c52-4462-9e5c-6135f31d0b18"
      },
      "source": [
        "df_demo.iloc[1, 1] # 第二行第二列\r\n",
        "df_demo.iloc[[0, 1], [0, 1]] # 前两行前两列\r\n",
        "df_demo.iloc[1: 4, 2:4] # 切片不包含结束端点\r\n",
        "df_demo.iloc[lambda x: slice(1, 4)] # 传入切片为返回值的函数"
      ],
      "execution_count": 35,
      "outputs": [
        {
          "output_type": "execute_result",
          "data": {
            "text/html": [
              "<div>\n",
              "<style scoped>\n",
              "    .dataframe tbody tr th:only-of-type {\n",
              "        vertical-align: middle;\n",
              "    }\n",
              "\n",
              "    .dataframe tbody tr th {\n",
              "        vertical-align: top;\n",
              "    }\n",
              "\n",
              "    .dataframe thead th {\n",
              "        text-align: right;\n",
              "    }\n",
              "</style>\n",
              "<table border=\"1\" class=\"dataframe\">\n",
              "  <thead>\n",
              "    <tr style=\"text-align: right;\">\n",
              "      <th></th>\n",
              "      <th>School</th>\n",
              "      <th>Grade</th>\n",
              "      <th>Gender</th>\n",
              "      <th>Weight</th>\n",
              "      <th>Transfer</th>\n",
              "    </tr>\n",
              "    <tr>\n",
              "      <th>Name</th>\n",
              "      <th></th>\n",
              "      <th></th>\n",
              "      <th></th>\n",
              "      <th></th>\n",
              "      <th></th>\n",
              "    </tr>\n",
              "  </thead>\n",
              "  <tbody>\n",
              "    <tr>\n",
              "      <th>Changqiang You</th>\n",
              "      <td>Peking University</td>\n",
              "      <td>Freshman</td>\n",
              "      <td>Male</td>\n",
              "      <td>70.0</td>\n",
              "      <td>N</td>\n",
              "    </tr>\n",
              "    <tr>\n",
              "      <th>Mei Sun</th>\n",
              "      <td>Shanghai Jiao Tong University</td>\n",
              "      <td>Senior</td>\n",
              "      <td>Male</td>\n",
              "      <td>89.0</td>\n",
              "      <td>N</td>\n",
              "    </tr>\n",
              "    <tr>\n",
              "      <th>Xiaojuan Sun</th>\n",
              "      <td>Fudan University</td>\n",
              "      <td>Sophomore</td>\n",
              "      <td>Female</td>\n",
              "      <td>41.0</td>\n",
              "      <td>N</td>\n",
              "    </tr>\n",
              "  </tbody>\n",
              "</table>\n",
              "</div>"
            ],
            "text/plain": [
              "                                       School      Grade  ... Weight  Transfer\n",
              "Name                                                      ...                 \n",
              "Changqiang You              Peking University   Freshman  ...   70.0         N\n",
              "Mei Sun         Shanghai Jiao Tong University     Senior  ...   89.0         N\n",
              "Xiaojuan Sun                 Fudan University  Sophomore  ...   41.0         N\n",
              "\n",
              "[3 rows x 5 columns]"
            ]
          },
          "metadata": {
            "tags": []
          },
          "execution_count": 35
        }
      ]
    },
    {
      "cell_type": "markdown",
      "metadata": {
        "id": "LIxVKjFevHAR"
      },
      "source": [
        "用布尔筛选的时候还是应当优先考虑 loc 的方式\r\n",
        "\r\n",
        "因为：使用布尔列表的时候不能传入 Series ，必须传入序列的 values ，否则会报错"
      ]
    },
    {
      "cell_type": "markdown",
      "metadata": {
        "id": "k5qVYW1zvWlY"
      },
      "source": [
        "对 Series 而言同样也可以通过 iloc 返回相应位置的值或子序列"
      ]
    },
    {
      "cell_type": "code",
      "metadata": {
        "id": "5Mbth-jkvZce",
        "colab": {
          "base_uri": "https://localhost:8080/"
        },
        "outputId": "b902750a-71e4-44ae-e786-130e99ee7dfa"
      },
      "source": [
        "df_demo.School.iloc[1]\r\n",
        "df_demo.School.iloc[1:5:2]"
      ],
      "execution_count": 36,
      "outputs": [
        {
          "output_type": "execute_result",
          "data": {
            "text/plain": [
              "Name\n",
              "Changqiang You    Peking University\n",
              "Xiaojuan Sun       Fudan University\n",
              "Name: School, dtype: object"
            ]
          },
          "metadata": {
            "tags": []
          },
          "execution_count": 36
        }
      ]
    },
    {
      "cell_type": "markdown",
      "metadata": {
        "id": "maOr3FOsvgUT"
      },
      "source": [
        "### 5.query 方法\r\n",
        "\r\n",
        "在 pandas 中，支持把字符串形式的查询表达式传入 query 方法来查询数据，其表达式的执行结果必须返回布尔列表\r\n",
        "\r\n",
        "适合复杂检索，可在不降低可读性的前提下减少代码长度"
      ]
    },
    {
      "cell_type": "code",
      "metadata": {
        "id": "RyVUZBXDwK8C",
        "colab": {
          "base_uri": "https://localhost:8080/",
          "height": 171
        },
        "outputId": "d7cab1fc-9c42-45bc-81fa-fb20141812f8"
      },
      "source": [
        "# 将 loc 中的复合条件查询例子可以改写如下：\r\n",
        "df.query('((School == \"Fudan University\")&'' (Grade == \"Senior\")&'' (Weight > 70))|''((School == \"Peking University\")&'' (Grade != \"Senior\")&'' (Weight > 80))')"
      ],
      "execution_count": 37,
      "outputs": [
        {
          "output_type": "execute_result",
          "data": {
            "text/html": [
              "<div>\n",
              "<style scoped>\n",
              "    .dataframe tbody tr th:only-of-type {\n",
              "        vertical-align: middle;\n",
              "    }\n",
              "\n",
              "    .dataframe tbody tr th {\n",
              "        vertical-align: top;\n",
              "    }\n",
              "\n",
              "    .dataframe thead th {\n",
              "        text-align: right;\n",
              "    }\n",
              "</style>\n",
              "<table border=\"1\" class=\"dataframe\">\n",
              "  <thead>\n",
              "    <tr style=\"text-align: right;\">\n",
              "      <th></th>\n",
              "      <th>School</th>\n",
              "      <th>Grade</th>\n",
              "      <th>Name</th>\n",
              "      <th>Gender</th>\n",
              "      <th>Weight</th>\n",
              "      <th>Transfer</th>\n",
              "    </tr>\n",
              "  </thead>\n",
              "  <tbody>\n",
              "    <tr>\n",
              "      <th>38</th>\n",
              "      <td>Peking University</td>\n",
              "      <td>Freshman</td>\n",
              "      <td>Qiang Han</td>\n",
              "      <td>Male</td>\n",
              "      <td>87.0</td>\n",
              "      <td>N</td>\n",
              "    </tr>\n",
              "    <tr>\n",
              "      <th>66</th>\n",
              "      <td>Fudan University</td>\n",
              "      <td>Senior</td>\n",
              "      <td>Chengpeng Zhou</td>\n",
              "      <td>Male</td>\n",
              "      <td>81.0</td>\n",
              "      <td>N</td>\n",
              "    </tr>\n",
              "    <tr>\n",
              "      <th>99</th>\n",
              "      <td>Peking University</td>\n",
              "      <td>Freshman</td>\n",
              "      <td>Changpeng Zhao</td>\n",
              "      <td>Male</td>\n",
              "      <td>83.0</td>\n",
              "      <td>N</td>\n",
              "    </tr>\n",
              "    <tr>\n",
              "      <th>131</th>\n",
              "      <td>Fudan University</td>\n",
              "      <td>Senior</td>\n",
              "      <td>Chengpeng Qian</td>\n",
              "      <td>Male</td>\n",
              "      <td>73.0</td>\n",
              "      <td>Y</td>\n",
              "    </tr>\n",
              "  </tbody>\n",
              "</table>\n",
              "</div>"
            ],
            "text/plain": [
              "                School     Grade            Name Gender  Weight Transfer\n",
              "38   Peking University  Freshman       Qiang Han   Male    87.0        N\n",
              "66    Fudan University    Senior  Chengpeng Zhou   Male    81.0        N\n",
              "99   Peking University  Freshman  Changpeng Zhao   Male    83.0        N\n",
              "131   Fudan University    Senior  Chengpeng Qian   Male    73.0        Y"
            ]
          },
          "metadata": {
            "tags": []
          },
          "execution_count": 37
        }
      ]
    },
    {
      "cell_type": "markdown",
      "metadata": {
        "id": "u3kiKiy6weTP"
      },
      "source": [
        "在 query 表达式中，所有属于该 Series 的方法都可以被调用，和正常的函数调用并没有区别"
      ]
    },
    {
      "cell_type": "markdown",
      "metadata": {
        "id": "QGk_eSJawpun"
      },
      "source": [
        "！！对于含有空格的列名，需要使用`col name`的方式进行引用。\r\n",
        "\r\n",
        "在 query 中还注册了若干英语的字面用法，帮助提高可读性，例如： or, and, or, is in, not in\r\n",
        "\r\n",
        " == 和 != 分别表示元素出现在列表和没有出现在列表，等价于 is in 和 not in"
      ]
    },
    {
      "cell_type": "markdown",
      "metadata": {
        "id": "USf5gXWdxIaZ"
      },
      "source": [
        "对于 query 中的字符串，如果要引用外部变量，只需在变量名前加 @ 符号"
      ]
    },
    {
      "cell_type": "code",
      "metadata": {
        "id": "HxKCwgVDxMNv"
      },
      "source": [
        "low, high =70, 80\r\n",
        "df.query('Weight.between(@low, @high)').head()"
      ],
      "execution_count": null,
      "outputs": []
    },
    {
      "cell_type": "markdown",
      "metadata": {
        "id": "bUTJ3vI9wskR"
      },
      "source": [
        "### 6.随机抽样"
      ]
    },
    {
      "cell_type": "markdown",
      "metadata": {
        "id": "cYgzrmMFxZGS"
      },
      "source": [
        "sample 函数中的主要参数为 n, axis, frac, replace, weights ，前三个分别是指抽样数量、抽样的方向（0为行、1为列）和抽样比例（0.3则为从总体中抽出30%的样本）"
      ]
    },
    {
      "cell_type": "markdown",
      "metadata": {
        "id": "DPvvCdEzxgOb"
      },
      "source": [
        "replace 和 weights 分别是指是否放回和每个样本的抽样相对概率，当 replace = True 则表示有放回抽样"
      ]
    },
    {
      "cell_type": "code",
      "metadata": {
        "id": "5dzgBPuyxjf-"
      },
      "source": [
        "#对下面构造的 df_sample 以 value 值的相对大小为抽样概率进行有放回抽样，抽样数量为3\r\n",
        "df_sample = pd.DataFrame({'id': list('abcde'),'value': [1, 2, 3, 4, 90]})\r\n",
        "df_sample.sample(3, replace = True, weights = df_sample.value)"
      ],
      "execution_count": null,
      "outputs": []
    },
    {
      "cell_type": "markdown",
      "metadata": {
        "id": "GSitHMV6x08P"
      },
      "source": [
        "## 二、多级索引"
      ]
    },
    {
      "cell_type": "markdown",
      "metadata": {
        "id": "XeMmzgXex5Kd"
      },
      "source": [
        "### 1.多级索引及其表的结构"
      ]
    },
    {
      "cell_type": "code",
      "metadata": {
        "id": "8eA9EmRux-zX",
        "colab": {
          "base_uri": "https://localhost:8080/",
          "height": 375
        },
        "outputId": "3fefd9d0-b0ea-446b-a29a-af32dd51eb9d"
      },
      "source": [
        "#构造一张新表\r\n",
        "np.random.seed(0)\r\n",
        "multi_index = pd.MultiIndex.from_product([list('ABCD'),df.Gender.unique()], names=('School', 'Gender'))\r\n",
        "multi_column = pd.MultiIndex.from_product([['Height', 'Weight'],df.Grade.unique()], names=('Indicator', 'Grade'))\r\n",
        "df_multi = pd.DataFrame(np.c_[(np.random.randn(8,4)*5 + 163).tolist(),(np.random.randn(8,4)*5 + 65).tolist()],index = multi_index,columns = multi_column).round(1)\r\n",
        "df_multi"
      ],
      "execution_count": 42,
      "outputs": [
        {
          "output_type": "execute_result",
          "data": {
            "text/html": [
              "<div>\n",
              "<style scoped>\n",
              "    .dataframe tbody tr th:only-of-type {\n",
              "        vertical-align: middle;\n",
              "    }\n",
              "\n",
              "    .dataframe tbody tr th {\n",
              "        vertical-align: top;\n",
              "    }\n",
              "\n",
              "    .dataframe thead tr th {\n",
              "        text-align: left;\n",
              "    }\n",
              "\n",
              "    .dataframe thead tr:last-of-type th {\n",
              "        text-align: right;\n",
              "    }\n",
              "</style>\n",
              "<table border=\"1\" class=\"dataframe\">\n",
              "  <thead>\n",
              "    <tr>\n",
              "      <th></th>\n",
              "      <th>Indicator</th>\n",
              "      <th colspan=\"4\" halign=\"left\">Height</th>\n",
              "      <th colspan=\"4\" halign=\"left\">Weight</th>\n",
              "    </tr>\n",
              "    <tr>\n",
              "      <th></th>\n",
              "      <th>Grade</th>\n",
              "      <th>Freshman</th>\n",
              "      <th>Senior</th>\n",
              "      <th>Sophomore</th>\n",
              "      <th>Junior</th>\n",
              "      <th>Freshman</th>\n",
              "      <th>Senior</th>\n",
              "      <th>Sophomore</th>\n",
              "      <th>Junior</th>\n",
              "    </tr>\n",
              "    <tr>\n",
              "      <th>School</th>\n",
              "      <th>Gender</th>\n",
              "      <th></th>\n",
              "      <th></th>\n",
              "      <th></th>\n",
              "      <th></th>\n",
              "      <th></th>\n",
              "      <th></th>\n",
              "      <th></th>\n",
              "      <th></th>\n",
              "    </tr>\n",
              "  </thead>\n",
              "  <tbody>\n",
              "    <tr>\n",
              "      <th rowspan=\"2\" valign=\"top\">A</th>\n",
              "      <th>Female</th>\n",
              "      <td>171.8</td>\n",
              "      <td>165.0</td>\n",
              "      <td>167.9</td>\n",
              "      <td>174.2</td>\n",
              "      <td>60.6</td>\n",
              "      <td>55.1</td>\n",
              "      <td>63.3</td>\n",
              "      <td>65.8</td>\n",
              "    </tr>\n",
              "    <tr>\n",
              "      <th>Male</th>\n",
              "      <td>172.3</td>\n",
              "      <td>158.1</td>\n",
              "      <td>167.8</td>\n",
              "      <td>162.2</td>\n",
              "      <td>71.2</td>\n",
              "      <td>71.0</td>\n",
              "      <td>63.1</td>\n",
              "      <td>63.5</td>\n",
              "    </tr>\n",
              "    <tr>\n",
              "      <th rowspan=\"2\" valign=\"top\">B</th>\n",
              "      <th>Female</th>\n",
              "      <td>162.5</td>\n",
              "      <td>165.1</td>\n",
              "      <td>163.7</td>\n",
              "      <td>170.3</td>\n",
              "      <td>59.8</td>\n",
              "      <td>57.9</td>\n",
              "      <td>56.5</td>\n",
              "      <td>74.8</td>\n",
              "    </tr>\n",
              "    <tr>\n",
              "      <th>Male</th>\n",
              "      <td>166.8</td>\n",
              "      <td>163.6</td>\n",
              "      <td>165.2</td>\n",
              "      <td>164.7</td>\n",
              "      <td>62.5</td>\n",
              "      <td>62.8</td>\n",
              "      <td>58.7</td>\n",
              "      <td>68.9</td>\n",
              "    </tr>\n",
              "    <tr>\n",
              "      <th rowspan=\"2\" valign=\"top\">C</th>\n",
              "      <th>Female</th>\n",
              "      <td>170.5</td>\n",
              "      <td>162.0</td>\n",
              "      <td>164.6</td>\n",
              "      <td>158.7</td>\n",
              "      <td>56.9</td>\n",
              "      <td>63.9</td>\n",
              "      <td>60.5</td>\n",
              "      <td>66.9</td>\n",
              "    </tr>\n",
              "    <tr>\n",
              "      <th>Male</th>\n",
              "      <td>150.2</td>\n",
              "      <td>166.3</td>\n",
              "      <td>167.3</td>\n",
              "      <td>159.3</td>\n",
              "      <td>62.4</td>\n",
              "      <td>59.1</td>\n",
              "      <td>64.9</td>\n",
              "      <td>67.1</td>\n",
              "    </tr>\n",
              "    <tr>\n",
              "      <th rowspan=\"2\" valign=\"top\">D</th>\n",
              "      <th>Female</th>\n",
              "      <td>174.3</td>\n",
              "      <td>155.7</td>\n",
              "      <td>163.2</td>\n",
              "      <td>162.1</td>\n",
              "      <td>65.3</td>\n",
              "      <td>66.5</td>\n",
              "      <td>61.8</td>\n",
              "      <td>63.2</td>\n",
              "    </tr>\n",
              "    <tr>\n",
              "      <th>Male</th>\n",
              "      <td>170.7</td>\n",
              "      <td>170.3</td>\n",
              "      <td>163.8</td>\n",
              "      <td>164.9</td>\n",
              "      <td>61.6</td>\n",
              "      <td>63.2</td>\n",
              "      <td>60.9</td>\n",
              "      <td>56.4</td>\n",
              "    </tr>\n",
              "  </tbody>\n",
              "</table>\n",
              "</div>"
            ],
            "text/plain": [
              "Indicator       Height                           Weight                        \n",
              "Grade         Freshman Senior Sophomore Junior Freshman Senior Sophomore Junior\n",
              "School Gender                                                                  \n",
              "A      Female    171.8  165.0     167.9  174.2     60.6   55.1      63.3   65.8\n",
              "       Male      172.3  158.1     167.8  162.2     71.2   71.0      63.1   63.5\n",
              "B      Female    162.5  165.1     163.7  170.3     59.8   57.9      56.5   74.8\n",
              "       Male      166.8  163.6     165.2  164.7     62.5   62.8      58.7   68.9\n",
              "C      Female    170.5  162.0     164.6  158.7     56.9   63.9      60.5   66.9\n",
              "       Male      150.2  166.3     167.3  159.3     62.4   59.1      64.9   67.1\n",
              "D      Female    174.3  155.7     163.2  162.1     65.3   66.5      61.8   63.2\n",
              "       Male      170.7  170.3     163.8  164.9     61.6   63.2      60.9   56.4"
            ]
          },
          "metadata": {
            "tags": []
          },
          "execution_count": 42
        }
      ]
    },
    {
      "cell_type": "markdown",
      "metadata": {
        "id": "cXD2p_5Z2_wc"
      },
      "source": [
        " DataFrame的行索引和列索引都是 MultiIndex 类型，只是索引中的一个元素是元组而不是单层索引中的标量\r\n",
        "\r\n",
        " 这里需要注意，外层连续出现相同的值时，第一次之后出现的会被隐藏显示，使结果的可读性增强"
      ]
    },
    {
      "cell_type": "markdown",
      "metadata": {
        "id": "XM_M-Bed3Pu6"
      },
      "source": [
        "索引的名字和值属性分别可以通过 names 和 values 获得"
      ]
    },
    {
      "cell_type": "code",
      "metadata": {
        "colab": {
          "base_uri": "https://localhost:8080/"
        },
        "id": "1lUb65Dq3yLW",
        "outputId": "1d469295-b240-48b7-86fe-b15ac61eed76"
      },
      "source": [
        "df_multi.index.names"
      ],
      "execution_count": 44,
      "outputs": [
        {
          "output_type": "execute_result",
          "data": {
            "text/plain": [
              "FrozenList(['School', 'Gender'])"
            ]
          },
          "metadata": {
            "tags": []
          },
          "execution_count": 44
        }
      ]
    },
    {
      "cell_type": "code",
      "metadata": {
        "colab": {
          "base_uri": "https://localhost:8080/"
        },
        "id": "mRwDri2M39cB",
        "outputId": "ba96e2d5-a575-43b7-9382-382c87b99430"
      },
      "source": [
        "df_multi.index.values"
      ],
      "execution_count": 47,
      "outputs": [
        {
          "output_type": "execute_result",
          "data": {
            "text/plain": [
              "array([('A', 'Female'), ('A', 'Male'), ('B', 'Female'), ('B', 'Male'),\n",
              "       ('C', 'Female'), ('C', 'Male'), ('D', 'Female'), ('D', 'Male')],\n",
              "      dtype=object)"
            ]
          },
          "metadata": {
            "tags": []
          },
          "execution_count": 47
        }
      ]
    },
    {
      "cell_type": "code",
      "metadata": {
        "colab": {
          "base_uri": "https://localhost:8080/"
        },
        "id": "WYIzrUbb331n",
        "outputId": "d877178d-9465-4f1d-8e78-b4bdbe015277"
      },
      "source": [
        "df_multi.columns.names"
      ],
      "execution_count": 45,
      "outputs": [
        {
          "output_type": "execute_result",
          "data": {
            "text/plain": [
              "FrozenList(['Indicator', 'Grade'])"
            ]
          },
          "metadata": {
            "tags": []
          },
          "execution_count": 45
        }
      ]
    },
    {
      "cell_type": "code",
      "metadata": {
        "colab": {
          "base_uri": "https://localhost:8080/"
        },
        "id": "GtwrMP-635EY",
        "outputId": "b86de4ee-ac11-4faa-9515-744a5284f55c"
      },
      "source": [
        "df_multi.columns.values"
      ],
      "execution_count": 46,
      "outputs": [
        {
          "output_type": "execute_result",
          "data": {
            "text/plain": [
              "array([('Height', 'Freshman'), ('Height', 'Senior'),\n",
              "       ('Height', 'Sophomore'), ('Height', 'Junior'),\n",
              "       ('Weight', 'Freshman'), ('Weight', 'Senior'),\n",
              "       ('Weight', 'Sophomore'), ('Weight', 'Junior')], dtype=object)"
            ]
          },
          "metadata": {
            "tags": []
          },
          "execution_count": 46
        }
      ]
    },
    {
      "cell_type": "markdown",
      "metadata": {
        "id": "xIrkt2bU4GvH"
      },
      "source": [
        "要得到某一层的索引，则需要通过 get_level_values 获得"
      ]
    },
    {
      "cell_type": "code",
      "metadata": {
        "colab": {
          "base_uri": "https://localhost:8080/"
        },
        "id": "z5NjTVPa4Cz5",
        "outputId": "7f717295-5e01-4a44-f67e-4e9ef053dd3a"
      },
      "source": [
        "df_multi.index.get_level_values(0)"
      ],
      "execution_count": 48,
      "outputs": [
        {
          "output_type": "execute_result",
          "data": {
            "text/plain": [
              "Index(['A', 'A', 'B', 'B', 'C', 'C', 'D', 'D'], dtype='object', name='School')"
            ]
          },
          "metadata": {
            "tags": []
          },
          "execution_count": 48
        },
        {
          "output_type": "execute_result",
          "data": {
            "text/plain": [
              "Index(['A', 'A', 'B', 'B', 'C', 'C', 'D', 'D'], dtype='object', name='School')"
            ]
          },
          "metadata": {
            "tags": []
          },
          "execution_count": 49
        }
      ]
    },
    {
      "cell_type": "markdown",
      "metadata": {
        "id": "yB4SggBP4Lrv"
      },
      "source": [
        "### 2.多级索引中的loc索引器\r\n",
        "\r\n",
        "多级索引中的单个元素以元组为单位，因此之前在第一节介绍的 loc 和 iloc 方法完全可以照搬，只需把标量的位置替换成对应的元组"
      ]
    },
    {
      "cell_type": "code",
      "metadata": {
        "colab": {
          "base_uri": "https://localhost:8080/",
          "height": 233
        },
        "id": "JIYAc7uO4Rk6",
        "outputId": "c73131b3-7d85-47cf-fa5c-c0ca40327ce1"
      },
      "source": [
        "df_multi = df.set_index(['School', 'Grade'])\r\n",
        "df_multi.head()"
      ],
      "execution_count": 50,
      "outputs": [
        {
          "output_type": "execute_result",
          "data": {
            "text/html": [
              "<div>\n",
              "<style scoped>\n",
              "    .dataframe tbody tr th:only-of-type {\n",
              "        vertical-align: middle;\n",
              "    }\n",
              "\n",
              "    .dataframe tbody tr th {\n",
              "        vertical-align: top;\n",
              "    }\n",
              "\n",
              "    .dataframe thead th {\n",
              "        text-align: right;\n",
              "    }\n",
              "</style>\n",
              "<table border=\"1\" class=\"dataframe\">\n",
              "  <thead>\n",
              "    <tr style=\"text-align: right;\">\n",
              "      <th></th>\n",
              "      <th></th>\n",
              "      <th>Name</th>\n",
              "      <th>Gender</th>\n",
              "      <th>Weight</th>\n",
              "      <th>Transfer</th>\n",
              "    </tr>\n",
              "    <tr>\n",
              "      <th>School</th>\n",
              "      <th>Grade</th>\n",
              "      <th></th>\n",
              "      <th></th>\n",
              "      <th></th>\n",
              "      <th></th>\n",
              "    </tr>\n",
              "  </thead>\n",
              "  <tbody>\n",
              "    <tr>\n",
              "      <th>Shanghai Jiao Tong University</th>\n",
              "      <th>Freshman</th>\n",
              "      <td>Gaopeng Yang</td>\n",
              "      <td>Female</td>\n",
              "      <td>46.0</td>\n",
              "      <td>N</td>\n",
              "    </tr>\n",
              "    <tr>\n",
              "      <th>Peking University</th>\n",
              "      <th>Freshman</th>\n",
              "      <td>Changqiang You</td>\n",
              "      <td>Male</td>\n",
              "      <td>70.0</td>\n",
              "      <td>N</td>\n",
              "    </tr>\n",
              "    <tr>\n",
              "      <th>Shanghai Jiao Tong University</th>\n",
              "      <th>Senior</th>\n",
              "      <td>Mei Sun</td>\n",
              "      <td>Male</td>\n",
              "      <td>89.0</td>\n",
              "      <td>N</td>\n",
              "    </tr>\n",
              "    <tr>\n",
              "      <th rowspan=\"2\" valign=\"top\">Fudan University</th>\n",
              "      <th>Sophomore</th>\n",
              "      <td>Xiaojuan Sun</td>\n",
              "      <td>Female</td>\n",
              "      <td>41.0</td>\n",
              "      <td>N</td>\n",
              "    </tr>\n",
              "    <tr>\n",
              "      <th>Sophomore</th>\n",
              "      <td>Gaojuan You</td>\n",
              "      <td>Male</td>\n",
              "      <td>74.0</td>\n",
              "      <td>N</td>\n",
              "    </tr>\n",
              "  </tbody>\n",
              "</table>\n",
              "</div>"
            ],
            "text/plain": [
              "                                                   Name  ... Transfer\n",
              "School                        Grade                      ...         \n",
              "Shanghai Jiao Tong University Freshman     Gaopeng Yang  ...        N\n",
              "Peking University             Freshman   Changqiang You  ...        N\n",
              "Shanghai Jiao Tong University Senior            Mei Sun  ...        N\n",
              "Fudan University              Sophomore    Xiaojuan Sun  ...        N\n",
              "                              Sophomore     Gaojuan You  ...        N\n",
              "\n",
              "[5 rows x 4 columns]"
            ]
          },
          "metadata": {
            "tags": []
          },
          "execution_count": 50
        }
      ]
    },
    {
      "cell_type": "markdown",
      "metadata": {
        "id": "udJH4iT54clQ"
      },
      "source": [
        "当传入元组列表或单个元组或返回前二者的函数时，需要先进行索引排序以避免性能警告"
      ]
    },
    {
      "cell_type": "code",
      "metadata": {
        "colab": {
          "base_uri": "https://localhost:8080/"
        },
        "id": "NQtGRxG54i19",
        "outputId": "8c634f45-51c6-4972-9150-91fd44f58328"
      },
      "source": [
        "import warnings\r\n",
        "with warnings.catch_warnings():\r\n",
        "   warnings.filterwarnings('error')\r\n",
        "   try:\r\n",
        "     df_multi.loc[('Fudan University', 'Junior')].head()\r\n",
        "   except Warning as w:\r\n",
        "     Warning_Msg = w\r\n",
        "Warning_Msg     "
      ],
      "execution_count": 52,
      "outputs": [
        {
          "output_type": "execute_result",
          "data": {
            "text/plain": [
              "pandas.errors.PerformanceWarning('indexing past lexsort depth may impact performance.')"
            ]
          },
          "metadata": {
            "tags": []
          },
          "execution_count": 52
        }
      ]
    },
    {
      "cell_type": "code",
      "metadata": {
        "colab": {
          "base_uri": "https://localhost:8080/",
          "height": 233
        },
        "id": "4WSA8SGt5MIu",
        "outputId": "f1175a2e-3498-4df9-de99-4048630af2f0"
      },
      "source": [
        "df_sorted = df_multi.sort_index()\r\n",
        "df_sorted.loc[('Fudan University', 'Junior')].head()\r\n",
        "df_sorted.loc[[('Fudan University', 'Senior'),('Shanghai Jiao Tong University', 'Freshman')]].head()"
      ],
      "execution_count": 53,
      "outputs": [
        {
          "output_type": "execute_result",
          "data": {
            "text/html": [
              "<div>\n",
              "<style scoped>\n",
              "    .dataframe tbody tr th:only-of-type {\n",
              "        vertical-align: middle;\n",
              "    }\n",
              "\n",
              "    .dataframe tbody tr th {\n",
              "        vertical-align: top;\n",
              "    }\n",
              "\n",
              "    .dataframe thead th {\n",
              "        text-align: right;\n",
              "    }\n",
              "</style>\n",
              "<table border=\"1\" class=\"dataframe\">\n",
              "  <thead>\n",
              "    <tr style=\"text-align: right;\">\n",
              "      <th></th>\n",
              "      <th></th>\n",
              "      <th>Name</th>\n",
              "      <th>Gender</th>\n",
              "      <th>Weight</th>\n",
              "      <th>Transfer</th>\n",
              "    </tr>\n",
              "    <tr>\n",
              "      <th>School</th>\n",
              "      <th>Grade</th>\n",
              "      <th></th>\n",
              "      <th></th>\n",
              "      <th></th>\n",
              "      <th></th>\n",
              "    </tr>\n",
              "  </thead>\n",
              "  <tbody>\n",
              "    <tr>\n",
              "      <th rowspan=\"5\" valign=\"top\">Fudan University</th>\n",
              "      <th>Senior</th>\n",
              "      <td>Chengpeng Zheng</td>\n",
              "      <td>Female</td>\n",
              "      <td>38.0</td>\n",
              "      <td>N</td>\n",
              "    </tr>\n",
              "    <tr>\n",
              "      <th>Senior</th>\n",
              "      <td>Feng Zhou</td>\n",
              "      <td>Female</td>\n",
              "      <td>47.0</td>\n",
              "      <td>N</td>\n",
              "    </tr>\n",
              "    <tr>\n",
              "      <th>Senior</th>\n",
              "      <td>Gaomei Lv</td>\n",
              "      <td>Female</td>\n",
              "      <td>34.0</td>\n",
              "      <td>N</td>\n",
              "    </tr>\n",
              "    <tr>\n",
              "      <th>Senior</th>\n",
              "      <td>Chunli Lv</td>\n",
              "      <td>Female</td>\n",
              "      <td>56.0</td>\n",
              "      <td>N</td>\n",
              "    </tr>\n",
              "    <tr>\n",
              "      <th>Senior</th>\n",
              "      <td>Chengpeng Zhou</td>\n",
              "      <td>Male</td>\n",
              "      <td>81.0</td>\n",
              "      <td>N</td>\n",
              "    </tr>\n",
              "  </tbody>\n",
              "</table>\n",
              "</div>"
            ],
            "text/plain": [
              "                                    Name  Gender  Weight Transfer\n",
              "School           Grade                                           \n",
              "Fudan University Senior  Chengpeng Zheng  Female    38.0        N\n",
              "                 Senior        Feng Zhou  Female    47.0        N\n",
              "                 Senior        Gaomei Lv  Female    34.0        N\n",
              "                 Senior        Chunli Lv  Female    56.0        N\n",
              "                 Senior   Chengpeng Zhou    Male    81.0        N"
            ]
          },
          "metadata": {
            "tags": []
          },
          "execution_count": 53
        }
      ]
    },
    {
      "cell_type": "markdown",
      "metadata": {
        "id": "yVXeQAkj5cQ1"
      },
      "source": [
        "注意！！当使用切片时需要注意，在单级别索引中只要切片端点元素是唯一的，那么就可以进行切片，但在多级索引中，无论元组在索引中是否重复出现，都必须经过排序才能使用切片，否则报错"
      ]
    },
    {
      "cell_type": "markdown",
      "metadata": {
        "id": "HopXbgjc5nVY"
      },
      "source": [
        "注意！！在多级索引中的元组有一种特殊的用法，可以对多层的元素进行交叉组合后索引，但同时需要指定 loc 的列，全选则用 : 表示。其中，每一层需要选中的元素用列表存放，传入 loc 的形式为 [(level_0_list, level_1_list), cols] "
      ]
    },
    {
      "cell_type": "code",
      "metadata": {
        "colab": {
          "base_uri": "https://localhost:8080/",
          "height": 233
        },
        "id": "HdkC6-Qf5tfZ",
        "outputId": "03b5a1ad-1bdc-4bd9-ee40-4e0160139ac6"
      },
      "source": [
        "# 所有北大和复旦的大二大三学生\r\n",
        "res = df_multi.loc[(['Peking University', 'Fudan University'],['Sophomore', 'Junior']), :]\r\n",
        "res.head()"
      ],
      "execution_count": 54,
      "outputs": [
        {
          "output_type": "execute_result",
          "data": {
            "text/html": [
              "<div>\n",
              "<style scoped>\n",
              "    .dataframe tbody tr th:only-of-type {\n",
              "        vertical-align: middle;\n",
              "    }\n",
              "\n",
              "    .dataframe tbody tr th {\n",
              "        vertical-align: top;\n",
              "    }\n",
              "\n",
              "    .dataframe thead th {\n",
              "        text-align: right;\n",
              "    }\n",
              "</style>\n",
              "<table border=\"1\" class=\"dataframe\">\n",
              "  <thead>\n",
              "    <tr style=\"text-align: right;\">\n",
              "      <th></th>\n",
              "      <th></th>\n",
              "      <th>Name</th>\n",
              "      <th>Gender</th>\n",
              "      <th>Weight</th>\n",
              "      <th>Transfer</th>\n",
              "    </tr>\n",
              "    <tr>\n",
              "      <th>School</th>\n",
              "      <th>Grade</th>\n",
              "      <th></th>\n",
              "      <th></th>\n",
              "      <th></th>\n",
              "      <th></th>\n",
              "    </tr>\n",
              "  </thead>\n",
              "  <tbody>\n",
              "    <tr>\n",
              "      <th rowspan=\"5\" valign=\"top\">Peking University</th>\n",
              "      <th>Sophomore</th>\n",
              "      <td>Changmei Xu</td>\n",
              "      <td>Female</td>\n",
              "      <td>43.0</td>\n",
              "      <td>N</td>\n",
              "    </tr>\n",
              "    <tr>\n",
              "      <th>Sophomore</th>\n",
              "      <td>Xiaopeng Qin</td>\n",
              "      <td>Male</td>\n",
              "      <td>NaN</td>\n",
              "      <td>N</td>\n",
              "    </tr>\n",
              "    <tr>\n",
              "      <th>Sophomore</th>\n",
              "      <td>Mei Xu</td>\n",
              "      <td>Female</td>\n",
              "      <td>39.0</td>\n",
              "      <td>N</td>\n",
              "    </tr>\n",
              "    <tr>\n",
              "      <th>Sophomore</th>\n",
              "      <td>Xiaoli Zhou</td>\n",
              "      <td>Female</td>\n",
              "      <td>55.0</td>\n",
              "      <td>N</td>\n",
              "    </tr>\n",
              "    <tr>\n",
              "      <th>Sophomore</th>\n",
              "      <td>Peng Han</td>\n",
              "      <td>Female</td>\n",
              "      <td>34.0</td>\n",
              "      <td>NaN</td>\n",
              "    </tr>\n",
              "  </tbody>\n",
              "</table>\n",
              "</div>"
            ],
            "text/plain": [
              "                                     Name  Gender  Weight Transfer\n",
              "School            Grade                                           \n",
              "Peking University Sophomore   Changmei Xu  Female    43.0        N\n",
              "                  Sophomore  Xiaopeng Qin    Male     NaN        N\n",
              "                  Sophomore        Mei Xu  Female    39.0        N\n",
              "                  Sophomore   Xiaoli Zhou  Female    55.0        N\n",
              "                  Sophomore      Peng Han  Female    34.0      NaN"
            ]
          },
          "metadata": {
            "tags": []
          },
          "execution_count": 54
        }
      ]
    },
    {
      "cell_type": "code",
      "metadata": {
        "colab": {
          "base_uri": "https://localhost:8080/",
          "height": 233
        },
        "id": "aOM9alCQ6gvW",
        "outputId": "0c648eea-16db-4792-9d82-936a3efc53c2"
      },
      "source": [
        "# 选出北大的大三学生和复旦的大二学生\r\n",
        "res = df_multi.loc[[('Peking University', 'Junior'),('Fudan University', 'Sophomore')]]\r\n",
        "res.head()"
      ],
      "execution_count": 55,
      "outputs": [
        {
          "output_type": "execute_result",
          "data": {
            "text/html": [
              "<div>\n",
              "<style scoped>\n",
              "    .dataframe tbody tr th:only-of-type {\n",
              "        vertical-align: middle;\n",
              "    }\n",
              "\n",
              "    .dataframe tbody tr th {\n",
              "        vertical-align: top;\n",
              "    }\n",
              "\n",
              "    .dataframe thead th {\n",
              "        text-align: right;\n",
              "    }\n",
              "</style>\n",
              "<table border=\"1\" class=\"dataframe\">\n",
              "  <thead>\n",
              "    <tr style=\"text-align: right;\">\n",
              "      <th></th>\n",
              "      <th></th>\n",
              "      <th>Name</th>\n",
              "      <th>Gender</th>\n",
              "      <th>Weight</th>\n",
              "      <th>Transfer</th>\n",
              "    </tr>\n",
              "    <tr>\n",
              "      <th>School</th>\n",
              "      <th>Grade</th>\n",
              "      <th></th>\n",
              "      <th></th>\n",
              "      <th></th>\n",
              "      <th></th>\n",
              "    </tr>\n",
              "  </thead>\n",
              "  <tbody>\n",
              "    <tr>\n",
              "      <th rowspan=\"5\" valign=\"top\">Peking University</th>\n",
              "      <th>Junior</th>\n",
              "      <td>Juan Xu</td>\n",
              "      <td>Female</td>\n",
              "      <td>NaN</td>\n",
              "      <td>N</td>\n",
              "    </tr>\n",
              "    <tr>\n",
              "      <th>Junior</th>\n",
              "      <td>Changjuan You</td>\n",
              "      <td>Female</td>\n",
              "      <td>47.0</td>\n",
              "      <td>N</td>\n",
              "    </tr>\n",
              "    <tr>\n",
              "      <th>Junior</th>\n",
              "      <td>Gaoli Xu</td>\n",
              "      <td>Female</td>\n",
              "      <td>48.0</td>\n",
              "      <td>N</td>\n",
              "    </tr>\n",
              "    <tr>\n",
              "      <th>Junior</th>\n",
              "      <td>Gaoquan Zhou</td>\n",
              "      <td>Male</td>\n",
              "      <td>70.0</td>\n",
              "      <td>N</td>\n",
              "    </tr>\n",
              "    <tr>\n",
              "      <th>Junior</th>\n",
              "      <td>Qiang You</td>\n",
              "      <td>Female</td>\n",
              "      <td>56.0</td>\n",
              "      <td>N</td>\n",
              "    </tr>\n",
              "  </tbody>\n",
              "</table>\n",
              "</div>"
            ],
            "text/plain": [
              "                                   Name  Gender  Weight Transfer\n",
              "School            Grade                                         \n",
              "Peking University Junior        Juan Xu  Female     NaN        N\n",
              "                  Junior  Changjuan You  Female    47.0        N\n",
              "                  Junior       Gaoli Xu  Female    48.0        N\n",
              "                  Junior   Gaoquan Zhou    Male    70.0        N\n",
              "                  Junior      Qiang You  Female    56.0        N"
            ]
          },
          "metadata": {
            "tags": []
          },
          "execution_count": 55
        }
      ]
    },
    {
      "cell_type": "markdown",
      "metadata": {
        "id": "NuITRKq36_pJ"
      },
      "source": [
        "### 3.IndexSlice对象\r\n",
        "\r\n",
        "为了解决每层切片、切片和布尔列表混合使用的问题\r\n",
        "\r\n",
        "Slice 对象一共有两种形式，第一种为 loc[idx[*,*]] 型，第二种为 loc[idx[*,*],idx[*,*]] 型"
      ]
    },
    {
      "cell_type": "code",
      "metadata": {
        "colab": {
          "base_uri": "https://localhost:8080/",
          "height": 386
        },
        "id": "w20OXZEa7e9d",
        "outputId": "fc1b439f-d015-417d-d5a5-dc285f42cfd9"
      },
      "source": [
        "# 构造一个 索引不重复的 DataFrame\r\n",
        "np.random.seed(0)\r\n",
        "L1,L2 = ['A','B','C'],['a','b','c']\r\n",
        "mul_index1 = pd.MultiIndex.from_product([L1,L2],names=('Upper', 'Lower'))\r\n",
        "L3,L4 = ['D','E','F'],['d','e','f']\r\n",
        "mul_index2 = pd.MultiIndex.from_product([L3,L4],names=('Big', 'Small'))\r\n",
        "df_ex = pd.DataFrame(np.random.randint(-9,10,(9,9)),index=mul_index1,columns=mul_index2)\r\n",
        "df_ex"
      ],
      "execution_count": 56,
      "outputs": [
        {
          "output_type": "execute_result",
          "data": {
            "text/html": [
              "<div>\n",
              "<style scoped>\n",
              "    .dataframe tbody tr th:only-of-type {\n",
              "        vertical-align: middle;\n",
              "    }\n",
              "\n",
              "    .dataframe tbody tr th {\n",
              "        vertical-align: top;\n",
              "    }\n",
              "\n",
              "    .dataframe thead tr th {\n",
              "        text-align: left;\n",
              "    }\n",
              "\n",
              "    .dataframe thead tr:last-of-type th {\n",
              "        text-align: right;\n",
              "    }\n",
              "</style>\n",
              "<table border=\"1\" class=\"dataframe\">\n",
              "  <thead>\n",
              "    <tr>\n",
              "      <th></th>\n",
              "      <th>Big</th>\n",
              "      <th colspan=\"3\" halign=\"left\">D</th>\n",
              "      <th colspan=\"3\" halign=\"left\">E</th>\n",
              "      <th colspan=\"3\" halign=\"left\">F</th>\n",
              "    </tr>\n",
              "    <tr>\n",
              "      <th></th>\n",
              "      <th>Small</th>\n",
              "      <th>d</th>\n",
              "      <th>e</th>\n",
              "      <th>f</th>\n",
              "      <th>d</th>\n",
              "      <th>e</th>\n",
              "      <th>f</th>\n",
              "      <th>d</th>\n",
              "      <th>e</th>\n",
              "      <th>f</th>\n",
              "    </tr>\n",
              "    <tr>\n",
              "      <th>Upper</th>\n",
              "      <th>Lower</th>\n",
              "      <th></th>\n",
              "      <th></th>\n",
              "      <th></th>\n",
              "      <th></th>\n",
              "      <th></th>\n",
              "      <th></th>\n",
              "      <th></th>\n",
              "      <th></th>\n",
              "      <th></th>\n",
              "    </tr>\n",
              "  </thead>\n",
              "  <tbody>\n",
              "    <tr>\n",
              "      <th rowspan=\"3\" valign=\"top\">A</th>\n",
              "      <th>a</th>\n",
              "      <td>3</td>\n",
              "      <td>6</td>\n",
              "      <td>-9</td>\n",
              "      <td>-6</td>\n",
              "      <td>-6</td>\n",
              "      <td>-2</td>\n",
              "      <td>0</td>\n",
              "      <td>9</td>\n",
              "      <td>-5</td>\n",
              "    </tr>\n",
              "    <tr>\n",
              "      <th>b</th>\n",
              "      <td>-3</td>\n",
              "      <td>3</td>\n",
              "      <td>-8</td>\n",
              "      <td>-3</td>\n",
              "      <td>-2</td>\n",
              "      <td>5</td>\n",
              "      <td>8</td>\n",
              "      <td>-4</td>\n",
              "      <td>4</td>\n",
              "    </tr>\n",
              "    <tr>\n",
              "      <th>c</th>\n",
              "      <td>-1</td>\n",
              "      <td>0</td>\n",
              "      <td>7</td>\n",
              "      <td>-4</td>\n",
              "      <td>6</td>\n",
              "      <td>6</td>\n",
              "      <td>-9</td>\n",
              "      <td>9</td>\n",
              "      <td>-6</td>\n",
              "    </tr>\n",
              "    <tr>\n",
              "      <th rowspan=\"3\" valign=\"top\">B</th>\n",
              "      <th>a</th>\n",
              "      <td>8</td>\n",
              "      <td>5</td>\n",
              "      <td>-2</td>\n",
              "      <td>-9</td>\n",
              "      <td>-8</td>\n",
              "      <td>0</td>\n",
              "      <td>-9</td>\n",
              "      <td>1</td>\n",
              "      <td>-6</td>\n",
              "    </tr>\n",
              "    <tr>\n",
              "      <th>b</th>\n",
              "      <td>2</td>\n",
              "      <td>9</td>\n",
              "      <td>-7</td>\n",
              "      <td>-9</td>\n",
              "      <td>-9</td>\n",
              "      <td>-5</td>\n",
              "      <td>-4</td>\n",
              "      <td>-3</td>\n",
              "      <td>-1</td>\n",
              "    </tr>\n",
              "    <tr>\n",
              "      <th>c</th>\n",
              "      <td>8</td>\n",
              "      <td>6</td>\n",
              "      <td>-5</td>\n",
              "      <td>0</td>\n",
              "      <td>1</td>\n",
              "      <td>-8</td>\n",
              "      <td>-8</td>\n",
              "      <td>-2</td>\n",
              "      <td>0</td>\n",
              "    </tr>\n",
              "    <tr>\n",
              "      <th rowspan=\"3\" valign=\"top\">C</th>\n",
              "      <th>a</th>\n",
              "      <td>-6</td>\n",
              "      <td>-3</td>\n",
              "      <td>2</td>\n",
              "      <td>5</td>\n",
              "      <td>9</td>\n",
              "      <td>-9</td>\n",
              "      <td>5</td>\n",
              "      <td>-6</td>\n",
              "      <td>3</td>\n",
              "    </tr>\n",
              "    <tr>\n",
              "      <th>b</th>\n",
              "      <td>1</td>\n",
              "      <td>2</td>\n",
              "      <td>-5</td>\n",
              "      <td>-3</td>\n",
              "      <td>-5</td>\n",
              "      <td>6</td>\n",
              "      <td>-6</td>\n",
              "      <td>3</td>\n",
              "      <td>-5</td>\n",
              "    </tr>\n",
              "    <tr>\n",
              "      <th>c</th>\n",
              "      <td>-1</td>\n",
              "      <td>5</td>\n",
              "      <td>6</td>\n",
              "      <td>-6</td>\n",
              "      <td>6</td>\n",
              "      <td>4</td>\n",
              "      <td>7</td>\n",
              "      <td>8</td>\n",
              "      <td>-4</td>\n",
              "    </tr>\n",
              "  </tbody>\n",
              "</table>\n",
              "</div>"
            ],
            "text/plain": [
              "Big          D        E        F      \n",
              "Small        d  e  f  d  e  f  d  e  f\n",
              "Upper Lower                           \n",
              "A     a      3  6 -9 -6 -6 -2  0  9 -5\n",
              "      b     -3  3 -8 -3 -2  5  8 -4  4\n",
              "      c     -1  0  7 -4  6  6 -9  9 -6\n",
              "B     a      8  5 -2 -9 -8  0 -9  1 -6\n",
              "      b      2  9 -7 -9 -9 -5 -4 -3 -1\n",
              "      c      8  6 -5  0  1 -8 -8 -2  0\n",
              "C     a     -6 -3  2  5  9 -9  5 -6  3\n",
              "      b      1  2 -5 -3 -5  6 -6  3 -5\n",
              "      c     -1  5  6 -6  6  4  7  8 -4"
            ]
          },
          "metadata": {
            "tags": []
          },
          "execution_count": 56
        }
      ]
    },
    {
      "cell_type": "code",
      "metadata": {
        "id": "ekZcwrgf71QZ"
      },
      "source": [
        "idx = pd.IndexSlice #定义"
      ],
      "execution_count": 57,
      "outputs": []
    },
    {
      "cell_type": "markdown",
      "metadata": {
        "id": "JiMszvbS78fO"
      },
      "source": [
        "（1） loc[idx[*,*]] 型\r\n",
        "\r\n",
        "不能进行多层分别切片，前一个 * 表示行的选择，后一个 * 表示列的选择，与 loc 类似"
      ]
    },
    {
      "cell_type": "code",
      "metadata": {
        "colab": {
          "base_uri": "https://localhost:8080/",
          "height": 202
        },
        "id": "E1oCj4E48P69",
        "outputId": "97c25ca2-417a-47de-b780-da18acd338f4"
      },
      "source": [
        "df_ex.loc[idx['C':, ('D', 'f'):]]"
      ],
      "execution_count": 58,
      "outputs": [
        {
          "output_type": "execute_result",
          "data": {
            "text/html": [
              "<div>\n",
              "<style scoped>\n",
              "    .dataframe tbody tr th:only-of-type {\n",
              "        vertical-align: middle;\n",
              "    }\n",
              "\n",
              "    .dataframe tbody tr th {\n",
              "        vertical-align: top;\n",
              "    }\n",
              "\n",
              "    .dataframe thead tr th {\n",
              "        text-align: left;\n",
              "    }\n",
              "\n",
              "    .dataframe thead tr:last-of-type th {\n",
              "        text-align: right;\n",
              "    }\n",
              "</style>\n",
              "<table border=\"1\" class=\"dataframe\">\n",
              "  <thead>\n",
              "    <tr>\n",
              "      <th></th>\n",
              "      <th>Big</th>\n",
              "      <th>D</th>\n",
              "      <th colspan=\"3\" halign=\"left\">E</th>\n",
              "      <th colspan=\"3\" halign=\"left\">F</th>\n",
              "    </tr>\n",
              "    <tr>\n",
              "      <th></th>\n",
              "      <th>Small</th>\n",
              "      <th>f</th>\n",
              "      <th>d</th>\n",
              "      <th>e</th>\n",
              "      <th>f</th>\n",
              "      <th>d</th>\n",
              "      <th>e</th>\n",
              "      <th>f</th>\n",
              "    </tr>\n",
              "    <tr>\n",
              "      <th>Upper</th>\n",
              "      <th>Lower</th>\n",
              "      <th></th>\n",
              "      <th></th>\n",
              "      <th></th>\n",
              "      <th></th>\n",
              "      <th></th>\n",
              "      <th></th>\n",
              "      <th></th>\n",
              "    </tr>\n",
              "  </thead>\n",
              "  <tbody>\n",
              "    <tr>\n",
              "      <th rowspan=\"3\" valign=\"top\">C</th>\n",
              "      <th>a</th>\n",
              "      <td>2</td>\n",
              "      <td>5</td>\n",
              "      <td>9</td>\n",
              "      <td>-9</td>\n",
              "      <td>5</td>\n",
              "      <td>-6</td>\n",
              "      <td>3</td>\n",
              "    </tr>\n",
              "    <tr>\n",
              "      <th>b</th>\n",
              "      <td>-5</td>\n",
              "      <td>-3</td>\n",
              "      <td>-5</td>\n",
              "      <td>6</td>\n",
              "      <td>-6</td>\n",
              "      <td>3</td>\n",
              "      <td>-5</td>\n",
              "    </tr>\n",
              "    <tr>\n",
              "      <th>c</th>\n",
              "      <td>6</td>\n",
              "      <td>-6</td>\n",
              "      <td>6</td>\n",
              "      <td>4</td>\n",
              "      <td>7</td>\n",
              "      <td>8</td>\n",
              "      <td>-4</td>\n",
              "    </tr>\n",
              "  </tbody>\n",
              "</table>\n",
              "</div>"
            ],
            "text/plain": [
              "Big          D  E        F      \n",
              "Small        f  d  e  f  d  e  f\n",
              "Upper Lower                     \n",
              "C     a      2  5  9 -9  5 -6  3\n",
              "      b     -5 -3 -5  6 -6  3 -5\n",
              "      c      6 -6  6  4  7  8 -4"
            ]
          },
          "metadata": {
            "tags": []
          },
          "execution_count": 58
        }
      ]
    },
    {
      "cell_type": "code",
      "metadata": {
        "id": "GOMjUMGE8Vwz"
      },
      "source": [
        "df_ex.loc[idx[:'A', lambda x:x.sum()>0]] # 列和大于0，布尔序列的索引"
      ],
      "execution_count": null,
      "outputs": []
    },
    {
      "cell_type": "markdown",
      "metadata": {
        "id": "WD2_S4qU8dAe"
      },
      "source": [
        "（2） loc[idx[*,*],idx[*,*]] 型\r\n",
        "\r\n",
        "能够分层进行切片，前一个 idx 指代的是行索引，后一个是列索引"
      ]
    },
    {
      "cell_type": "code",
      "metadata": {
        "colab": {
          "base_uri": "https://localhost:8080/",
          "height": 171
        },
        "id": "pAY54kWF8jNd",
        "outputId": "e6a94b40-8976-480b-a36a-6198dfde6287"
      },
      "source": [
        " df_ex.loc[idx[:'A', 'b':], idx['E':, 'e':]]"
      ],
      "execution_count": 59,
      "outputs": [
        {
          "output_type": "execute_result",
          "data": {
            "text/html": [
              "<div>\n",
              "<style scoped>\n",
              "    .dataframe tbody tr th:only-of-type {\n",
              "        vertical-align: middle;\n",
              "    }\n",
              "\n",
              "    .dataframe tbody tr th {\n",
              "        vertical-align: top;\n",
              "    }\n",
              "\n",
              "    .dataframe thead tr th {\n",
              "        text-align: left;\n",
              "    }\n",
              "\n",
              "    .dataframe thead tr:last-of-type th {\n",
              "        text-align: right;\n",
              "    }\n",
              "</style>\n",
              "<table border=\"1\" class=\"dataframe\">\n",
              "  <thead>\n",
              "    <tr>\n",
              "      <th></th>\n",
              "      <th>Big</th>\n",
              "      <th colspan=\"2\" halign=\"left\">E</th>\n",
              "      <th colspan=\"2\" halign=\"left\">F</th>\n",
              "    </tr>\n",
              "    <tr>\n",
              "      <th></th>\n",
              "      <th>Small</th>\n",
              "      <th>e</th>\n",
              "      <th>f</th>\n",
              "      <th>e</th>\n",
              "      <th>f</th>\n",
              "    </tr>\n",
              "    <tr>\n",
              "      <th>Upper</th>\n",
              "      <th>Lower</th>\n",
              "      <th></th>\n",
              "      <th></th>\n",
              "      <th></th>\n",
              "      <th></th>\n",
              "    </tr>\n",
              "  </thead>\n",
              "  <tbody>\n",
              "    <tr>\n",
              "      <th rowspan=\"2\" valign=\"top\">A</th>\n",
              "      <th>b</th>\n",
              "      <td>-2</td>\n",
              "      <td>5</td>\n",
              "      <td>-4</td>\n",
              "      <td>4</td>\n",
              "    </tr>\n",
              "    <tr>\n",
              "      <th>c</th>\n",
              "      <td>6</td>\n",
              "      <td>6</td>\n",
              "      <td>9</td>\n",
              "      <td>-6</td>\n",
              "    </tr>\n",
              "  </tbody>\n",
              "</table>\n",
              "</div>"
            ],
            "text/plain": [
              "Big          E     F   \n",
              "Small        e  f  e  f\n",
              "Upper Lower            \n",
              "A     b     -2  5 -4  4\n",
              "      c      6  6  9 -6"
            ]
          },
          "metadata": {
            "tags": []
          },
          "execution_count": 59
        }
      ]
    },
    {
      "cell_type": "markdown",
      "metadata": {
        "id": "zXmAtied8hfA"
      },
      "source": [
        "### 4.多级索引的构造\r\n",
        "\r\n",
        "常用的有 from_tuples, from_arrays, from_product 三种方法，它们都是 pd.MultiIndex 对象下的函数"
      ]
    },
    {
      "cell_type": "markdown",
      "metadata": {
        "id": "ah-v3bb79FYk"
      },
      "source": [
        "from_tuples 指根据传入由元组组成的列表进行构造"
      ]
    },
    {
      "cell_type": "code",
      "metadata": {
        "colab": {
          "base_uri": "https://localhost:8080/"
        },
        "id": "Rv9lidKC9IKQ",
        "outputId": "d4041f92-a1a7-4642-b23b-8ff15145cc1a"
      },
      "source": [
        "my_tuple = [('a','cat'),('a','dog'),('b','cat'),('b','dog')]\r\n",
        "pd.MultiIndex.from_tuples(my_tuple, names=['First','Second'])"
      ],
      "execution_count": 60,
      "outputs": [
        {
          "output_type": "execute_result",
          "data": {
            "text/plain": [
              "MultiIndex([('a', 'cat'),\n",
              "            ('a', 'dog'),\n",
              "            ('b', 'cat'),\n",
              "            ('b', 'dog')],\n",
              "           names=['First', 'Second'])"
            ]
          },
          "metadata": {
            "tags": []
          },
          "execution_count": 60
        }
      ]
    },
    {
      "cell_type": "markdown",
      "metadata": {
        "id": "ApHjVNhC9Nvm"
      },
      "source": [
        "from_arrays 指根据传入列表中，对应层的列表进行构造"
      ]
    },
    {
      "cell_type": "code",
      "metadata": {
        "colab": {
          "base_uri": "https://localhost:8080/"
        },
        "id": "gpI-F91Z9QBo",
        "outputId": "cd5a373b-c60a-43e2-b323-8e89bd5d79b2"
      },
      "source": [
        "my_array = [list('aabb'), ['cat', 'dog']*2]\r\n",
        "pd.MultiIndex.from_arrays(my_array, names=['First','Second'])"
      ],
      "execution_count": 61,
      "outputs": [
        {
          "output_type": "execute_result",
          "data": {
            "text/plain": [
              "MultiIndex([('a', 'cat'),\n",
              "            ('a', 'dog'),\n",
              "            ('b', 'cat'),\n",
              "            ('b', 'dog')],\n",
              "           names=['First', 'Second'])"
            ]
          },
          "metadata": {
            "tags": []
          },
          "execution_count": 61
        }
      ]
    },
    {
      "cell_type": "markdown",
      "metadata": {
        "id": "Bg45IjB-9VwK"
      },
      "source": [
        "from_product 指根据给定多个列表的笛卡尔积进行构造"
      ]
    },
    {
      "cell_type": "code",
      "metadata": {
        "colab": {
          "base_uri": "https://localhost:8080/"
        },
        "id": "u14JBcW19Yba",
        "outputId": "4aaead7b-70c9-4a1c-9e99-2cb467b37aca"
      },
      "source": [
        "my_list1 = ['a','b']\r\n",
        "my_list2 = ['cat','dog']\r\n",
        "pd.MultiIndex.from_product([my_list1,my_list2],names=['First','Second'])"
      ],
      "execution_count": 62,
      "outputs": [
        {
          "output_type": "execute_result",
          "data": {
            "text/plain": [
              "MultiIndex([('a', 'cat'),\n",
              "            ('a', 'dog'),\n",
              "            ('b', 'cat'),\n",
              "            ('b', 'dog')],\n",
              "           names=['First', 'Second'])"
            ]
          },
          "metadata": {
            "tags": []
          },
          "execution_count": 62
        }
      ]
    },
    {
      "cell_type": "markdown",
      "metadata": {
        "id": "asO61l3-9gZn"
      },
      "source": [
        "## 三、索引的常用方法"
      ]
    },
    {
      "cell_type": "markdown",
      "metadata": {
        "id": "etGrESfn9k8T"
      },
      "source": [
        "### 1.索引层的交换和删除"
      ]
    },
    {
      "cell_type": "code",
      "metadata": {
        "colab": {
          "base_uri": "https://localhost:8080/",
          "height": 386
        },
        "id": "koWkdgI09ot9",
        "outputId": "146d2ede-3339-4de8-b8de-d69bf34176c7"
      },
      "source": [
        "# 构造一个三级索引的例子\r\n",
        "np.random.seed(0)\r\n",
        "L1,L2,L3 = ['A','B'],['a','b'],['alpha','beta']\r\n",
        "mul_index1 = pd.MultiIndex.from_product([L1,L2,L3],names=('Upper', 'Lower','Extra'))\r\n",
        "L4,L5,L6 = ['C','D'],['c','d'],['cat','dog']\r\n",
        "mul_index2 = pd.MultiIndex.from_product([L4,L5,L6],names=('Big', 'Small', 'Other'))\r\n",
        "df_ex = pd.DataFrame(np.random.randint(-9,10,(8,8)),index=mul_index1,columns=mul_index2)\r\n",
        "df_ex"
      ],
      "execution_count": 63,
      "outputs": [
        {
          "output_type": "execute_result",
          "data": {
            "text/html": [
              "<div>\n",
              "<style scoped>\n",
              "    .dataframe tbody tr th:only-of-type {\n",
              "        vertical-align: middle;\n",
              "    }\n",
              "\n",
              "    .dataframe tbody tr th {\n",
              "        vertical-align: top;\n",
              "    }\n",
              "\n",
              "    .dataframe thead tr th {\n",
              "        text-align: left;\n",
              "    }\n",
              "\n",
              "    .dataframe thead tr:last-of-type th {\n",
              "        text-align: right;\n",
              "    }\n",
              "</style>\n",
              "<table border=\"1\" class=\"dataframe\">\n",
              "  <thead>\n",
              "    <tr>\n",
              "      <th></th>\n",
              "      <th></th>\n",
              "      <th>Big</th>\n",
              "      <th colspan=\"4\" halign=\"left\">C</th>\n",
              "      <th colspan=\"4\" halign=\"left\">D</th>\n",
              "    </tr>\n",
              "    <tr>\n",
              "      <th></th>\n",
              "      <th></th>\n",
              "      <th>Small</th>\n",
              "      <th colspan=\"2\" halign=\"left\">c</th>\n",
              "      <th colspan=\"2\" halign=\"left\">d</th>\n",
              "      <th colspan=\"2\" halign=\"left\">c</th>\n",
              "      <th colspan=\"2\" halign=\"left\">d</th>\n",
              "    </tr>\n",
              "    <tr>\n",
              "      <th></th>\n",
              "      <th></th>\n",
              "      <th>Other</th>\n",
              "      <th>cat</th>\n",
              "      <th>dog</th>\n",
              "      <th>cat</th>\n",
              "      <th>dog</th>\n",
              "      <th>cat</th>\n",
              "      <th>dog</th>\n",
              "      <th>cat</th>\n",
              "      <th>dog</th>\n",
              "    </tr>\n",
              "    <tr>\n",
              "      <th>Upper</th>\n",
              "      <th>Lower</th>\n",
              "      <th>Extra</th>\n",
              "      <th></th>\n",
              "      <th></th>\n",
              "      <th></th>\n",
              "      <th></th>\n",
              "      <th></th>\n",
              "      <th></th>\n",
              "      <th></th>\n",
              "      <th></th>\n",
              "    </tr>\n",
              "  </thead>\n",
              "  <tbody>\n",
              "    <tr>\n",
              "      <th rowspan=\"4\" valign=\"top\">A</th>\n",
              "      <th rowspan=\"2\" valign=\"top\">a</th>\n",
              "      <th>alpha</th>\n",
              "      <td>3</td>\n",
              "      <td>6</td>\n",
              "      <td>-9</td>\n",
              "      <td>-6</td>\n",
              "      <td>-6</td>\n",
              "      <td>-2</td>\n",
              "      <td>0</td>\n",
              "      <td>9</td>\n",
              "    </tr>\n",
              "    <tr>\n",
              "      <th>beta</th>\n",
              "      <td>-5</td>\n",
              "      <td>-3</td>\n",
              "      <td>3</td>\n",
              "      <td>-8</td>\n",
              "      <td>-3</td>\n",
              "      <td>-2</td>\n",
              "      <td>5</td>\n",
              "      <td>8</td>\n",
              "    </tr>\n",
              "    <tr>\n",
              "      <th rowspan=\"2\" valign=\"top\">b</th>\n",
              "      <th>alpha</th>\n",
              "      <td>-4</td>\n",
              "      <td>4</td>\n",
              "      <td>-1</td>\n",
              "      <td>0</td>\n",
              "      <td>7</td>\n",
              "      <td>-4</td>\n",
              "      <td>6</td>\n",
              "      <td>6</td>\n",
              "    </tr>\n",
              "    <tr>\n",
              "      <th>beta</th>\n",
              "      <td>-9</td>\n",
              "      <td>9</td>\n",
              "      <td>-6</td>\n",
              "      <td>8</td>\n",
              "      <td>5</td>\n",
              "      <td>-2</td>\n",
              "      <td>-9</td>\n",
              "      <td>-8</td>\n",
              "    </tr>\n",
              "    <tr>\n",
              "      <th rowspan=\"4\" valign=\"top\">B</th>\n",
              "      <th rowspan=\"2\" valign=\"top\">a</th>\n",
              "      <th>alpha</th>\n",
              "      <td>0</td>\n",
              "      <td>-9</td>\n",
              "      <td>1</td>\n",
              "      <td>-6</td>\n",
              "      <td>2</td>\n",
              "      <td>9</td>\n",
              "      <td>-7</td>\n",
              "      <td>-9</td>\n",
              "    </tr>\n",
              "    <tr>\n",
              "      <th>beta</th>\n",
              "      <td>-9</td>\n",
              "      <td>-5</td>\n",
              "      <td>-4</td>\n",
              "      <td>-3</td>\n",
              "      <td>-1</td>\n",
              "      <td>8</td>\n",
              "      <td>6</td>\n",
              "      <td>-5</td>\n",
              "    </tr>\n",
              "    <tr>\n",
              "      <th rowspan=\"2\" valign=\"top\">b</th>\n",
              "      <th>alpha</th>\n",
              "      <td>0</td>\n",
              "      <td>1</td>\n",
              "      <td>-8</td>\n",
              "      <td>-8</td>\n",
              "      <td>-2</td>\n",
              "      <td>0</td>\n",
              "      <td>-6</td>\n",
              "      <td>-3</td>\n",
              "    </tr>\n",
              "    <tr>\n",
              "      <th>beta</th>\n",
              "      <td>2</td>\n",
              "      <td>5</td>\n",
              "      <td>9</td>\n",
              "      <td>-9</td>\n",
              "      <td>5</td>\n",
              "      <td>-6</td>\n",
              "      <td>3</td>\n",
              "      <td>1</td>\n",
              "    </tr>\n",
              "  </tbody>\n",
              "</table>\n",
              "</div>"
            ],
            "text/plain": [
              "Big                 C               D            \n",
              "Small               c       d       c       d    \n",
              "Other             cat dog cat dog cat dog cat dog\n",
              "Upper Lower Extra                                \n",
              "A     a     alpha   3   6  -9  -6  -6  -2   0   9\n",
              "            beta   -5  -3   3  -8  -3  -2   5   8\n",
              "      b     alpha  -4   4  -1   0   7  -4   6   6\n",
              "            beta   -9   9  -6   8   5  -2  -9  -8\n",
              "B     a     alpha   0  -9   1  -6   2   9  -7  -9\n",
              "            beta   -9  -5  -4  -3  -1   8   6  -5\n",
              "      b     alpha   0   1  -8  -8  -2   0  -6  -3\n",
              "            beta    2   5   9  -9   5  -6   3   1"
            ]
          },
          "metadata": {
            "tags": []
          },
          "execution_count": 63
        }
      ]
    },
    {
      "cell_type": "markdown",
      "metadata": {
        "id": "gAPgxTIK96ni"
      },
      "source": [
        "索引层的交换由 swaplevel 和 reorder_levels 完成，前者只能交换两个层，而后者可以交换任意层，两者都可以指定交换的是轴是哪一个，即行索引或列索引"
      ]
    },
    {
      "cell_type": "code",
      "metadata": {
        "id": "bYZGcQoA-C7X"
      },
      "source": [
        " df_ex.swaplevel(0,2,axis=1).head() # 列索引的第一层和第三层交换\r\n",
        " df_ex.reorder_levels([2,0,1],axis=0).head() # 列表数字指代原来索引中的层"
      ],
      "execution_count": null,
      "outputs": []
    },
    {
      "cell_type": "markdown",
      "metadata": {
        "id": "Nzi4TuJE-Klp"
      },
      "source": [
        "想要删除某一层的索引，可以使用 droplevel 方法"
      ]
    },
    {
      "cell_type": "code",
      "metadata": {
        "colab": {
          "base_uri": "https://localhost:8080/",
          "height": 355
        },
        "id": "GjnoeVpq-N-Q",
        "outputId": "48b60392-99f1-4a76-fc48-feddf26acd8d"
      },
      "source": [
        "df_ex.droplevel(1,axis=1)"
      ],
      "execution_count": 64,
      "outputs": [
        {
          "output_type": "execute_result",
          "data": {
            "text/html": [
              "<div>\n",
              "<style scoped>\n",
              "    .dataframe tbody tr th:only-of-type {\n",
              "        vertical-align: middle;\n",
              "    }\n",
              "\n",
              "    .dataframe tbody tr th {\n",
              "        vertical-align: top;\n",
              "    }\n",
              "\n",
              "    .dataframe thead tr th {\n",
              "        text-align: left;\n",
              "    }\n",
              "\n",
              "    .dataframe thead tr:last-of-type th {\n",
              "        text-align: right;\n",
              "    }\n",
              "</style>\n",
              "<table border=\"1\" class=\"dataframe\">\n",
              "  <thead>\n",
              "    <tr>\n",
              "      <th></th>\n",
              "      <th></th>\n",
              "      <th>Big</th>\n",
              "      <th colspan=\"4\" halign=\"left\">C</th>\n",
              "      <th colspan=\"4\" halign=\"left\">D</th>\n",
              "    </tr>\n",
              "    <tr>\n",
              "      <th></th>\n",
              "      <th></th>\n",
              "      <th>Other</th>\n",
              "      <th>cat</th>\n",
              "      <th>dog</th>\n",
              "      <th>cat</th>\n",
              "      <th>dog</th>\n",
              "      <th>cat</th>\n",
              "      <th>dog</th>\n",
              "      <th>cat</th>\n",
              "      <th>dog</th>\n",
              "    </tr>\n",
              "    <tr>\n",
              "      <th>Upper</th>\n",
              "      <th>Lower</th>\n",
              "      <th>Extra</th>\n",
              "      <th></th>\n",
              "      <th></th>\n",
              "      <th></th>\n",
              "      <th></th>\n",
              "      <th></th>\n",
              "      <th></th>\n",
              "      <th></th>\n",
              "      <th></th>\n",
              "    </tr>\n",
              "  </thead>\n",
              "  <tbody>\n",
              "    <tr>\n",
              "      <th rowspan=\"4\" valign=\"top\">A</th>\n",
              "      <th rowspan=\"2\" valign=\"top\">a</th>\n",
              "      <th>alpha</th>\n",
              "      <td>3</td>\n",
              "      <td>6</td>\n",
              "      <td>-9</td>\n",
              "      <td>-6</td>\n",
              "      <td>-6</td>\n",
              "      <td>-2</td>\n",
              "      <td>0</td>\n",
              "      <td>9</td>\n",
              "    </tr>\n",
              "    <tr>\n",
              "      <th>beta</th>\n",
              "      <td>-5</td>\n",
              "      <td>-3</td>\n",
              "      <td>3</td>\n",
              "      <td>-8</td>\n",
              "      <td>-3</td>\n",
              "      <td>-2</td>\n",
              "      <td>5</td>\n",
              "      <td>8</td>\n",
              "    </tr>\n",
              "    <tr>\n",
              "      <th rowspan=\"2\" valign=\"top\">b</th>\n",
              "      <th>alpha</th>\n",
              "      <td>-4</td>\n",
              "      <td>4</td>\n",
              "      <td>-1</td>\n",
              "      <td>0</td>\n",
              "      <td>7</td>\n",
              "      <td>-4</td>\n",
              "      <td>6</td>\n",
              "      <td>6</td>\n",
              "    </tr>\n",
              "    <tr>\n",
              "      <th>beta</th>\n",
              "      <td>-9</td>\n",
              "      <td>9</td>\n",
              "      <td>-6</td>\n",
              "      <td>8</td>\n",
              "      <td>5</td>\n",
              "      <td>-2</td>\n",
              "      <td>-9</td>\n",
              "      <td>-8</td>\n",
              "    </tr>\n",
              "    <tr>\n",
              "      <th rowspan=\"4\" valign=\"top\">B</th>\n",
              "      <th rowspan=\"2\" valign=\"top\">a</th>\n",
              "      <th>alpha</th>\n",
              "      <td>0</td>\n",
              "      <td>-9</td>\n",
              "      <td>1</td>\n",
              "      <td>-6</td>\n",
              "      <td>2</td>\n",
              "      <td>9</td>\n",
              "      <td>-7</td>\n",
              "      <td>-9</td>\n",
              "    </tr>\n",
              "    <tr>\n",
              "      <th>beta</th>\n",
              "      <td>-9</td>\n",
              "      <td>-5</td>\n",
              "      <td>-4</td>\n",
              "      <td>-3</td>\n",
              "      <td>-1</td>\n",
              "      <td>8</td>\n",
              "      <td>6</td>\n",
              "      <td>-5</td>\n",
              "    </tr>\n",
              "    <tr>\n",
              "      <th rowspan=\"2\" valign=\"top\">b</th>\n",
              "      <th>alpha</th>\n",
              "      <td>0</td>\n",
              "      <td>1</td>\n",
              "      <td>-8</td>\n",
              "      <td>-8</td>\n",
              "      <td>-2</td>\n",
              "      <td>0</td>\n",
              "      <td>-6</td>\n",
              "      <td>-3</td>\n",
              "    </tr>\n",
              "    <tr>\n",
              "      <th>beta</th>\n",
              "      <td>2</td>\n",
              "      <td>5</td>\n",
              "      <td>9</td>\n",
              "      <td>-9</td>\n",
              "      <td>5</td>\n",
              "      <td>-6</td>\n",
              "      <td>3</td>\n",
              "      <td>1</td>\n",
              "    </tr>\n",
              "  </tbody>\n",
              "</table>\n",
              "</div>"
            ],
            "text/plain": [
              "Big                 C               D            \n",
              "Other             cat dog cat dog cat dog cat dog\n",
              "Upper Lower Extra                                \n",
              "A     a     alpha   3   6  -9  -6  -6  -2   0   9\n",
              "            beta   -5  -3   3  -8  -3  -2   5   8\n",
              "      b     alpha  -4   4  -1   0   7  -4   6   6\n",
              "            beta   -9   9  -6   8   5  -2  -9  -8\n",
              "B     a     alpha   0  -9   1  -6   2   9  -7  -9\n",
              "            beta   -9  -5  -4  -3  -1   8   6  -5\n",
              "      b     alpha   0   1  -8  -8  -2   0  -6  -3\n",
              "            beta    2   5   9  -9   5  -6   3   1"
            ]
          },
          "metadata": {
            "tags": []
          },
          "execution_count": 64
        }
      ]
    },
    {
      "cell_type": "code",
      "metadata": {
        "id": "p6biO27H-V5O"
      },
      "source": [
        "df_ex.droplevel([0,1],axis=0)"
      ],
      "execution_count": null,
      "outputs": []
    },
    {
      "cell_type": "markdown",
      "metadata": {
        "id": "-m0Ey0JR-Xz-"
      },
      "source": [
        "### 2.索引属性的修改\r\n",
        "\r\n",
        "rename_axis 可以对索引层的名字进行修改，常用的修改方式是传入字典的映射"
      ]
    },
    {
      "cell_type": "code",
      "metadata": {
        "colab": {
          "base_uri": "https://localhost:8080/",
          "height": 294
        },
        "id": "5ppw8yoA-m2T",
        "outputId": "d200d186-1be6-4040-ad2b-b8bed460ac9f"
      },
      "source": [
        "df_ex.rename_axis(index={'Upper':'Changed_row'},columns={'Other':'Changed_Col'}).head()"
      ],
      "execution_count": 65,
      "outputs": [
        {
          "output_type": "execute_result",
          "data": {
            "text/html": [
              "<div>\n",
              "<style scoped>\n",
              "    .dataframe tbody tr th:only-of-type {\n",
              "        vertical-align: middle;\n",
              "    }\n",
              "\n",
              "    .dataframe tbody tr th {\n",
              "        vertical-align: top;\n",
              "    }\n",
              "\n",
              "    .dataframe thead tr th {\n",
              "        text-align: left;\n",
              "    }\n",
              "\n",
              "    .dataframe thead tr:last-of-type th {\n",
              "        text-align: right;\n",
              "    }\n",
              "</style>\n",
              "<table border=\"1\" class=\"dataframe\">\n",
              "  <thead>\n",
              "    <tr>\n",
              "      <th></th>\n",
              "      <th></th>\n",
              "      <th>Big</th>\n",
              "      <th colspan=\"4\" halign=\"left\">C</th>\n",
              "      <th colspan=\"4\" halign=\"left\">D</th>\n",
              "    </tr>\n",
              "    <tr>\n",
              "      <th></th>\n",
              "      <th></th>\n",
              "      <th>Small</th>\n",
              "      <th colspan=\"2\" halign=\"left\">c</th>\n",
              "      <th colspan=\"2\" halign=\"left\">d</th>\n",
              "      <th colspan=\"2\" halign=\"left\">c</th>\n",
              "      <th colspan=\"2\" halign=\"left\">d</th>\n",
              "    </tr>\n",
              "    <tr>\n",
              "      <th></th>\n",
              "      <th></th>\n",
              "      <th>Changed_Col</th>\n",
              "      <th>cat</th>\n",
              "      <th>dog</th>\n",
              "      <th>cat</th>\n",
              "      <th>dog</th>\n",
              "      <th>cat</th>\n",
              "      <th>dog</th>\n",
              "      <th>cat</th>\n",
              "      <th>dog</th>\n",
              "    </tr>\n",
              "    <tr>\n",
              "      <th>Changed_row</th>\n",
              "      <th>Lower</th>\n",
              "      <th>Extra</th>\n",
              "      <th></th>\n",
              "      <th></th>\n",
              "      <th></th>\n",
              "      <th></th>\n",
              "      <th></th>\n",
              "      <th></th>\n",
              "      <th></th>\n",
              "      <th></th>\n",
              "    </tr>\n",
              "  </thead>\n",
              "  <tbody>\n",
              "    <tr>\n",
              "      <th rowspan=\"4\" valign=\"top\">A</th>\n",
              "      <th rowspan=\"2\" valign=\"top\">a</th>\n",
              "      <th>alpha</th>\n",
              "      <td>3</td>\n",
              "      <td>6</td>\n",
              "      <td>-9</td>\n",
              "      <td>-6</td>\n",
              "      <td>-6</td>\n",
              "      <td>-2</td>\n",
              "      <td>0</td>\n",
              "      <td>9</td>\n",
              "    </tr>\n",
              "    <tr>\n",
              "      <th>beta</th>\n",
              "      <td>-5</td>\n",
              "      <td>-3</td>\n",
              "      <td>3</td>\n",
              "      <td>-8</td>\n",
              "      <td>-3</td>\n",
              "      <td>-2</td>\n",
              "      <td>5</td>\n",
              "      <td>8</td>\n",
              "    </tr>\n",
              "    <tr>\n",
              "      <th rowspan=\"2\" valign=\"top\">b</th>\n",
              "      <th>alpha</th>\n",
              "      <td>-4</td>\n",
              "      <td>4</td>\n",
              "      <td>-1</td>\n",
              "      <td>0</td>\n",
              "      <td>7</td>\n",
              "      <td>-4</td>\n",
              "      <td>6</td>\n",
              "      <td>6</td>\n",
              "    </tr>\n",
              "    <tr>\n",
              "      <th>beta</th>\n",
              "      <td>-9</td>\n",
              "      <td>9</td>\n",
              "      <td>-6</td>\n",
              "      <td>8</td>\n",
              "      <td>5</td>\n",
              "      <td>-2</td>\n",
              "      <td>-9</td>\n",
              "      <td>-8</td>\n",
              "    </tr>\n",
              "    <tr>\n",
              "      <th>B</th>\n",
              "      <th>a</th>\n",
              "      <th>alpha</th>\n",
              "      <td>0</td>\n",
              "      <td>-9</td>\n",
              "      <td>1</td>\n",
              "      <td>-6</td>\n",
              "      <td>2</td>\n",
              "      <td>9</td>\n",
              "      <td>-7</td>\n",
              "      <td>-9</td>\n",
              "    </tr>\n",
              "  </tbody>\n",
              "</table>\n",
              "</div>"
            ],
            "text/plain": [
              "Big                       C               D            \n",
              "Small                     c       d       c       d    \n",
              "Changed_Col             cat dog cat dog cat dog cat dog\n",
              "Changed_row Lower Extra                                \n",
              "A           a     alpha   3   6  -9  -6  -6  -2   0   9\n",
              "                  beta   -5  -3   3  -8  -3  -2   5   8\n",
              "            b     alpha  -4   4  -1   0   7  -4   6   6\n",
              "                  beta   -9   9  -6   8   5  -2  -9  -8\n",
              "B           a     alpha   0  -9   1  -6   2   9  -7  -9"
            ]
          },
          "metadata": {
            "tags": []
          },
          "execution_count": 65
        }
      ]
    },
    {
      "cell_type": "markdown",
      "metadata": {
        "id": "8D_X39u_-sKu"
      },
      "source": [
        "通过 rename 可以对索引的值进行修改，如果是多级索引需要指定修改的层号 level"
      ]
    },
    {
      "cell_type": "code",
      "metadata": {
        "colab": {
          "base_uri": "https://localhost:8080/",
          "height": 294
        },
        "id": "j9hhZlEc-uZD",
        "outputId": "4a00c2b1-b753-410c-8bbf-0aed62dfbf51"
      },
      "source": [
        "df_ex.rename(columns={'cat':'not_cat'},level=2).head()"
      ],
      "execution_count": 66,
      "outputs": [
        {
          "output_type": "execute_result",
          "data": {
            "text/html": [
              "<div>\n",
              "<style scoped>\n",
              "    .dataframe tbody tr th:only-of-type {\n",
              "        vertical-align: middle;\n",
              "    }\n",
              "\n",
              "    .dataframe tbody tr th {\n",
              "        vertical-align: top;\n",
              "    }\n",
              "\n",
              "    .dataframe thead tr th {\n",
              "        text-align: left;\n",
              "    }\n",
              "\n",
              "    .dataframe thead tr:last-of-type th {\n",
              "        text-align: right;\n",
              "    }\n",
              "</style>\n",
              "<table border=\"1\" class=\"dataframe\">\n",
              "  <thead>\n",
              "    <tr>\n",
              "      <th></th>\n",
              "      <th></th>\n",
              "      <th>Big</th>\n",
              "      <th colspan=\"4\" halign=\"left\">C</th>\n",
              "      <th colspan=\"4\" halign=\"left\">D</th>\n",
              "    </tr>\n",
              "    <tr>\n",
              "      <th></th>\n",
              "      <th></th>\n",
              "      <th>Small</th>\n",
              "      <th colspan=\"2\" halign=\"left\">c</th>\n",
              "      <th colspan=\"2\" halign=\"left\">d</th>\n",
              "      <th colspan=\"2\" halign=\"left\">c</th>\n",
              "      <th colspan=\"2\" halign=\"left\">d</th>\n",
              "    </tr>\n",
              "    <tr>\n",
              "      <th></th>\n",
              "      <th></th>\n",
              "      <th>Other</th>\n",
              "      <th>not_cat</th>\n",
              "      <th>dog</th>\n",
              "      <th>not_cat</th>\n",
              "      <th>dog</th>\n",
              "      <th>not_cat</th>\n",
              "      <th>dog</th>\n",
              "      <th>not_cat</th>\n",
              "      <th>dog</th>\n",
              "    </tr>\n",
              "    <tr>\n",
              "      <th>Upper</th>\n",
              "      <th>Lower</th>\n",
              "      <th>Extra</th>\n",
              "      <th></th>\n",
              "      <th></th>\n",
              "      <th></th>\n",
              "      <th></th>\n",
              "      <th></th>\n",
              "      <th></th>\n",
              "      <th></th>\n",
              "      <th></th>\n",
              "    </tr>\n",
              "  </thead>\n",
              "  <tbody>\n",
              "    <tr>\n",
              "      <th rowspan=\"4\" valign=\"top\">A</th>\n",
              "      <th rowspan=\"2\" valign=\"top\">a</th>\n",
              "      <th>alpha</th>\n",
              "      <td>3</td>\n",
              "      <td>6</td>\n",
              "      <td>-9</td>\n",
              "      <td>-6</td>\n",
              "      <td>-6</td>\n",
              "      <td>-2</td>\n",
              "      <td>0</td>\n",
              "      <td>9</td>\n",
              "    </tr>\n",
              "    <tr>\n",
              "      <th>beta</th>\n",
              "      <td>-5</td>\n",
              "      <td>-3</td>\n",
              "      <td>3</td>\n",
              "      <td>-8</td>\n",
              "      <td>-3</td>\n",
              "      <td>-2</td>\n",
              "      <td>5</td>\n",
              "      <td>8</td>\n",
              "    </tr>\n",
              "    <tr>\n",
              "      <th rowspan=\"2\" valign=\"top\">b</th>\n",
              "      <th>alpha</th>\n",
              "      <td>-4</td>\n",
              "      <td>4</td>\n",
              "      <td>-1</td>\n",
              "      <td>0</td>\n",
              "      <td>7</td>\n",
              "      <td>-4</td>\n",
              "      <td>6</td>\n",
              "      <td>6</td>\n",
              "    </tr>\n",
              "    <tr>\n",
              "      <th>beta</th>\n",
              "      <td>-9</td>\n",
              "      <td>9</td>\n",
              "      <td>-6</td>\n",
              "      <td>8</td>\n",
              "      <td>5</td>\n",
              "      <td>-2</td>\n",
              "      <td>-9</td>\n",
              "      <td>-8</td>\n",
              "    </tr>\n",
              "    <tr>\n",
              "      <th>B</th>\n",
              "      <th>a</th>\n",
              "      <th>alpha</th>\n",
              "      <td>0</td>\n",
              "      <td>-9</td>\n",
              "      <td>1</td>\n",
              "      <td>-6</td>\n",
              "      <td>2</td>\n",
              "      <td>9</td>\n",
              "      <td>-7</td>\n",
              "      <td>-9</td>\n",
              "    </tr>\n",
              "  </tbody>\n",
              "</table>\n",
              "</div>"
            ],
            "text/plain": [
              "Big                     C                       D                \n",
              "Small                   c           d           c           d    \n",
              "Other             not_cat dog not_cat dog not_cat dog not_cat dog\n",
              "Upper Lower Extra                                                \n",
              "A     a     alpha       3   6      -9  -6      -6  -2       0   9\n",
              "            beta       -5  -3       3  -8      -3  -2       5   8\n",
              "      b     alpha      -4   4      -1   0       7  -4       6   6\n",
              "            beta       -9   9      -6   8       5  -2      -9  -8\n",
              "B     a     alpha       0  -9       1  -6       2   9      -7  -9"
            ]
          },
          "metadata": {
            "tags": []
          },
          "execution_count": 66
        }
      ]
    },
    {
      "cell_type": "markdown",
      "metadata": {
        "id": "IlbSXaL0-zHW"
      },
      "source": [
        "传入参数也可以是函数，其输入值就是索引元素"
      ]
    },
    {
      "cell_type": "code",
      "metadata": {
        "colab": {
          "base_uri": "https://localhost:8080/",
          "height": 294
        },
        "id": "XDeKEFRN-1jh",
        "outputId": "fc8e6244-3de5-42a8-ee75-0463286e33db"
      },
      "source": [
        "df_ex.rename(index=lambda x:str.upper(x),level=2).head()"
      ],
      "execution_count": 67,
      "outputs": [
        {
          "output_type": "execute_result",
          "data": {
            "text/html": [
              "<div>\n",
              "<style scoped>\n",
              "    .dataframe tbody tr th:only-of-type {\n",
              "        vertical-align: middle;\n",
              "    }\n",
              "\n",
              "    .dataframe tbody tr th {\n",
              "        vertical-align: top;\n",
              "    }\n",
              "\n",
              "    .dataframe thead tr th {\n",
              "        text-align: left;\n",
              "    }\n",
              "\n",
              "    .dataframe thead tr:last-of-type th {\n",
              "        text-align: right;\n",
              "    }\n",
              "</style>\n",
              "<table border=\"1\" class=\"dataframe\">\n",
              "  <thead>\n",
              "    <tr>\n",
              "      <th></th>\n",
              "      <th></th>\n",
              "      <th>Big</th>\n",
              "      <th colspan=\"4\" halign=\"left\">C</th>\n",
              "      <th colspan=\"4\" halign=\"left\">D</th>\n",
              "    </tr>\n",
              "    <tr>\n",
              "      <th></th>\n",
              "      <th></th>\n",
              "      <th>Small</th>\n",
              "      <th colspan=\"2\" halign=\"left\">c</th>\n",
              "      <th colspan=\"2\" halign=\"left\">d</th>\n",
              "      <th colspan=\"2\" halign=\"left\">c</th>\n",
              "      <th colspan=\"2\" halign=\"left\">d</th>\n",
              "    </tr>\n",
              "    <tr>\n",
              "      <th></th>\n",
              "      <th></th>\n",
              "      <th>Other</th>\n",
              "      <th>cat</th>\n",
              "      <th>dog</th>\n",
              "      <th>cat</th>\n",
              "      <th>dog</th>\n",
              "      <th>cat</th>\n",
              "      <th>dog</th>\n",
              "      <th>cat</th>\n",
              "      <th>dog</th>\n",
              "    </tr>\n",
              "    <tr>\n",
              "      <th>Upper</th>\n",
              "      <th>Lower</th>\n",
              "      <th>Extra</th>\n",
              "      <th></th>\n",
              "      <th></th>\n",
              "      <th></th>\n",
              "      <th></th>\n",
              "      <th></th>\n",
              "      <th></th>\n",
              "      <th></th>\n",
              "      <th></th>\n",
              "    </tr>\n",
              "  </thead>\n",
              "  <tbody>\n",
              "    <tr>\n",
              "      <th rowspan=\"4\" valign=\"top\">A</th>\n",
              "      <th rowspan=\"2\" valign=\"top\">a</th>\n",
              "      <th>ALPHA</th>\n",
              "      <td>3</td>\n",
              "      <td>6</td>\n",
              "      <td>-9</td>\n",
              "      <td>-6</td>\n",
              "      <td>-6</td>\n",
              "      <td>-2</td>\n",
              "      <td>0</td>\n",
              "      <td>9</td>\n",
              "    </tr>\n",
              "    <tr>\n",
              "      <th>BETA</th>\n",
              "      <td>-5</td>\n",
              "      <td>-3</td>\n",
              "      <td>3</td>\n",
              "      <td>-8</td>\n",
              "      <td>-3</td>\n",
              "      <td>-2</td>\n",
              "      <td>5</td>\n",
              "      <td>8</td>\n",
              "    </tr>\n",
              "    <tr>\n",
              "      <th rowspan=\"2\" valign=\"top\">b</th>\n",
              "      <th>ALPHA</th>\n",
              "      <td>-4</td>\n",
              "      <td>4</td>\n",
              "      <td>-1</td>\n",
              "      <td>0</td>\n",
              "      <td>7</td>\n",
              "      <td>-4</td>\n",
              "      <td>6</td>\n",
              "      <td>6</td>\n",
              "    </tr>\n",
              "    <tr>\n",
              "      <th>BETA</th>\n",
              "      <td>-9</td>\n",
              "      <td>9</td>\n",
              "      <td>-6</td>\n",
              "      <td>8</td>\n",
              "      <td>5</td>\n",
              "      <td>-2</td>\n",
              "      <td>-9</td>\n",
              "      <td>-8</td>\n",
              "    </tr>\n",
              "    <tr>\n",
              "      <th>B</th>\n",
              "      <th>a</th>\n",
              "      <th>ALPHA</th>\n",
              "      <td>0</td>\n",
              "      <td>-9</td>\n",
              "      <td>1</td>\n",
              "      <td>-6</td>\n",
              "      <td>2</td>\n",
              "      <td>9</td>\n",
              "      <td>-7</td>\n",
              "      <td>-9</td>\n",
              "    </tr>\n",
              "  </tbody>\n",
              "</table>\n",
              "</div>"
            ],
            "text/plain": [
              "Big                 C               D            \n",
              "Small               c       d       c       d    \n",
              "Other             cat dog cat dog cat dog cat dog\n",
              "Upper Lower Extra                                \n",
              "A     a     ALPHA   3   6  -9  -6  -6  -2   0   9\n",
              "            BETA   -5  -3   3  -8  -3  -2   5   8\n",
              "      b     ALPHA  -4   4  -1   0   7  -4   6   6\n",
              "            BETA   -9   9  -6   8   5  -2  -9  -8\n",
              "B     a     ALPHA   0  -9   1  -6   2   9  -7  -9"
            ]
          },
          "metadata": {
            "tags": []
          },
          "execution_count": 67
        }
      ]
    },
    {
      "cell_type": "markdown",
      "metadata": {
        "id": "IrqgmnMR-6C0"
      },
      "source": [
        "对于整个索引的元素替换，可以利用迭代器实现"
      ]
    },
    {
      "cell_type": "code",
      "metadata": {
        "colab": {
          "base_uri": "https://localhost:8080/",
          "height": 386
        },
        "id": "kBlK4iEM-77A",
        "outputId": "a5093f1f-ca81-48b7-9121-744f69bfb244"
      },
      "source": [
        "new_values = iter(list('abcdefgh'))\r\n",
        "df_ex.rename(index=lambda x:next(new_values),level=2)"
      ],
      "execution_count": 69,
      "outputs": [
        {
          "output_type": "execute_result",
          "data": {
            "text/html": [
              "<div>\n",
              "<style scoped>\n",
              "    .dataframe tbody tr th:only-of-type {\n",
              "        vertical-align: middle;\n",
              "    }\n",
              "\n",
              "    .dataframe tbody tr th {\n",
              "        vertical-align: top;\n",
              "    }\n",
              "\n",
              "    .dataframe thead tr th {\n",
              "        text-align: left;\n",
              "    }\n",
              "\n",
              "    .dataframe thead tr:last-of-type th {\n",
              "        text-align: right;\n",
              "    }\n",
              "</style>\n",
              "<table border=\"1\" class=\"dataframe\">\n",
              "  <thead>\n",
              "    <tr>\n",
              "      <th></th>\n",
              "      <th></th>\n",
              "      <th>Big</th>\n",
              "      <th colspan=\"4\" halign=\"left\">C</th>\n",
              "      <th colspan=\"4\" halign=\"left\">D</th>\n",
              "    </tr>\n",
              "    <tr>\n",
              "      <th></th>\n",
              "      <th></th>\n",
              "      <th>Small</th>\n",
              "      <th colspan=\"2\" halign=\"left\">c</th>\n",
              "      <th colspan=\"2\" halign=\"left\">d</th>\n",
              "      <th colspan=\"2\" halign=\"left\">c</th>\n",
              "      <th colspan=\"2\" halign=\"left\">d</th>\n",
              "    </tr>\n",
              "    <tr>\n",
              "      <th></th>\n",
              "      <th></th>\n",
              "      <th>Other</th>\n",
              "      <th>cat</th>\n",
              "      <th>dog</th>\n",
              "      <th>cat</th>\n",
              "      <th>dog</th>\n",
              "      <th>cat</th>\n",
              "      <th>dog</th>\n",
              "      <th>cat</th>\n",
              "      <th>dog</th>\n",
              "    </tr>\n",
              "    <tr>\n",
              "      <th>Upper</th>\n",
              "      <th>Lower</th>\n",
              "      <th>Extra</th>\n",
              "      <th></th>\n",
              "      <th></th>\n",
              "      <th></th>\n",
              "      <th></th>\n",
              "      <th></th>\n",
              "      <th></th>\n",
              "      <th></th>\n",
              "      <th></th>\n",
              "    </tr>\n",
              "  </thead>\n",
              "  <tbody>\n",
              "    <tr>\n",
              "      <th rowspan=\"4\" valign=\"top\">A</th>\n",
              "      <th rowspan=\"2\" valign=\"top\">a</th>\n",
              "      <th>a</th>\n",
              "      <td>3</td>\n",
              "      <td>6</td>\n",
              "      <td>-9</td>\n",
              "      <td>-6</td>\n",
              "      <td>-6</td>\n",
              "      <td>-2</td>\n",
              "      <td>0</td>\n",
              "      <td>9</td>\n",
              "    </tr>\n",
              "    <tr>\n",
              "      <th>b</th>\n",
              "      <td>-5</td>\n",
              "      <td>-3</td>\n",
              "      <td>3</td>\n",
              "      <td>-8</td>\n",
              "      <td>-3</td>\n",
              "      <td>-2</td>\n",
              "      <td>5</td>\n",
              "      <td>8</td>\n",
              "    </tr>\n",
              "    <tr>\n",
              "      <th rowspan=\"2\" valign=\"top\">b</th>\n",
              "      <th>c</th>\n",
              "      <td>-4</td>\n",
              "      <td>4</td>\n",
              "      <td>-1</td>\n",
              "      <td>0</td>\n",
              "      <td>7</td>\n",
              "      <td>-4</td>\n",
              "      <td>6</td>\n",
              "      <td>6</td>\n",
              "    </tr>\n",
              "    <tr>\n",
              "      <th>d</th>\n",
              "      <td>-9</td>\n",
              "      <td>9</td>\n",
              "      <td>-6</td>\n",
              "      <td>8</td>\n",
              "      <td>5</td>\n",
              "      <td>-2</td>\n",
              "      <td>-9</td>\n",
              "      <td>-8</td>\n",
              "    </tr>\n",
              "    <tr>\n",
              "      <th rowspan=\"4\" valign=\"top\">B</th>\n",
              "      <th rowspan=\"2\" valign=\"top\">a</th>\n",
              "      <th>e</th>\n",
              "      <td>0</td>\n",
              "      <td>-9</td>\n",
              "      <td>1</td>\n",
              "      <td>-6</td>\n",
              "      <td>2</td>\n",
              "      <td>9</td>\n",
              "      <td>-7</td>\n",
              "      <td>-9</td>\n",
              "    </tr>\n",
              "    <tr>\n",
              "      <th>f</th>\n",
              "      <td>-9</td>\n",
              "      <td>-5</td>\n",
              "      <td>-4</td>\n",
              "      <td>-3</td>\n",
              "      <td>-1</td>\n",
              "      <td>8</td>\n",
              "      <td>6</td>\n",
              "      <td>-5</td>\n",
              "    </tr>\n",
              "    <tr>\n",
              "      <th rowspan=\"2\" valign=\"top\">b</th>\n",
              "      <th>g</th>\n",
              "      <td>0</td>\n",
              "      <td>1</td>\n",
              "      <td>-8</td>\n",
              "      <td>-8</td>\n",
              "      <td>-2</td>\n",
              "      <td>0</td>\n",
              "      <td>-6</td>\n",
              "      <td>-3</td>\n",
              "    </tr>\n",
              "    <tr>\n",
              "      <th>h</th>\n",
              "      <td>2</td>\n",
              "      <td>5</td>\n",
              "      <td>9</td>\n",
              "      <td>-9</td>\n",
              "      <td>5</td>\n",
              "      <td>-6</td>\n",
              "      <td>3</td>\n",
              "      <td>1</td>\n",
              "    </tr>\n",
              "  </tbody>\n",
              "</table>\n",
              "</div>"
            ],
            "text/plain": [
              "Big                 C               D            \n",
              "Small               c       d       c       d    \n",
              "Other             cat dog cat dog cat dog cat dog\n",
              "Upper Lower Extra                                \n",
              "A     a     a       3   6  -9  -6  -6  -2   0   9\n",
              "            b      -5  -3   3  -8  -3  -2   5   8\n",
              "      b     c      -4   4  -1   0   7  -4   6   6\n",
              "            d      -9   9  -6   8   5  -2  -9  -8\n",
              "B     a     e       0  -9   1  -6   2   9  -7  -9\n",
              "            f      -9  -5  -4  -3  -1   8   6  -5\n",
              "      b     g       0   1  -8  -8  -2   0  -6  -3\n",
              "            h       2   5   9  -9   5  -6   3   1"
            ]
          },
          "metadata": {
            "tags": []
          },
          "execution_count": 69
        }
      ]
    },
    {
      "cell_type": "markdown",
      "metadata": {
        "id": "JJEZTfSs_GI_"
      },
      "source": [
        " map：定义在 Index 上的方法，它传入的不是层的标量值，而是直接传入索引的元组，为跨层的修改提供了遍历\r\n",
        "\r\n",
        " "
      ]
    },
    {
      "cell_type": "code",
      "metadata": {
        "colab": {
          "base_uri": "https://localhost:8080/",
          "height": 294
        },
        "id": "l6bDLkm-_Miv",
        "outputId": "42e479b8-8caf-43aa-e57f-79e51cddf11c"
      },
      "source": [
        "df_temp = df_ex.copy()\r\n",
        "new_idx = df_temp.index.map(lambda x: (x[0],x[1],str.upper(x[2])))\r\n",
        "df_temp.index = new_idx\r\n",
        "df_temp.head()"
      ],
      "execution_count": 70,
      "outputs": [
        {
          "output_type": "execute_result",
          "data": {
            "text/html": [
              "<div>\n",
              "<style scoped>\n",
              "    .dataframe tbody tr th:only-of-type {\n",
              "        vertical-align: middle;\n",
              "    }\n",
              "\n",
              "    .dataframe tbody tr th {\n",
              "        vertical-align: top;\n",
              "    }\n",
              "\n",
              "    .dataframe thead tr th {\n",
              "        text-align: left;\n",
              "    }\n",
              "\n",
              "    .dataframe thead tr:last-of-type th {\n",
              "        text-align: right;\n",
              "    }\n",
              "</style>\n",
              "<table border=\"1\" class=\"dataframe\">\n",
              "  <thead>\n",
              "    <tr>\n",
              "      <th></th>\n",
              "      <th></th>\n",
              "      <th>Big</th>\n",
              "      <th colspan=\"4\" halign=\"left\">C</th>\n",
              "      <th colspan=\"4\" halign=\"left\">D</th>\n",
              "    </tr>\n",
              "    <tr>\n",
              "      <th></th>\n",
              "      <th></th>\n",
              "      <th>Small</th>\n",
              "      <th colspan=\"2\" halign=\"left\">c</th>\n",
              "      <th colspan=\"2\" halign=\"left\">d</th>\n",
              "      <th colspan=\"2\" halign=\"left\">c</th>\n",
              "      <th colspan=\"2\" halign=\"left\">d</th>\n",
              "    </tr>\n",
              "    <tr>\n",
              "      <th></th>\n",
              "      <th></th>\n",
              "      <th>Other</th>\n",
              "      <th>cat</th>\n",
              "      <th>dog</th>\n",
              "      <th>cat</th>\n",
              "      <th>dog</th>\n",
              "      <th>cat</th>\n",
              "      <th>dog</th>\n",
              "      <th>cat</th>\n",
              "      <th>dog</th>\n",
              "    </tr>\n",
              "    <tr>\n",
              "      <th>Upper</th>\n",
              "      <th>Lower</th>\n",
              "      <th>Extra</th>\n",
              "      <th></th>\n",
              "      <th></th>\n",
              "      <th></th>\n",
              "      <th></th>\n",
              "      <th></th>\n",
              "      <th></th>\n",
              "      <th></th>\n",
              "      <th></th>\n",
              "    </tr>\n",
              "  </thead>\n",
              "  <tbody>\n",
              "    <tr>\n",
              "      <th rowspan=\"4\" valign=\"top\">A</th>\n",
              "      <th rowspan=\"2\" valign=\"top\">a</th>\n",
              "      <th>ALPHA</th>\n",
              "      <td>3</td>\n",
              "      <td>6</td>\n",
              "      <td>-9</td>\n",
              "      <td>-6</td>\n",
              "      <td>-6</td>\n",
              "      <td>-2</td>\n",
              "      <td>0</td>\n",
              "      <td>9</td>\n",
              "    </tr>\n",
              "    <tr>\n",
              "      <th>BETA</th>\n",
              "      <td>-5</td>\n",
              "      <td>-3</td>\n",
              "      <td>3</td>\n",
              "      <td>-8</td>\n",
              "      <td>-3</td>\n",
              "      <td>-2</td>\n",
              "      <td>5</td>\n",
              "      <td>8</td>\n",
              "    </tr>\n",
              "    <tr>\n",
              "      <th rowspan=\"2\" valign=\"top\">b</th>\n",
              "      <th>ALPHA</th>\n",
              "      <td>-4</td>\n",
              "      <td>4</td>\n",
              "      <td>-1</td>\n",
              "      <td>0</td>\n",
              "      <td>7</td>\n",
              "      <td>-4</td>\n",
              "      <td>6</td>\n",
              "      <td>6</td>\n",
              "    </tr>\n",
              "    <tr>\n",
              "      <th>BETA</th>\n",
              "      <td>-9</td>\n",
              "      <td>9</td>\n",
              "      <td>-6</td>\n",
              "      <td>8</td>\n",
              "      <td>5</td>\n",
              "      <td>-2</td>\n",
              "      <td>-9</td>\n",
              "      <td>-8</td>\n",
              "    </tr>\n",
              "    <tr>\n",
              "      <th>B</th>\n",
              "      <th>a</th>\n",
              "      <th>ALPHA</th>\n",
              "      <td>0</td>\n",
              "      <td>-9</td>\n",
              "      <td>1</td>\n",
              "      <td>-6</td>\n",
              "      <td>2</td>\n",
              "      <td>9</td>\n",
              "      <td>-7</td>\n",
              "      <td>-9</td>\n",
              "    </tr>\n",
              "  </tbody>\n",
              "</table>\n",
              "</div>"
            ],
            "text/plain": [
              "Big                 C               D            \n",
              "Small               c       d       c       d    \n",
              "Other             cat dog cat dog cat dog cat dog\n",
              "Upper Lower Extra                                \n",
              "A     a     ALPHA   3   6  -9  -6  -6  -2   0   9\n",
              "            BETA   -5  -3   3  -8  -3  -2   5   8\n",
              "      b     ALPHA  -4   4  -1   0   7  -4   6   6\n",
              "            BETA   -9   9  -6   8   5  -2  -9  -8\n",
              "B     a     ALPHA   0  -9   1  -6   2   9  -7  -9"
            ]
          },
          "metadata": {
            "tags": []
          },
          "execution_count": 70
        }
      ]
    },
    {
      "cell_type": "markdown",
      "metadata": {
        "id": "09PYXga__hhT"
      },
      "source": [
        "map 的另一个使用方法是对多级索引的压缩"
      ]
    },
    {
      "cell_type": "code",
      "metadata": {
        "colab": {
          "base_uri": "https://localhost:8080/",
          "height": 263
        },
        "id": "y0AY6TOb_ibj",
        "outputId": "75deb303-d5e6-4eff-e1f1-e53961f35654"
      },
      "source": [
        "df_temp = df_ex.copy()\r\n",
        "new_idx = df_temp.index.map(lambda x: (x[0]+'-'+x[1]+'-'+x[2]))\r\n",
        "df_temp.index = new_idx\r\n",
        "df_temp.head() # 单层索引"
      ],
      "execution_count": 71,
      "outputs": [
        {
          "output_type": "execute_result",
          "data": {
            "text/html": [
              "<div>\n",
              "<style scoped>\n",
              "    .dataframe tbody tr th:only-of-type {\n",
              "        vertical-align: middle;\n",
              "    }\n",
              "\n",
              "    .dataframe tbody tr th {\n",
              "        vertical-align: top;\n",
              "    }\n",
              "\n",
              "    .dataframe thead tr th {\n",
              "        text-align: left;\n",
              "    }\n",
              "</style>\n",
              "<table border=\"1\" class=\"dataframe\">\n",
              "  <thead>\n",
              "    <tr>\n",
              "      <th>Big</th>\n",
              "      <th colspan=\"4\" halign=\"left\">C</th>\n",
              "      <th colspan=\"4\" halign=\"left\">D</th>\n",
              "    </tr>\n",
              "    <tr>\n",
              "      <th>Small</th>\n",
              "      <th colspan=\"2\" halign=\"left\">c</th>\n",
              "      <th colspan=\"2\" halign=\"left\">d</th>\n",
              "      <th colspan=\"2\" halign=\"left\">c</th>\n",
              "      <th colspan=\"2\" halign=\"left\">d</th>\n",
              "    </tr>\n",
              "    <tr>\n",
              "      <th>Other</th>\n",
              "      <th>cat</th>\n",
              "      <th>dog</th>\n",
              "      <th>cat</th>\n",
              "      <th>dog</th>\n",
              "      <th>cat</th>\n",
              "      <th>dog</th>\n",
              "      <th>cat</th>\n",
              "      <th>dog</th>\n",
              "    </tr>\n",
              "  </thead>\n",
              "  <tbody>\n",
              "    <tr>\n",
              "      <th>A-a-alpha</th>\n",
              "      <td>3</td>\n",
              "      <td>6</td>\n",
              "      <td>-9</td>\n",
              "      <td>-6</td>\n",
              "      <td>-6</td>\n",
              "      <td>-2</td>\n",
              "      <td>0</td>\n",
              "      <td>9</td>\n",
              "    </tr>\n",
              "    <tr>\n",
              "      <th>A-a-beta</th>\n",
              "      <td>-5</td>\n",
              "      <td>-3</td>\n",
              "      <td>3</td>\n",
              "      <td>-8</td>\n",
              "      <td>-3</td>\n",
              "      <td>-2</td>\n",
              "      <td>5</td>\n",
              "      <td>8</td>\n",
              "    </tr>\n",
              "    <tr>\n",
              "      <th>A-b-alpha</th>\n",
              "      <td>-4</td>\n",
              "      <td>4</td>\n",
              "      <td>-1</td>\n",
              "      <td>0</td>\n",
              "      <td>7</td>\n",
              "      <td>-4</td>\n",
              "      <td>6</td>\n",
              "      <td>6</td>\n",
              "    </tr>\n",
              "    <tr>\n",
              "      <th>A-b-beta</th>\n",
              "      <td>-9</td>\n",
              "      <td>9</td>\n",
              "      <td>-6</td>\n",
              "      <td>8</td>\n",
              "      <td>5</td>\n",
              "      <td>-2</td>\n",
              "      <td>-9</td>\n",
              "      <td>-8</td>\n",
              "    </tr>\n",
              "    <tr>\n",
              "      <th>B-a-alpha</th>\n",
              "      <td>0</td>\n",
              "      <td>-9</td>\n",
              "      <td>1</td>\n",
              "      <td>-6</td>\n",
              "      <td>2</td>\n",
              "      <td>9</td>\n",
              "      <td>-7</td>\n",
              "      <td>-9</td>\n",
              "    </tr>\n",
              "  </tbody>\n",
              "</table>\n",
              "</div>"
            ],
            "text/plain": [
              "Big         C               D            \n",
              "Small       c       d       c       d    \n",
              "Other     cat dog cat dog cat dog cat dog\n",
              "A-a-alpha   3   6  -9  -6  -6  -2   0   9\n",
              "A-a-beta   -5  -3   3  -8  -3  -2   5   8\n",
              "A-b-alpha  -4   4  -1   0   7  -4   6   6\n",
              "A-b-beta   -9   9  -6   8   5  -2  -9  -8\n",
              "B-a-alpha   0  -9   1  -6   2   9  -7  -9"
            ]
          },
          "metadata": {
            "tags": []
          },
          "execution_count": 71
        }
      ]
    },
    {
      "cell_type": "markdown",
      "metadata": {
        "id": "WPGZsDJc_ssC"
      },
      "source": [
        "反向展开"
      ]
    },
    {
      "cell_type": "code",
      "metadata": {
        "colab": {
          "base_uri": "https://localhost:8080/",
          "height": 263
        },
        "id": "xZnAgISA_um8",
        "outputId": "38ad8e5a-f4ba-4bcf-b56c-1d8ddc255382"
      },
      "source": [
        "new_idx = df_temp.index.map(lambda x:tuple(x.split('-')))\r\n",
        "df_temp.index = new_idx\r\n",
        "df_temp.head() # 三层索引"
      ],
      "execution_count": 72,
      "outputs": [
        {
          "output_type": "execute_result",
          "data": {
            "text/html": [
              "<div>\n",
              "<style scoped>\n",
              "    .dataframe tbody tr th:only-of-type {\n",
              "        vertical-align: middle;\n",
              "    }\n",
              "\n",
              "    .dataframe tbody tr th {\n",
              "        vertical-align: top;\n",
              "    }\n",
              "\n",
              "    .dataframe thead tr th {\n",
              "        text-align: left;\n",
              "    }\n",
              "</style>\n",
              "<table border=\"1\" class=\"dataframe\">\n",
              "  <thead>\n",
              "    <tr>\n",
              "      <th></th>\n",
              "      <th></th>\n",
              "      <th>Big</th>\n",
              "      <th colspan=\"4\" halign=\"left\">C</th>\n",
              "      <th colspan=\"4\" halign=\"left\">D</th>\n",
              "    </tr>\n",
              "    <tr>\n",
              "      <th></th>\n",
              "      <th></th>\n",
              "      <th>Small</th>\n",
              "      <th colspan=\"2\" halign=\"left\">c</th>\n",
              "      <th colspan=\"2\" halign=\"left\">d</th>\n",
              "      <th colspan=\"2\" halign=\"left\">c</th>\n",
              "      <th colspan=\"2\" halign=\"left\">d</th>\n",
              "    </tr>\n",
              "    <tr>\n",
              "      <th></th>\n",
              "      <th></th>\n",
              "      <th>Other</th>\n",
              "      <th>cat</th>\n",
              "      <th>dog</th>\n",
              "      <th>cat</th>\n",
              "      <th>dog</th>\n",
              "      <th>cat</th>\n",
              "      <th>dog</th>\n",
              "      <th>cat</th>\n",
              "      <th>dog</th>\n",
              "    </tr>\n",
              "  </thead>\n",
              "  <tbody>\n",
              "    <tr>\n",
              "      <th rowspan=\"4\" valign=\"top\">A</th>\n",
              "      <th rowspan=\"2\" valign=\"top\">a</th>\n",
              "      <th>alpha</th>\n",
              "      <td>3</td>\n",
              "      <td>6</td>\n",
              "      <td>-9</td>\n",
              "      <td>-6</td>\n",
              "      <td>-6</td>\n",
              "      <td>-2</td>\n",
              "      <td>0</td>\n",
              "      <td>9</td>\n",
              "    </tr>\n",
              "    <tr>\n",
              "      <th>beta</th>\n",
              "      <td>-5</td>\n",
              "      <td>-3</td>\n",
              "      <td>3</td>\n",
              "      <td>-8</td>\n",
              "      <td>-3</td>\n",
              "      <td>-2</td>\n",
              "      <td>5</td>\n",
              "      <td>8</td>\n",
              "    </tr>\n",
              "    <tr>\n",
              "      <th rowspan=\"2\" valign=\"top\">b</th>\n",
              "      <th>alpha</th>\n",
              "      <td>-4</td>\n",
              "      <td>4</td>\n",
              "      <td>-1</td>\n",
              "      <td>0</td>\n",
              "      <td>7</td>\n",
              "      <td>-4</td>\n",
              "      <td>6</td>\n",
              "      <td>6</td>\n",
              "    </tr>\n",
              "    <tr>\n",
              "      <th>beta</th>\n",
              "      <td>-9</td>\n",
              "      <td>9</td>\n",
              "      <td>-6</td>\n",
              "      <td>8</td>\n",
              "      <td>5</td>\n",
              "      <td>-2</td>\n",
              "      <td>-9</td>\n",
              "      <td>-8</td>\n",
              "    </tr>\n",
              "    <tr>\n",
              "      <th>B</th>\n",
              "      <th>a</th>\n",
              "      <th>alpha</th>\n",
              "      <td>0</td>\n",
              "      <td>-9</td>\n",
              "      <td>1</td>\n",
              "      <td>-6</td>\n",
              "      <td>2</td>\n",
              "      <td>9</td>\n",
              "      <td>-7</td>\n",
              "      <td>-9</td>\n",
              "    </tr>\n",
              "  </tbody>\n",
              "</table>\n",
              "</div>"
            ],
            "text/plain": [
              "Big         C               D            \n",
              "Small       c       d       c       d    \n",
              "Other     cat dog cat dog cat dog cat dog\n",
              "A a alpha   3   6  -9  -6  -6  -2   0   9\n",
              "    beta   -5  -3   3  -8  -3  -2   5   8\n",
              "  b alpha  -4   4  -1   0   7  -4   6   6\n",
              "    beta   -9   9  -6   8   5  -2  -9  -8\n",
              "B a alpha   0  -9   1  -6   2   9  -7  -9"
            ]
          },
          "metadata": {
            "tags": []
          },
          "execution_count": 72
        }
      ]
    },
    {
      "cell_type": "markdown",
      "metadata": {
        "id": "1XRfWbsY_1tO"
      },
      "source": [
        "### 3.索引的设置与重置"
      ]
    },
    {
      "cell_type": "code",
      "metadata": {
        "id": "mfUcmk4U_6Ng"
      },
      "source": [
        "# 构造一个新表\r\n",
        "df_new = pd.DataFrame({'A':list('aacd'),'B':list('PQRT'),'C':[1,2,3,4]})\r\n",
        "df_new"
      ],
      "execution_count": 73,
      "outputs": []
    },
    {
      "cell_type": "markdown",
      "metadata": {
        "id": "vvpj5NeIAHpT"
      },
      "source": [
        "索引的设置可以使用 set_index 完成，这里的主要参数是 append ，表示是否来保留原来的索引，直接把新设定的添加到原索引的内层"
      ]
    },
    {
      "cell_type": "code",
      "metadata": {
        "colab": {
          "base_uri": "https://localhost:8080/",
          "height": 202
        },
        "id": "AEkqA5oRALgO",
        "outputId": "94126d46-5440-440f-fc85-ebd486897f8c"
      },
      "source": [
        "df_new.set_index('A')\r\n",
        "df_new.set_index('A', append=True)"
      ],
      "execution_count": 74,
      "outputs": [
        {
          "output_type": "execute_result",
          "data": {
            "text/html": [
              "<div>\n",
              "<style scoped>\n",
              "    .dataframe tbody tr th:only-of-type {\n",
              "        vertical-align: middle;\n",
              "    }\n",
              "\n",
              "    .dataframe tbody tr th {\n",
              "        vertical-align: top;\n",
              "    }\n",
              "\n",
              "    .dataframe thead th {\n",
              "        text-align: right;\n",
              "    }\n",
              "</style>\n",
              "<table border=\"1\" class=\"dataframe\">\n",
              "  <thead>\n",
              "    <tr style=\"text-align: right;\">\n",
              "      <th></th>\n",
              "      <th></th>\n",
              "      <th>B</th>\n",
              "      <th>C</th>\n",
              "    </tr>\n",
              "    <tr>\n",
              "      <th></th>\n",
              "      <th>A</th>\n",
              "      <th></th>\n",
              "      <th></th>\n",
              "    </tr>\n",
              "  </thead>\n",
              "  <tbody>\n",
              "    <tr>\n",
              "      <th>0</th>\n",
              "      <th>a</th>\n",
              "      <td>P</td>\n",
              "      <td>1</td>\n",
              "    </tr>\n",
              "    <tr>\n",
              "      <th>1</th>\n",
              "      <th>a</th>\n",
              "      <td>Q</td>\n",
              "      <td>2</td>\n",
              "    </tr>\n",
              "    <tr>\n",
              "      <th>2</th>\n",
              "      <th>c</th>\n",
              "      <td>R</td>\n",
              "      <td>3</td>\n",
              "    </tr>\n",
              "    <tr>\n",
              "      <th>3</th>\n",
              "      <th>d</th>\n",
              "      <td>T</td>\n",
              "      <td>4</td>\n",
              "    </tr>\n",
              "  </tbody>\n",
              "</table>\n",
              "</div>"
            ],
            "text/plain": [
              "     B  C\n",
              "  A      \n",
              "0 a  P  1\n",
              "1 a  Q  2\n",
              "2 c  R  3\n",
              "3 d  T  4"
            ]
          },
          "metadata": {
            "tags": []
          },
          "execution_count": 74
        }
      ]
    },
    {
      "cell_type": "markdown",
      "metadata": {
        "id": "22z6odrtAQie"
      },
      "source": [
        "同时指定多个列作为索引"
      ]
    },
    {
      "cell_type": "code",
      "metadata": {
        "colab": {
          "base_uri": "https://localhost:8080/",
          "height": 202
        },
        "id": "k8ZWC8yDASoL",
        "outputId": "3af86234-d17e-4c33-b0ff-bd82b043ef5d"
      },
      "source": [
        "df_new.set_index(['A', 'B'])"
      ],
      "execution_count": 75,
      "outputs": [
        {
          "output_type": "execute_result",
          "data": {
            "text/html": [
              "<div>\n",
              "<style scoped>\n",
              "    .dataframe tbody tr th:only-of-type {\n",
              "        vertical-align: middle;\n",
              "    }\n",
              "\n",
              "    .dataframe tbody tr th {\n",
              "        vertical-align: top;\n",
              "    }\n",
              "\n",
              "    .dataframe thead th {\n",
              "        text-align: right;\n",
              "    }\n",
              "</style>\n",
              "<table border=\"1\" class=\"dataframe\">\n",
              "  <thead>\n",
              "    <tr style=\"text-align: right;\">\n",
              "      <th></th>\n",
              "      <th></th>\n",
              "      <th>C</th>\n",
              "    </tr>\n",
              "    <tr>\n",
              "      <th>A</th>\n",
              "      <th>B</th>\n",
              "      <th></th>\n",
              "    </tr>\n",
              "  </thead>\n",
              "  <tbody>\n",
              "    <tr>\n",
              "      <th rowspan=\"2\" valign=\"top\">a</th>\n",
              "      <th>P</th>\n",
              "      <td>1</td>\n",
              "    </tr>\n",
              "    <tr>\n",
              "      <th>Q</th>\n",
              "      <td>2</td>\n",
              "    </tr>\n",
              "    <tr>\n",
              "      <th>c</th>\n",
              "      <th>R</th>\n",
              "      <td>3</td>\n",
              "    </tr>\n",
              "    <tr>\n",
              "      <th>d</th>\n",
              "      <th>T</th>\n",
              "      <td>4</td>\n",
              "    </tr>\n",
              "  </tbody>\n",
              "</table>\n",
              "</div>"
            ],
            "text/plain": [
              "     C\n",
              "A B   \n",
              "a P  1\n",
              "  Q  2\n",
              "c R  3\n",
              "d T  4"
            ]
          },
          "metadata": {
            "tags": []
          },
          "execution_count": 75
        }
      ]
    },
    {
      "cell_type": "markdown",
      "metadata": {
        "id": "SZw1VF1CAY0d"
      },
      "source": [
        "如果想要添加索引的列没有出现再其中，那么可以直接在参数中传入相应的 Series "
      ]
    },
    {
      "cell_type": "code",
      "metadata": {
        "colab": {
          "base_uri": "https://localhost:8080/",
          "height": 202
        },
        "id": "nAqSmrClAZqj",
        "outputId": "d5a0ca4b-6a63-4a0d-97ec-08fc1b3444c6"
      },
      "source": [
        "my_index = pd.Series(list('WXYZ'), name='D')\r\n",
        "df_new = df_new.set_index(['A', my_index])\r\n",
        "df_new"
      ],
      "execution_count": 76,
      "outputs": [
        {
          "output_type": "execute_result",
          "data": {
            "text/html": [
              "<div>\n",
              "<style scoped>\n",
              "    .dataframe tbody tr th:only-of-type {\n",
              "        vertical-align: middle;\n",
              "    }\n",
              "\n",
              "    .dataframe tbody tr th {\n",
              "        vertical-align: top;\n",
              "    }\n",
              "\n",
              "    .dataframe thead th {\n",
              "        text-align: right;\n",
              "    }\n",
              "</style>\n",
              "<table border=\"1\" class=\"dataframe\">\n",
              "  <thead>\n",
              "    <tr style=\"text-align: right;\">\n",
              "      <th></th>\n",
              "      <th></th>\n",
              "      <th>B</th>\n",
              "      <th>C</th>\n",
              "    </tr>\n",
              "    <tr>\n",
              "      <th>A</th>\n",
              "      <th>D</th>\n",
              "      <th></th>\n",
              "      <th></th>\n",
              "    </tr>\n",
              "  </thead>\n",
              "  <tbody>\n",
              "    <tr>\n",
              "      <th rowspan=\"2\" valign=\"top\">a</th>\n",
              "      <th>W</th>\n",
              "      <td>P</td>\n",
              "      <td>1</td>\n",
              "    </tr>\n",
              "    <tr>\n",
              "      <th>X</th>\n",
              "      <td>Q</td>\n",
              "      <td>2</td>\n",
              "    </tr>\n",
              "    <tr>\n",
              "      <th>c</th>\n",
              "      <th>Y</th>\n",
              "      <td>R</td>\n",
              "      <td>3</td>\n",
              "    </tr>\n",
              "    <tr>\n",
              "      <th>d</th>\n",
              "      <th>Z</th>\n",
              "      <td>T</td>\n",
              "      <td>4</td>\n",
              "    </tr>\n",
              "  </tbody>\n",
              "</table>\n",
              "</div>"
            ],
            "text/plain": [
              "     B  C\n",
              "A D      \n",
              "a W  P  1\n",
              "  X  Q  2\n",
              "c Y  R  3\n",
              "d Z  T  4"
            ]
          },
          "metadata": {
            "tags": []
          },
          "execution_count": 76
        }
      ]
    },
    {
      "cell_type": "markdown",
      "metadata": {
        "id": "xGVU4lZUAeeF"
      },
      "source": [
        "reset_index 是 set_index 的逆函数，其主要参数是 drop ，表示是否要把去掉的索引层丢弃"
      ]
    },
    {
      "cell_type": "code",
      "metadata": {
        "id": "yGds1IrTAh3L"
      },
      "source": [
        "df_new.reset_index(['D'])\r\n",
        "df_new.reset_index(['D'], drop=True)"
      ],
      "execution_count": null,
      "outputs": []
    },
    {
      "cell_type": "markdown",
      "metadata": {
        "id": "KFplHZ93AnDL"
      },
      "source": [
        "如果重置了所有的索引，那么 pandas 会直接重新生成一个默认索引"
      ]
    },
    {
      "cell_type": "code",
      "metadata": {
        "colab": {
          "base_uri": "https://localhost:8080/",
          "height": 171
        },
        "id": "YArJlnObApOe",
        "outputId": "6fb6aeef-195a-46d9-f7c9-a5169be8f2c1"
      },
      "source": [
        "df_new.reset_index()"
      ],
      "execution_count": 77,
      "outputs": [
        {
          "output_type": "execute_result",
          "data": {
            "text/html": [
              "<div>\n",
              "<style scoped>\n",
              "    .dataframe tbody tr th:only-of-type {\n",
              "        vertical-align: middle;\n",
              "    }\n",
              "\n",
              "    .dataframe tbody tr th {\n",
              "        vertical-align: top;\n",
              "    }\n",
              "\n",
              "    .dataframe thead th {\n",
              "        text-align: right;\n",
              "    }\n",
              "</style>\n",
              "<table border=\"1\" class=\"dataframe\">\n",
              "  <thead>\n",
              "    <tr style=\"text-align: right;\">\n",
              "      <th></th>\n",
              "      <th>A</th>\n",
              "      <th>D</th>\n",
              "      <th>B</th>\n",
              "      <th>C</th>\n",
              "    </tr>\n",
              "  </thead>\n",
              "  <tbody>\n",
              "    <tr>\n",
              "      <th>0</th>\n",
              "      <td>a</td>\n",
              "      <td>W</td>\n",
              "      <td>P</td>\n",
              "      <td>1</td>\n",
              "    </tr>\n",
              "    <tr>\n",
              "      <th>1</th>\n",
              "      <td>a</td>\n",
              "      <td>X</td>\n",
              "      <td>Q</td>\n",
              "      <td>2</td>\n",
              "    </tr>\n",
              "    <tr>\n",
              "      <th>2</th>\n",
              "      <td>c</td>\n",
              "      <td>Y</td>\n",
              "      <td>R</td>\n",
              "      <td>3</td>\n",
              "    </tr>\n",
              "    <tr>\n",
              "      <th>3</th>\n",
              "      <td>d</td>\n",
              "      <td>Z</td>\n",
              "      <td>T</td>\n",
              "      <td>4</td>\n",
              "    </tr>\n",
              "  </tbody>\n",
              "</table>\n",
              "</div>"
            ],
            "text/plain": [
              "   A  D  B  C\n",
              "0  a  W  P  1\n",
              "1  a  X  Q  2\n",
              "2  c  Y  R  3\n",
              "3  d  Z  T  4"
            ]
          },
          "metadata": {
            "tags": []
          },
          "execution_count": 77
        }
      ]
    },
    {
      "cell_type": "markdown",
      "metadata": {
        "id": "HQLpmt9CAstX"
      },
      "source": [
        "### 4.索引的变形"
      ]
    },
    {
      "cell_type": "markdown",
      "metadata": {
        "id": "qukv-1nyA8La"
      },
      "source": [
        " reindex \r\n",
        "\r\n",
        "在某些场合下，需要对索引做一些扩充或者剔除，更具体地要求是给定一个新的索引，把原表中相应的索引对应元素填充到新索引构成的表中\r\n",
        "\r\n",
        "这种需求常出现在时间序列索引的时间点填充以及 ID 编号的扩充"
      ]
    },
    {
      "cell_type": "markdown",
      "metadata": {
        "id": "FCt66aQ-BJOI"
      },
      "source": [
        "与 reindex 功能类似的函数是 reindex_like ，其功能是仿照传入的表的索引来进行被调用表索引的变形"
      ]
    },
    {
      "cell_type": "markdown",
      "metadata": {
        "id": "MydVbKyYBOIf"
      },
      "source": [
        "## 四、索引运算"
      ]
    },
    {
      "cell_type": "markdown",
      "metadata": {
        "id": "MOPGkBSsBTj3"
      },
      "source": [
        "### 1.集合的运算法则"
      ]
    },
    {
      "cell_type": "markdown",
      "metadata": {
        "id": "ZWsTMlrlBcIb"
      },
      "source": [
        "并、交、差、补"
      ]
    },
    {
      "cell_type": "markdown",
      "metadata": {
        "id": "Gc4dLvAKCLre"
      },
      "source": [
        "id1 & id2\r\n",
        "\r\n",
        "id1 | id2\r\n",
        "\r\n",
        "(id1 ^ id2) & id1\r\n",
        "\r\n",
        "id1 ^ id2 # ^符号即对称差"
      ]
    },
    {
      "cell_type": "markdown",
      "metadata": {
        "id": "G6zFRF2EBteK"
      },
      "source": [
        "### 2.一般的索引运算\r\n",
        "\r\n",
        "由于集合的元素是互异的，但是索引中可能有相同的元素，先用 unique 去重后再进行运算"
      ]
    },
    {
      "cell_type": "markdown",
      "metadata": {
        "id": "Cn8pkMtpB19U"
      },
      "source": [
        "若两张表需要做集合运算的列并没有被设置索引，一种办法是先转成索引，运算后再恢复，另一种方法是利用 isin 函数"
      ]
    },
    {
      "cell_type": "markdown",
      "metadata": {
        "id": "kkYE7MF6Cm6W"
      },
      "source": [
        "## 五、练习\r\n"
      ]
    },
    {
      "cell_type": "markdown",
      "metadata": {
        "id": "_lv5BKa2CrhG"
      },
      "source": [
        "### EX1：公司员工数据集"
      ]
    },
    {
      "cell_type": "code",
      "metadata": {
        "colab": {
          "base_uri": "https://localhost:8080/",
          "height": 141
        },
        "id": "-2_Z-P9CCw2D",
        "outputId": "3129f3b1-2e9a-4ff4-ee57-731d5c06c175"
      },
      "source": [
        "df = pd.read_csv('data/company.csv')\r\n",
        "df.head(3)"
      ],
      "execution_count": 78,
      "outputs": [
        {
          "output_type": "execute_result",
          "data": {
            "text/html": [
              "<div>\n",
              "<style scoped>\n",
              "    .dataframe tbody tr th:only-of-type {\n",
              "        vertical-align: middle;\n",
              "    }\n",
              "\n",
              "    .dataframe tbody tr th {\n",
              "        vertical-align: top;\n",
              "    }\n",
              "\n",
              "    .dataframe thead th {\n",
              "        text-align: right;\n",
              "    }\n",
              "</style>\n",
              "<table border=\"1\" class=\"dataframe\">\n",
              "  <thead>\n",
              "    <tr style=\"text-align: right;\">\n",
              "      <th></th>\n",
              "      <th>EmployeeID</th>\n",
              "      <th>birthdate_key</th>\n",
              "      <th>age</th>\n",
              "      <th>city_name</th>\n",
              "      <th>department</th>\n",
              "      <th>job_title</th>\n",
              "      <th>gender</th>\n",
              "    </tr>\n",
              "  </thead>\n",
              "  <tbody>\n",
              "    <tr>\n",
              "      <th>0</th>\n",
              "      <td>1318</td>\n",
              "      <td>1/3/1954</td>\n",
              "      <td>61</td>\n",
              "      <td>Vancouver</td>\n",
              "      <td>Executive</td>\n",
              "      <td>CEO</td>\n",
              "      <td>M</td>\n",
              "    </tr>\n",
              "    <tr>\n",
              "      <th>1</th>\n",
              "      <td>1319</td>\n",
              "      <td>1/3/1957</td>\n",
              "      <td>58</td>\n",
              "      <td>Vancouver</td>\n",
              "      <td>Executive</td>\n",
              "      <td>VP Stores</td>\n",
              "      <td>F</td>\n",
              "    </tr>\n",
              "    <tr>\n",
              "      <th>2</th>\n",
              "      <td>1320</td>\n",
              "      <td>1/2/1955</td>\n",
              "      <td>60</td>\n",
              "      <td>Vancouver</td>\n",
              "      <td>Executive</td>\n",
              "      <td>Legal Counsel</td>\n",
              "      <td>F</td>\n",
              "    </tr>\n",
              "  </tbody>\n",
              "</table>\n",
              "</div>"
            ],
            "text/plain": [
              "   EmployeeID birthdate_key  age  city_name department      job_title gender\n",
              "0        1318      1/3/1954   61  Vancouver  Executive            CEO      M\n",
              "1        1319      1/3/1957   58  Vancouver  Executive      VP Stores      F\n",
              "2        1320      1/2/1955   60  Vancouver  Executive  Legal Counsel      F"
            ]
          },
          "metadata": {
            "tags": []
          },
          "execution_count": 78
        }
      ]
    },
    {
      "cell_type": "code",
      "metadata": {
        "colab": {
          "base_uri": "https://localhost:8080/",
          "height": 141
        },
        "id": "KI0b-p_vC1us",
        "outputId": "4f905012-d4ca-48fd-b994-e14865b380e8"
      },
      "source": [
        "#Q1\r\n",
        "dpt = ['Dairy', 'Bakery']\r\n",
        "df.query(\"(age <= 40)&(department == @dpt)&(gender=='M')\").head(3)"
      ],
      "execution_count": 79,
      "outputs": [
        {
          "output_type": "execute_result",
          "data": {
            "text/html": [
              "<div>\n",
              "<style scoped>\n",
              "    .dataframe tbody tr th:only-of-type {\n",
              "        vertical-align: middle;\n",
              "    }\n",
              "\n",
              "    .dataframe tbody tr th {\n",
              "        vertical-align: top;\n",
              "    }\n",
              "\n",
              "    .dataframe thead th {\n",
              "        text-align: right;\n",
              "    }\n",
              "</style>\n",
              "<table border=\"1\" class=\"dataframe\">\n",
              "  <thead>\n",
              "    <tr style=\"text-align: right;\">\n",
              "      <th></th>\n",
              "      <th>EmployeeID</th>\n",
              "      <th>birthdate_key</th>\n",
              "      <th>age</th>\n",
              "      <th>city_name</th>\n",
              "      <th>department</th>\n",
              "      <th>job_title</th>\n",
              "      <th>gender</th>\n",
              "    </tr>\n",
              "  </thead>\n",
              "  <tbody>\n",
              "    <tr>\n",
              "      <th>3611</th>\n",
              "      <td>5791</td>\n",
              "      <td>1/14/1975</td>\n",
              "      <td>40</td>\n",
              "      <td>Kelowna</td>\n",
              "      <td>Dairy</td>\n",
              "      <td>Dairy Person</td>\n",
              "      <td>M</td>\n",
              "    </tr>\n",
              "    <tr>\n",
              "      <th>3613</th>\n",
              "      <td>5793</td>\n",
              "      <td>1/22/1975</td>\n",
              "      <td>40</td>\n",
              "      <td>Richmond</td>\n",
              "      <td>Bakery</td>\n",
              "      <td>Baker</td>\n",
              "      <td>M</td>\n",
              "    </tr>\n",
              "    <tr>\n",
              "      <th>3615</th>\n",
              "      <td>5795</td>\n",
              "      <td>1/30/1975</td>\n",
              "      <td>40</td>\n",
              "      <td>Nanaimo</td>\n",
              "      <td>Dairy</td>\n",
              "      <td>Dairy Person</td>\n",
              "      <td>M</td>\n",
              "    </tr>\n",
              "  </tbody>\n",
              "</table>\n",
              "</div>"
            ],
            "text/plain": [
              "      EmployeeID birthdate_key  age city_name department     job_title gender\n",
              "3611        5791     1/14/1975   40   Kelowna      Dairy  Dairy Person      M\n",
              "3613        5793     1/22/1975   40  Richmond     Bakery         Baker      M\n",
              "3615        5795     1/30/1975   40   Nanaimo      Dairy  Dairy Person      M"
            ]
          },
          "metadata": {
            "tags": []
          },
          "execution_count": 79
        }
      ]
    },
    {
      "cell_type": "code",
      "metadata": {
        "colab": {
          "base_uri": "https://localhost:8080/",
          "height": 141
        },
        "id": "kFNxoTozDfUH",
        "outputId": "a08d5a55-0064-40f3-8a6d-c6e86811cc07"
      },
      "source": [
        "#Q1\r\n",
        "df.loc[(df.age<=40)&df.department.isin(dpt)&(df.gender=='M')].head(3)"
      ],
      "execution_count": 80,
      "outputs": [
        {
          "output_type": "execute_result",
          "data": {
            "text/html": [
              "<div>\n",
              "<style scoped>\n",
              "    .dataframe tbody tr th:only-of-type {\n",
              "        vertical-align: middle;\n",
              "    }\n",
              "\n",
              "    .dataframe tbody tr th {\n",
              "        vertical-align: top;\n",
              "    }\n",
              "\n",
              "    .dataframe thead th {\n",
              "        text-align: right;\n",
              "    }\n",
              "</style>\n",
              "<table border=\"1\" class=\"dataframe\">\n",
              "  <thead>\n",
              "    <tr style=\"text-align: right;\">\n",
              "      <th></th>\n",
              "      <th>EmployeeID</th>\n",
              "      <th>birthdate_key</th>\n",
              "      <th>age</th>\n",
              "      <th>city_name</th>\n",
              "      <th>department</th>\n",
              "      <th>job_title</th>\n",
              "      <th>gender</th>\n",
              "    </tr>\n",
              "  </thead>\n",
              "  <tbody>\n",
              "    <tr>\n",
              "      <th>3611</th>\n",
              "      <td>5791</td>\n",
              "      <td>1/14/1975</td>\n",
              "      <td>40</td>\n",
              "      <td>Kelowna</td>\n",
              "      <td>Dairy</td>\n",
              "      <td>Dairy Person</td>\n",
              "      <td>M</td>\n",
              "    </tr>\n",
              "    <tr>\n",
              "      <th>3613</th>\n",
              "      <td>5793</td>\n",
              "      <td>1/22/1975</td>\n",
              "      <td>40</td>\n",
              "      <td>Richmond</td>\n",
              "      <td>Bakery</td>\n",
              "      <td>Baker</td>\n",
              "      <td>M</td>\n",
              "    </tr>\n",
              "    <tr>\n",
              "      <th>3615</th>\n",
              "      <td>5795</td>\n",
              "      <td>1/30/1975</td>\n",
              "      <td>40</td>\n",
              "      <td>Nanaimo</td>\n",
              "      <td>Dairy</td>\n",
              "      <td>Dairy Person</td>\n",
              "      <td>M</td>\n",
              "    </tr>\n",
              "  </tbody>\n",
              "</table>\n",
              "</div>"
            ],
            "text/plain": [
              "      EmployeeID birthdate_key  age city_name department     job_title gender\n",
              "3611        5791     1/14/1975   40   Kelowna      Dairy  Dairy Person      M\n",
              "3613        5793     1/22/1975   40  Richmond     Bakery         Baker      M\n",
              "3615        5795     1/30/1975   40   Nanaimo      Dairy  Dairy Person      M"
            ]
          },
          "metadata": {
            "tags": []
          },
          "execution_count": 80
        }
      ]
    },
    {
      "cell_type": "code",
      "metadata": {
        "colab": {
          "base_uri": "https://localhost:8080/",
          "height": 202
        },
        "id": "59Uk8ml6DqjG",
        "outputId": "88ae1bc1-7f68-4498-c5d6-6a53bc6d4f76"
      },
      "source": [
        "# Q2\r\n",
        "df.iloc[(df.EmployeeID%2==1).values,[0,2,-2]].head()"
      ],
      "execution_count": 81,
      "outputs": [
        {
          "output_type": "execute_result",
          "data": {
            "text/html": [
              "<div>\n",
              "<style scoped>\n",
              "    .dataframe tbody tr th:only-of-type {\n",
              "        vertical-align: middle;\n",
              "    }\n",
              "\n",
              "    .dataframe tbody tr th {\n",
              "        vertical-align: top;\n",
              "    }\n",
              "\n",
              "    .dataframe thead th {\n",
              "        text-align: right;\n",
              "    }\n",
              "</style>\n",
              "<table border=\"1\" class=\"dataframe\">\n",
              "  <thead>\n",
              "    <tr style=\"text-align: right;\">\n",
              "      <th></th>\n",
              "      <th>EmployeeID</th>\n",
              "      <th>age</th>\n",
              "      <th>job_title</th>\n",
              "    </tr>\n",
              "  </thead>\n",
              "  <tbody>\n",
              "    <tr>\n",
              "      <th>1</th>\n",
              "      <td>1319</td>\n",
              "      <td>58</td>\n",
              "      <td>VP Stores</td>\n",
              "    </tr>\n",
              "    <tr>\n",
              "      <th>3</th>\n",
              "      <td>1321</td>\n",
              "      <td>56</td>\n",
              "      <td>VP Human Resources</td>\n",
              "    </tr>\n",
              "    <tr>\n",
              "      <th>5</th>\n",
              "      <td>1323</td>\n",
              "      <td>53</td>\n",
              "      <td>Exec Assistant, VP Stores</td>\n",
              "    </tr>\n",
              "    <tr>\n",
              "      <th>6</th>\n",
              "      <td>1325</td>\n",
              "      <td>51</td>\n",
              "      <td>Exec Assistant, Legal Counsel</td>\n",
              "    </tr>\n",
              "    <tr>\n",
              "      <th>8</th>\n",
              "      <td>1329</td>\n",
              "      <td>48</td>\n",
              "      <td>Store Manager</td>\n",
              "    </tr>\n",
              "  </tbody>\n",
              "</table>\n",
              "</div>"
            ],
            "text/plain": [
              "   EmployeeID  age                      job_title\n",
              "1        1319   58                      VP Stores\n",
              "3        1321   56             VP Human Resources\n",
              "5        1323   53      Exec Assistant, VP Stores\n",
              "6        1325   51  Exec Assistant, Legal Counsel\n",
              "8        1329   48                  Store Manager"
            ]
          },
          "metadata": {
            "tags": []
          },
          "execution_count": 81
        }
      ]
    },
    {
      "cell_type": "code",
      "metadata": {
        "id": "dzSmsHbXD5zN"
      },
      "source": [
        "#Q3\r\n"
      ],
      "execution_count": null,
      "outputs": []
    },
    {
      "cell_type": "markdown",
      "metadata": {
        "id": "pENfkDILEDW_"
      },
      "source": [
        "### EX2：巧克力数据集"
      ]
    },
    {
      "cell_type": "code",
      "metadata": {
        "colab": {
          "base_uri": "https://localhost:8080/",
          "height": 141
        },
        "id": "_pTd-AlDEI6c",
        "outputId": "6114969f-c0de-4bf4-cd5c-a4f755baca21"
      },
      "source": [
        "df = pd.read_csv('data/chocolate.csv')\r\n",
        "df.head(3)"
      ],
      "execution_count": 82,
      "outputs": [
        {
          "output_type": "execute_result",
          "data": {
            "text/html": [
              "<div>\n",
              "<style scoped>\n",
              "    .dataframe tbody tr th:only-of-type {\n",
              "        vertical-align: middle;\n",
              "    }\n",
              "\n",
              "    .dataframe tbody tr th {\n",
              "        vertical-align: top;\n",
              "    }\n",
              "\n",
              "    .dataframe thead th {\n",
              "        text-align: right;\n",
              "    }\n",
              "</style>\n",
              "<table border=\"1\" class=\"dataframe\">\n",
              "  <thead>\n",
              "    <tr style=\"text-align: right;\">\n",
              "      <th></th>\n",
              "      <th>Company</th>\n",
              "      <th>Review\\nDate</th>\n",
              "      <th>Cocoa\\nPercent</th>\n",
              "      <th>Company\\nLocation</th>\n",
              "      <th>Rating</th>\n",
              "    </tr>\n",
              "  </thead>\n",
              "  <tbody>\n",
              "    <tr>\n",
              "      <th>0</th>\n",
              "      <td>A. Morin</td>\n",
              "      <td>2016</td>\n",
              "      <td>63%</td>\n",
              "      <td>France</td>\n",
              "      <td>3.75</td>\n",
              "    </tr>\n",
              "    <tr>\n",
              "      <th>1</th>\n",
              "      <td>A. Morin</td>\n",
              "      <td>2015</td>\n",
              "      <td>70%</td>\n",
              "      <td>France</td>\n",
              "      <td>2.75</td>\n",
              "    </tr>\n",
              "    <tr>\n",
              "      <th>2</th>\n",
              "      <td>A. Morin</td>\n",
              "      <td>2015</td>\n",
              "      <td>70%</td>\n",
              "      <td>France</td>\n",
              "      <td>3.00</td>\n",
              "    </tr>\n",
              "  </tbody>\n",
              "</table>\n",
              "</div>"
            ],
            "text/plain": [
              "    Company  Review\\nDate Cocoa\\nPercent Company\\nLocation  Rating\n",
              "0  A. Morin          2016            63%            France    3.75\n",
              "1  A. Morin          2015            70%            France    2.75\n",
              "2  A. Morin          2015            70%            France    3.00"
            ]
          },
          "metadata": {
            "tags": []
          },
          "execution_count": 82
        }
      ]
    },
    {
      "cell_type": "code",
      "metadata": {
        "colab": {
          "base_uri": "https://localhost:8080/",
          "height": 141
        },
        "id": "Yj4nSa1jEOCh",
        "outputId": "90950aa4-7346-4187-bcef-e64e0d37bb19"
      },
      "source": [
        "#Q1\r\n",
        "df.columns = [' '.join(i.split('\\n')) for i in df.columns]\r\n",
        "df.head(3)"
      ],
      "execution_count": 83,
      "outputs": [
        {
          "output_type": "execute_result",
          "data": {
            "text/html": [
              "<div>\n",
              "<style scoped>\n",
              "    .dataframe tbody tr th:only-of-type {\n",
              "        vertical-align: middle;\n",
              "    }\n",
              "\n",
              "    .dataframe tbody tr th {\n",
              "        vertical-align: top;\n",
              "    }\n",
              "\n",
              "    .dataframe thead th {\n",
              "        text-align: right;\n",
              "    }\n",
              "</style>\n",
              "<table border=\"1\" class=\"dataframe\">\n",
              "  <thead>\n",
              "    <tr style=\"text-align: right;\">\n",
              "      <th></th>\n",
              "      <th>Company</th>\n",
              "      <th>Review Date</th>\n",
              "      <th>Cocoa Percent</th>\n",
              "      <th>Company Location</th>\n",
              "      <th>Rating</th>\n",
              "    </tr>\n",
              "  </thead>\n",
              "  <tbody>\n",
              "    <tr>\n",
              "      <th>0</th>\n",
              "      <td>A. Morin</td>\n",
              "      <td>2016</td>\n",
              "      <td>63%</td>\n",
              "      <td>France</td>\n",
              "      <td>3.75</td>\n",
              "    </tr>\n",
              "    <tr>\n",
              "      <th>1</th>\n",
              "      <td>A. Morin</td>\n",
              "      <td>2015</td>\n",
              "      <td>70%</td>\n",
              "      <td>France</td>\n",
              "      <td>2.75</td>\n",
              "    </tr>\n",
              "    <tr>\n",
              "      <th>2</th>\n",
              "      <td>A. Morin</td>\n",
              "      <td>2015</td>\n",
              "      <td>70%</td>\n",
              "      <td>France</td>\n",
              "      <td>3.00</td>\n",
              "    </tr>\n",
              "  </tbody>\n",
              "</table>\n",
              "</div>"
            ],
            "text/plain": [
              "    Company  Review Date Cocoa Percent Company Location  Rating\n",
              "0  A. Morin         2016           63%           France    3.75\n",
              "1  A. Morin         2015           70%           France    2.75\n",
              "2  A. Morin         2015           70%           France    3.00"
            ]
          },
          "metadata": {
            "tags": []
          },
          "execution_count": 83
        }
      ]
    }
  ]
}