{
  "nbformat": 4,
  "nbformat_minor": 0,
  "metadata": {
    "colab": {
      "name": "Pandas学习",
      "provenance": [],
      "collapsed_sections": []
    },
    "kernelspec": {
      "name": "python3",
      "display_name": "Python 3"
    }
  },
  "cells": [
    {
      "cell_type": "markdown",
      "metadata": {
        "id": "FnfCauXbpM28"
      },
      "source": [
        "## Pandas\r\n",
        "### Task01：预备知识"
      ]
    },
    {
      "cell_type": "markdown",
      "metadata": {
        "id": "mfYR07ZkuT8I"
      },
      "source": [
        "# 一、Python基础\r\n",
        "## 1.列表推导式与条件赋值\r\n",
        "例1：生成一个数字序列\r\n",
        "\r\n",
        "\r\n"
      ]
    },
    {
      "cell_type": "code",
      "metadata": {
        "colab": {
          "base_uri": "https://localhost:8080/"
        },
        "id": "1j8abmT-vYX1",
        "outputId": "dfe193cf-a79f-4365-c2ab-ecbf7debe2d5"
      },
      "source": [
        "L = []\r\n",
        "def my_func(x):\r\n",
        "    return 2*x;\r\n",
        "for i in range(5):\r\n",
        "    L.append(my_func(i))\r\n",
        "L"
      ],
      "execution_count": 52,
      "outputs": [
        {
          "output_type": "execute_result",
          "data": {
            "text/plain": [
              "[0, 2, 4, 6, 8]"
            ]
          },
          "metadata": {
            "tags": []
          },
          "execution_count": 52
        }
      ]
    },
    {
      "cell_type": "markdown",
      "metadata": {
        "id": "4OCrda86SXd4"
      },
      "source": [
        "例2：\r\n",
        "简化写法[* for i in *]\r\n",
        "\r\n",
        "\r\n",
        "\r\n",
        "第一个 * 为映射函数，其输入为后面 i 指代的内容；第二个 * 表示迭代的对象"
      ]
    },
    {
      "cell_type": "code",
      "metadata": {
        "id": "kKPYiHNNWQl0",
        "colab": {
          "base_uri": "https://localhost:8080/"
        },
        "outputId": "441b3079-3cd6-492d-9885-75344f6a06d9"
      },
      "source": [
        "#列表推导式简化写法\r\n",
        "[my_func(i) for i in range(5)]"
      ],
      "execution_count": 53,
      "outputs": [
        {
          "output_type": "execute_result",
          "data": {
            "text/plain": [
              "[0, 2, 4, 6, 8]"
            ]
          },
          "metadata": {
            "tags": []
          },
          "execution_count": 53
        }
      ]
    },
    {
      "cell_type": "code",
      "metadata": {
        "id": "hILXVV8iXPlO",
        "colab": {
          "base_uri": "https://localhost:8080/"
        },
        "outputId": "ebe0b7fd-2e0f-42e8-c447-b32cc80bb438"
      },
      "source": [
        "[2*i for i in range(5)]"
      ],
      "execution_count": 54,
      "outputs": [
        {
          "output_type": "execute_result",
          "data": {
            "text/plain": [
              "[0, 2, 4, 6, 8]"
            ]
          },
          "metadata": {
            "tags": []
          },
          "execution_count": 54
        }
      ]
    },
    {
      "cell_type": "code",
      "metadata": {
        "id": "gyT-CpyMWRxt",
        "colab": {
          "base_uri": "https://localhost:8080/"
        },
        "outputId": "5594e57a-20a8-441b-eb42-be7fa261f1c1"
      },
      "source": [
        "#前开后闭的集合(0,k-1]\r\n",
        "for i in range(6):\r\n",
        "  print(i)"
      ],
      "execution_count": 55,
      "outputs": [
        {
          "output_type": "stream",
          "text": [
            "0\n",
            "1\n",
            "2\n",
            "3\n",
            "4\n",
            "5\n"
          ],
          "name": "stdout"
        }
      ]
    },
    {
      "cell_type": "markdown",
      "metadata": {
        "id": "O9ueYfWZX65r"
      },
      "source": [
        "例3：列表表达式多层嵌套"
      ]
    },
    {
      "cell_type": "code",
      "metadata": {
        "id": "YSg6HsRxYRyV",
        "colab": {
          "base_uri": "https://localhost:8080/"
        },
        "outputId": "261ba07c-c7e7-4352-d830-53c7dac5bb59"
      },
      "source": [
        "[m+'_'+n for m in ['a','b'] for n in ['c', 'd']]"
      ],
      "execution_count": 56,
      "outputs": [
        {
          "output_type": "execute_result",
          "data": {
            "text/plain": [
              "['a_c', 'a_d', 'b_c', 'b_d']"
            ]
          },
          "metadata": {
            "tags": []
          },
          "execution_count": 56
        }
      ]
    },
    {
      "cell_type": "markdown",
      "metadata": {
        "id": "KkF3XrTeadtn"
      },
      "source": [
        "例4：if条件选择的条件赋值"
      ]
    },
    {
      "cell_type": "code",
      "metadata": {
        "id": "56o_-4sXac8P",
        "colab": {
          "base_uri": "https://localhost:8080/",
          "height": 35
        },
        "outputId": "078dcf39-fd7c-40ee-9dd6-22e68c624ad2"
      },
      "source": [
        "# value = a if condition else b\r\n",
        "value = 'cat' if 2>1 else 'dog'\r\n",
        "value"
      ],
      "execution_count": 57,
      "outputs": [
        {
          "output_type": "execute_result",
          "data": {
            "application/vnd.google.colaboratory.intrinsic+json": {
              "type": "string"
            },
            "text/plain": [
              "'cat'"
            ]
          },
          "metadata": {
            "tags": []
          },
          "execution_count": 57
        }
      ]
    },
    {
      "cell_type": "code",
      "metadata": {
        "id": "l63KLAyBbceN",
        "colab": {
          "base_uri": "https://localhost:8080/",
          "height": 35
        },
        "outputId": "298b46a1-939d-4f3e-e146-c572b1fdf3ff"
      },
      "source": [
        "#等价写法\r\n",
        "a ,b = 'cat','dog'\r\n",
        "condition =2>1 #此时为 true\r\n",
        "if condition:\r\n",
        "  value = a\r\n",
        "else:\r\n",
        "  value = b\r\n",
        "value"
      ],
      "execution_count": 58,
      "outputs": [
        {
          "output_type": "execute_result",
          "data": {
            "application/vnd.google.colaboratory.intrinsic+json": {
              "type": "string"
            },
            "text/plain": [
              "'cat'"
            ]
          },
          "metadata": {
            "tags": []
          },
          "execution_count": 58
        }
      ]
    },
    {
      "cell_type": "code",
      "metadata": {
        "id": "a2bqy8P8d3c1",
        "colab": {
          "base_uri": "https://localhost:8080/"
        },
        "outputId": "4d5bd89b-abea-4e31-85a2-03b21e4ec741"
      },
      "source": [
        "#示例：阶段列表张超过5的元素（即超过5的用5代替，小于5的保留原值）\r\n",
        "L=[1,2,3,4,5,6,7,8,6,3]\r\n",
        "[i if i<=5 else 5 for i in L]"
      ],
      "execution_count": 59,
      "outputs": [
        {
          "output_type": "execute_result",
          "data": {
            "text/plain": [
              "[1, 2, 3, 4, 5, 5, 5, 5, 5, 3]"
            ]
          },
          "metadata": {
            "tags": []
          },
          "execution_count": 59
        }
      ]
    },
    {
      "cell_type": "markdown",
      "metadata": {
        "id": "Ey1qjlREacvN"
      },
      "source": [
        "## 2.匿名函数与map方法\r\n"
      ]
    },
    {
      "cell_type": "markdown",
      "metadata": {
        "id": "x7Lgodw_fIwr"
      },
      "source": [
        "例1：一些函数具有清晰简单的映射关系，例如上述 my_func 函数，这时可以用匿名函数简洁表示"
      ]
    },
    {
      "cell_type": "code",
      "metadata": {
        "id": "50KJVai2fDyN",
        "colab": {
          "base_uri": "https://localhost:8080/"
        },
        "outputId": "2b1531ab-2686-4b1d-e45b-81dfec4b5d03"
      },
      "source": [
        "my_func = lambda x:2*x\r\n",
        "my_func(3)\r\n",
        "\r\n",
        "multi_para_func = lambda a,b:a+b\r\n",
        "multi_para_func(1,2)\r\n",
        "# 这种用法违背了“匿名”的含义，一般在无需多处调用时使用，用户不需要关心函数的名字，只需要明白这种映射关系即可"
      ],
      "execution_count": 60,
      "outputs": [
        {
          "output_type": "execute_result",
          "data": {
            "text/plain": [
              "3"
            ]
          },
          "metadata": {
            "tags": []
          },
          "execution_count": 60
        }
      ]
    },
    {
      "cell_type": "code",
      "metadata": {
        "id": "0fptq59Pf1V-",
        "colab": {
          "base_uri": "https://localhost:8080/"
        },
        "outputId": "239ce4fa-1cd2-4dcb-9259-fd3b95190c14"
      },
      "source": [
        "#列表推导式的匿名函数映射\r\n",
        "[(lambda x:2*x)(i) for i in range(5)]"
      ],
      "execution_count": 61,
      "outputs": [
        {
          "output_type": "execute_result",
          "data": {
            "text/plain": [
              "[0, 2, 4, 6, 8]"
            ]
          },
          "metadata": {
            "tags": []
          },
          "execution_count": 61
        }
      ]
    },
    {
      "cell_type": "code",
      "metadata": {
        "id": "M8E2YDtchI3W",
        "colab": {
          "base_uri": "https://localhost:8080/"
        },
        "outputId": "fc504372-8298-4482-fefd-16ec7986481b"
      },
      "source": [
        "#列表推导式的匿名函数映射,可以用Python中的map函数实现，返回的map对象通过list转为列表\r\n",
        "list(map(lambda x: 2*x, range(5)))"
      ],
      "execution_count": 62,
      "outputs": [
        {
          "output_type": "execute_result",
          "data": {
            "text/plain": [
              "[0, 2, 4, 6, 8]"
            ]
          },
          "metadata": {
            "tags": []
          },
          "execution_count": 62
        }
      ]
    },
    {
      "cell_type": "code",
      "metadata": {
        "id": "DeVjpFNgio7C",
        "colab": {
          "base_uri": "https://localhost:8080/"
        },
        "outputId": "c029b7c7-453d-404c-850f-264fee945709"
      },
      "source": [
        "#有多个输入值的函数映射，可以通过追加迭代对象实现\r\n",
        "list(map(lambda x, y: str(x) + '_' + y, range(5), list('abcde')))"
      ],
      "execution_count": 63,
      "outputs": [
        {
          "output_type": "execute_result",
          "data": {
            "text/plain": [
              "['0_a', '1_b', '2_c', '3_d', '4_e']"
            ]
          },
          "metadata": {
            "tags": []
          },
          "execution_count": 63
        }
      ]
    },
    {
      "cell_type": "code",
      "metadata": {
        "id": "0ugIM6ehi23N",
        "colab": {
          "base_uri": "https://localhost:8080/"
        },
        "outputId": "c4374ffa-7abc-464b-9be5-f2ca312f0796"
      },
      "source": [
        "list('abcde')"
      ],
      "execution_count": 64,
      "outputs": [
        {
          "output_type": "execute_result",
          "data": {
            "text/plain": [
              "['a', 'b', 'c', 'd', 'e']"
            ]
          },
          "metadata": {
            "tags": []
          },
          "execution_count": 64
        }
      ]
    },
    {
      "cell_type": "markdown",
      "metadata": {
        "id": "VIh0jHTiupxW"
      },
      "source": [
        "## 3.zip对象与enumerate方法"
      ]
    },
    {
      "cell_type": "markdown",
      "metadata": {
        "id": "E9odhk7_u8fu"
      },
      "source": [
        "### 3.1 zip函数\r\n",
        "能把多个可迭代对象打包成一个元组构成的可迭代对象，它返回了一个zip对象，通过tuple，list可以得到相应的打包结果。"
      ]
    },
    {
      "cell_type": "code",
      "metadata": {
        "id": "KWKP1T3gyJBM",
        "colab": {
          "base_uri": "https://localhost:8080/"
        },
        "outputId": "cb713aa0-109e-47ef-9949-694dc552719a"
      },
      "source": [
        "L1,L2,L3 = list('abc'),list('def'),list('hij')\r\n",
        "list(zip(L1,L2,L3))"
      ],
      "execution_count": 65,
      "outputs": [
        {
          "output_type": "execute_result",
          "data": {
            "text/plain": [
              "[('a', 'd', 'h'), ('b', 'e', 'i'), ('c', 'f', 'j')]"
            ]
          },
          "metadata": {
            "tags": []
          },
          "execution_count": 65
        }
      ]
    },
    {
      "cell_type": "code",
      "metadata": {
        "id": "df1h3FO2yciR",
        "colab": {
          "base_uri": "https://localhost:8080/"
        },
        "outputId": "b6e0eb5e-246a-4177-c297-9ff4f981b074"
      },
      "source": [
        "L1,L2,L3 = list('my'),list('gg'),list('bb')\r\n",
        "tuple(zip(L1,L2,L3))"
      ],
      "execution_count": 66,
      "outputs": [
        {
          "output_type": "execute_result",
          "data": {
            "text/plain": [
              "(('m', 'g', 'b'), ('y', 'g', 'b'))"
            ]
          },
          "metadata": {
            "tags": []
          },
          "execution_count": 66
        }
      ]
    },
    {
      "cell_type": "code",
      "metadata": {
        "id": "LC34rZ8SzuZP",
        "colab": {
          "base_uri": "https://localhost:8080/"
        },
        "outputId": "0eb2b19f-7021-4c92-c4eb-4d89884bfd96"
      },
      "source": [
        "#通常在循环迭代时用zip函数\r\n",
        "for i,j,k in zip(L1,L2,L3):\r\n",
        "  print(i,j,k)"
      ],
      "execution_count": 67,
      "outputs": [
        {
          "output_type": "stream",
          "text": [
            "m g b\n",
            "y g b\n"
          ],
          "name": "stdout"
        }
      ]
    },
    {
      "cell_type": "markdown",
      "metadata": {
        "id": "VFdbrZ7s3_UC"
      },
      "source": [
        "### 3.2 enumerate\r\n",
        "特殊的打包，可以在迭代时绑定迭代元素的遍历序号"
      ]
    },
    {
      "cell_type": "code",
      "metadata": {
        "id": "gyT9o_RN4pQK",
        "colab": {
          "base_uri": "https://localhost:8080/"
        },
        "outputId": "ee26c5d5-96ac-4e4e-dade-4e2dc179e6a5"
      },
      "source": [
        "L=list('abcd')\r\n",
        "for index,value in enumerate(L):\r\n",
        "  print(index,value)"
      ],
      "execution_count": 68,
      "outputs": [
        {
          "output_type": "stream",
          "text": [
            "0 a\n",
            "1 b\n",
            "2 c\n",
            "3 d\n"
          ],
          "name": "stdout"
        }
      ]
    },
    {
      "cell_type": "code",
      "metadata": {
        "id": "M2bGnEXJ48ow",
        "colab": {
          "base_uri": "https://localhost:8080/"
        },
        "outputId": "92ab7619-7eae-4f62-8c78-a6b03982588f"
      },
      "source": [
        "#用zip函数实现上述功能\r\n",
        "for index,value in zip(range(len(L)), L):\r\n",
        "  print(index,value)"
      ],
      "execution_count": 69,
      "outputs": [
        {
          "output_type": "stream",
          "text": [
            "0 a\n",
            "1 b\n",
            "2 c\n",
            "3 d\n"
          ],
          "name": "stdout"
        }
      ]
    },
    {
      "cell_type": "code",
      "metadata": {
        "id": "IFNWJNKL5RNV",
        "colab": {
          "base_uri": "https://localhost:8080/"
        },
        "outputId": "aac6b076-0131-40a9-9396-f4004bcc5d3d"
      },
      "source": [
        "len(L)"
      ],
      "execution_count": 70,
      "outputs": [
        {
          "output_type": "execute_result",
          "data": {
            "text/plain": [
              "4"
            ]
          },
          "metadata": {
            "tags": []
          },
          "execution_count": 70
        }
      ]
    },
    {
      "cell_type": "markdown",
      "metadata": {
        "id": "ByZeFn3o6itj"
      },
      "source": [
        "注1：当需要对两个列表建立字典映射时，可以利用zip对象"
      ]
    },
    {
      "cell_type": "code",
      "metadata": {
        "id": "VlslzUlt6Efy",
        "colab": {
          "base_uri": "https://localhost:8080/"
        },
        "outputId": "bb3e472e-adf2-488e-c4b6-0d866e6b41ec"
      },
      "source": [
        "dict(zip(L1,L2))"
      ],
      "execution_count": 71,
      "outputs": [
        {
          "output_type": "execute_result",
          "data": {
            "text/plain": [
              "{'m': 'g', 'y': 'g'}"
            ]
          },
          "metadata": {
            "tags": []
          },
          "execution_count": 71
        }
      ]
    },
    {
      "cell_type": "markdown",
      "metadata": {
        "id": "TQh1ysJP63gy"
      },
      "source": [
        "注2：有压缩函数，Python提供*操作符和zip联合使用可以进行解压操作"
      ]
    },
    {
      "cell_type": "code",
      "metadata": {
        "id": "AgF2jRFo7C-3",
        "colab": {
          "base_uri": "https://localhost:8080/"
        },
        "outputId": "99184d9f-ccf6-41fd-c319-b3577ec70bf7"
      },
      "source": [
        "zipped=list(zip(L1,L2,L3))\r\n",
        "zipped"
      ],
      "execution_count": 72,
      "outputs": [
        {
          "output_type": "execute_result",
          "data": {
            "text/plain": [
              "[('m', 'g', 'b'), ('y', 'g', 'b')]"
            ]
          },
          "metadata": {
            "tags": []
          },
          "execution_count": 72
        }
      ]
    },
    {
      "cell_type": "code",
      "metadata": {
        "id": "AdnjrkJL7Tl7",
        "colab": {
          "base_uri": "https://localhost:8080/"
        },
        "outputId": "6b5bfde5-1ba6-4a22-cb8c-7453fa98c579"
      },
      "source": [
        "list(zip(*zipped))  #三个元组分别对应原来的列表"
      ],
      "execution_count": 73,
      "outputs": [
        {
          "output_type": "execute_result",
          "data": {
            "text/plain": [
              "[('m', 'y'), ('g', 'g'), ('b', 'b')]"
            ]
          },
          "metadata": {
            "tags": []
          },
          "execution_count": 73
        }
      ]
    },
    {
      "cell_type": "markdown",
      "metadata": {
        "id": "yl3uCoIW7kjf"
      },
      "source": [
        "# 二、Numpy基础"
      ]
    },
    {
      "cell_type": "markdown",
      "metadata": {
        "id": "hWNtAa6d7yBW"
      },
      "source": [
        "## 1.np数组的构造"
      ]
    },
    {
      "cell_type": "markdown",
      "metadata": {
        "id": "JZ1imS__8b1F"
      },
      "source": [
        "### 1.1 一般方法：用array构造"
      ]
    },
    {
      "cell_type": "code",
      "metadata": {
        "id": "tsFWqGxe7wpl",
        "colab": {
          "base_uri": "https://localhost:8080/"
        },
        "outputId": "9c3c69eb-71b6-41f3-f4b7-67d2248efbde"
      },
      "source": [
        "import numpy as np\r\n",
        "np.array([1,2,3])"
      ],
      "execution_count": 74,
      "outputs": [
        {
          "output_type": "execute_result",
          "data": {
            "text/plain": [
              "array([1, 2, 3])"
            ]
          },
          "metadata": {
            "tags": []
          },
          "execution_count": 74
        }
      ]
    },
    {
      "cell_type": "markdown",
      "metadata": {
        "id": "MimmOonY89Vt"
      },
      "source": [
        "### 1.2 特殊数组的生成方式"
      ]
    },
    {
      "cell_type": "markdown",
      "metadata": {
        "id": "lmduzVS29Hpg"
      },
      "source": [
        "#### （1）等差序列：np.linspace ， np.arange"
      ]
    },
    {
      "cell_type": "code",
      "metadata": {
        "id": "k7Zyomdw9Qen",
        "colab": {
          "base_uri": "https://localhost:8080/"
        },
        "outputId": "836b2266-9f69-4bf8-905c-d25519bee58f"
      },
      "source": [
        "np.linspace(1,5,11)  # 起始、终止（包含）、样本数"
      ],
      "execution_count": 75,
      "outputs": [
        {
          "output_type": "execute_result",
          "data": {
            "text/plain": [
              "array([1. , 1.4, 1.8, 2.2, 2.6, 3. , 3.4, 3.8, 4.2, 4.6, 5. ])"
            ]
          },
          "metadata": {
            "tags": []
          },
          "execution_count": 75
        }
      ]
    },
    {
      "cell_type": "code",
      "metadata": {
        "id": "urX-R_Pl9otr",
        "colab": {
          "base_uri": "https://localhost:8080/"
        },
        "outputId": "57fba9a6-cf34-4b7a-e01a-faee422d8ff6"
      },
      "source": [
        "np.arange(1,5,2)   #起始、终止（不包含）、步长"
      ],
      "execution_count": 76,
      "outputs": [
        {
          "output_type": "execute_result",
          "data": {
            "text/plain": [
              "array([1, 3])"
            ]
          },
          "metadata": {
            "tags": []
          },
          "execution_count": 76
        }
      ]
    },
    {
      "cell_type": "markdown",
      "metadata": {
        "id": "5CgkIGMS94cp"
      },
      "source": [
        "#### （2）特殊矩阵：zeros , eye , full"
      ]
    },
    {
      "cell_type": "code",
      "metadata": {
        "id": "QX7fZfKo-AW5",
        "colab": {
          "base_uri": "https://localhost:8080/"
        },
        "outputId": "138f8695-3b67-450e-95bd-d44232121264"
      },
      "source": [
        "np.zeros((2,3))  #传入元组表示各维度大小\r\n",
        "# array[[a1,a2,a3],[b1,b2,b3]]"
      ],
      "execution_count": 77,
      "outputs": [
        {
          "output_type": "execute_result",
          "data": {
            "text/plain": [
              "array([[0., 0., 0.],\n",
              "       [0., 0., 0.]])"
            ]
          },
          "metadata": {
            "tags": []
          },
          "execution_count": 77
        }
      ]
    },
    {
      "cell_type": "code",
      "metadata": {
        "id": "U4UXvzsZ-pdN",
        "colab": {
          "base_uri": "https://localhost:8080/"
        },
        "outputId": "c7d2c840-4897-48d4-c0c5-464aab6ca85f"
      },
      "source": [
        "np.eye(3)  # 3*3的单位矩阵"
      ],
      "execution_count": 78,
      "outputs": [
        {
          "output_type": "execute_result",
          "data": {
            "text/plain": [
              "array([[1., 0., 0.],\n",
              "       [0., 1., 0.],\n",
              "       [0., 0., 1.]])"
            ]
          },
          "metadata": {
            "tags": []
          },
          "execution_count": 78
        }
      ]
    },
    {
      "cell_type": "code",
      "metadata": {
        "id": "64OzjkQ1-2cV",
        "colab": {
          "base_uri": "https://localhost:8080/"
        },
        "outputId": "f91a27a7-081f-486e-e170-a6859ee0a482"
      },
      "source": [
        "np.eye(3,k=1) #  偏移主对角线1个单位的伪单位矩阵"
      ],
      "execution_count": 79,
      "outputs": [
        {
          "output_type": "execute_result",
          "data": {
            "text/plain": [
              "array([[0., 1., 0.],\n",
              "       [0., 0., 1.],\n",
              "       [0., 0., 0.]])"
            ]
          },
          "metadata": {
            "tags": []
          },
          "execution_count": 79
        }
      ]
    },
    {
      "cell_type": "code",
      "metadata": {
        "id": "f6i_jC-RBVAl",
        "colab": {
          "base_uri": "https://localhost:8080/"
        },
        "outputId": "d1f8df0b-25f3-42ef-c7ff-d3db4215761f"
      },
      "source": [
        "np.full((2,3),10)  # 元组传入大小，10表示填充数值\r\n",
        "\r\n",
        "np.full((2,3),[1,2,3])  # 通过传入列表填充每列的值"
      ],
      "execution_count": 80,
      "outputs": [
        {
          "output_type": "execute_result",
          "data": {
            "text/plain": [
              "array([[1, 2, 3],\n",
              "       [1, 2, 3]])"
            ]
          },
          "metadata": {
            "tags": []
          },
          "execution_count": 80
        }
      ]
    },
    {
      "cell_type": "markdown",
      "metadata": {
        "id": "h5B73YqeB0To"
      },
      "source": [
        "#### （3）随机矩阵： np.random\r\n"
      ]
    },
    {
      "cell_type": "markdown",
      "metadata": {
        "id": "gQgvM9jYCPUe"
      },
      "source": [
        "rand：0-1均匀分布的随机数组；\r\n",
        "randn：标准正态的随机数组；\r\n",
        "randint：随机整数组；\r\n",
        "choice：随机列表抽样"
      ]
    },
    {
      "cell_type": "code",
      "metadata": {
        "id": "qNM9RLU0B669",
        "colab": {
          "base_uri": "https://localhost:8080/"
        },
        "outputId": "7f77a71d-f6cc-4d6d-e1ea-3909e0caf612"
      },
      "source": [
        "np.random.rand(3) # 生成服从0-1均匀分布的三个随机数"
      ],
      "execution_count": 81,
      "outputs": [
        {
          "output_type": "execute_result",
          "data": {
            "text/plain": [
              "array([0.2226905 , 0.89499621, 0.64974698])"
            ]
          },
          "metadata": {
            "tags": []
          },
          "execution_count": 81
        }
      ]
    },
    {
      "cell_type": "code",
      "metadata": {
        "id": "QqT7zHHvCzb2",
        "colab": {
          "base_uri": "https://localhost:8080/"
        },
        "outputId": "5a05c7e6-88a8-475e-8ab9-257fc1ffd3a8"
      },
      "source": [
        "np.random.rand(3, 3) # 注意这里传入的不是元组，每个维度大小分开输入"
      ],
      "execution_count": 82,
      "outputs": [
        {
          "output_type": "execute_result",
          "data": {
            "text/plain": [
              "array([[0.49771792, 0.8882868 , 0.77706453],\n",
              "       [0.60076321, 0.74206795, 0.73279941],\n",
              "       [0.1955562 , 0.91328742, 0.41339996]])"
            ]
          },
          "metadata": {
            "tags": []
          },
          "execution_count": 82
        }
      ]
    },
    {
      "cell_type": "code",
      "metadata": {
        "id": "QOw_4a1JEAe1",
        "colab": {
          "base_uri": "https://localhost:8080/"
        },
        "outputId": "86858ea4-598e-4fac-a474-953fadc6554d"
      },
      "source": [
        "# 服从(a,b)区间上的均匀分布函数\r\n",
        "a, b = 5, 15\r\n",
        "(b - a) * np.random.rand(3) + a"
      ],
      "execution_count": 83,
      "outputs": [
        {
          "output_type": "execute_result",
          "data": {
            "text/plain": [
              "array([12.40632334,  8.05871528,  8.13193347])"
            ]
          },
          "metadata": {
            "tags": []
          },
          "execution_count": 83
        }
      ]
    },
    {
      "cell_type": "code",
      "metadata": {
        "id": "NyzFXxO0EWEL",
        "colab": {
          "base_uri": "https://localhost:8080/"
        },
        "outputId": "9efa1a13-2358-4847-8e8a-c730130d9ac7"
      },
      "source": [
        "# randn 生成 N(0,I) 的标准正态分布\r\n",
        "np.random.randn(3)\r\n",
        "\r\n",
        "np.random.randn(2, 2)"
      ],
      "execution_count": 84,
      "outputs": [
        {
          "output_type": "execute_result",
          "data": {
            "text/plain": [
              "array([[-0.26594575,  1.20779744],\n",
              "       [-1.70121724,  0.54311168]])"
            ]
          },
          "metadata": {
            "tags": []
          },
          "execution_count": 84
        }
      ]
    },
    {
      "cell_type": "code",
      "metadata": {
        "id": "9vxcKo6ME3pi",
        "colab": {
          "base_uri": "https://localhost:8080/"
        },
        "outputId": "c97c207c-f1ad-478e-a626-248c9076ffac"
      },
      "source": [
        "# 生成服从方差为 σ2 均值为 μ 的一元正态分布\r\n",
        "sigma, mu = 2.5, 3\r\n",
        "mu + np.random.randn(3) * sigma"
      ],
      "execution_count": 85,
      "outputs": [
        {
          "output_type": "execute_result",
          "data": {
            "text/plain": [
              "array([-0.38387887,  1.98265548,  8.32262062])"
            ]
          },
          "metadata": {
            "tags": []
          },
          "execution_count": 85
        }
      ]
    },
    {
      "cell_type": "code",
      "metadata": {
        "id": "e7rqmXijFRpM",
        "colab": {
          "base_uri": "https://localhost:8080/"
        },
        "outputId": "66262a28-eaca-4937-8eed-5fcf11d98f44"
      },
      "source": [
        "# randint 可以指定生成随机整数的最小值最大值（不包含）和维度大小\r\n",
        "low, high, size = 5, 15, (2,2) # 生成5到14的随机整数\r\n",
        "np.random.randint(low, high, size)"
      ],
      "execution_count": 86,
      "outputs": [
        {
          "output_type": "execute_result",
          "data": {
            "text/plain": [
              "array([[ 8, 13],\n",
              "       [13, 13]])"
            ]
          },
          "metadata": {
            "tags": []
          },
          "execution_count": 86
        }
      ]
    },
    {
      "cell_type": "code",
      "metadata": {
        "id": "vKkstKNRFgZn",
        "colab": {
          "base_uri": "https://localhost:8080/"
        },
        "outputId": "082724f4-113c-4945-9a21-729db5fbfb35"
      },
      "source": [
        "# choice 可以从给定的列表中，以一定概率和方式抽取结果，当不指定概率时为均匀采样，默认抽取方式为有放回抽样\r\n",
        "my_list = ['a', 'b', 'c', 'd']\r\n",
        "np.random.choice(my_list, 2, replace=False, p=[0.1, 0.7, 0.1 ,0.1])\r\n",
        "\r\n",
        "np.random.choice(my_list, (3,3))"
      ],
      "execution_count": 87,
      "outputs": [
        {
          "output_type": "execute_result",
          "data": {
            "text/plain": [
              "array([['a', 'a', 'a'],\n",
              "       ['a', 'd', 'a'],\n",
              "       ['a', 'b', 'd']], dtype='<U1')"
            ]
          },
          "metadata": {
            "tags": []
          },
          "execution_count": 87
        }
      ]
    },
    {
      "cell_type": "markdown",
      "metadata": {
        "id": "YQByappeF-s9"
      },
      "source": [
        "#### （4）当返回的元素个数与原列表相同时，等价于使用 permutation 函数，即打散原列表"
      ]
    },
    {
      "cell_type": "code",
      "metadata": {
        "id": "dRo2JijzGB0j",
        "colab": {
          "base_uri": "https://localhost:8080/"
        },
        "outputId": "68982660-d112-4cb3-b60f-057a87a26113"
      },
      "source": [
        "np.random.permutation(my_list)"
      ],
      "execution_count": 88,
      "outputs": [
        {
          "output_type": "execute_result",
          "data": {
            "text/plain": [
              "array(['c', 'a', 'b', 'd'], dtype='<U1')"
            ]
          },
          "metadata": {
            "tags": []
          },
          "execution_count": 88
        }
      ]
    },
    {
      "cell_type": "markdown",
      "metadata": {
        "id": "O1Urey7XGK5E"
      },
      "source": [
        "####（5）随机种子：能够固定随机数的输出结果"
      ]
    },
    {
      "cell_type": "code",
      "metadata": {
        "id": "BPRTj3qjGUjI",
        "colab": {
          "base_uri": "https://localhost:8080/"
        },
        "outputId": "7d20ec26-3cbb-403e-bc28-51b2ef7d6f9a"
      },
      "source": [
        " np.random.seed(0)\r\n",
        " np.random.rand()"
      ],
      "execution_count": 89,
      "outputs": [
        {
          "output_type": "execute_result",
          "data": {
            "text/plain": [
              "0.5488135039273248"
            ]
          },
          "metadata": {
            "tags": []
          },
          "execution_count": 89
        }
      ]
    },
    {
      "cell_type": "code",
      "metadata": {
        "id": "27099lgXGe-s",
        "colab": {
          "base_uri": "https://localhost:8080/"
        },
        "outputId": "611b595e-0250-4b62-b736-101193f6db37"
      },
      "source": [
        "np.random.seed(0)\r\n",
        "np.random.rand()"
      ],
      "execution_count": 90,
      "outputs": [
        {
          "output_type": "execute_result",
          "data": {
            "text/plain": [
              "0.5488135039273248"
            ]
          },
          "metadata": {
            "tags": []
          },
          "execution_count": 90
        }
      ]
    },
    {
      "cell_type": "markdown",
      "metadata": {
        "id": "QVqNz9x9GujR"
      },
      "source": [
        "## 2.np数组的变形与合并"
      ]
    },
    {
      "cell_type": "markdown",
      "metadata": {
        "id": "ywCRHQr9Gyvc"
      },
      "source": [
        "### 2.1 转置：T"
      ]
    },
    {
      "cell_type": "code",
      "metadata": {
        "id": "gKbGcBxhHcbq",
        "colab": {
          "base_uri": "https://localhost:8080/"
        },
        "outputId": "676103e6-2a41-43b3-c869-ba4f85536419"
      },
      "source": [
        " np.zeros((2,3)).T"
      ],
      "execution_count": 91,
      "outputs": [
        {
          "output_type": "execute_result",
          "data": {
            "text/plain": [
              "array([[0., 0.],\n",
              "       [0., 0.],\n",
              "       [0., 0.]])"
            ]
          },
          "metadata": {
            "tags": []
          },
          "execution_count": 91
        }
      ]
    },
    {
      "cell_type": "markdown",
      "metadata": {
        "id": "zSEd9Ceb3INh"
      },
      "source": [
        "### 2.2 合并操作：r_ , c_\r\n",
        "# 对二维数组，r_和c_分别表示上下合并和左右合并"
      ]
    },
    {
      "cell_type": "code",
      "metadata": {
        "id": "fBzOy2dN3P95",
        "colab": {
          "base_uri": "https://localhost:8080/"
        },
        "outputId": "e737f860-0479-4cc0-8a93-713d182453b9"
      },
      "source": [
        "# 上下合并\r\n",
        "np.r_[np.zeros((2,3)),np.zeros((2,3))]\r\n",
        "# 左右合并\r\n",
        "np.c_[np.zeros((2,3)),np.zeros((2,3))]"
      ],
      "execution_count": 92,
      "outputs": [
        {
          "output_type": "execute_result",
          "data": {
            "text/plain": [
              "array([[0., 0., 0., 0., 0., 0.],\n",
              "       [0., 0., 0., 0., 0., 0.]])"
            ]
          },
          "metadata": {
            "tags": []
          },
          "execution_count": 92
        }
      ]
    },
    {
      "cell_type": "markdown",
      "metadata": {
        "id": "l6E56Vkv3waf"
      },
      "source": [
        "注意：一维数组和二维数组进行合并时，应当把其视作列向量，在长度匹配的情况下只能够使用左右合并的 c_ 操作"
      ]
    },
    {
      "cell_type": "code",
      "metadata": {
        "id": "cP0ml4Zl39ac"
      },
      "source": [
        "try:\r\n",
        "  np.r_[np.array([0,0]),np.zeros((2,1))]\r\n",
        "except Exception as e:\r\n",
        "  Err_Msg = e"
      ],
      "execution_count": 93,
      "outputs": []
    },
    {
      "cell_type": "code",
      "metadata": {
        "id": "UGMpBjgr5mpY",
        "colab": {
          "base_uri": "https://localhost:8080/"
        },
        "outputId": "850c4bd1-df8c-4470-98c2-73eba8abd275"
      },
      "source": [
        " Err_Msg"
      ],
      "execution_count": 94,
      "outputs": [
        {
          "output_type": "execute_result",
          "data": {
            "text/plain": [
              "ValueError('all the input arrays must have same number of dimensions, but the array at index 0 has 1 dimension(s) and the array at index 1 has 2 dimension(s)')"
            ]
          },
          "metadata": {
            "tags": []
          },
          "execution_count": 94
        }
      ]
    },
    {
      "cell_type": "code",
      "metadata": {
        "id": "aREzh1mG6PdL",
        "colab": {
          "base_uri": "https://localhost:8080/"
        },
        "outputId": "a1baf4c6-14dd-442a-b35e-a2b1372ccc24"
      },
      "source": [
        "np.r_[np.array([0,0]),np.zeros(2)]"
      ],
      "execution_count": 95,
      "outputs": [
        {
          "output_type": "execute_result",
          "data": {
            "text/plain": [
              "array([0., 0., 0., 0.])"
            ]
          },
          "metadata": {
            "tags": []
          },
          "execution_count": 95
        }
      ]
    },
    {
      "cell_type": "code",
      "metadata": {
        "id": "3pYiZjEe6WM0",
        "colab": {
          "base_uri": "https://localhost:8080/"
        },
        "outputId": "e0771833-f099-4550-c383-7632306c9774"
      },
      "source": [
        "np.zeros(2)"
      ],
      "execution_count": 96,
      "outputs": [
        {
          "output_type": "execute_result",
          "data": {
            "text/plain": [
              "array([0., 0.])"
            ]
          },
          "metadata": {
            "tags": []
          },
          "execution_count": 96
        }
      ]
    },
    {
      "cell_type": "code",
      "metadata": {
        "colab": {
          "base_uri": "https://localhost:8080/"
        },
        "id": "fPt2v_X36TCI",
        "outputId": "eaabdad5-708c-4f87-f8d3-97abd18a2538"
      },
      "source": [
        "np.c_[np.array([0,0]),np.zeros((2,3))]"
      ],
      "execution_count": 97,
      "outputs": [
        {
          "output_type": "execute_result",
          "data": {
            "text/plain": [
              "array([[0., 0., 0., 0.],\n",
              "       [0., 0., 0., 0.]])"
            ]
          },
          "metadata": {
            "tags": []
          },
          "execution_count": 97
        }
      ]
    },
    {
      "cell_type": "code",
      "metadata": {
        "colab": {
          "base_uri": "https://localhost:8080/"
        },
        "id": "C1Knsu3-6dgn",
        "outputId": "a4483225-78c6-4daa-8e0b-a069f7af5550"
      },
      "source": [
        "np.zeros((2,3))"
      ],
      "execution_count": 98,
      "outputs": [
        {
          "output_type": "execute_result",
          "data": {
            "text/plain": [
              "array([[0., 0., 0.],\n",
              "       [0., 0., 0.]])"
            ]
          },
          "metadata": {
            "tags": []
          },
          "execution_count": 98
        }
      ]
    },
    {
      "cell_type": "markdown",
      "metadata": {
        "id": "EFebcW9GTD_V"
      },
      "source": [
        "### 2.3 维度变换：reshape\r\n",
        "把原数组按照新的维度重新排列。在使用时有两种模式，分别为C模式和F模式，分别以逐行和逐列的顺序进行填充读取"
      ]
    },
    {
      "cell_type": "code",
      "metadata": {
        "id": "AWu4DW_fULEm",
        "colab": {
          "base_uri": "https://localhost:8080/"
        },
        "outputId": "71a45b47-8b8b-4906-f584-430697575211"
      },
      "source": [
        " target = np.arange(8).reshape(2,4)\r\n",
        " target"
      ],
      "execution_count": 99,
      "outputs": [
        {
          "output_type": "execute_result",
          "data": {
            "text/plain": [
              "array([[0, 1, 2, 3],\n",
              "       [4, 5, 6, 7]])"
            ]
          },
          "metadata": {
            "tags": []
          },
          "execution_count": 99
        }
      ]
    },
    {
      "cell_type": "code",
      "metadata": {
        "colab": {
          "base_uri": "https://localhost:8080/"
        },
        "id": "dHk51db1vi07",
        "outputId": "b0281d34-45f8-4437-9a8c-dc844fd3dd95"
      },
      "source": [
        "target.reshape((4,2), order='C') # 按照行读取和填充"
      ],
      "execution_count": 100,
      "outputs": [
        {
          "output_type": "execute_result",
          "data": {
            "text/plain": [
              "array([[0, 1],\n",
              "       [2, 3],\n",
              "       [4, 5],\n",
              "       [6, 7]])"
            ]
          },
          "metadata": {
            "tags": []
          },
          "execution_count": 100
        }
      ]
    },
    {
      "cell_type": "code",
      "metadata": {
        "colab": {
          "base_uri": "https://localhost:8080/"
        },
        "id": "Q1GKiTugwYW6",
        "outputId": "a427b78b-1492-412e-85a9-3555e0f2c55a"
      },
      "source": [
        "target.reshape((4,2), order='F') # 按照列读取和填充"
      ],
      "execution_count": 101,
      "outputs": [
        {
          "output_type": "execute_result",
          "data": {
            "text/plain": [
              "array([[0, 2],\n",
              "       [4, 6],\n",
              "       [1, 3],\n",
              "       [5, 7]])"
            ]
          },
          "metadata": {
            "tags": []
          },
          "execution_count": 101
        }
      ]
    },
    {
      "cell_type": "markdown",
      "metadata": {
        "id": "3LHFcDwXxtQS"
      },
      "source": [
        "注意：特别地，由于被调用数组的大小是确定的， reshape 允许有一个维度存在空缺，此时只需填充-1即可"
      ]
    },
    {
      "cell_type": "code",
      "metadata": {
        "colab": {
          "base_uri": "https://localhost:8080/"
        },
        "id": "8rIRhfL1xyYX",
        "outputId": "c9699208-180f-4244-90c5-dd575d6a669f"
      },
      "source": [
        "target.reshape((4,-1))"
      ],
      "execution_count": 102,
      "outputs": [
        {
          "output_type": "execute_result",
          "data": {
            "text/plain": [
              "array([[0, 1],\n",
              "       [2, 3],\n",
              "       [4, 5],\n",
              "       [6, 7]])"
            ]
          },
          "metadata": {
            "tags": []
          },
          "execution_count": 102
        }
      ]
    },
    {
      "cell_type": "code",
      "metadata": {
        "colab": {
          "base_uri": "https://localhost:8080/"
        },
        "id": "nZ8dQmGTzVz6",
        "outputId": "54cc6b5b-a89a-4cfd-f2c9-cecb85921171"
      },
      "source": [
        "# 将n*1大小的数组转为1维数组的操作：\r\n",
        "target = np.ones((3,1))\r\n",
        "target"
      ],
      "execution_count": 103,
      "outputs": [
        {
          "output_type": "execute_result",
          "data": {
            "text/plain": [
              "array([[1.],\n",
              "       [1.],\n",
              "       [1.]])"
            ]
          },
          "metadata": {
            "tags": []
          },
          "execution_count": 103
        }
      ]
    },
    {
      "cell_type": "code",
      "metadata": {
        "colab": {
          "base_uri": "https://localhost:8080/"
        },
        "id": "v-V9-PWqzi2h",
        "outputId": "b206fd33-09fa-4691-92ca-6831ca8e3975"
      },
      "source": [
        "target.reshape(-1)"
      ],
      "execution_count": 104,
      "outputs": [
        {
          "output_type": "execute_result",
          "data": {
            "text/plain": [
              "array([1., 1., 1.])"
            ]
          },
          "metadata": {
            "tags": []
          },
          "execution_count": 104
        }
      ]
    },
    {
      "cell_type": "markdown",
      "metadata": {
        "id": "A7JSQ6hazpSp"
      },
      "source": [
        "## 3. np数组的切片与索引\r\n",
        "数组的切片模式支持使用 slice 类型的 start:end:step 切片，还可以直接传入列表指定某个维度的索引进行切片"
      ]
    },
    {
      "cell_type": "code",
      "metadata": {
        "colab": {
          "base_uri": "https://localhost:8080/"
        },
        "id": "Gp73Mupmzwb_",
        "outputId": "b4cb6ad3-3e15-43f4-f1a8-32192b1de733"
      },
      "source": [
        "target = np.arange(9).reshape(3,3)\r\n",
        "target"
      ],
      "execution_count": 105,
      "outputs": [
        {
          "output_type": "execute_result",
          "data": {
            "text/plain": [
              "array([[0, 1, 2],\n",
              "       [3, 4, 5],\n",
              "       [6, 7, 8]])"
            ]
          },
          "metadata": {
            "tags": []
          },
          "execution_count": 105
        }
      ]
    },
    {
      "cell_type": "code",
      "metadata": {
        "colab": {
          "base_uri": "https://localhost:8080/"
        },
        "id": "o2l_nzt5z8Nz",
        "outputId": "b04f7501-bbda-4a0c-df74-5bee8093bcef"
      },
      "source": [
        "target[:-1, [0,2]]"
      ],
      "execution_count": 106,
      "outputs": [
        {
          "output_type": "execute_result",
          "data": {
            "text/plain": [
              "array([[0, 2],\n",
              "       [3, 5]])"
            ]
          },
          "metadata": {
            "tags": []
          },
          "execution_count": 106
        }
      ]
    },
    {
      "cell_type": "markdown",
      "metadata": {
        "id": "uxqaErjx0Jlz"
      },
      "source": [
        "当数组维度为1时，可以直接进行布尔索引，无需np.ix_"
      ]
    },
    {
      "cell_type": "code",
      "metadata": {
        "colab": {
          "base_uri": "https://localhost:8080/"
        },
        "id": "uk7f55mI0Xhy",
        "outputId": "4cb305ae-70e8-4531-ee14-a684ecbe8746"
      },
      "source": [
        "new = target.reshape(-1)\r\n",
        "new[new%2==0]"
      ],
      "execution_count": 107,
      "outputs": [
        {
          "output_type": "execute_result",
          "data": {
            "text/plain": [
              "array([0, 2, 4, 6, 8])"
            ]
          },
          "metadata": {
            "tags": []
          },
          "execution_count": 107
        }
      ]
    },
    {
      "cell_type": "markdown",
      "metadata": {
        "id": "mJZI8-wS0deY"
      },
      "source": [
        "## 4. 常用函数"
      ]
    },
    {
      "cell_type": "code",
      "metadata": {
        "id": "WR5f88Lx0hgD"
      },
      "source": [
        "#以一维数组为例"
      ],
      "execution_count": 108,
      "outputs": []
    },
    {
      "cell_type": "markdown",
      "metadata": {
        "id": "LfR1qpwh0spI"
      },
      "source": [
        "### 4.1 where\r\n",
        "条件函数，可以指定满足条件与不满足条件位置对应的填充值"
      ]
    },
    {
      "cell_type": "code",
      "metadata": {
        "colab": {
          "base_uri": "https://localhost:8080/"
        },
        "id": "SDvzEDnT0n6C",
        "outputId": "72880d75-595f-4565-fe32-d2574ae5bde7"
      },
      "source": [
        " a = np.array([-1,1,-1,0])\r\n",
        "np.where(a>0, a, 5) # 对应位置为True时填充a对应元素，否则填充5"
      ],
      "execution_count": 109,
      "outputs": [
        {
          "output_type": "execute_result",
          "data": {
            "text/plain": [
              "array([5, 1, 5, 5])"
            ]
          },
          "metadata": {
            "tags": []
          },
          "execution_count": 109
        }
      ]
    },
    {
      "cell_type": "markdown",
      "metadata": {
        "id": "qni08KUY1MGR"
      },
      "source": [
        "### 4.2 nonzero，argmax，argmin\r\n",
        "这三个函数返回的都是索引， nonzero 返回非零数的索引， argmax, argmin 分别返回最大和最小数的索引"
      ]
    },
    {
      "cell_type": "code",
      "metadata": {
        "colab": {
          "base_uri": "https://localhost:8080/"
        },
        "id": "_xoUlz3n1XQj",
        "outputId": "9f34f393-d8f3-45ea-cb86-79753acaf8f9"
      },
      "source": [
        " a = np.array([-2,-5,0,1,3,-1])\r\n",
        " np.nonzero(a)"
      ],
      "execution_count": 110,
      "outputs": [
        {
          "output_type": "execute_result",
          "data": {
            "text/plain": [
              "(array([0, 1, 3, 4, 5]),)"
            ]
          },
          "metadata": {
            "tags": []
          },
          "execution_count": 110
        }
      ]
    },
    {
      "cell_type": "code",
      "metadata": {
        "colab": {
          "base_uri": "https://localhost:8080/"
        },
        "id": "a91KgtGY1ew7",
        "outputId": "4c68c203-fb97-47cd-a4c6-a4c65c625341"
      },
      "source": [
        "a.argmax()"
      ],
      "execution_count": 111,
      "outputs": [
        {
          "output_type": "execute_result",
          "data": {
            "text/plain": [
              "4"
            ]
          },
          "metadata": {
            "tags": []
          },
          "execution_count": 111
        }
      ]
    },
    {
      "cell_type": "code",
      "metadata": {
        "colab": {
          "base_uri": "https://localhost:8080/"
        },
        "id": "WFY088Qw1h7A",
        "outputId": "47fc532b-83c2-45b1-e427-372101479584"
      },
      "source": [
        "a.argmin()"
      ],
      "execution_count": 112,
      "outputs": [
        {
          "output_type": "execute_result",
          "data": {
            "text/plain": [
              "1"
            ]
          },
          "metadata": {
            "tags": []
          },
          "execution_count": 112
        }
      ]
    },
    {
      "cell_type": "markdown",
      "metadata": {
        "id": "0dBOkbNC1lXo"
      },
      "source": [
        "### 4.3 any，all\r\n",
        "any：指当序列至少 存在一个 True 或非零元素时返回 True ，否则返回 False\r\n"
      ]
    },
    {
      "cell_type": "markdown",
      "metadata": {
        "id": "0QEoEEU013B5"
      },
      "source": [
        "all：指当序列元素 全为 True 或非零元素时返回 True ，否则返回 False"
      ]
    },
    {
      "cell_type": "code",
      "metadata": {
        "id": "fA6PY7Jy1xYb"
      },
      "source": [
        "a = np.array([0,1])"
      ],
      "execution_count": 113,
      "outputs": []
    },
    {
      "cell_type": "code",
      "metadata": {
        "colab": {
          "base_uri": "https://localhost:8080/"
        },
        "id": "hxVD-Aud1_RA",
        "outputId": "9cd21e26-8a8e-420b-e08b-90fc534d260e"
      },
      "source": [
        "a.any()"
      ],
      "execution_count": 114,
      "outputs": [
        {
          "output_type": "execute_result",
          "data": {
            "text/plain": [
              "True"
            ]
          },
          "metadata": {
            "tags": []
          },
          "execution_count": 114
        }
      ]
    },
    {
      "cell_type": "code",
      "metadata": {
        "colab": {
          "base_uri": "https://localhost:8080/"
        },
        "id": "72bZ28lU2EN2",
        "outputId": "275e3e0d-332a-48e3-955b-b6dc6ff74f10"
      },
      "source": [
        "a.all()"
      ],
      "execution_count": 115,
      "outputs": [
        {
          "output_type": "execute_result",
          "data": {
            "text/plain": [
              "False"
            ]
          },
          "metadata": {
            "tags": []
          },
          "execution_count": 115
        }
      ]
    },
    {
      "cell_type": "markdown",
      "metadata": {
        "id": "FiSXxtkm2HuN"
      },
      "source": [
        "### 4.4 cumprod,cumsum,diff\r\n",
        "cumprod, cumsum 分别表示累乘和累加函数，返回同长度的数组\r\n"
      ]
    },
    {
      "cell_type": "markdown",
      "metadata": {
        "id": "K3qvGZ2wn-60"
      },
      "source": [
        "diff 表示和前一个元素做差，由于第一个元素为缺失值，因此在默认参数情况下，返回长度是原数组减1"
      ]
    },
    {
      "cell_type": "code",
      "metadata": {
        "colab": {
          "base_uri": "https://localhost:8080/"
        },
        "id": "lfE23NPxoBLx",
        "outputId": "1513dee7-be35-47d3-9175-8504b53480f5"
      },
      "source": [
        "a = np.array([1,2,3])\r\n",
        "a.cumprod()"
      ],
      "execution_count": 116,
      "outputs": [
        {
          "output_type": "execute_result",
          "data": {
            "text/plain": [
              "array([1, 2, 6])"
            ]
          },
          "metadata": {
            "tags": []
          },
          "execution_count": 116
        }
      ]
    },
    {
      "cell_type": "code",
      "metadata": {
        "colab": {
          "base_uri": "https://localhost:8080/"
        },
        "id": "ksbDFQpxoNkk",
        "outputId": "5afbce21-b691-48db-a303-ee31841eea47"
      },
      "source": [
        "a.cumsum()"
      ],
      "execution_count": 117,
      "outputs": [
        {
          "output_type": "execute_result",
          "data": {
            "text/plain": [
              "array([1, 3, 6])"
            ]
          },
          "metadata": {
            "tags": []
          },
          "execution_count": 117
        }
      ]
    },
    {
      "cell_type": "code",
      "metadata": {
        "colab": {
          "base_uri": "https://localhost:8080/"
        },
        "id": "4hZNmgUpoRMD",
        "outputId": "8068032f-6e17-4ffb-dd36-b80830624655"
      },
      "source": [
        "np.diff(a)"
      ],
      "execution_count": 118,
      "outputs": [
        {
          "output_type": "execute_result",
          "data": {
            "text/plain": [
              "array([1, 1])"
            ]
          },
          "metadata": {
            "tags": []
          },
          "execution_count": 118
        }
      ]
    },
    {
      "cell_type": "markdown",
      "metadata": {
        "id": "7_YKBJj7olUB"
      },
      "source": [
        "### 4.5 统计函数\r\n",
        "常用的统计函数包括 max, min, mean, median, std, var, sum, quantile ，其中分位数计算是全局方法，因此不能通过 array.quantile 的方法调用"
      ]
    },
    {
      "cell_type": "code",
      "metadata": {
        "colab": {
          "base_uri": "https://localhost:8080/"
        },
        "id": "pB6SwHk5ouYU",
        "outputId": "1b9fc97b-f841-43cd-96a8-6ae9cd7d6e4f"
      },
      "source": [
        "target = np.arange(5)\r\n",
        "target"
      ],
      "execution_count": 119,
      "outputs": [
        {
          "output_type": "execute_result",
          "data": {
            "text/plain": [
              "array([0, 1, 2, 3, 4])"
            ]
          },
          "metadata": {
            "tags": []
          },
          "execution_count": 119
        }
      ]
    },
    {
      "cell_type": "code",
      "metadata": {
        "colab": {
          "base_uri": "https://localhost:8080/"
        },
        "id": "V99gAKDdo-q7",
        "outputId": "47e97777-1c4a-4a6e-b306-3159837ce82a"
      },
      "source": [
        "target.max()"
      ],
      "execution_count": 120,
      "outputs": [
        {
          "output_type": "execute_result",
          "data": {
            "text/plain": [
              "4"
            ]
          },
          "metadata": {
            "tags": []
          },
          "execution_count": 120
        }
      ]
    },
    {
      "cell_type": "code",
      "metadata": {
        "colab": {
          "base_uri": "https://localhost:8080/"
        },
        "id": "DLZd-r8gpB0p",
        "outputId": "baae83db-e788-4416-cf9f-75af92b4c45b"
      },
      "source": [
        "np.quantile(target, 0.5) # 0.5分位数"
      ],
      "execution_count": 121,
      "outputs": [
        {
          "output_type": "execute_result",
          "data": {
            "text/plain": [
              "2.0"
            ]
          },
          "metadata": {
            "tags": []
          },
          "execution_count": 121
        }
      ]
    },
    {
      "cell_type": "markdown",
      "metadata": {
        "id": "eaxSYR_NpQjR"
      },
      "source": [
        "注：对于含有缺失值的数组，它们返回的结果也是缺失值，如果需要略过缺失值，必须使用 nan* 类型的函数，上述的几个统计函数都有对应的 nan* 函数"
      ]
    },
    {
      "cell_type": "code",
      "metadata": {
        "colab": {
          "base_uri": "https://localhost:8080/"
        },
        "id": "zk3rRZgZpVo2",
        "outputId": "bc21bb0c-f4b5-4d38-93a8-1159dfd36e51"
      },
      "source": [
        "target = np.array([1, 2, np.nan])\r\n",
        "target\r\n",
        "\r\n",
        "target.max()\r\n",
        "\r\n",
        "np.nanmax(target)\r\n",
        "\r\n",
        "np.nanquantile(target, 0.5)"
      ],
      "execution_count": 122,
      "outputs": [
        {
          "output_type": "execute_result",
          "data": {
            "text/plain": [
              "1.5"
            ]
          },
          "metadata": {
            "tags": []
          },
          "execution_count": 122
        }
      ]
    },
    {
      "cell_type": "markdown",
      "metadata": {
        "id": "D1kkNXb6pnzR"
      },
      "source": [
        "协方差：cov"
      ]
    },
    {
      "cell_type": "code",
      "metadata": {
        "colab": {
          "base_uri": "https://localhost:8080/"
        },
        "id": "ymlaaAIop7Vx",
        "outputId": "e619bf5a-41fa-4864-c9a9-f77e98cbfe60"
      },
      "source": [
        "target1 = np.array([1,3,5,9])\r\n",
        "target2 = np.array([1,5,3,-9])\r\n",
        "np.cov(target1, target2)"
      ],
      "execution_count": 123,
      "outputs": [
        {
          "output_type": "execute_result",
          "data": {
            "text/plain": [
              "array([[ 11.66666667, -16.66666667],\n",
              "       [-16.66666667,  38.66666667]])"
            ]
          },
          "metadata": {
            "tags": []
          },
          "execution_count": 123
        }
      ]
    },
    {
      "cell_type": "markdown",
      "metadata": {
        "id": "u4XjRFcqp1xT"
      },
      "source": [
        "相关系数：corrcoef"
      ]
    },
    {
      "cell_type": "code",
      "metadata": {
        "colab": {
          "base_uri": "https://localhost:8080/"
        },
        "id": "dREWCYfEpvsQ",
        "outputId": "841ceb12-7fb5-45d7-9870-639cb9244d92"
      },
      "source": [
        "np.corrcoef(target1, target2)"
      ],
      "execution_count": 124,
      "outputs": [
        {
          "output_type": "execute_result",
          "data": {
            "text/plain": [
              "array([[ 1.        , -0.78470603],\n",
              "       [-0.78470603,  1.        ]])"
            ]
          },
          "metadata": {
            "tags": []
          },
          "execution_count": 124
        }
      ]
    },
    {
      "cell_type": "markdown",
      "metadata": {
        "id": "MtNI_CpZqEz3"
      },
      "source": [
        "说明：二维 Numpy 数组中统计函数的 axis 参数，它能够进行某一个维度下的统计特征计算，当 axis=0 时结果为列的统计指标，当 axis=1 时结果为行的统计指标"
      ]
    },
    {
      "cell_type": "code",
      "metadata": {
        "colab": {
          "base_uri": "https://localhost:8080/"
        },
        "id": "qHv71vqmqLvE",
        "outputId": "cf5eff13-6323-499b-fab4-83467f4ba9f1"
      },
      "source": [
        "target = np.arange(1,10).reshape(3,-1)\r\n",
        "target\r\n",
        "target.sum(0) # array([12, 15, 18])\r\n",
        "target.sum(1) # array([ 6, 15, 24])"
      ],
      "execution_count": 125,
      "outputs": [
        {
          "output_type": "execute_result",
          "data": {
            "text/plain": [
              "array([ 6, 15, 24])"
            ]
          },
          "metadata": {
            "tags": []
          },
          "execution_count": 125
        }
      ]
    },
    {
      "cell_type": "markdown",
      "metadata": {
        "id": "fKxYv72gqqAr"
      },
      "source": [
        "## 5. 广播机制\r\n",
        "用于处理两个不同维度数组之间的操作，这里只讨论不超过两维的数组广播机制"
      ]
    },
    {
      "cell_type": "markdown",
      "metadata": {
        "id": "gDUCrIjqryOO"
      },
      "source": [
        "### 5.1 标量和数组的操作\r\n",
        "当一个标量和数组进行运算时，标量会自动把大小扩充为数组大小，之后进行逐元素操作"
      ]
    },
    {
      "cell_type": "code",
      "metadata": {
        "colab": {
          "base_uri": "https://localhost:8080/"
        },
        "id": "f7nQnNiJr5-k",
        "outputId": "6db32458-4cea-4a33-c9fc-06765158eb18"
      },
      "source": [
        "res = 3 * np.ones((2,2)) + 1\r\n",
        "res"
      ],
      "execution_count": 126,
      "outputs": [
        {
          "output_type": "execute_result",
          "data": {
            "text/plain": [
              "array([[4., 4.],\n",
              "       [4., 4.]])"
            ]
          },
          "metadata": {
            "tags": []
          },
          "execution_count": 126
        }
      ]
    },
    {
      "cell_type": "code",
      "metadata": {
        "colab": {
          "base_uri": "https://localhost:8080/"
        },
        "id": "_i1dph4dsIOA",
        "outputId": "d9e5509a-428d-4137-c492-0f862c98fe25"
      },
      "source": [
        "res = 1 / res\r\n",
        "res "
      ],
      "execution_count": 127,
      "outputs": [
        {
          "output_type": "execute_result",
          "data": {
            "text/plain": [
              "array([[0.25, 0.25],\n",
              "       [0.25, 0.25]])"
            ]
          },
          "metadata": {
            "tags": []
          },
          "execution_count": 127
        }
      ]
    },
    {
      "cell_type": "markdown",
      "metadata": {
        "id": "KVa8QvNSsOBx"
      },
      "source": [
        "### 5.2 二维数组之间的操作\r\n",
        "当两个数组维度完全一致时，使用对应元素的操作，否则会报错，除非其中的某个数组的维度是 m×1 或者 1×n ，那么会扩充其具有 1 的维度为另一个数组对应维度的大小"
      ]
    },
    {
      "cell_type": "markdown",
      "metadata": {
        "id": "3ZK9Cw3yscH_"
      },
      "source": [
        "例如， 1×2 数组和 3×2 数组做逐元素运算时会把第一个数组扩充为 3×2 ，扩充时的对应数值进行赋值。但是，需要注意的是，如果第一个数组的维度是 1×3 ，那么由于在第二维上的大小不匹配且不为 1 ，此时报错"
      ]
    },
    {
      "cell_type": "code",
      "metadata": {
        "colab": {
          "base_uri": "https://localhost:8080/"
        },
        "id": "vKtz7hcNsjtb",
        "outputId": "8ffb11d2-6679-4b20-e61a-5af89519c72d"
      },
      "source": [
        "res = np.ones((3,2))\r\n",
        "res"
      ],
      "execution_count": 128,
      "outputs": [
        {
          "output_type": "execute_result",
          "data": {
            "text/plain": [
              "array([[1., 1.],\n",
              "       [1., 1.],\n",
              "       [1., 1.]])"
            ]
          },
          "metadata": {
            "tags": []
          },
          "execution_count": 128
        }
      ]
    },
    {
      "cell_type": "code",
      "metadata": {
        "colab": {
          "base_uri": "https://localhost:8080/"
        },
        "id": "VKy92TjIs4-3",
        "outputId": "3cabcee0-b0ce-47d0-9290-14ecf3ef4769"
      },
      "source": [
        "res * np.array([[2,3]]) # 扩充第一维度为3"
      ],
      "execution_count": 129,
      "outputs": [
        {
          "output_type": "execute_result",
          "data": {
            "text/plain": [
              "array([[2., 3.],\n",
              "       [2., 3.],\n",
              "       [2., 3.]])"
            ]
          },
          "metadata": {
            "tags": []
          },
          "execution_count": 129
        }
      ]
    },
    {
      "cell_type": "code",
      "metadata": {
        "colab": {
          "base_uri": "https://localhost:8080/"
        },
        "id": "DLKeII_9s93a",
        "outputId": "35bfb16a-87e0-4c0e-a85a-a69ed9c290a0"
      },
      "source": [
        "res * np.array([[2],[3],[4]]) # 扩充第二维度为2"
      ],
      "execution_count": 130,
      "outputs": [
        {
          "output_type": "execute_result",
          "data": {
            "text/plain": [
              "array([[2., 2.],\n",
              "       [3., 3.],\n",
              "       [4., 4.]])"
            ]
          },
          "metadata": {
            "tags": []
          },
          "execution_count": 130
        }
      ]
    },
    {
      "cell_type": "code",
      "metadata": {
        "colab": {
          "base_uri": "https://localhost:8080/"
        },
        "id": "JyMWTQyztH71",
        "outputId": "f92286f8-cb66-466a-a1fd-7707b3217863"
      },
      "source": [
        "res * np.array([[2]]) # 等价于两次扩充"
      ],
      "execution_count": 131,
      "outputs": [
        {
          "output_type": "execute_result",
          "data": {
            "text/plain": [
              "array([[2., 2.],\n",
              "       [2., 2.],\n",
              "       [2., 2.]])"
            ]
          },
          "metadata": {
            "tags": []
          },
          "execution_count": 131
        }
      ]
    },
    {
      "cell_type": "markdown",
      "metadata": {
        "id": "PEKzGOnMtY9-"
      },
      "source": [
        "### 5.3 一维数组与二维数组的操作\r\n",
        "当一维数组 Ak 与二维数组 Bm,n 操作时，等价于把一维数组视作 A1,k 的二维数组，使用的广播法则与【b】中一致，当 k!=n 且 k,n 都不是 1 时报错"
      ]
    },
    {
      "cell_type": "code",
      "metadata": {
        "colab": {
          "base_uri": "https://localhost:8080/"
        },
        "id": "Bfx_1ie-tkmv",
        "outputId": "b859d8d7-0796-4e4e-9733-d41525fea22d"
      },
      "source": [
        "np.ones(3) + np.ones((2,3))"
      ],
      "execution_count": 132,
      "outputs": [
        {
          "output_type": "execute_result",
          "data": {
            "text/plain": [
              "array([[2., 2., 2.],\n",
              "       [2., 2., 2.]])"
            ]
          },
          "metadata": {
            "tags": []
          },
          "execution_count": 132
        }
      ]
    },
    {
      "cell_type": "code",
      "metadata": {
        "colab": {
          "base_uri": "https://localhost:8080/"
        },
        "id": "51xW3cB1tvIB",
        "outputId": "db0e7917-b868-4dea-f962-29c975d9b3f2"
      },
      "source": [
        "np.ones(3) + np.ones((2,1))"
      ],
      "execution_count": 133,
      "outputs": [
        {
          "output_type": "execute_result",
          "data": {
            "text/plain": [
              "array([[2., 2., 2.],\n",
              "       [2., 2., 2.]])"
            ]
          },
          "metadata": {
            "tags": []
          },
          "execution_count": 133
        }
      ]
    },
    {
      "cell_type": "code",
      "metadata": {
        "colab": {
          "base_uri": "https://localhost:8080/"
        },
        "id": "oapZGrmpt0JH",
        "outputId": "c3e2bcfe-d22e-49a2-a534-2113ad9fea43"
      },
      "source": [
        "np.ones(1) + np.ones((2,3))"
      ],
      "execution_count": 134,
      "outputs": [
        {
          "output_type": "execute_result",
          "data": {
            "text/plain": [
              "array([[2., 2., 2.],\n",
              "       [2., 2., 2.]])"
            ]
          },
          "metadata": {
            "tags": []
          },
          "execution_count": 134
        }
      ]
    },
    {
      "cell_type": "markdown",
      "metadata": {
        "id": "i9vcO6fKt8jf"
      },
      "source": [
        "## 6. 向量与矩阵的计算"
      ]
    },
    {
      "cell_type": "markdown",
      "metadata": {
        "id": "mYVRH1KQuBo-"
      },
      "source": [
        "### 6.1 向量内积 \r\n",
        "dot a·b=∑aibi"
      ]
    },
    {
      "cell_type": "code",
      "metadata": {
        "colab": {
          "base_uri": "https://localhost:8080/"
        },
        "id": "VV0HVceuuXUz",
        "outputId": "f122f417-d104-43ca-a336-34ead1866e75"
      },
      "source": [
        "a = np.array([1,2,3])\r\n",
        "b = np.array([1,3,5])\r\n",
        "a.dot(b)"
      ],
      "execution_count": 136,
      "outputs": [
        {
          "output_type": "execute_result",
          "data": {
            "text/plain": [
              "22"
            ]
          },
          "metadata": {
            "tags": []
          },
          "execution_count": 136
        }
      ]
    },
    {
      "cell_type": "markdown",
      "metadata": {
        "id": "oc52cPy-uoIw"
      },
      "source": [
        "### 6.2 向量范数和矩阵范数\r\n",
        " np.linalg.norm"
      ]
    },
    {
      "cell_type": "markdown",
      "metadata": {
        "id": "hLKjyff-u4iw"
      },
      "source": [
        "在矩阵范数的计算中，最重要的是 ord 参数"
      ]
    },
    {
      "cell_type": "markdown",
      "metadata": {
        "id": "C-Xx-ph5ww3R"
      },
      "source": [
        "### 6.3 矩阵乘法\r\n",
        "`@`\r\n",
        "\r\n",
        "$$[A_{m*p}B_{p*n}]_{ij}=\\sum^p_{k=1}A_{ik}B_{kj}$$\r\n"
      ]
    },
    {
      "cell_type": "markdown",
      "metadata": {
        "id": "lUAg2XdXw60z"
      },
      "source": [
        "## 练习\r\n",
        "\r\n",
        "###Ex1：利用列表推导式写矩阵乘法"
      ]
    },
    {
      "cell_type": "code",
      "metadata": {
        "id": "z5i_1XYVx0ac"
      },
      "source": [
        "import numpy as np\r\n",
        "# (* for i in *)\r\n",
        "M1 = np.random.rand(2,3)\r\n",
        "M2 = np.random.rand(3,4)\r\n",
        "res = np.empty((M1.shape[0],M2.shape[1]))\r\n",
        "# (res[i][j] = M1[i][k] * M2[k][j])  )\r\n",
        "res = [[sum(M1[i][k] * M2[k][j] for k in range(M1.shape[1])) for j in range(M2.shape[1])] for i in range(M1.shape[0])]\r\n"
      ],
      "execution_count": 137,
      "outputs": []
    },
    {
      "cell_type": "code",
      "metadata": {
        "colab": {
          "base_uri": "https://localhost:8080/"
        },
        "id": "pWGJcjOF7Ms6",
        "outputId": "4880dda0-6a4b-4ef8-f4f7-497942f68d89"
      },
      "source": [
        "((M1@M2 - res) < 1e-15).all()"
      ],
      "execution_count": 138,
      "outputs": [
        {
          "output_type": "execute_result",
          "data": {
            "text/plain": [
              "True"
            ]
          },
          "metadata": {
            "tags": []
          },
          "execution_count": 138
        }
      ]
    },
    {
      "cell_type": "markdown",
      "metadata": {
        "id": "9uBj6T3e_ctq"
      },
      "source": [
        ""
      ]
    },
    {
      "cell_type": "code",
      "metadata": {
        "id": "EmPqJrVJ7g0h"
      },
      "source": [
        ""
      ],
      "execution_count": 138,
      "outputs": []
    }
  ]
}