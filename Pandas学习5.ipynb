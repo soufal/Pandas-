{
  "nbformat": 4,
  "nbformat_minor": 0,
  "metadata": {
    "colab": {
      "name": "Pandas学习5.ipynb",
      "provenance": [],
      "collapsed_sections": []
    },
    "kernelspec": {
      "name": "python3",
      "display_name": "Python 3"
    }
  },
  "cells": [
    {
      "cell_type": "markdown",
      "metadata": {
        "id": "BP2UkD4Yw4rv"
      },
      "source": [
        "# 第五章 变形"
      ]
    },
    {
      "cell_type": "code",
      "metadata": {
        "id": "IHc0STvRw_Eu"
      },
      "source": [
        " import numpy as np\r\n",
        " import pandas as pd"
      ],
      "execution_count": 1,
      "outputs": []
    },
    {
      "cell_type": "code",
      "metadata": {
        "colab": {
          "base_uri": "https://localhost:8080/"
        },
        "id": "64KFOTumyBRN",
        "outputId": "d16600a7-f897-4341-c629-a57820c436c1"
      },
      "source": [
        "%cd drive/MyDrive/\r\n",
        "!ls"
      ],
      "execution_count": 3,
      "outputs": [
        {
          "output_type": "stream",
          "text": [
            "[Errno 2] No such file or directory: 'drive/MyDrive/'\n",
            "/content/drive/MyDrive\n",
            "'Colab Notebooks'   data\n"
          ],
          "name": "stdout"
        }
      ]
    },
    {
      "cell_type": "markdown",
      "metadata": {
        "id": "BO4wY2kXyXOo"
      },
      "source": [
        "## 一、长宽表的变形\r\n",
        "* 性别存在某一列中，就是关于性别的长表\r\n",
        "* 性别作为列名，列中的元素是某一其他的相关特征数值，则是关于性别的宽表"
      ]
    },
    {
      "cell_type": "code",
      "metadata": {
        "colab": {
          "base_uri": "https://localhost:8080/",
          "height": 171
        },
        "id": "AfwzFpKYyQpQ",
        "outputId": "5cf0ef61-aa63-48bc-ba4d-3f6f543cf0b8"
      },
      "source": [
        "# 长表\r\n",
        "pd.DataFrame({'Gender':['F','F','M','M'],\r\n",
        "       'Height':[163, 160, 175, 180]})"
      ],
      "execution_count": 4,
      "outputs": [
        {
          "output_type": "execute_result",
          "data": {
            "text/html": [
              "<div>\n",
              "<style scoped>\n",
              "    .dataframe tbody tr th:only-of-type {\n",
              "        vertical-align: middle;\n",
              "    }\n",
              "\n",
              "    .dataframe tbody tr th {\n",
              "        vertical-align: top;\n",
              "    }\n",
              "\n",
              "    .dataframe thead th {\n",
              "        text-align: right;\n",
              "    }\n",
              "</style>\n",
              "<table border=\"1\" class=\"dataframe\">\n",
              "  <thead>\n",
              "    <tr style=\"text-align: right;\">\n",
              "      <th></th>\n",
              "      <th>Gender</th>\n",
              "      <th>Height</th>\n",
              "    </tr>\n",
              "  </thead>\n",
              "  <tbody>\n",
              "    <tr>\n",
              "      <th>0</th>\n",
              "      <td>F</td>\n",
              "      <td>163</td>\n",
              "    </tr>\n",
              "    <tr>\n",
              "      <th>1</th>\n",
              "      <td>F</td>\n",
              "      <td>160</td>\n",
              "    </tr>\n",
              "    <tr>\n",
              "      <th>2</th>\n",
              "      <td>M</td>\n",
              "      <td>175</td>\n",
              "    </tr>\n",
              "    <tr>\n",
              "      <th>3</th>\n",
              "      <td>M</td>\n",
              "      <td>180</td>\n",
              "    </tr>\n",
              "  </tbody>\n",
              "</table>\n",
              "</div>"
            ],
            "text/plain": [
              "  Gender  Height\n",
              "0      F     163\n",
              "1      F     160\n",
              "2      M     175\n",
              "3      M     180"
            ]
          },
          "metadata": {
            "tags": []
          },
          "execution_count": 4
        }
      ]
    },
    {
      "cell_type": "code",
      "metadata": {
        "colab": {
          "base_uri": "https://localhost:8080/",
          "height": 110
        },
        "id": "kdr5Ej5oz28H",
        "outputId": "d50770dd-e368-41ca-faab-146774f81a35"
      },
      "source": [
        "# 宽表\r\n",
        "pd.DataFrame({'Height: F':[163, 160],\r\n",
        "       'Height: M':[175, 180]})"
      ],
      "execution_count": 5,
      "outputs": [
        {
          "output_type": "execute_result",
          "data": {
            "text/html": [
              "<div>\n",
              "<style scoped>\n",
              "    .dataframe tbody tr th:only-of-type {\n",
              "        vertical-align: middle;\n",
              "    }\n",
              "\n",
              "    .dataframe tbody tr th {\n",
              "        vertical-align: top;\n",
              "    }\n",
              "\n",
              "    .dataframe thead th {\n",
              "        text-align: right;\n",
              "    }\n",
              "</style>\n",
              "<table border=\"1\" class=\"dataframe\">\n",
              "  <thead>\n",
              "    <tr style=\"text-align: right;\">\n",
              "      <th></th>\n",
              "      <th>Height: F</th>\n",
              "      <th>Height: M</th>\n",
              "    </tr>\n",
              "  </thead>\n",
              "  <tbody>\n",
              "    <tr>\n",
              "      <th>0</th>\n",
              "      <td>163</td>\n",
              "      <td>175</td>\n",
              "    </tr>\n",
              "    <tr>\n",
              "      <th>1</th>\n",
              "      <td>160</td>\n",
              "      <td>180</td>\n",
              "    </tr>\n",
              "  </tbody>\n",
              "</table>\n",
              "</div>"
            ],
            "text/plain": [
              "   Height: F  Height: M\n",
              "0        163        175\n",
              "1        160        180"
            ]
          },
          "metadata": {
            "tags": []
          },
          "execution_count": 5
        }
      ]
    },
    {
      "cell_type": "markdown",
      "metadata": {
        "id": "_UtSx8a72V2o"
      },
      "source": [
        "* 本质上是与布局模式有关，即到底是以 long 的状态存储还是以 wide 的状态存储"
      ]
    },
    {
      "cell_type": "markdown",
      "metadata": {
        "id": "U7qP552w2ace"
      },
      "source": [
        "### 1. pivot\r\n",
        "pivot 是一种典型的长表变宽表的函数"
      ]
    },
    {
      "cell_type": "code",
      "metadata": {
        "colab": {
          "base_uri": "https://localhost:8080/",
          "height": 171
        },
        "id": "LhcZFG0u0ApM",
        "outputId": "f42072d5-c2df-4560-e9d0-d0bac889f11d"
      },
      "source": [
        "df = pd.DataFrame({'Class':[1,1,2,2],\r\n",
        "          'Name':['San Zhang','San Zhang','Si Li','Si Li'],\r\n",
        "          'Subject':['Chinese','Math','Chinese','Math'],\r\n",
        "          'Grade':[80,75,90,85]})\r\n",
        "df"
      ],
      "execution_count": 7,
      "outputs": [
        {
          "output_type": "execute_result",
          "data": {
            "text/html": [
              "<div>\n",
              "<style scoped>\n",
              "    .dataframe tbody tr th:only-of-type {\n",
              "        vertical-align: middle;\n",
              "    }\n",
              "\n",
              "    .dataframe tbody tr th {\n",
              "        vertical-align: top;\n",
              "    }\n",
              "\n",
              "    .dataframe thead th {\n",
              "        text-align: right;\n",
              "    }\n",
              "</style>\n",
              "<table border=\"1\" class=\"dataframe\">\n",
              "  <thead>\n",
              "    <tr style=\"text-align: right;\">\n",
              "      <th></th>\n",
              "      <th>Class</th>\n",
              "      <th>Name</th>\n",
              "      <th>Subject</th>\n",
              "      <th>Grade</th>\n",
              "    </tr>\n",
              "  </thead>\n",
              "  <tbody>\n",
              "    <tr>\n",
              "      <th>0</th>\n",
              "      <td>1</td>\n",
              "      <td>San Zhang</td>\n",
              "      <td>Chinese</td>\n",
              "      <td>80</td>\n",
              "    </tr>\n",
              "    <tr>\n",
              "      <th>1</th>\n",
              "      <td>1</td>\n",
              "      <td>San Zhang</td>\n",
              "      <td>Math</td>\n",
              "      <td>75</td>\n",
              "    </tr>\n",
              "    <tr>\n",
              "      <th>2</th>\n",
              "      <td>2</td>\n",
              "      <td>Si Li</td>\n",
              "      <td>Chinese</td>\n",
              "      <td>90</td>\n",
              "    </tr>\n",
              "    <tr>\n",
              "      <th>3</th>\n",
              "      <td>2</td>\n",
              "      <td>Si Li</td>\n",
              "      <td>Math</td>\n",
              "      <td>85</td>\n",
              "    </tr>\n",
              "  </tbody>\n",
              "</table>\n",
              "</div>"
            ],
            "text/plain": [
              "   Class       Name  Subject  Grade\n",
              "0      1  San Zhang  Chinese     80\n",
              "1      1  San Zhang     Math     75\n",
              "2      2      Si Li  Chinese     90\n",
              "3      2      Si Li     Math     85"
            ]
          },
          "metadata": {
            "tags": []
          },
          "execution_count": 7
        }
      ]
    },
    {
      "cell_type": "markdown",
      "metadata": {
        "id": "3x_8iLYC3ie8"
      },
      "source": [
        "* 长变宽：三个要素，分别是变形后的行索引、需要转到列索引的列，以及这些列和行索引对应的数值。分别对应 index, columns, values 参数。\r\n",
        "* 新生成表的列索引是 columns 对应列的 unique 值，而新表的行索引是 index 对应列的 unique 值，而 values 对应了想要展示的数值列。"
      ]
    },
    {
      "cell_type": "code",
      "metadata": {
        "colab": {
          "base_uri": "https://localhost:8080/",
          "height": 141
        },
        "id": "fniuXkmb23U-",
        "outputId": "5cc8da90-9457-46ae-b8a2-5efb32784879"
      },
      "source": [
        "# 把语文和数学分数作为列来展示\r\n",
        "df.pivot(index='Name', columns='Subject', values='Grade')"
      ],
      "execution_count": 8,
      "outputs": [
        {
          "output_type": "execute_result",
          "data": {
            "text/html": [
              "<div>\n",
              "<style scoped>\n",
              "    .dataframe tbody tr th:only-of-type {\n",
              "        vertical-align: middle;\n",
              "    }\n",
              "\n",
              "    .dataframe tbody tr th {\n",
              "        vertical-align: top;\n",
              "    }\n",
              "\n",
              "    .dataframe thead th {\n",
              "        text-align: right;\n",
              "    }\n",
              "</style>\n",
              "<table border=\"1\" class=\"dataframe\">\n",
              "  <thead>\n",
              "    <tr style=\"text-align: right;\">\n",
              "      <th>Subject</th>\n",
              "      <th>Chinese</th>\n",
              "      <th>Math</th>\n",
              "    </tr>\n",
              "    <tr>\n",
              "      <th>Name</th>\n",
              "      <th></th>\n",
              "      <th></th>\n",
              "    </tr>\n",
              "  </thead>\n",
              "  <tbody>\n",
              "    <tr>\n",
              "      <th>San Zhang</th>\n",
              "      <td>80</td>\n",
              "      <td>75</td>\n",
              "    </tr>\n",
              "    <tr>\n",
              "      <th>Si Li</th>\n",
              "      <td>90</td>\n",
              "      <td>85</td>\n",
              "    </tr>\n",
              "  </tbody>\n",
              "</table>\n",
              "</div>"
            ],
            "text/plain": [
              "Subject    Chinese  Math\n",
              "Name                    \n",
              "San Zhang       80    75\n",
              "Si Li           90    85"
            ]
          },
          "metadata": {
            "tags": []
          },
          "execution_count": 8
        }
      ]
    },
    {
      "cell_type": "markdown",
      "metadata": {
        "id": "hLHG8w3Y3hKj"
      },
      "source": [
        "* 利用 pivot 进行变形操作需要满足唯一性的要求，即由于在新表中的行列索引对应了唯一的 value ，因此原表中的 index 和 columns 对应两个列的行组合必须唯一"
      ]
    },
    {
      "cell_type": "code",
      "metadata": {
        "colab": {
          "base_uri": "https://localhost:8080/"
        },
        "id": "eQxQFGxX3fve",
        "outputId": "1dd99eb8-05d4-4f65-b284-fdc296b7b051"
      },
      "source": [
        "#把原表中第二行张三的数学改为语文就会报错\r\n",
        "#这是由于 Name 与 Subject 的组合中两次出现 (\"San Zhang\", \"Chinese\") ，从而最后不能够确定到底变形后应该是填写80分还是75分\r\n",
        "df.loc[1, 'Subject'] = 'Chinese'\r\n",
        "try:\r\n",
        " df.pivot(index='Name', columns='Subject', values='Grade')\r\n",
        "except Exception as e:\r\n",
        "  Err_Msg = e\r\n",
        "Err_Msg"
      ],
      "execution_count": 10,
      "outputs": [
        {
          "output_type": "execute_result",
          "data": {
            "text/plain": [
              "ValueError('Index contains duplicate entries, cannot reshape')"
            ]
          },
          "metadata": {
            "tags": []
          },
          "execution_count": 10
        }
      ]
    },
    {
      "cell_type": "markdown",
      "metadata": {
        "id": "MfcwQmk55KtI"
      },
      "source": [
        "* pandas 从 1.1.0 开始， pivot 相关的三个参数允许被设置为列表。因此可以返回多级索引"
      ]
    },
    {
      "cell_type": "code",
      "metadata": {
        "colab": {
          "base_uri": "https://localhost:8080/",
          "height": 294
        },
        "id": "KG5EkZZN5rYk",
        "outputId": "a1f94605-aeac-41ff-b087-fe063176aa65"
      },
      "source": [
        "#下表中六列分别为班级、姓名、测试类型（期中考试和期末考试）、科目、成绩、排名\r\n",
        "df = pd.DataFrame({'Class':[1, 1, 2, 2, 1, 1, 2, 2],\r\n",
        "           'Name':['San Zhang', 'San Zhang', 'Si Li', 'Si Li',\r\n",
        "               'San Zhang', 'San Zhang', 'Si Li', 'Si Li'],\r\n",
        "           'Examination': ['Mid', 'Final', 'Mid', 'Final',\r\n",
        "                   'Mid', 'Final', 'Mid', 'Final'],\r\n",
        "           'Subject':['Chinese', 'Chinese', 'Chinese', 'Chinese',\r\n",
        "                 'Math', 'Math', 'Math', 'Math'],\r\n",
        "           'Grade':[80, 75, 85, 65, 90, 85, 92, 88],\r\n",
        "           'rank':[10, 15, 21, 15, 20, 7, 6, 2]})\r\n",
        "df"
      ],
      "execution_count": 12,
      "outputs": [
        {
          "output_type": "execute_result",
          "data": {
            "text/html": [
              "<div>\n",
              "<style scoped>\n",
              "    .dataframe tbody tr th:only-of-type {\n",
              "        vertical-align: middle;\n",
              "    }\n",
              "\n",
              "    .dataframe tbody tr th {\n",
              "        vertical-align: top;\n",
              "    }\n",
              "\n",
              "    .dataframe thead th {\n",
              "        text-align: right;\n",
              "    }\n",
              "</style>\n",
              "<table border=\"1\" class=\"dataframe\">\n",
              "  <thead>\n",
              "    <tr style=\"text-align: right;\">\n",
              "      <th></th>\n",
              "      <th>Class</th>\n",
              "      <th>Name</th>\n",
              "      <th>Examination</th>\n",
              "      <th>Subject</th>\n",
              "      <th>Grade</th>\n",
              "      <th>rank</th>\n",
              "    </tr>\n",
              "  </thead>\n",
              "  <tbody>\n",
              "    <tr>\n",
              "      <th>0</th>\n",
              "      <td>1</td>\n",
              "      <td>San Zhang</td>\n",
              "      <td>Mid</td>\n",
              "      <td>Chinese</td>\n",
              "      <td>80</td>\n",
              "      <td>10</td>\n",
              "    </tr>\n",
              "    <tr>\n",
              "      <th>1</th>\n",
              "      <td>1</td>\n",
              "      <td>San Zhang</td>\n",
              "      <td>Final</td>\n",
              "      <td>Chinese</td>\n",
              "      <td>75</td>\n",
              "      <td>15</td>\n",
              "    </tr>\n",
              "    <tr>\n",
              "      <th>2</th>\n",
              "      <td>2</td>\n",
              "      <td>Si Li</td>\n",
              "      <td>Mid</td>\n",
              "      <td>Chinese</td>\n",
              "      <td>85</td>\n",
              "      <td>21</td>\n",
              "    </tr>\n",
              "    <tr>\n",
              "      <th>3</th>\n",
              "      <td>2</td>\n",
              "      <td>Si Li</td>\n",
              "      <td>Final</td>\n",
              "      <td>Chinese</td>\n",
              "      <td>65</td>\n",
              "      <td>15</td>\n",
              "    </tr>\n",
              "    <tr>\n",
              "      <th>4</th>\n",
              "      <td>1</td>\n",
              "      <td>San Zhang</td>\n",
              "      <td>Mid</td>\n",
              "      <td>Math</td>\n",
              "      <td>90</td>\n",
              "      <td>20</td>\n",
              "    </tr>\n",
              "    <tr>\n",
              "      <th>5</th>\n",
              "      <td>1</td>\n",
              "      <td>San Zhang</td>\n",
              "      <td>Final</td>\n",
              "      <td>Math</td>\n",
              "      <td>85</td>\n",
              "      <td>7</td>\n",
              "    </tr>\n",
              "    <tr>\n",
              "      <th>6</th>\n",
              "      <td>2</td>\n",
              "      <td>Si Li</td>\n",
              "      <td>Mid</td>\n",
              "      <td>Math</td>\n",
              "      <td>92</td>\n",
              "      <td>6</td>\n",
              "    </tr>\n",
              "    <tr>\n",
              "      <th>7</th>\n",
              "      <td>2</td>\n",
              "      <td>Si Li</td>\n",
              "      <td>Final</td>\n",
              "      <td>Math</td>\n",
              "      <td>88</td>\n",
              "      <td>2</td>\n",
              "    </tr>\n",
              "  </tbody>\n",
              "</table>\n",
              "</div>"
            ],
            "text/plain": [
              "   Class       Name Examination  Subject  Grade  rank\n",
              "0      1  San Zhang         Mid  Chinese     80    10\n",
              "1      1  San Zhang       Final  Chinese     75    15\n",
              "2      2      Si Li         Mid  Chinese     85    21\n",
              "3      2      Si Li       Final  Chinese     65    15\n",
              "4      1  San Zhang         Mid     Math     90    20\n",
              "5      1  San Zhang       Final     Math     85     7\n",
              "6      2      Si Li         Mid     Math     92     6\n",
              "7      2      Si Li       Final     Math     88     2"
            ]
          },
          "metadata": {
            "tags": []
          },
          "execution_count": 12
        }
      ]
    },
    {
      "cell_type": "code",
      "metadata": {
        "colab": {
          "base_uri": "https://localhost:8080/",
          "height": 202
        },
        "id": "UwpR7wij7Gar",
        "outputId": "4411673c-2afc-4332-e8cf-7565772d0502"
      },
      "source": [
        "# 把测试类型和科目联合组成的四个类别（期中语文、期末语文、期中数学、期末数学）转到列索引，并且同时统计成绩和排名\r\n",
        "pivot_multi = df.pivot(index = ['Class', 'Name'],\r\n",
        "             columns = ['Subject','Examination'],\r\n",
        "             values = ['Grade','rank'])\r\n",
        "pivot_multi"
      ],
      "execution_count": 13,
      "outputs": [
        {
          "output_type": "execute_result",
          "data": {
            "text/html": [
              "<div>\n",
              "<style scoped>\n",
              "    .dataframe tbody tr th:only-of-type {\n",
              "        vertical-align: middle;\n",
              "    }\n",
              "\n",
              "    .dataframe tbody tr th {\n",
              "        vertical-align: top;\n",
              "    }\n",
              "\n",
              "    .dataframe thead tr th {\n",
              "        text-align: left;\n",
              "    }\n",
              "\n",
              "    .dataframe thead tr:last-of-type th {\n",
              "        text-align: right;\n",
              "    }\n",
              "</style>\n",
              "<table border=\"1\" class=\"dataframe\">\n",
              "  <thead>\n",
              "    <tr>\n",
              "      <th></th>\n",
              "      <th></th>\n",
              "      <th colspan=\"4\" halign=\"left\">Grade</th>\n",
              "      <th colspan=\"4\" halign=\"left\">rank</th>\n",
              "    </tr>\n",
              "    <tr>\n",
              "      <th></th>\n",
              "      <th>Subject</th>\n",
              "      <th colspan=\"2\" halign=\"left\">Chinese</th>\n",
              "      <th colspan=\"2\" halign=\"left\">Math</th>\n",
              "      <th colspan=\"2\" halign=\"left\">Chinese</th>\n",
              "      <th colspan=\"2\" halign=\"left\">Math</th>\n",
              "    </tr>\n",
              "    <tr>\n",
              "      <th></th>\n",
              "      <th>Examination</th>\n",
              "      <th>Mid</th>\n",
              "      <th>Final</th>\n",
              "      <th>Mid</th>\n",
              "      <th>Final</th>\n",
              "      <th>Mid</th>\n",
              "      <th>Final</th>\n",
              "      <th>Mid</th>\n",
              "      <th>Final</th>\n",
              "    </tr>\n",
              "    <tr>\n",
              "      <th>Class</th>\n",
              "      <th>Name</th>\n",
              "      <th></th>\n",
              "      <th></th>\n",
              "      <th></th>\n",
              "      <th></th>\n",
              "      <th></th>\n",
              "      <th></th>\n",
              "      <th></th>\n",
              "      <th></th>\n",
              "    </tr>\n",
              "  </thead>\n",
              "  <tbody>\n",
              "    <tr>\n",
              "      <th>1</th>\n",
              "      <th>San Zhang</th>\n",
              "      <td>80</td>\n",
              "      <td>75</td>\n",
              "      <td>90</td>\n",
              "      <td>85</td>\n",
              "      <td>10</td>\n",
              "      <td>15</td>\n",
              "      <td>20</td>\n",
              "      <td>7</td>\n",
              "    </tr>\n",
              "    <tr>\n",
              "      <th>2</th>\n",
              "      <th>Si Li</th>\n",
              "      <td>85</td>\n",
              "      <td>65</td>\n",
              "      <td>92</td>\n",
              "      <td>88</td>\n",
              "      <td>21</td>\n",
              "      <td>15</td>\n",
              "      <td>6</td>\n",
              "      <td>2</td>\n",
              "    </tr>\n",
              "  </tbody>\n",
              "</table>\n",
              "</div>"
            ],
            "text/plain": [
              "                  Grade                     rank                 \n",
              "Subject         Chinese       Math       Chinese       Math      \n",
              "Examination         Mid Final  Mid Final     Mid Final  Mid Final\n",
              "Class Name                                                       \n",
              "1     San Zhang      80    75   90    85      10    15   20     7\n",
              "2     Si Li          85    65   92    88      21    15    6     2"
            ]
          },
          "metadata": {
            "tags": []
          },
          "execution_count": 13
        }
      ]
    },
    {
      "cell_type": "markdown",
      "metadata": {
        "id": "h8B6dQ_k7K8y"
      },
      "source": [
        "* 根据唯一性原则，新表的行索引等价于对 index 中的多列使用 drop_duplicates ，而列索引的长度为 values 中的元素个数乘以 columns 的唯一组合数量（与 index 类似） "
      ]
    },
    {
      "cell_type": "markdown",
      "metadata": {
        "id": "TBT_uxb57jov"
      },
      "source": [
        "### 2.pivot_table\r\n",
        "* pivot 的使用依赖于唯一性条件，那如果不满足唯一性条件，那么必须通过聚合操作使得相同行列组合对应的多个值变为一个值"
      ]
    },
    {
      "cell_type": "code",
      "metadata": {
        "colab": {
          "base_uri": "https://localhost:8080/",
          "height": 294
        },
        "id": "oosTQae_7xG-",
        "outputId": "a23ec890-33a9-41c1-93e3-e5b14f7d3ea0"
      },
      "source": [
        "# 张三和李四都参加了两次语文考试和数学考试，按照学院规定，最后的成绩是两次考试分数的平均值\r\n",
        "df = pd.DataFrame({'Name':['San Zhang', 'San Zhang',\r\n",
        "               'San Zhang', 'San Zhang',\r\n",
        "               'Si Li', 'Si Li', 'Si Li', 'Si Li'],\r\n",
        "           'Subject':['Chinese', 'Chinese', 'Math', 'Math',\r\n",
        "                 'Chinese', 'Chinese', 'Math', 'Math'],\r\n",
        "           'Grade':[80, 90, 100, 90, 70, 80, 85, 95]})\r\n",
        "df"
      ],
      "execution_count": 14,
      "outputs": [
        {
          "output_type": "execute_result",
          "data": {
            "text/html": [
              "<div>\n",
              "<style scoped>\n",
              "    .dataframe tbody tr th:only-of-type {\n",
              "        vertical-align: middle;\n",
              "    }\n",
              "\n",
              "    .dataframe tbody tr th {\n",
              "        vertical-align: top;\n",
              "    }\n",
              "\n",
              "    .dataframe thead th {\n",
              "        text-align: right;\n",
              "    }\n",
              "</style>\n",
              "<table border=\"1\" class=\"dataframe\">\n",
              "  <thead>\n",
              "    <tr style=\"text-align: right;\">\n",
              "      <th></th>\n",
              "      <th>Name</th>\n",
              "      <th>Subject</th>\n",
              "      <th>Grade</th>\n",
              "    </tr>\n",
              "  </thead>\n",
              "  <tbody>\n",
              "    <tr>\n",
              "      <th>0</th>\n",
              "      <td>San Zhang</td>\n",
              "      <td>Chinese</td>\n",
              "      <td>80</td>\n",
              "    </tr>\n",
              "    <tr>\n",
              "      <th>1</th>\n",
              "      <td>San Zhang</td>\n",
              "      <td>Chinese</td>\n",
              "      <td>90</td>\n",
              "    </tr>\n",
              "    <tr>\n",
              "      <th>2</th>\n",
              "      <td>San Zhang</td>\n",
              "      <td>Math</td>\n",
              "      <td>100</td>\n",
              "    </tr>\n",
              "    <tr>\n",
              "      <th>3</th>\n",
              "      <td>San Zhang</td>\n",
              "      <td>Math</td>\n",
              "      <td>90</td>\n",
              "    </tr>\n",
              "    <tr>\n",
              "      <th>4</th>\n",
              "      <td>Si Li</td>\n",
              "      <td>Chinese</td>\n",
              "      <td>70</td>\n",
              "    </tr>\n",
              "    <tr>\n",
              "      <th>5</th>\n",
              "      <td>Si Li</td>\n",
              "      <td>Chinese</td>\n",
              "      <td>80</td>\n",
              "    </tr>\n",
              "    <tr>\n",
              "      <th>6</th>\n",
              "      <td>Si Li</td>\n",
              "      <td>Math</td>\n",
              "      <td>85</td>\n",
              "    </tr>\n",
              "    <tr>\n",
              "      <th>7</th>\n",
              "      <td>Si Li</td>\n",
              "      <td>Math</td>\n",
              "      <td>95</td>\n",
              "    </tr>\n",
              "  </tbody>\n",
              "</table>\n",
              "</div>"
            ],
            "text/plain": [
              "        Name  Subject  Grade\n",
              "0  San Zhang  Chinese     80\n",
              "1  San Zhang  Chinese     90\n",
              "2  San Zhang     Math    100\n",
              "3  San Zhang     Math     90\n",
              "4      Si Li  Chinese     70\n",
              "5      Si Li  Chinese     80\n",
              "6      Si Li     Math     85\n",
              "7      Si Li     Math     95"
            ]
          },
          "metadata": {
            "tags": []
          },
          "execution_count": 14
        }
      ]
    },
    {
      "cell_type": "markdown",
      "metadata": {
        "id": "z9v0IlM08aB9"
      },
      "source": [
        "* pandas 中提供了 pivot_table 来实现，其中的 aggfunc 参数就是使用的聚合函数"
      ]
    },
    {
      "cell_type": "code",
      "metadata": {
        "colab": {
          "base_uri": "https://localhost:8080/",
          "height": 141
        },
        "id": "1VHlne8q8hj_",
        "outputId": "82e56df2-ea01-4aec-ccd7-32b2ca8bb1af"
      },
      "source": [
        "df.pivot_table(index = 'Name',\r\n",
        "        columns = 'Subject',\r\n",
        "        values = 'Grade',\r\n",
        "        aggfunc = 'mean')"
      ],
      "execution_count": 15,
      "outputs": [
        {
          "output_type": "execute_result",
          "data": {
            "text/html": [
              "<div>\n",
              "<style scoped>\n",
              "    .dataframe tbody tr th:only-of-type {\n",
              "        vertical-align: middle;\n",
              "    }\n",
              "\n",
              "    .dataframe tbody tr th {\n",
              "        vertical-align: top;\n",
              "    }\n",
              "\n",
              "    .dataframe thead th {\n",
              "        text-align: right;\n",
              "    }\n",
              "</style>\n",
              "<table border=\"1\" class=\"dataframe\">\n",
              "  <thead>\n",
              "    <tr style=\"text-align: right;\">\n",
              "      <th>Subject</th>\n",
              "      <th>Chinese</th>\n",
              "      <th>Math</th>\n",
              "    </tr>\n",
              "    <tr>\n",
              "      <th>Name</th>\n",
              "      <th></th>\n",
              "      <th></th>\n",
              "    </tr>\n",
              "  </thead>\n",
              "  <tbody>\n",
              "    <tr>\n",
              "      <th>San Zhang</th>\n",
              "      <td>85</td>\n",
              "      <td>95</td>\n",
              "    </tr>\n",
              "    <tr>\n",
              "      <th>Si Li</th>\n",
              "      <td>75</td>\n",
              "      <td>90</td>\n",
              "    </tr>\n",
              "  </tbody>\n",
              "</table>\n",
              "</div>"
            ],
            "text/plain": [
              "Subject    Chinese  Math\n",
              "Name                    \n",
              "San Zhang       85    95\n",
              "Si Li           75    90"
            ]
          },
          "metadata": {
            "tags": []
          },
          "execution_count": 15
        }
      ]
    },
    {
      "cell_type": "code",
      "metadata": {
        "colab": {
          "base_uri": "https://localhost:8080/",
          "height": 141
        },
        "id": "dxW5Vmzx8zY1",
        "outputId": "acd6ecb5-eae9-49dd-f99c-7858959a878e"
      },
      "source": [
        "# 还可以传入以序列为输入标量为输出的聚合函数来实现自定义操作，上述功能可以等价写出：\r\n",
        "df.pivot_table(index = 'Name',\r\n",
        "        columns = 'Subject',\r\n",
        "        values = 'Grade',\r\n",
        "        aggfunc = lambda x:x.mean())"
      ],
      "execution_count": 16,
      "outputs": [
        {
          "output_type": "execute_result",
          "data": {
            "text/html": [
              "<div>\n",
              "<style scoped>\n",
              "    .dataframe tbody tr th:only-of-type {\n",
              "        vertical-align: middle;\n",
              "    }\n",
              "\n",
              "    .dataframe tbody tr th {\n",
              "        vertical-align: top;\n",
              "    }\n",
              "\n",
              "    .dataframe thead th {\n",
              "        text-align: right;\n",
              "    }\n",
              "</style>\n",
              "<table border=\"1\" class=\"dataframe\">\n",
              "  <thead>\n",
              "    <tr style=\"text-align: right;\">\n",
              "      <th>Subject</th>\n",
              "      <th>Chinese</th>\n",
              "      <th>Math</th>\n",
              "    </tr>\n",
              "    <tr>\n",
              "      <th>Name</th>\n",
              "      <th></th>\n",
              "      <th></th>\n",
              "    </tr>\n",
              "  </thead>\n",
              "  <tbody>\n",
              "    <tr>\n",
              "      <th>San Zhang</th>\n",
              "      <td>85</td>\n",
              "      <td>95</td>\n",
              "    </tr>\n",
              "    <tr>\n",
              "      <th>Si Li</th>\n",
              "      <td>75</td>\n",
              "      <td>90</td>\n",
              "    </tr>\n",
              "  </tbody>\n",
              "</table>\n",
              "</div>"
            ],
            "text/plain": [
              "Subject    Chinese  Math\n",
              "Name                    \n",
              "San Zhang       85    95\n",
              "Si Li           75    90"
            ]
          },
          "metadata": {
            "tags": []
          },
          "execution_count": 16
        }
      ]
    },
    {
      "cell_type": "markdown",
      "metadata": {
        "id": "jGQK9K_S9Bc-"
      },
      "source": [
        "*  pivot_table 具有边际汇总的功能，可以通过设置 margins=True 来实现，其中边际的聚合方式与 aggfunc 中给出的聚合方法一致"
      ]
    },
    {
      "cell_type": "code",
      "metadata": {
        "colab": {
          "base_uri": "https://localhost:8080/",
          "height": 171
        },
        "id": "c8_0mlIu9E-K",
        "outputId": "0a554b7e-6487-4c13-8ec4-19d31e0660aa"
      },
      "source": [
        "# 分别统计语文均分和数学均分、张三均分和李四均分，以及总体所有分数的均分\r\n",
        "df.pivot_table(index = 'Name',\r\n",
        "        columns = 'Subject',\r\n",
        "        values = 'Grade',\r\n",
        "        aggfunc = 'mean',\r\n",
        "        margins = True)"
      ],
      "execution_count": 18,
      "outputs": [
        {
          "output_type": "execute_result",
          "data": {
            "text/html": [
              "<div>\n",
              "<style scoped>\n",
              "    .dataframe tbody tr th:only-of-type {\n",
              "        vertical-align: middle;\n",
              "    }\n",
              "\n",
              "    .dataframe tbody tr th {\n",
              "        vertical-align: top;\n",
              "    }\n",
              "\n",
              "    .dataframe thead th {\n",
              "        text-align: right;\n",
              "    }\n",
              "</style>\n",
              "<table border=\"1\" class=\"dataframe\">\n",
              "  <thead>\n",
              "    <tr style=\"text-align: right;\">\n",
              "      <th>Subject</th>\n",
              "      <th>Chinese</th>\n",
              "      <th>Math</th>\n",
              "      <th>All</th>\n",
              "    </tr>\n",
              "    <tr>\n",
              "      <th>Name</th>\n",
              "      <th></th>\n",
              "      <th></th>\n",
              "      <th></th>\n",
              "    </tr>\n",
              "  </thead>\n",
              "  <tbody>\n",
              "    <tr>\n",
              "      <th>San Zhang</th>\n",
              "      <td>85</td>\n",
              "      <td>95.0</td>\n",
              "      <td>90.00</td>\n",
              "    </tr>\n",
              "    <tr>\n",
              "      <th>Si Li</th>\n",
              "      <td>75</td>\n",
              "      <td>90.0</td>\n",
              "      <td>82.50</td>\n",
              "    </tr>\n",
              "    <tr>\n",
              "      <th>All</th>\n",
              "      <td>80</td>\n",
              "      <td>92.5</td>\n",
              "      <td>86.25</td>\n",
              "    </tr>\n",
              "  </tbody>\n",
              "</table>\n",
              "</div>"
            ],
            "text/plain": [
              "Subject    Chinese  Math    All\n",
              "Name                           \n",
              "San Zhang       85  95.0  90.00\n",
              "Si Li           75  90.0  82.50\n",
              "All             80  92.5  86.25"
            ]
          },
          "metadata": {
            "tags": []
          },
          "execution_count": 18
        }
      ]
    },
    {
      "cell_type": "markdown",
      "metadata": {
        "id": "UVo8q4YE9qtO"
      },
      "source": [
        "### 3.melt\r\n",
        "*  melt 函数就起到了逆操作把宽表转为长表"
      ]
    },
    {
      "cell_type": "code",
      "metadata": {
        "colab": {
          "base_uri": "https://localhost:8080/",
          "height": 110
        },
        "id": "1vibhUwl9USN",
        "outputId": "74f7a56a-7b3d-41b9-de8a-d3fed5629fa0"
      },
      "source": [
        "df = pd.DataFrame({'Class':[1,2],\r\n",
        "            'Name':['San Zhang', 'Si Li'],\r\n",
        "            'Chinese':[80, 90],\r\n",
        "            'Math':[80, 75]})\r\n",
        "df"
      ],
      "execution_count": 19,
      "outputs": [
        {
          "output_type": "execute_result",
          "data": {
            "text/html": [
              "<div>\n",
              "<style scoped>\n",
              "    .dataframe tbody tr th:only-of-type {\n",
              "        vertical-align: middle;\n",
              "    }\n",
              "\n",
              "    .dataframe tbody tr th {\n",
              "        vertical-align: top;\n",
              "    }\n",
              "\n",
              "    .dataframe thead th {\n",
              "        text-align: right;\n",
              "    }\n",
              "</style>\n",
              "<table border=\"1\" class=\"dataframe\">\n",
              "  <thead>\n",
              "    <tr style=\"text-align: right;\">\n",
              "      <th></th>\n",
              "      <th>Class</th>\n",
              "      <th>Name</th>\n",
              "      <th>Chinese</th>\n",
              "      <th>Math</th>\n",
              "    </tr>\n",
              "  </thead>\n",
              "  <tbody>\n",
              "    <tr>\n",
              "      <th>0</th>\n",
              "      <td>1</td>\n",
              "      <td>San Zhang</td>\n",
              "      <td>80</td>\n",
              "      <td>80</td>\n",
              "    </tr>\n",
              "    <tr>\n",
              "      <th>1</th>\n",
              "      <td>2</td>\n",
              "      <td>Si Li</td>\n",
              "      <td>90</td>\n",
              "      <td>75</td>\n",
              "    </tr>\n",
              "  </tbody>\n",
              "</table>\n",
              "</div>"
            ],
            "text/plain": [
              "   Class       Name  Chinese  Math\n",
              "0      1  San Zhang       80    80\n",
              "1      2      Si Li       90    75"
            ]
          },
          "metadata": {
            "tags": []
          },
          "execution_count": 19
        }
      ]
    },
    {
      "cell_type": "code",
      "metadata": {
        "colab": {
          "base_uri": "https://localhost:8080/",
          "height": 171
        },
        "id": "Q_N2MjJ_-dab",
        "outputId": "e0829eb3-3d9a-4201-fd09-7fb678eafb2a"
      },
      "source": [
        "df_melted = df.melt(id_vars = ['Class', 'Name'],\r\n",
        "                     value_vars = ['Chinese', 'Math'],\r\n",
        "                     var_name = 'Subject',\r\n",
        "                     value_name = 'Grade')\r\n",
        "df_melted"
      ],
      "execution_count": 22,
      "outputs": [
        {
          "output_type": "execute_result",
          "data": {
            "text/html": [
              "<div>\n",
              "<style scoped>\n",
              "    .dataframe tbody tr th:only-of-type {\n",
              "        vertical-align: middle;\n",
              "    }\n",
              "\n",
              "    .dataframe tbody tr th {\n",
              "        vertical-align: top;\n",
              "    }\n",
              "\n",
              "    .dataframe thead th {\n",
              "        text-align: right;\n",
              "    }\n",
              "</style>\n",
              "<table border=\"1\" class=\"dataframe\">\n",
              "  <thead>\n",
              "    <tr style=\"text-align: right;\">\n",
              "      <th></th>\n",
              "      <th>Class</th>\n",
              "      <th>Name</th>\n",
              "      <th>Subject</th>\n",
              "      <th>Grade</th>\n",
              "    </tr>\n",
              "  </thead>\n",
              "  <tbody>\n",
              "    <tr>\n",
              "      <th>0</th>\n",
              "      <td>1</td>\n",
              "      <td>San Zhang</td>\n",
              "      <td>Chinese</td>\n",
              "      <td>80</td>\n",
              "    </tr>\n",
              "    <tr>\n",
              "      <th>1</th>\n",
              "      <td>2</td>\n",
              "      <td>Si Li</td>\n",
              "      <td>Chinese</td>\n",
              "      <td>90</td>\n",
              "    </tr>\n",
              "    <tr>\n",
              "      <th>2</th>\n",
              "      <td>1</td>\n",
              "      <td>San Zhang</td>\n",
              "      <td>Math</td>\n",
              "      <td>80</td>\n",
              "    </tr>\n",
              "    <tr>\n",
              "      <th>3</th>\n",
              "      <td>2</td>\n",
              "      <td>Si Li</td>\n",
              "      <td>Math</td>\n",
              "      <td>75</td>\n",
              "    </tr>\n",
              "  </tbody>\n",
              "</table>\n",
              "</div>"
            ],
            "text/plain": [
              "   Class       Name  Subject  Grade\n",
              "0      1  San Zhang  Chinese     80\n",
              "1      2      Si Li  Chinese     90\n",
              "2      1  San Zhang     Math     80\n",
              "3      2      Si Li     Math     75"
            ]
          },
          "metadata": {
            "tags": []
          },
          "execution_count": 22
        }
      ]
    },
    {
      "cell_type": "code",
      "metadata": {
        "colab": {
          "base_uri": "https://localhost:8080/",
          "height": 141
        },
        "id": "LcFa7Vsp9UOq",
        "outputId": "f979d096-5d80-42fe-abf6-1add903fd5e4"
      },
      "source": [
        "#  melt 和 pivot 是一组互逆过程\r\n",
        "df_unmelted = df_melted.pivot(index = ['Class', 'Name'],\r\n",
        "                columns='Subject',\r\n",
        "                values='Grade')\r\n",
        "df_unmelted # 下面需要恢复索引，并且重命名列索引名称"
      ],
      "execution_count": 23,
      "outputs": [
        {
          "output_type": "execute_result",
          "data": {
            "text/html": [
              "<div>\n",
              "<style scoped>\n",
              "    .dataframe tbody tr th:only-of-type {\n",
              "        vertical-align: middle;\n",
              "    }\n",
              "\n",
              "    .dataframe tbody tr th {\n",
              "        vertical-align: top;\n",
              "    }\n",
              "\n",
              "    .dataframe thead th {\n",
              "        text-align: right;\n",
              "    }\n",
              "</style>\n",
              "<table border=\"1\" class=\"dataframe\">\n",
              "  <thead>\n",
              "    <tr style=\"text-align: right;\">\n",
              "      <th></th>\n",
              "      <th>Subject</th>\n",
              "      <th>Chinese</th>\n",
              "      <th>Math</th>\n",
              "    </tr>\n",
              "    <tr>\n",
              "      <th>Class</th>\n",
              "      <th>Name</th>\n",
              "      <th></th>\n",
              "      <th></th>\n",
              "    </tr>\n",
              "  </thead>\n",
              "  <tbody>\n",
              "    <tr>\n",
              "      <th>1</th>\n",
              "      <th>San Zhang</th>\n",
              "      <td>80</td>\n",
              "      <td>80</td>\n",
              "    </tr>\n",
              "    <tr>\n",
              "      <th>2</th>\n",
              "      <th>Si Li</th>\n",
              "      <td>90</td>\n",
              "      <td>75</td>\n",
              "    </tr>\n",
              "  </tbody>\n",
              "</table>\n",
              "</div>"
            ],
            "text/plain": [
              "Subject          Chinese  Math\n",
              "Class Name                    \n",
              "1     San Zhang       80    80\n",
              "2     Si Li           90    75"
            ]
          },
          "metadata": {
            "tags": []
          },
          "execution_count": 23
        }
      ]
    },
    {
      "cell_type": "markdown",
      "metadata": {
        "id": "CYH8rulk-mBH"
      },
      "source": [
        "### 4.wide_to_long\r\n",
        "* melt 方法中，在列索引中被压缩的一组值对应的列元素只能代表同一层次的含义，即 values_name\r\n",
        "* 列中包含交叉类别，想要把values_name对应的值扩充为两列，可以用 wide_to_long 函数来完成\r\n"
      ]
    },
    {
      "cell_type": "code",
      "metadata": {
        "colab": {
          "base_uri": "https://localhost:8080/",
          "height": 110
        },
        "id": "bHGht_CICHuA",
        "outputId": "ab2ffce5-f6cd-4c13-8628-9acb2bcdbe08"
      },
      "source": [
        "df = pd.DataFrame({'Class':[1,2],'Name':['San Zhang', 'Si Li'],\r\n",
        "           'Chinese_Mid':[80, 75], 'Math_Mid':[90, 85],\r\n",
        "           'Chinese_Final':[80, 75], 'Math_Final':[90, 85]})\r\n",
        "df"
      ],
      "execution_count": 24,
      "outputs": [
        {
          "output_type": "execute_result",
          "data": {
            "text/html": [
              "<div>\n",
              "<style scoped>\n",
              "    .dataframe tbody tr th:only-of-type {\n",
              "        vertical-align: middle;\n",
              "    }\n",
              "\n",
              "    .dataframe tbody tr th {\n",
              "        vertical-align: top;\n",
              "    }\n",
              "\n",
              "    .dataframe thead th {\n",
              "        text-align: right;\n",
              "    }\n",
              "</style>\n",
              "<table border=\"1\" class=\"dataframe\">\n",
              "  <thead>\n",
              "    <tr style=\"text-align: right;\">\n",
              "      <th></th>\n",
              "      <th>Class</th>\n",
              "      <th>Name</th>\n",
              "      <th>Chinese_Mid</th>\n",
              "      <th>Math_Mid</th>\n",
              "      <th>Chinese_Final</th>\n",
              "      <th>Math_Final</th>\n",
              "    </tr>\n",
              "  </thead>\n",
              "  <tbody>\n",
              "    <tr>\n",
              "      <th>0</th>\n",
              "      <td>1</td>\n",
              "      <td>San Zhang</td>\n",
              "      <td>80</td>\n",
              "      <td>90</td>\n",
              "      <td>80</td>\n",
              "      <td>90</td>\n",
              "    </tr>\n",
              "    <tr>\n",
              "      <th>1</th>\n",
              "      <td>2</td>\n",
              "      <td>Si Li</td>\n",
              "      <td>75</td>\n",
              "      <td>85</td>\n",
              "      <td>75</td>\n",
              "      <td>85</td>\n",
              "    </tr>\n",
              "  </tbody>\n",
              "</table>\n",
              "</div>"
            ],
            "text/plain": [
              "   Class       Name  Chinese_Mid  Math_Mid  Chinese_Final  Math_Final\n",
              "0      1  San Zhang           80        90             80          90\n",
              "1      2      Si Li           75        85             75          85"
            ]
          },
          "metadata": {
            "tags": []
          },
          "execution_count": 24
        }
      ]
    },
    {
      "cell_type": "code",
      "metadata": {
        "colab": {
          "base_uri": "https://localhost:8080/",
          "height": 202
        },
        "id": "V6W2lWKECSdh",
        "outputId": "a9e584a8-a570-4fed-c29d-5f9f74c8d5a0"
      },
      "source": [
        "pd.wide_to_long(df,\r\n",
        "        stubnames=['Chinese', 'Math'],\r\n",
        "        i = ['Class', 'Name'],\r\n",
        "        j='Examination',\r\n",
        "        sep='_',\r\n",
        "        suffix='.+')"
      ],
      "execution_count": 25,
      "outputs": [
        {
          "output_type": "execute_result",
          "data": {
            "text/html": [
              "<div>\n",
              "<style scoped>\n",
              "    .dataframe tbody tr th:only-of-type {\n",
              "        vertical-align: middle;\n",
              "    }\n",
              "\n",
              "    .dataframe tbody tr th {\n",
              "        vertical-align: top;\n",
              "    }\n",
              "\n",
              "    .dataframe thead th {\n",
              "        text-align: right;\n",
              "    }\n",
              "</style>\n",
              "<table border=\"1\" class=\"dataframe\">\n",
              "  <thead>\n",
              "    <tr style=\"text-align: right;\">\n",
              "      <th></th>\n",
              "      <th></th>\n",
              "      <th></th>\n",
              "      <th>Chinese</th>\n",
              "      <th>Math</th>\n",
              "    </tr>\n",
              "    <tr>\n",
              "      <th>Class</th>\n",
              "      <th>Name</th>\n",
              "      <th>Examination</th>\n",
              "      <th></th>\n",
              "      <th></th>\n",
              "    </tr>\n",
              "  </thead>\n",
              "  <tbody>\n",
              "    <tr>\n",
              "      <th rowspan=\"2\" valign=\"top\">1</th>\n",
              "      <th rowspan=\"2\" valign=\"top\">San Zhang</th>\n",
              "      <th>Mid</th>\n",
              "      <td>80</td>\n",
              "      <td>90</td>\n",
              "    </tr>\n",
              "    <tr>\n",
              "      <th>Final</th>\n",
              "      <td>80</td>\n",
              "      <td>90</td>\n",
              "    </tr>\n",
              "    <tr>\n",
              "      <th rowspan=\"2\" valign=\"top\">2</th>\n",
              "      <th rowspan=\"2\" valign=\"top\">Si Li</th>\n",
              "      <th>Mid</th>\n",
              "      <td>75</td>\n",
              "      <td>85</td>\n",
              "    </tr>\n",
              "    <tr>\n",
              "      <th>Final</th>\n",
              "      <td>75</td>\n",
              "      <td>85</td>\n",
              "    </tr>\n",
              "  </tbody>\n",
              "</table>\n",
              "</div>"
            ],
            "text/plain": [
              "                             Chinese  Math\n",
              "Class Name      Examination               \n",
              "1     San Zhang Mid               80    90\n",
              "                Final             80    90\n",
              "2     Si Li     Mid               75    85\n",
              "                Final             75    85"
            ]
          },
          "metadata": {
            "tags": []
          },
          "execution_count": 25
        }
      ]
    },
    {
      "cell_type": "code",
      "metadata": {
        "colab": {
          "base_uri": "https://localhost:8080/",
          "height": 294
        },
        "id": "0jfNjwfcDLKs",
        "outputId": "aee08ef6-8650-419c-ecc6-3205e78b2618"
      },
      "source": [
        "# 把之前在 pivot 一节中多列操作的结果（产生了多级索引），利用 wide_to_long 函数，将其转为原来的形态\r\n",
        "res = pivot_multi.copy()\r\n",
        "res.columns = res.columns.map(lambda x:'_'.join(x))\r\n",
        "res = res.reset_index()\r\n",
        "res = pd.wide_to_long(res, stubnames=['Grade', 'rank'],\r\n",
        "               i = ['Class', 'Name'],\r\n",
        "               j = 'Subject_Examination',\r\n",
        "               sep = '_',\r\n",
        "               suffix = '.+')\r\n",
        "res = res.reset_index()\r\n",
        "\r\n",
        "res[['Subject', 'Examination']] = res[\r\n",
        "         'Subject_Examination'].str.split('_', expand=True)\r\n",
        "\r\n",
        "res = res[['Class', 'Name', 'Examination',\r\n",
        "       'Subject', 'Grade', 'rank']].sort_values('Subject')\r\n",
        "res = res.reset_index(drop=True)\r\n",
        "\r\n",
        "res"
      ],
      "execution_count": 26,
      "outputs": [
        {
          "output_type": "execute_result",
          "data": {
            "text/html": [
              "<div>\n",
              "<style scoped>\n",
              "    .dataframe tbody tr th:only-of-type {\n",
              "        vertical-align: middle;\n",
              "    }\n",
              "\n",
              "    .dataframe tbody tr th {\n",
              "        vertical-align: top;\n",
              "    }\n",
              "\n",
              "    .dataframe thead th {\n",
              "        text-align: right;\n",
              "    }\n",
              "</style>\n",
              "<table border=\"1\" class=\"dataframe\">\n",
              "  <thead>\n",
              "    <tr style=\"text-align: right;\">\n",
              "      <th></th>\n",
              "      <th>Class</th>\n",
              "      <th>Name</th>\n",
              "      <th>Examination</th>\n",
              "      <th>Subject</th>\n",
              "      <th>Grade</th>\n",
              "      <th>rank</th>\n",
              "    </tr>\n",
              "  </thead>\n",
              "  <tbody>\n",
              "    <tr>\n",
              "      <th>0</th>\n",
              "      <td>1</td>\n",
              "      <td>San Zhang</td>\n",
              "      <td>Mid</td>\n",
              "      <td>Chinese</td>\n",
              "      <td>80</td>\n",
              "      <td>10</td>\n",
              "    </tr>\n",
              "    <tr>\n",
              "      <th>1</th>\n",
              "      <td>1</td>\n",
              "      <td>San Zhang</td>\n",
              "      <td>Final</td>\n",
              "      <td>Chinese</td>\n",
              "      <td>75</td>\n",
              "      <td>15</td>\n",
              "    </tr>\n",
              "    <tr>\n",
              "      <th>2</th>\n",
              "      <td>2</td>\n",
              "      <td>Si Li</td>\n",
              "      <td>Mid</td>\n",
              "      <td>Chinese</td>\n",
              "      <td>85</td>\n",
              "      <td>21</td>\n",
              "    </tr>\n",
              "    <tr>\n",
              "      <th>3</th>\n",
              "      <td>2</td>\n",
              "      <td>Si Li</td>\n",
              "      <td>Final</td>\n",
              "      <td>Chinese</td>\n",
              "      <td>65</td>\n",
              "      <td>15</td>\n",
              "    </tr>\n",
              "    <tr>\n",
              "      <th>4</th>\n",
              "      <td>1</td>\n",
              "      <td>San Zhang</td>\n",
              "      <td>Mid</td>\n",
              "      <td>Math</td>\n",
              "      <td>90</td>\n",
              "      <td>20</td>\n",
              "    </tr>\n",
              "    <tr>\n",
              "      <th>5</th>\n",
              "      <td>1</td>\n",
              "      <td>San Zhang</td>\n",
              "      <td>Final</td>\n",
              "      <td>Math</td>\n",
              "      <td>85</td>\n",
              "      <td>7</td>\n",
              "    </tr>\n",
              "    <tr>\n",
              "      <th>6</th>\n",
              "      <td>2</td>\n",
              "      <td>Si Li</td>\n",
              "      <td>Mid</td>\n",
              "      <td>Math</td>\n",
              "      <td>92</td>\n",
              "      <td>6</td>\n",
              "    </tr>\n",
              "    <tr>\n",
              "      <th>7</th>\n",
              "      <td>2</td>\n",
              "      <td>Si Li</td>\n",
              "      <td>Final</td>\n",
              "      <td>Math</td>\n",
              "      <td>88</td>\n",
              "      <td>2</td>\n",
              "    </tr>\n",
              "  </tbody>\n",
              "</table>\n",
              "</div>"
            ],
            "text/plain": [
              "   Class       Name Examination  Subject  Grade  rank\n",
              "0      1  San Zhang         Mid  Chinese     80    10\n",
              "1      1  San Zhang       Final  Chinese     75    15\n",
              "2      2      Si Li         Mid  Chinese     85    21\n",
              "3      2      Si Li       Final  Chinese     65    15\n",
              "4      1  San Zhang         Mid     Math     90    20\n",
              "5      1  San Zhang       Final     Math     85     7\n",
              "6      2      Si Li         Mid     Math     92     6\n",
              "7      2      Si Li       Final     Math     88     2"
            ]
          },
          "metadata": {
            "tags": []
          },
          "execution_count": 26
        }
      ]
    },
    {
      "cell_type": "markdown",
      "metadata": {
        "id": "rGYoFIQ7FLdW"
      },
      "source": [
        "## 二、索引的变形"
      ]
    },
    {
      "cell_type": "markdown",
      "metadata": {
        "id": "-iAeu3tpFRHf"
      },
      "source": [
        "### 1.stack与unstack"
      ]
    },
    {
      "cell_type": "markdown",
      "metadata": {
        "id": "s8Ds5e5HFa9_"
      },
      "source": [
        "* unstack 函数的作用是把行索引转为列索引"
      ]
    },
    {
      "cell_type": "code",
      "metadata": {
        "colab": {
          "base_uri": "https://localhost:8080/",
          "height": 171
        },
        "id": "o-s8sh30FJlR",
        "outputId": "762151c3-9d69-4b00-886a-e0cd6e6c0432"
      },
      "source": [
        "df = pd.DataFrame(np.ones((4,2)),\r\n",
        "           index = pd.Index([('A', 'cat', 'big'),\r\n",
        "                     ('A', 'dog', 'small'),\r\n",
        "                     ('B', 'cat', 'big'),\r\n",
        "                     ('B', 'dog', 'small')]),\r\n",
        "  columns=['col_1', 'col_2'])\r\n",
        "df"
      ],
      "execution_count": 27,
      "outputs": [
        {
          "output_type": "execute_result",
          "data": {
            "text/html": [
              "<div>\n",
              "<style scoped>\n",
              "    .dataframe tbody tr th:only-of-type {\n",
              "        vertical-align: middle;\n",
              "    }\n",
              "\n",
              "    .dataframe tbody tr th {\n",
              "        vertical-align: top;\n",
              "    }\n",
              "\n",
              "    .dataframe thead th {\n",
              "        text-align: right;\n",
              "    }\n",
              "</style>\n",
              "<table border=\"1\" class=\"dataframe\">\n",
              "  <thead>\n",
              "    <tr style=\"text-align: right;\">\n",
              "      <th></th>\n",
              "      <th></th>\n",
              "      <th></th>\n",
              "      <th>col_1</th>\n",
              "      <th>col_2</th>\n",
              "    </tr>\n",
              "  </thead>\n",
              "  <tbody>\n",
              "    <tr>\n",
              "      <th rowspan=\"2\" valign=\"top\">A</th>\n",
              "      <th>cat</th>\n",
              "      <th>big</th>\n",
              "      <td>1.0</td>\n",
              "      <td>1.0</td>\n",
              "    </tr>\n",
              "    <tr>\n",
              "      <th>dog</th>\n",
              "      <th>small</th>\n",
              "      <td>1.0</td>\n",
              "      <td>1.0</td>\n",
              "    </tr>\n",
              "    <tr>\n",
              "      <th rowspan=\"2\" valign=\"top\">B</th>\n",
              "      <th>cat</th>\n",
              "      <th>big</th>\n",
              "      <td>1.0</td>\n",
              "      <td>1.0</td>\n",
              "    </tr>\n",
              "    <tr>\n",
              "      <th>dog</th>\n",
              "      <th>small</th>\n",
              "      <td>1.0</td>\n",
              "      <td>1.0</td>\n",
              "    </tr>\n",
              "  </tbody>\n",
              "</table>\n",
              "</div>"
            ],
            "text/plain": [
              "             col_1  col_2\n",
              "A cat big      1.0    1.0\n",
              "  dog small    1.0    1.0\n",
              "B cat big      1.0    1.0\n",
              "  dog small    1.0    1.0"
            ]
          },
          "metadata": {
            "tags": []
          },
          "execution_count": 27
        }
      ]
    },
    {
      "cell_type": "code",
      "metadata": {
        "colab": {
          "base_uri": "https://localhost:8080/",
          "height": 202
        },
        "id": "jL-nPQnBFnuQ",
        "outputId": "ed5226b0-9863-4189-caa9-4c6d2b963ef8"
      },
      "source": [
        "df.unstack()"
      ],
      "execution_count": 28,
      "outputs": [
        {
          "output_type": "execute_result",
          "data": {
            "text/html": [
              "<div>\n",
              "<style scoped>\n",
              "    .dataframe tbody tr th:only-of-type {\n",
              "        vertical-align: middle;\n",
              "    }\n",
              "\n",
              "    .dataframe tbody tr th {\n",
              "        vertical-align: top;\n",
              "    }\n",
              "\n",
              "    .dataframe thead tr th {\n",
              "        text-align: left;\n",
              "    }\n",
              "</style>\n",
              "<table border=\"1\" class=\"dataframe\">\n",
              "  <thead>\n",
              "    <tr>\n",
              "      <th></th>\n",
              "      <th></th>\n",
              "      <th colspan=\"2\" halign=\"left\">col_1</th>\n",
              "      <th colspan=\"2\" halign=\"left\">col_2</th>\n",
              "    </tr>\n",
              "    <tr>\n",
              "      <th></th>\n",
              "      <th></th>\n",
              "      <th>big</th>\n",
              "      <th>small</th>\n",
              "      <th>big</th>\n",
              "      <th>small</th>\n",
              "    </tr>\n",
              "  </thead>\n",
              "  <tbody>\n",
              "    <tr>\n",
              "      <th rowspan=\"2\" valign=\"top\">A</th>\n",
              "      <th>cat</th>\n",
              "      <td>1.0</td>\n",
              "      <td>NaN</td>\n",
              "      <td>1.0</td>\n",
              "      <td>NaN</td>\n",
              "    </tr>\n",
              "    <tr>\n",
              "      <th>dog</th>\n",
              "      <td>NaN</td>\n",
              "      <td>1.0</td>\n",
              "      <td>NaN</td>\n",
              "      <td>1.0</td>\n",
              "    </tr>\n",
              "    <tr>\n",
              "      <th rowspan=\"2\" valign=\"top\">B</th>\n",
              "      <th>cat</th>\n",
              "      <td>1.0</td>\n",
              "      <td>NaN</td>\n",
              "      <td>1.0</td>\n",
              "      <td>NaN</td>\n",
              "    </tr>\n",
              "    <tr>\n",
              "      <th>dog</th>\n",
              "      <td>NaN</td>\n",
              "      <td>1.0</td>\n",
              "      <td>NaN</td>\n",
              "      <td>1.0</td>\n",
              "    </tr>\n",
              "  </tbody>\n",
              "</table>\n",
              "</div>"
            ],
            "text/plain": [
              "      col_1       col_2      \n",
              "        big small   big small\n",
              "A cat   1.0   NaN   1.0   NaN\n",
              "  dog   NaN   1.0   NaN   1.0\n",
              "B cat   1.0   NaN   1.0   NaN\n",
              "  dog   NaN   1.0   NaN   1.0"
            ]
          },
          "metadata": {
            "tags": []
          },
          "execution_count": 28
        }
      ]
    },
    {
      "cell_type": "markdown",
      "metadata": {
        "id": "chyDZwPOFtMO"
      },
      "source": [
        "* unstack 的主要参数是移动的层号，默认转化最内层，移动到列索引的最内层，同时支持同时转化多个层"
      ]
    },
    {
      "cell_type": "code",
      "metadata": {
        "colab": {
          "base_uri": "https://localhost:8080/",
          "height": 202
        },
        "id": "ydhXBxb1Fpwp",
        "outputId": "5909712f-5bbe-4ddd-f80a-27beefed246a"
      },
      "source": [
        "df.unstack(2)"
      ],
      "execution_count": 29,
      "outputs": [
        {
          "output_type": "execute_result",
          "data": {
            "text/html": [
              "<div>\n",
              "<style scoped>\n",
              "    .dataframe tbody tr th:only-of-type {\n",
              "        vertical-align: middle;\n",
              "    }\n",
              "\n",
              "    .dataframe tbody tr th {\n",
              "        vertical-align: top;\n",
              "    }\n",
              "\n",
              "    .dataframe thead tr th {\n",
              "        text-align: left;\n",
              "    }\n",
              "</style>\n",
              "<table border=\"1\" class=\"dataframe\">\n",
              "  <thead>\n",
              "    <tr>\n",
              "      <th></th>\n",
              "      <th></th>\n",
              "      <th colspan=\"2\" halign=\"left\">col_1</th>\n",
              "      <th colspan=\"2\" halign=\"left\">col_2</th>\n",
              "    </tr>\n",
              "    <tr>\n",
              "      <th></th>\n",
              "      <th></th>\n",
              "      <th>big</th>\n",
              "      <th>small</th>\n",
              "      <th>big</th>\n",
              "      <th>small</th>\n",
              "    </tr>\n",
              "  </thead>\n",
              "  <tbody>\n",
              "    <tr>\n",
              "      <th rowspan=\"2\" valign=\"top\">A</th>\n",
              "      <th>cat</th>\n",
              "      <td>1.0</td>\n",
              "      <td>NaN</td>\n",
              "      <td>1.0</td>\n",
              "      <td>NaN</td>\n",
              "    </tr>\n",
              "    <tr>\n",
              "      <th>dog</th>\n",
              "      <td>NaN</td>\n",
              "      <td>1.0</td>\n",
              "      <td>NaN</td>\n",
              "      <td>1.0</td>\n",
              "    </tr>\n",
              "    <tr>\n",
              "      <th rowspan=\"2\" valign=\"top\">B</th>\n",
              "      <th>cat</th>\n",
              "      <td>1.0</td>\n",
              "      <td>NaN</td>\n",
              "      <td>1.0</td>\n",
              "      <td>NaN</td>\n",
              "    </tr>\n",
              "    <tr>\n",
              "      <th>dog</th>\n",
              "      <td>NaN</td>\n",
              "      <td>1.0</td>\n",
              "      <td>NaN</td>\n",
              "      <td>1.0</td>\n",
              "    </tr>\n",
              "  </tbody>\n",
              "</table>\n",
              "</div>"
            ],
            "text/plain": [
              "      col_1       col_2      \n",
              "        big small   big small\n",
              "A cat   1.0   NaN   1.0   NaN\n",
              "  dog   NaN   1.0   NaN   1.0\n",
              "B cat   1.0   NaN   1.0   NaN\n",
              "  dog   NaN   1.0   NaN   1.0"
            ]
          },
          "metadata": {
            "tags": []
          },
          "execution_count": 29
        }
      ]
    },
    {
      "cell_type": "code",
      "metadata": {
        "colab": {
          "base_uri": "https://localhost:8080/",
          "height": 171
        },
        "id": "7DmyYBEIFwU4",
        "outputId": "275a5b99-dfe4-4b2a-8ffc-16e452ce2ec9"
      },
      "source": [
        "df.unstack([0,2])"
      ],
      "execution_count": 30,
      "outputs": [
        {
          "output_type": "execute_result",
          "data": {
            "text/html": [
              "<div>\n",
              "<style scoped>\n",
              "    .dataframe tbody tr th:only-of-type {\n",
              "        vertical-align: middle;\n",
              "    }\n",
              "\n",
              "    .dataframe tbody tr th {\n",
              "        vertical-align: top;\n",
              "    }\n",
              "\n",
              "    .dataframe thead tr th {\n",
              "        text-align: left;\n",
              "    }\n",
              "</style>\n",
              "<table border=\"1\" class=\"dataframe\">\n",
              "  <thead>\n",
              "    <tr>\n",
              "      <th></th>\n",
              "      <th colspan=\"4\" halign=\"left\">col_1</th>\n",
              "      <th colspan=\"4\" halign=\"left\">col_2</th>\n",
              "    </tr>\n",
              "    <tr>\n",
              "      <th></th>\n",
              "      <th colspan=\"2\" halign=\"left\">A</th>\n",
              "      <th colspan=\"2\" halign=\"left\">B</th>\n",
              "      <th colspan=\"2\" halign=\"left\">A</th>\n",
              "      <th colspan=\"2\" halign=\"left\">B</th>\n",
              "    </tr>\n",
              "    <tr>\n",
              "      <th></th>\n",
              "      <th>big</th>\n",
              "      <th>small</th>\n",
              "      <th>big</th>\n",
              "      <th>small</th>\n",
              "      <th>big</th>\n",
              "      <th>small</th>\n",
              "      <th>big</th>\n",
              "      <th>small</th>\n",
              "    </tr>\n",
              "  </thead>\n",
              "  <tbody>\n",
              "    <tr>\n",
              "      <th>cat</th>\n",
              "      <td>1.0</td>\n",
              "      <td>NaN</td>\n",
              "      <td>1.0</td>\n",
              "      <td>NaN</td>\n",
              "      <td>1.0</td>\n",
              "      <td>NaN</td>\n",
              "      <td>1.0</td>\n",
              "      <td>NaN</td>\n",
              "    </tr>\n",
              "    <tr>\n",
              "      <th>dog</th>\n",
              "      <td>NaN</td>\n",
              "      <td>1.0</td>\n",
              "      <td>NaN</td>\n",
              "      <td>1.0</td>\n",
              "      <td>NaN</td>\n",
              "      <td>1.0</td>\n",
              "      <td>NaN</td>\n",
              "      <td>1.0</td>\n",
              "    </tr>\n",
              "  </tbody>\n",
              "</table>\n",
              "</div>"
            ],
            "text/plain": [
              "    col_1                  col_2                 \n",
              "        A          B           A          B      \n",
              "      big small  big small   big small  big small\n",
              "cat   1.0   NaN  1.0   NaN   1.0   NaN  1.0   NaN\n",
              "dog   NaN   1.0  NaN   1.0   NaN   1.0  NaN   1.0"
            ]
          },
          "metadata": {
            "tags": []
          },
          "execution_count": 30
        }
      ]
    },
    {
      "cell_type": "markdown",
      "metadata": {
        "id": "7vv__3UeGErD"
      },
      "source": [
        "* 类似于 pivot 中的唯一性要求，在 unstack 中必须保证 被转为列索引的行索引层 和 被保留的行索引层 构成的组合是唯一的"
      ]
    },
    {
      "cell_type": "code",
      "metadata": {
        "colab": {
          "base_uri": "https://localhost:8080/",
          "height": 171
        },
        "id": "fWf8c5LAFyZx",
        "outputId": "6f252761-c8be-4df7-d726-fc0c7b631f9f"
      },
      "source": [
        "# 把前两个列索引改成相同的破坏唯一性，那么就会报错\r\n",
        "my_index = df.index.to_list()\r\n",
        "my_index[1] = my_index[0]\r\n",
        "df.index = pd.Index(my_index)\r\n",
        "df"
      ],
      "execution_count": 31,
      "outputs": [
        {
          "output_type": "execute_result",
          "data": {
            "text/html": [
              "<div>\n",
              "<style scoped>\n",
              "    .dataframe tbody tr th:only-of-type {\n",
              "        vertical-align: middle;\n",
              "    }\n",
              "\n",
              "    .dataframe tbody tr th {\n",
              "        vertical-align: top;\n",
              "    }\n",
              "\n",
              "    .dataframe thead th {\n",
              "        text-align: right;\n",
              "    }\n",
              "</style>\n",
              "<table border=\"1\" class=\"dataframe\">\n",
              "  <thead>\n",
              "    <tr style=\"text-align: right;\">\n",
              "      <th></th>\n",
              "      <th></th>\n",
              "      <th></th>\n",
              "      <th>col_1</th>\n",
              "      <th>col_2</th>\n",
              "    </tr>\n",
              "  </thead>\n",
              "  <tbody>\n",
              "    <tr>\n",
              "      <th rowspan=\"2\" valign=\"top\">A</th>\n",
              "      <th rowspan=\"2\" valign=\"top\">cat</th>\n",
              "      <th>big</th>\n",
              "      <td>1.0</td>\n",
              "      <td>1.0</td>\n",
              "    </tr>\n",
              "    <tr>\n",
              "      <th>big</th>\n",
              "      <td>1.0</td>\n",
              "      <td>1.0</td>\n",
              "    </tr>\n",
              "    <tr>\n",
              "      <th rowspan=\"2\" valign=\"top\">B</th>\n",
              "      <th>cat</th>\n",
              "      <th>big</th>\n",
              "      <td>1.0</td>\n",
              "      <td>1.0</td>\n",
              "    </tr>\n",
              "    <tr>\n",
              "      <th>dog</th>\n",
              "      <th>small</th>\n",
              "      <td>1.0</td>\n",
              "      <td>1.0</td>\n",
              "    </tr>\n",
              "  </tbody>\n",
              "</table>\n",
              "</div>"
            ],
            "text/plain": [
              "             col_1  col_2\n",
              "A cat big      1.0    1.0\n",
              "      big      1.0    1.0\n",
              "B cat big      1.0    1.0\n",
              "  dog small    1.0    1.0"
            ]
          },
          "metadata": {
            "tags": []
          },
          "execution_count": 31
        }
      ]
    },
    {
      "cell_type": "code",
      "metadata": {
        "colab": {
          "base_uri": "https://localhost:8080/"
        },
        "id": "ZRAJJ9DfGafL",
        "outputId": "826accb4-c0af-46b3-cc9c-adb3dad490d2"
      },
      "source": [
        "try:\r\n",
        "  df.unstack()\r\n",
        "except Exception as e:\r\n",
        "  Err_Msg = e\r\n",
        "Err_Msg"
      ],
      "execution_count": 32,
      "outputs": [
        {
          "output_type": "execute_result",
          "data": {
            "text/plain": [
              "ValueError('Index contains duplicate entries, cannot reshape')"
            ]
          },
          "metadata": {
            "tags": []
          },
          "execution_count": 32
        }
      ]
    },
    {
      "cell_type": "markdown",
      "metadata": {
        "id": "IthlbfGqGk3p"
      },
      "source": [
        "* 与 unstack 相反， stack 的作用就是把列索引的层压入行索引，其用法完全类似"
      ]
    },
    {
      "cell_type": "code",
      "metadata": {
        "colab": {
          "base_uri": "https://localhost:8080/",
          "height": 171
        },
        "id": "0o1K4qCoGjLD",
        "outputId": "5b8313f0-e682-44aa-e5a1-deb81eacc626"
      },
      "source": [
        "df = pd.DataFrame(np.ones((4,2)),\r\n",
        "           index = pd.Index([('A', 'cat', 'big'),\r\n",
        "                     ('A', 'dog', 'small'),\r\n",
        "                     ('B', 'cat', 'big'),\r\n",
        "                     ('B', 'dog', 'small')]),\r\n",
        "           columns=['index_1', 'index_2']).T\r\n",
        "df"
      ],
      "execution_count": 33,
      "outputs": [
        {
          "output_type": "execute_result",
          "data": {
            "text/html": [
              "<div>\n",
              "<style scoped>\n",
              "    .dataframe tbody tr th:only-of-type {\n",
              "        vertical-align: middle;\n",
              "    }\n",
              "\n",
              "    .dataframe tbody tr th {\n",
              "        vertical-align: top;\n",
              "    }\n",
              "\n",
              "    .dataframe thead tr th {\n",
              "        text-align: left;\n",
              "    }\n",
              "</style>\n",
              "<table border=\"1\" class=\"dataframe\">\n",
              "  <thead>\n",
              "    <tr>\n",
              "      <th></th>\n",
              "      <th colspan=\"2\" halign=\"left\">A</th>\n",
              "      <th colspan=\"2\" halign=\"left\">B</th>\n",
              "    </tr>\n",
              "    <tr>\n",
              "      <th></th>\n",
              "      <th>cat</th>\n",
              "      <th>dog</th>\n",
              "      <th>cat</th>\n",
              "      <th>dog</th>\n",
              "    </tr>\n",
              "    <tr>\n",
              "      <th></th>\n",
              "      <th>big</th>\n",
              "      <th>small</th>\n",
              "      <th>big</th>\n",
              "      <th>small</th>\n",
              "    </tr>\n",
              "  </thead>\n",
              "  <tbody>\n",
              "    <tr>\n",
              "      <th>index_1</th>\n",
              "      <td>1.0</td>\n",
              "      <td>1.0</td>\n",
              "      <td>1.0</td>\n",
              "      <td>1.0</td>\n",
              "    </tr>\n",
              "    <tr>\n",
              "      <th>index_2</th>\n",
              "      <td>1.0</td>\n",
              "      <td>1.0</td>\n",
              "      <td>1.0</td>\n",
              "      <td>1.0</td>\n",
              "    </tr>\n",
              "  </tbody>\n",
              "</table>\n",
              "</div>"
            ],
            "text/plain": [
              "           A          B      \n",
              "         cat   dog  cat   dog\n",
              "         big small  big small\n",
              "index_1  1.0   1.0  1.0   1.0\n",
              "index_2  1.0   1.0  1.0   1.0"
            ]
          },
          "metadata": {
            "tags": []
          },
          "execution_count": 33
        }
      ]
    },
    {
      "cell_type": "code",
      "metadata": {
        "colab": {
          "base_uri": "https://localhost:8080/",
          "height": 202
        },
        "id": "_8wkFHLoHALi",
        "outputId": "6b1c5c52-fe74-4795-ad7e-e22317dd01ce"
      },
      "source": [
        "df.stack()"
      ],
      "execution_count": 34,
      "outputs": [
        {
          "output_type": "execute_result",
          "data": {
            "text/html": [
              "<div>\n",
              "<style scoped>\n",
              "    .dataframe tbody tr th:only-of-type {\n",
              "        vertical-align: middle;\n",
              "    }\n",
              "\n",
              "    .dataframe tbody tr th {\n",
              "        vertical-align: top;\n",
              "    }\n",
              "\n",
              "    .dataframe thead tr th {\n",
              "        text-align: left;\n",
              "    }\n",
              "</style>\n",
              "<table border=\"1\" class=\"dataframe\">\n",
              "  <thead>\n",
              "    <tr>\n",
              "      <th></th>\n",
              "      <th></th>\n",
              "      <th colspan=\"2\" halign=\"left\">A</th>\n",
              "      <th colspan=\"2\" halign=\"left\">B</th>\n",
              "    </tr>\n",
              "    <tr>\n",
              "      <th></th>\n",
              "      <th></th>\n",
              "      <th>cat</th>\n",
              "      <th>dog</th>\n",
              "      <th>cat</th>\n",
              "      <th>dog</th>\n",
              "    </tr>\n",
              "  </thead>\n",
              "  <tbody>\n",
              "    <tr>\n",
              "      <th rowspan=\"2\" valign=\"top\">index_1</th>\n",
              "      <th>big</th>\n",
              "      <td>1.0</td>\n",
              "      <td>NaN</td>\n",
              "      <td>1.0</td>\n",
              "      <td>NaN</td>\n",
              "    </tr>\n",
              "    <tr>\n",
              "      <th>small</th>\n",
              "      <td>NaN</td>\n",
              "      <td>1.0</td>\n",
              "      <td>NaN</td>\n",
              "      <td>1.0</td>\n",
              "    </tr>\n",
              "    <tr>\n",
              "      <th rowspan=\"2\" valign=\"top\">index_2</th>\n",
              "      <th>big</th>\n",
              "      <td>1.0</td>\n",
              "      <td>NaN</td>\n",
              "      <td>1.0</td>\n",
              "      <td>NaN</td>\n",
              "    </tr>\n",
              "    <tr>\n",
              "      <th>small</th>\n",
              "      <td>NaN</td>\n",
              "      <td>1.0</td>\n",
              "      <td>NaN</td>\n",
              "      <td>1.0</td>\n",
              "    </tr>\n",
              "  </tbody>\n",
              "</table>\n",
              "</div>"
            ],
            "text/plain": [
              "                 A         B     \n",
              "               cat  dog  cat  dog\n",
              "index_1 big    1.0  NaN  1.0  NaN\n",
              "        small  NaN  1.0  NaN  1.0\n",
              "index_2 big    1.0  NaN  1.0  NaN\n",
              "        small  NaN  1.0  NaN  1.0"
            ]
          },
          "metadata": {
            "tags": []
          },
          "execution_count": 34
        }
      ]
    },
    {
      "cell_type": "code",
      "metadata": {
        "colab": {
          "base_uri": "https://localhost:8080/",
          "height": 171
        },
        "id": "IvI-19I1HEuh",
        "outputId": "e754a588-c73a-4f4d-8a69-d2b2c38e7b2b"
      },
      "source": [
        "df.stack([1, 2])"
      ],
      "execution_count": 35,
      "outputs": [
        {
          "output_type": "execute_result",
          "data": {
            "text/html": [
              "<div>\n",
              "<style scoped>\n",
              "    .dataframe tbody tr th:only-of-type {\n",
              "        vertical-align: middle;\n",
              "    }\n",
              "\n",
              "    .dataframe tbody tr th {\n",
              "        vertical-align: top;\n",
              "    }\n",
              "\n",
              "    .dataframe thead th {\n",
              "        text-align: right;\n",
              "    }\n",
              "</style>\n",
              "<table border=\"1\" class=\"dataframe\">\n",
              "  <thead>\n",
              "    <tr style=\"text-align: right;\">\n",
              "      <th></th>\n",
              "      <th></th>\n",
              "      <th></th>\n",
              "      <th>A</th>\n",
              "      <th>B</th>\n",
              "    </tr>\n",
              "  </thead>\n",
              "  <tbody>\n",
              "    <tr>\n",
              "      <th rowspan=\"2\" valign=\"top\">index_1</th>\n",
              "      <th>cat</th>\n",
              "      <th>big</th>\n",
              "      <td>1.0</td>\n",
              "      <td>1.0</td>\n",
              "    </tr>\n",
              "    <tr>\n",
              "      <th>dog</th>\n",
              "      <th>small</th>\n",
              "      <td>1.0</td>\n",
              "      <td>1.0</td>\n",
              "    </tr>\n",
              "    <tr>\n",
              "      <th rowspan=\"2\" valign=\"top\">index_2</th>\n",
              "      <th>cat</th>\n",
              "      <th>big</th>\n",
              "      <td>1.0</td>\n",
              "      <td>1.0</td>\n",
              "    </tr>\n",
              "    <tr>\n",
              "      <th>dog</th>\n",
              "      <th>small</th>\n",
              "      <td>1.0</td>\n",
              "      <td>1.0</td>\n",
              "    </tr>\n",
              "  </tbody>\n",
              "</table>\n",
              "</div>"
            ],
            "text/plain": [
              "                     A    B\n",
              "index_1 cat big    1.0  1.0\n",
              "        dog small  1.0  1.0\n",
              "index_2 cat big    1.0  1.0\n",
              "        dog small  1.0  1.0"
            ]
          },
          "metadata": {
            "tags": []
          },
          "execution_count": 35
        }
      ]
    },
    {
      "cell_type": "markdown",
      "metadata": {
        "id": "c-7tk4ZwHJgM"
      },
      "source": [
        "### 2.聚合与变形的关系\r\n",
        "* 除了带有聚合效果的 pivot_table 以外，所有的函数在变形前后并不会带来 values 个数的改变，只是这些值在呈现的形式上发生了变化"
      ]
    },
    {
      "cell_type": "markdown",
      "metadata": {
        "id": "Fz3yrV7eHmCf"
      },
      "source": [
        "## 三、其他变形函数"
      ]
    },
    {
      "cell_type": "markdown",
      "metadata": {
        "id": "KMepPkVvHrqR"
      },
      "source": [
        "### 1.crosstab\r\n",
        "* crosstab 并不是一个值得推荐使用的函数，因为它能实现的所有功能 pivot_table 都能完成，并且速度更快\r\n",
        "* 在默认状态下， crosstab 可以统计元素组合出现的频数，即 count 操作"
      ]
    },
    {
      "cell_type": "code",
      "metadata": {
        "colab": {
          "base_uri": "https://localhost:8080/",
          "height": 202
        },
        "id": "eLAbCB2aHGtV",
        "outputId": "fbbf14ee-8fe9-44e1-e16f-a7b1048cdff8"
      },
      "source": [
        "# 统计 learn_pandas数据集中学校和转系情况对应的频数\r\n",
        "df = pd.read_csv('data/learn_pandas.csv')\r\n",
        "pd.crosstab(index = df.School, columns = df.Transfer)"
      ],
      "execution_count": 36,
      "outputs": [
        {
          "output_type": "execute_result",
          "data": {
            "text/html": [
              "<div>\n",
              "<style scoped>\n",
              "    .dataframe tbody tr th:only-of-type {\n",
              "        vertical-align: middle;\n",
              "    }\n",
              "\n",
              "    .dataframe tbody tr th {\n",
              "        vertical-align: top;\n",
              "    }\n",
              "\n",
              "    .dataframe thead th {\n",
              "        text-align: right;\n",
              "    }\n",
              "</style>\n",
              "<table border=\"1\" class=\"dataframe\">\n",
              "  <thead>\n",
              "    <tr style=\"text-align: right;\">\n",
              "      <th>Transfer</th>\n",
              "      <th>N</th>\n",
              "      <th>Y</th>\n",
              "    </tr>\n",
              "    <tr>\n",
              "      <th>School</th>\n",
              "      <th></th>\n",
              "      <th></th>\n",
              "    </tr>\n",
              "  </thead>\n",
              "  <tbody>\n",
              "    <tr>\n",
              "      <th>Fudan University</th>\n",
              "      <td>38</td>\n",
              "      <td>1</td>\n",
              "    </tr>\n",
              "    <tr>\n",
              "      <th>Peking University</th>\n",
              "      <td>28</td>\n",
              "      <td>2</td>\n",
              "    </tr>\n",
              "    <tr>\n",
              "      <th>Shanghai Jiao Tong University</th>\n",
              "      <td>53</td>\n",
              "      <td>0</td>\n",
              "    </tr>\n",
              "    <tr>\n",
              "      <th>Tsinghua University</th>\n",
              "      <td>62</td>\n",
              "      <td>4</td>\n",
              "    </tr>\n",
              "  </tbody>\n",
              "</table>\n",
              "</div>"
            ],
            "text/plain": [
              "Transfer                        N  Y\n",
              "School                              \n",
              "Fudan University               38  1\n",
              "Peking University              28  2\n",
              "Shanghai Jiao Tong University  53  0\n",
              "Tsinghua University            62  4"
            ]
          },
          "metadata": {
            "tags": []
          },
          "execution_count": 36
        }
      ]
    },
    {
      "cell_type": "code",
      "metadata": {
        "colab": {
          "base_uri": "https://localhost:8080/",
          "height": 202
        },
        "id": "azLd5bNXIAqA",
        "outputId": "e10da730-72d7-41ee-c55a-27ef9f0f3235"
      },
      "source": [
        "# 这等价于如下 crosstab 的如下写法，这里的 aggfunc 即聚合参数\r\n",
        "pd.crosstab(index = df.School, columns = df.Transfer,\r\n",
        "       values = [0]*df.shape[0], aggfunc = 'count')"
      ],
      "execution_count": 37,
      "outputs": [
        {
          "output_type": "execute_result",
          "data": {
            "text/html": [
              "<div>\n",
              "<style scoped>\n",
              "    .dataframe tbody tr th:only-of-type {\n",
              "        vertical-align: middle;\n",
              "    }\n",
              "\n",
              "    .dataframe tbody tr th {\n",
              "        vertical-align: top;\n",
              "    }\n",
              "\n",
              "    .dataframe thead th {\n",
              "        text-align: right;\n",
              "    }\n",
              "</style>\n",
              "<table border=\"1\" class=\"dataframe\">\n",
              "  <thead>\n",
              "    <tr style=\"text-align: right;\">\n",
              "      <th>Transfer</th>\n",
              "      <th>N</th>\n",
              "      <th>Y</th>\n",
              "    </tr>\n",
              "    <tr>\n",
              "      <th>School</th>\n",
              "      <th></th>\n",
              "      <th></th>\n",
              "    </tr>\n",
              "  </thead>\n",
              "  <tbody>\n",
              "    <tr>\n",
              "      <th>Fudan University</th>\n",
              "      <td>38.0</td>\n",
              "      <td>1.0</td>\n",
              "    </tr>\n",
              "    <tr>\n",
              "      <th>Peking University</th>\n",
              "      <td>28.0</td>\n",
              "      <td>2.0</td>\n",
              "    </tr>\n",
              "    <tr>\n",
              "      <th>Shanghai Jiao Tong University</th>\n",
              "      <td>53.0</td>\n",
              "      <td>NaN</td>\n",
              "    </tr>\n",
              "    <tr>\n",
              "      <th>Tsinghua University</th>\n",
              "      <td>62.0</td>\n",
              "      <td>4.0</td>\n",
              "    </tr>\n",
              "  </tbody>\n",
              "</table>\n",
              "</div>"
            ],
            "text/plain": [
              "Transfer                          N    Y\n",
              "School                                  \n",
              "Fudan University               38.0  1.0\n",
              "Peking University              28.0  2.0\n",
              "Shanghai Jiao Tong University  53.0  NaN\n",
              "Tsinghua University            62.0  4.0"
            ]
          },
          "metadata": {
            "tags": []
          },
          "execution_count": 37
        }
      ]
    },
    {
      "cell_type": "markdown",
      "metadata": {
        "id": "u90yRMf9INmy"
      },
      "source": [
        "* 可以利用 pivot_table 进行等价操作，由于这里统计的是组合的频数，因此 values 参数无论传入哪一个列都不会影响最后的结果"
      ]
    },
    {
      "cell_type": "code",
      "metadata": {
        "colab": {
          "base_uri": "https://localhost:8080/",
          "height": 202
        },
        "id": "p5PUumi_IIyB",
        "outputId": "64039484-3b90-44cd-aa0b-32fe139d6871"
      },
      "source": [
        "df.pivot_table(index = 'School',\r\n",
        "        columns = 'Transfer',\r\n",
        "        values = 'Name',\r\n",
        "        aggfunc = 'count')"
      ],
      "execution_count": 38,
      "outputs": [
        {
          "output_type": "execute_result",
          "data": {
            "text/html": [
              "<div>\n",
              "<style scoped>\n",
              "    .dataframe tbody tr th:only-of-type {\n",
              "        vertical-align: middle;\n",
              "    }\n",
              "\n",
              "    .dataframe tbody tr th {\n",
              "        vertical-align: top;\n",
              "    }\n",
              "\n",
              "    .dataframe thead th {\n",
              "        text-align: right;\n",
              "    }\n",
              "</style>\n",
              "<table border=\"1\" class=\"dataframe\">\n",
              "  <thead>\n",
              "    <tr style=\"text-align: right;\">\n",
              "      <th>Transfer</th>\n",
              "      <th>N</th>\n",
              "      <th>Y</th>\n",
              "    </tr>\n",
              "    <tr>\n",
              "      <th>School</th>\n",
              "      <th></th>\n",
              "      <th></th>\n",
              "    </tr>\n",
              "  </thead>\n",
              "  <tbody>\n",
              "    <tr>\n",
              "      <th>Fudan University</th>\n",
              "      <td>38.0</td>\n",
              "      <td>1.0</td>\n",
              "    </tr>\n",
              "    <tr>\n",
              "      <th>Peking University</th>\n",
              "      <td>28.0</td>\n",
              "      <td>2.0</td>\n",
              "    </tr>\n",
              "    <tr>\n",
              "      <th>Shanghai Jiao Tong University</th>\n",
              "      <td>53.0</td>\n",
              "      <td>NaN</td>\n",
              "    </tr>\n",
              "    <tr>\n",
              "      <th>Tsinghua University</th>\n",
              "      <td>62.0</td>\n",
              "      <td>4.0</td>\n",
              "    </tr>\n",
              "  </tbody>\n",
              "</table>\n",
              "</div>"
            ],
            "text/plain": [
              "Transfer                          N    Y\n",
              "School                                  \n",
              "Fudan University               38.0  1.0\n",
              "Peking University              28.0  2.0\n",
              "Shanghai Jiao Tong University  53.0  NaN\n",
              "Tsinghua University            62.0  4.0"
            ]
          },
          "metadata": {
            "tags": []
          },
          "execution_count": 38
        }
      ]
    },
    {
      "cell_type": "markdown",
      "metadata": {
        "id": "Zp9Pk8JAIgBS"
      },
      "source": [
        "* crosstab 的对应位置传入的是具体的序列\r\n",
        "* pivot_table 传入的是被调用表对应的名字，若传入序列对应的值则会报错 \r\n",
        "* 除了默认状态下的 count 统计，所有的聚合字符串和返回标量的自定义函数都是可用的"
      ]
    },
    {
      "cell_type": "code",
      "metadata": {
        "colab": {
          "base_uri": "https://localhost:8080/",
          "height": 202
        },
        "id": "9LV8nNrNIpmx",
        "outputId": "b874574f-a68e-4c4b-9e79-8e4a9c12d13b"
      },
      "source": [
        "#统计对应组合的身高均值\r\n",
        "pd.crosstab(index = df.School, columns = df.Transfer,\r\n",
        "      values = df.Height, aggfunc = 'mean')"
      ],
      "execution_count": 39,
      "outputs": [
        {
          "output_type": "execute_result",
          "data": {
            "text/html": [
              "<div>\n",
              "<style scoped>\n",
              "    .dataframe tbody tr th:only-of-type {\n",
              "        vertical-align: middle;\n",
              "    }\n",
              "\n",
              "    .dataframe tbody tr th {\n",
              "        vertical-align: top;\n",
              "    }\n",
              "\n",
              "    .dataframe thead th {\n",
              "        text-align: right;\n",
              "    }\n",
              "</style>\n",
              "<table border=\"1\" class=\"dataframe\">\n",
              "  <thead>\n",
              "    <tr style=\"text-align: right;\">\n",
              "      <th>Transfer</th>\n",
              "      <th>N</th>\n",
              "      <th>Y</th>\n",
              "    </tr>\n",
              "    <tr>\n",
              "      <th>School</th>\n",
              "      <th></th>\n",
              "      <th></th>\n",
              "    </tr>\n",
              "  </thead>\n",
              "  <tbody>\n",
              "    <tr>\n",
              "      <th>Fudan University</th>\n",
              "      <td>162.043750</td>\n",
              "      <td>177.20</td>\n",
              "    </tr>\n",
              "    <tr>\n",
              "      <th>Peking University</th>\n",
              "      <td>163.429630</td>\n",
              "      <td>162.40</td>\n",
              "    </tr>\n",
              "    <tr>\n",
              "      <th>Shanghai Jiao Tong University</th>\n",
              "      <td>163.953846</td>\n",
              "      <td>NaN</td>\n",
              "    </tr>\n",
              "    <tr>\n",
              "      <th>Tsinghua University</th>\n",
              "      <td>163.253571</td>\n",
              "      <td>164.55</td>\n",
              "    </tr>\n",
              "  </tbody>\n",
              "</table>\n",
              "</div>"
            ],
            "text/plain": [
              "Transfer                                N       Y\n",
              "School                                           \n",
              "Fudan University               162.043750  177.20\n",
              "Peking University              163.429630  162.40\n",
              "Shanghai Jiao Tong University  163.953846     NaN\n",
              "Tsinghua University            163.253571  164.55"
            ]
          },
          "metadata": {
            "tags": []
          },
          "execution_count": 39
        }
      ]
    },
    {
      "cell_type": "markdown",
      "metadata": {
        "id": "Ck5YyfR2JDvH"
      },
      "source": [
        "### 2.explode\r\n",
        "explode 参数能够对某一列的元素进行纵向的展开，被展开的单元格必须存储 list, tuple, Series, np.ndarray 中的一种类型"
      ]
    },
    {
      "cell_type": "code",
      "metadata": {
        "colab": {
          "base_uri": "https://localhost:8080/",
          "height": 233
        },
        "id": "KsZqiSsEJKwo",
        "outputId": "42ed26ad-d5e4-4ec8-88f1-c93d5d6d2dab"
      },
      "source": [
        " df_ex = pd.DataFrame({'A': [[1, 2],\r\n",
        "             'my_str',\r\n",
        "              {1, 2},\r\n",
        "              pd.Series([3, 4])],\r\n",
        "             'B': 1})\r\n",
        " df_ex.explode('A')"
      ],
      "execution_count": 40,
      "outputs": [
        {
          "output_type": "execute_result",
          "data": {
            "text/html": [
              "<div>\n",
              "<style scoped>\n",
              "    .dataframe tbody tr th:only-of-type {\n",
              "        vertical-align: middle;\n",
              "    }\n",
              "\n",
              "    .dataframe tbody tr th {\n",
              "        vertical-align: top;\n",
              "    }\n",
              "\n",
              "    .dataframe thead th {\n",
              "        text-align: right;\n",
              "    }\n",
              "</style>\n",
              "<table border=\"1\" class=\"dataframe\">\n",
              "  <thead>\n",
              "    <tr style=\"text-align: right;\">\n",
              "      <th></th>\n",
              "      <th>A</th>\n",
              "      <th>B</th>\n",
              "    </tr>\n",
              "  </thead>\n",
              "  <tbody>\n",
              "    <tr>\n",
              "      <th>0</th>\n",
              "      <td>1</td>\n",
              "      <td>1</td>\n",
              "    </tr>\n",
              "    <tr>\n",
              "      <th>0</th>\n",
              "      <td>2</td>\n",
              "      <td>1</td>\n",
              "    </tr>\n",
              "    <tr>\n",
              "      <th>1</th>\n",
              "      <td>my_str</td>\n",
              "      <td>1</td>\n",
              "    </tr>\n",
              "    <tr>\n",
              "      <th>2</th>\n",
              "      <td>{1, 2}</td>\n",
              "      <td>1</td>\n",
              "    </tr>\n",
              "    <tr>\n",
              "      <th>3</th>\n",
              "      <td>3</td>\n",
              "      <td>1</td>\n",
              "    </tr>\n",
              "    <tr>\n",
              "      <th>3</th>\n",
              "      <td>4</td>\n",
              "      <td>1</td>\n",
              "    </tr>\n",
              "  </tbody>\n",
              "</table>\n",
              "</div>"
            ],
            "text/plain": [
              "        A  B\n",
              "0       1  1\n",
              "0       2  1\n",
              "1  my_str  1\n",
              "2  {1, 2}  1\n",
              "3       3  1\n",
              "3       4  1"
            ]
          },
          "metadata": {
            "tags": []
          },
          "execution_count": 40
        }
      ]
    },
    {
      "cell_type": "markdown",
      "metadata": {
        "id": "NAecC6p9LxKl"
      },
      "source": [
        "### 3.get_dummies\r\n",
        "* get_dummies 是用于特征构建的重要函数之一，其作用是把类别特征转为指示变量"
      ]
    },
    {
      "cell_type": "code",
      "metadata": {
        "colab": {
          "base_uri": "https://localhost:8080/",
          "height": 202
        },
        "id": "gKJKDs3mL4kp",
        "outputId": "546034d3-76d3-46a7-8b8a-49b3f07113fd"
      },
      "source": [
        "# 对年级一列转为指示变量，属于某一个年级的对应列标记为1，否则为0\r\n",
        "pd.get_dummies(df.Grade).head()"
      ],
      "execution_count": 41,
      "outputs": [
        {
          "output_type": "execute_result",
          "data": {
            "text/html": [
              "<div>\n",
              "<style scoped>\n",
              "    .dataframe tbody tr th:only-of-type {\n",
              "        vertical-align: middle;\n",
              "    }\n",
              "\n",
              "    .dataframe tbody tr th {\n",
              "        vertical-align: top;\n",
              "    }\n",
              "\n",
              "    .dataframe thead th {\n",
              "        text-align: right;\n",
              "    }\n",
              "</style>\n",
              "<table border=\"1\" class=\"dataframe\">\n",
              "  <thead>\n",
              "    <tr style=\"text-align: right;\">\n",
              "      <th></th>\n",
              "      <th>Freshman</th>\n",
              "      <th>Junior</th>\n",
              "      <th>Senior</th>\n",
              "      <th>Sophomore</th>\n",
              "    </tr>\n",
              "  </thead>\n",
              "  <tbody>\n",
              "    <tr>\n",
              "      <th>0</th>\n",
              "      <td>1</td>\n",
              "      <td>0</td>\n",
              "      <td>0</td>\n",
              "      <td>0</td>\n",
              "    </tr>\n",
              "    <tr>\n",
              "      <th>1</th>\n",
              "      <td>1</td>\n",
              "      <td>0</td>\n",
              "      <td>0</td>\n",
              "      <td>0</td>\n",
              "    </tr>\n",
              "    <tr>\n",
              "      <th>2</th>\n",
              "      <td>0</td>\n",
              "      <td>0</td>\n",
              "      <td>1</td>\n",
              "      <td>0</td>\n",
              "    </tr>\n",
              "    <tr>\n",
              "      <th>3</th>\n",
              "      <td>0</td>\n",
              "      <td>0</td>\n",
              "      <td>0</td>\n",
              "      <td>1</td>\n",
              "    </tr>\n",
              "    <tr>\n",
              "      <th>4</th>\n",
              "      <td>0</td>\n",
              "      <td>0</td>\n",
              "      <td>0</td>\n",
              "      <td>1</td>\n",
              "    </tr>\n",
              "  </tbody>\n",
              "</table>\n",
              "</div>"
            ],
            "text/plain": [
              "   Freshman  Junior  Senior  Sophomore\n",
              "0         1       0       0          0\n",
              "1         1       0       0          0\n",
              "2         0       0       1          0\n",
              "3         0       0       0          1\n",
              "4         0       0       0          1"
            ]
          },
          "metadata": {
            "tags": []
          },
          "execution_count": 41
        }
      ]
    },
    {
      "cell_type": "markdown",
      "metadata": {
        "id": "jrVsaqjhL-lm"
      },
      "source": [
        "## EX1 美国非法药物数据集"
      ]
    },
    {
      "cell_type": "code",
      "metadata": {
        "colab": {
          "base_uri": "https://localhost:8080/",
          "height": 141
        },
        "id": "PwD-dYlmL9k-",
        "outputId": "35958b73-8a98-4b5b-d2d4-dcf41da7cea4"
      },
      "source": [
        "df = pd.read_csv('data/drugs.csv').sort_values([\r\n",
        "    'State','COUNTY','SubstanceName'],ignore_index=True)\r\n",
        "df.head(3)"
      ],
      "execution_count": 42,
      "outputs": [
        {
          "output_type": "execute_result",
          "data": {
            "text/html": [
              "<div>\n",
              "<style scoped>\n",
              "    .dataframe tbody tr th:only-of-type {\n",
              "        vertical-align: middle;\n",
              "    }\n",
              "\n",
              "    .dataframe tbody tr th {\n",
              "        vertical-align: top;\n",
              "    }\n",
              "\n",
              "    .dataframe thead th {\n",
              "        text-align: right;\n",
              "    }\n",
              "</style>\n",
              "<table border=\"1\" class=\"dataframe\">\n",
              "  <thead>\n",
              "    <tr style=\"text-align: right;\">\n",
              "      <th></th>\n",
              "      <th>YYYY</th>\n",
              "      <th>State</th>\n",
              "      <th>COUNTY</th>\n",
              "      <th>SubstanceName</th>\n",
              "      <th>DrugReports</th>\n",
              "    </tr>\n",
              "  </thead>\n",
              "  <tbody>\n",
              "    <tr>\n",
              "      <th>0</th>\n",
              "      <td>2011</td>\n",
              "      <td>KY</td>\n",
              "      <td>ADAIR</td>\n",
              "      <td>Buprenorphine</td>\n",
              "      <td>3</td>\n",
              "    </tr>\n",
              "    <tr>\n",
              "      <th>1</th>\n",
              "      <td>2012</td>\n",
              "      <td>KY</td>\n",
              "      <td>ADAIR</td>\n",
              "      <td>Buprenorphine</td>\n",
              "      <td>5</td>\n",
              "    </tr>\n",
              "    <tr>\n",
              "      <th>2</th>\n",
              "      <td>2013</td>\n",
              "      <td>KY</td>\n",
              "      <td>ADAIR</td>\n",
              "      <td>Buprenorphine</td>\n",
              "      <td>4</td>\n",
              "    </tr>\n",
              "  </tbody>\n",
              "</table>\n",
              "</div>"
            ],
            "text/plain": [
              "   YYYY State COUNTY  SubstanceName  DrugReports\n",
              "0  2011    KY  ADAIR  Buprenorphine            3\n",
              "1  2012    KY  ADAIR  Buprenorphine            5\n",
              "2  2013    KY  ADAIR  Buprenorphine            4"
            ]
          },
          "metadata": {
            "tags": []
          },
          "execution_count": 42
        }
      ]
    },
    {
      "cell_type": "code",
      "metadata": {
        "colab": {
          "base_uri": "https://localhost:8080/",
          "height": 202
        },
        "id": "Y_DFcOg7MPJh",
        "outputId": "b7d2bb37-3cbb-42ee-97ce-207e6b24d6b5"
      },
      "source": [
        "#Q1\r\n",
        "res = df.pivot(index=['State','COUNTY','SubstanceName'],\r\n",
        "         columns='YYYY',values='DrugReports'\r\n",
        "         ).reset_index().rename_axis(columns={'YYYY':''})\r\n",
        "res.head(5)"
      ],
      "execution_count": 45,
      "outputs": [
        {
          "output_type": "execute_result",
          "data": {
            "text/html": [
              "<div>\n",
              "<style scoped>\n",
              "    .dataframe tbody tr th:only-of-type {\n",
              "        vertical-align: middle;\n",
              "    }\n",
              "\n",
              "    .dataframe tbody tr th {\n",
              "        vertical-align: top;\n",
              "    }\n",
              "\n",
              "    .dataframe thead th {\n",
              "        text-align: right;\n",
              "    }\n",
              "</style>\n",
              "<table border=\"1\" class=\"dataframe\">\n",
              "  <thead>\n",
              "    <tr style=\"text-align: right;\">\n",
              "      <th></th>\n",
              "      <th>State</th>\n",
              "      <th>COUNTY</th>\n",
              "      <th>SubstanceName</th>\n",
              "      <th>2010</th>\n",
              "      <th>2011</th>\n",
              "      <th>2012</th>\n",
              "      <th>2013</th>\n",
              "      <th>2014</th>\n",
              "      <th>2015</th>\n",
              "      <th>2016</th>\n",
              "      <th>2017</th>\n",
              "    </tr>\n",
              "  </thead>\n",
              "  <tbody>\n",
              "    <tr>\n",
              "      <th>0</th>\n",
              "      <td>KY</td>\n",
              "      <td>ADAIR</td>\n",
              "      <td>Buprenorphine</td>\n",
              "      <td>NaN</td>\n",
              "      <td>3.0</td>\n",
              "      <td>5.0</td>\n",
              "      <td>4.0</td>\n",
              "      <td>27.0</td>\n",
              "      <td>5.0</td>\n",
              "      <td>7.0</td>\n",
              "      <td>10.0</td>\n",
              "    </tr>\n",
              "    <tr>\n",
              "      <th>1</th>\n",
              "      <td>KY</td>\n",
              "      <td>ADAIR</td>\n",
              "      <td>Codeine</td>\n",
              "      <td>NaN</td>\n",
              "      <td>NaN</td>\n",
              "      <td>1.0</td>\n",
              "      <td>NaN</td>\n",
              "      <td>NaN</td>\n",
              "      <td>NaN</td>\n",
              "      <td>NaN</td>\n",
              "      <td>1.0</td>\n",
              "    </tr>\n",
              "    <tr>\n",
              "      <th>2</th>\n",
              "      <td>KY</td>\n",
              "      <td>ADAIR</td>\n",
              "      <td>Fentanyl</td>\n",
              "      <td>NaN</td>\n",
              "      <td>NaN</td>\n",
              "      <td>1.0</td>\n",
              "      <td>NaN</td>\n",
              "      <td>NaN</td>\n",
              "      <td>NaN</td>\n",
              "      <td>NaN</td>\n",
              "      <td>NaN</td>\n",
              "    </tr>\n",
              "    <tr>\n",
              "      <th>3</th>\n",
              "      <td>KY</td>\n",
              "      <td>ADAIR</td>\n",
              "      <td>Heroin</td>\n",
              "      <td>NaN</td>\n",
              "      <td>NaN</td>\n",
              "      <td>1.0</td>\n",
              "      <td>2.0</td>\n",
              "      <td>NaN</td>\n",
              "      <td>1.0</td>\n",
              "      <td>NaN</td>\n",
              "      <td>2.0</td>\n",
              "    </tr>\n",
              "    <tr>\n",
              "      <th>4</th>\n",
              "      <td>KY</td>\n",
              "      <td>ADAIR</td>\n",
              "      <td>Hydrocodone</td>\n",
              "      <td>6.0</td>\n",
              "      <td>9.0</td>\n",
              "      <td>10.0</td>\n",
              "      <td>10.0</td>\n",
              "      <td>9.0</td>\n",
              "      <td>7.0</td>\n",
              "      <td>11.0</td>\n",
              "      <td>3.0</td>\n",
              "    </tr>\n",
              "  </tbody>\n",
              "</table>\n",
              "</div>"
            ],
            "text/plain": [
              "  State COUNTY  SubstanceName  2010  2011  2012  2013  2014  2015  2016  2017\n",
              "0    KY  ADAIR  Buprenorphine   NaN   3.0   5.0   4.0  27.0   5.0   7.0  10.0\n",
              "1    KY  ADAIR        Codeine   NaN   NaN   1.0   NaN   NaN   NaN   NaN   1.0\n",
              "2    KY  ADAIR       Fentanyl   NaN   NaN   1.0   NaN   NaN   NaN   NaN   NaN\n",
              "3    KY  ADAIR         Heroin   NaN   NaN   1.0   2.0   NaN   1.0   NaN   2.0\n",
              "4    KY  ADAIR    Hydrocodone   6.0   9.0  10.0  10.0   9.0   7.0  11.0   3.0"
            ]
          },
          "metadata": {
            "tags": []
          },
          "execution_count": 45
        }
      ]
    },
    {
      "cell_type": "code",
      "metadata": {
        "colab": {
          "base_uri": "https://localhost:8080/"
        },
        "id": "A_hWxSlENbrC",
        "outputId": "9509d92d-bdec-4729-8a04-963d7f75566b"
      },
      "source": [
        "#Q2\r\n",
        "res_melted = res.melt(id_vars = ['State','COUNTY','SubstanceName'],\r\n",
        "            value_vars = res.columns[-8:],\r\n",
        "            var_name = 'YYYY',\r\n",
        "            value_name = 'DrugReports').dropna(\r\n",
        "            subset=['DrugReports'])\r\n",
        "\r\n",
        "res_melted = res_melted[df.columns].sort_values([\r\n",
        "       'State','COUNTY','SubstanceName'],ignore_index=True\r\n",
        "       ).astype({'YYYY':'int64', 'DrugReports':'int64'})\r\n",
        "res_melted.equals(df)"
      ],
      "execution_count": 46,
      "outputs": [
        {
          "output_type": "execute_result",
          "data": {
            "text/plain": [
              "True"
            ]
          },
          "metadata": {
            "tags": []
          },
          "execution_count": 46
        }
      ]
    },
    {
      "cell_type": "code",
      "metadata": {
        "colab": {
          "base_uri": "https://localhost:8080/",
          "height": 171
        },
        "id": "8WL4S9HmSPJ1",
        "outputId": "d30bb112-63db-4764-9bbe-202286924173"
      },
      "source": [
        "#Q3\r\n",
        "res = df.pivot_table(index='YYYY', columns='State',\r\n",
        "           values='DrugReports', aggfunc='sum')\r\n",
        "res.head(3)"
      ],
      "execution_count": 47,
      "outputs": [
        {
          "output_type": "execute_result",
          "data": {
            "text/html": [
              "<div>\n",
              "<style scoped>\n",
              "    .dataframe tbody tr th:only-of-type {\n",
              "        vertical-align: middle;\n",
              "    }\n",
              "\n",
              "    .dataframe tbody tr th {\n",
              "        vertical-align: top;\n",
              "    }\n",
              "\n",
              "    .dataframe thead th {\n",
              "        text-align: right;\n",
              "    }\n",
              "</style>\n",
              "<table border=\"1\" class=\"dataframe\">\n",
              "  <thead>\n",
              "    <tr style=\"text-align: right;\">\n",
              "      <th>State</th>\n",
              "      <th>KY</th>\n",
              "      <th>OH</th>\n",
              "      <th>PA</th>\n",
              "      <th>VA</th>\n",
              "      <th>WV</th>\n",
              "    </tr>\n",
              "    <tr>\n",
              "      <th>YYYY</th>\n",
              "      <th></th>\n",
              "      <th></th>\n",
              "      <th></th>\n",
              "      <th></th>\n",
              "      <th></th>\n",
              "    </tr>\n",
              "  </thead>\n",
              "  <tbody>\n",
              "    <tr>\n",
              "      <th>2010</th>\n",
              "      <td>10453</td>\n",
              "      <td>19707</td>\n",
              "      <td>19814</td>\n",
              "      <td>8685</td>\n",
              "      <td>2890</td>\n",
              "    </tr>\n",
              "    <tr>\n",
              "      <th>2011</th>\n",
              "      <td>10289</td>\n",
              "      <td>20330</td>\n",
              "      <td>19987</td>\n",
              "      <td>6749</td>\n",
              "      <td>3271</td>\n",
              "    </tr>\n",
              "    <tr>\n",
              "      <th>2012</th>\n",
              "      <td>10722</td>\n",
              "      <td>23145</td>\n",
              "      <td>19959</td>\n",
              "      <td>7831</td>\n",
              "      <td>3376</td>\n",
              "    </tr>\n",
              "  </tbody>\n",
              "</table>\n",
              "</div>"
            ],
            "text/plain": [
              "State     KY     OH     PA    VA    WV\n",
              "YYYY                                  \n",
              "2010   10453  19707  19814  8685  2890\n",
              "2011   10289  20330  19987  6749  3271\n",
              "2012   10722  23145  19959  7831  3376"
            ]
          },
          "metadata": {
            "tags": []
          },
          "execution_count": 47
        }
      ]
    },
    {
      "cell_type": "markdown",
      "metadata": {
        "id": "ncHW-CvoScnn"
      },
      "source": [
        "## EX2 特殊的特殊的wide_to_long方法"
      ]
    },
    {
      "cell_type": "markdown",
      "metadata": {
        "id": "Vtm11BvdS5ER"
      },
      "source": [
        "从功能上看， melt 方法应当属于 wide_to_long 的一种特殊情况，即 stubnames 只有一类。请使用 wide_to_long 生成 melt 一节中的 df_melted 。（提示：对列名增加适当的前缀）"
      ]
    },
    {
      "cell_type": "code",
      "metadata": {
        "colab": {
          "base_uri": "https://localhost:8080/",
          "height": 110
        },
        "id": "LkPM1T7JS4rF",
        "outputId": "ab55d660-efcc-4a83-da06-a75132453d43"
      },
      "source": [
        "df = pd.DataFrame({'Class':[1,2],\r\n",
        "          'Name':['San Zhang', 'Si Li'],\r\n",
        "          'Chinese':[80, 90],\r\n",
        "          'Math':[80, 75]})\r\n",
        "df"
      ],
      "execution_count": 48,
      "outputs": [
        {
          "output_type": "execute_result",
          "data": {
            "text/html": [
              "<div>\n",
              "<style scoped>\n",
              "    .dataframe tbody tr th:only-of-type {\n",
              "        vertical-align: middle;\n",
              "    }\n",
              "\n",
              "    .dataframe tbody tr th {\n",
              "        vertical-align: top;\n",
              "    }\n",
              "\n",
              "    .dataframe thead th {\n",
              "        text-align: right;\n",
              "    }\n",
              "</style>\n",
              "<table border=\"1\" class=\"dataframe\">\n",
              "  <thead>\n",
              "    <tr style=\"text-align: right;\">\n",
              "      <th></th>\n",
              "      <th>Class</th>\n",
              "      <th>Name</th>\n",
              "      <th>Chinese</th>\n",
              "      <th>Math</th>\n",
              "    </tr>\n",
              "  </thead>\n",
              "  <tbody>\n",
              "    <tr>\n",
              "      <th>0</th>\n",
              "      <td>1</td>\n",
              "      <td>San Zhang</td>\n",
              "      <td>80</td>\n",
              "      <td>80</td>\n",
              "    </tr>\n",
              "    <tr>\n",
              "      <th>1</th>\n",
              "      <td>2</td>\n",
              "      <td>Si Li</td>\n",
              "      <td>90</td>\n",
              "      <td>75</td>\n",
              "    </tr>\n",
              "  </tbody>\n",
              "</table>\n",
              "</div>"
            ],
            "text/plain": [
              "   Class       Name  Chinese  Math\n",
              "0      1  San Zhang       80    80\n",
              "1      2      Si Li       90    75"
            ]
          },
          "metadata": {
            "tags": []
          },
          "execution_count": 48
        }
      ]
    }
  ]
}