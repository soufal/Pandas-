{
  "nbformat": 4,
  "nbformat_minor": 0,
  "metadata": {
    "colab": {
      "name": "Pandas学习4.ipynb",
      "provenance": [],
      "collapsed_sections": []
    },
    "kernelspec": {
      "name": "python3",
      "display_name": "Python 3"
    }
  },
  "cells": [
    {
      "cell_type": "markdown",
      "metadata": {
        "id": "mCLF4UynKy9q"
      },
      "source": [
        "## 分组\r\n",
        "### 一、分组模式及其对象\r\n",
        "#### 1. 分组的一般模式\r\n",
        "\r\n",
        "* 想要实现分组操作，需要明确三个要素：\r\n",
        "  * 分组依据\r\n",
        "  * 数据来源\r\n",
        "  * 操作及其返回结果\r\n",
        "明确了以上三个方面，就可以确定一个分组操作，分组代码的一般模式为：\r\n",
        "```python\r\n",
        "df.groupby(分组依据)[数据来源].使用操作\r\n",
        "```\r\n",
        "\r\n"
      ]
    },
    {
      "cell_type": "code",
      "metadata": {
        "colab": {
          "base_uri": "https://localhost:8080/"
        },
        "id": "qGxbjchGL2fr",
        "outputId": "14c9e36e-5a69-42c2-ab51-6509b853b7a1"
      },
      "source": [
        "# 在colab中进行到数据目录进行操作\r\n",
        "!ls\r\n",
        "%cd drive/MyDrive\r\n",
        "!ls"
      ],
      "execution_count": 4,
      "outputs": [
        {
          "output_type": "stream",
          "text": [
            "drive  sample_data\n",
            "/content/drive/MyDrive\n",
            "'Colab Notebooks'   data\n"
          ],
          "name": "stdout"
        }
      ]
    },
    {
      "cell_type": "code",
      "metadata": {
        "id": "cNoROZXdMWyN"
      },
      "source": [
        "import numpy as np\r\n",
        "import pandas as pd"
      ],
      "execution_count": 5,
      "outputs": []
    },
    {
      "cell_type": "code",
      "metadata": {
        "colab": {
          "base_uri": "https://localhost:8080/"
        },
        "id": "rJ3OPMhtKlc-",
        "outputId": "8dfc48ed-3f98-4ebc-b10c-5800d7f7daea"
      },
      "source": [
        "#按照性别统计身高中位数\r\n",
        "df = pd.read_csv('data/learn_pandas.csv')\r\n",
        "df.groupby('Gender')['Height'].median()"
      ],
      "execution_count": 7,
      "outputs": [
        {
          "output_type": "execute_result",
          "data": {
            "text/plain": [
              "Gender\n",
              "Female    159.6\n",
              "Male      173.4\n",
              "Name: Height, dtype: float64"
            ]
          },
          "metadata": {
            "tags": []
          },
          "execution_count": 7
        }
      ]
    },
    {
      "cell_type": "code",
      "metadata": {
        "colab": {
          "base_uri": "https://localhost:8080/",
          "height": 202
        },
        "id": "NwqBW_wTNEs0",
        "outputId": "070cbba8-c864-47b7-a93b-1b5305be1419"
      },
      "source": [
        "df.head()"
      ],
      "execution_count": 8,
      "outputs": [
        {
          "output_type": "execute_result",
          "data": {
            "text/html": [
              "<div>\n",
              "<style scoped>\n",
              "    .dataframe tbody tr th:only-of-type {\n",
              "        vertical-align: middle;\n",
              "    }\n",
              "\n",
              "    .dataframe tbody tr th {\n",
              "        vertical-align: top;\n",
              "    }\n",
              "\n",
              "    .dataframe thead th {\n",
              "        text-align: right;\n",
              "    }\n",
              "</style>\n",
              "<table border=\"1\" class=\"dataframe\">\n",
              "  <thead>\n",
              "    <tr style=\"text-align: right;\">\n",
              "      <th></th>\n",
              "      <th>School</th>\n",
              "      <th>Grade</th>\n",
              "      <th>Name</th>\n",
              "      <th>Gender</th>\n",
              "      <th>Height</th>\n",
              "      <th>Weight</th>\n",
              "      <th>Transfer</th>\n",
              "      <th>Test_Number</th>\n",
              "      <th>Test_Date</th>\n",
              "      <th>Time_Record</th>\n",
              "    </tr>\n",
              "  </thead>\n",
              "  <tbody>\n",
              "    <tr>\n",
              "      <th>0</th>\n",
              "      <td>Shanghai Jiao Tong University</td>\n",
              "      <td>Freshman</td>\n",
              "      <td>Gaopeng Yang</td>\n",
              "      <td>Female</td>\n",
              "      <td>158.9</td>\n",
              "      <td>46.0</td>\n",
              "      <td>N</td>\n",
              "      <td>1</td>\n",
              "      <td>2019/10/5</td>\n",
              "      <td>0:04:34</td>\n",
              "    </tr>\n",
              "    <tr>\n",
              "      <th>1</th>\n",
              "      <td>Peking University</td>\n",
              "      <td>Freshman</td>\n",
              "      <td>Changqiang You</td>\n",
              "      <td>Male</td>\n",
              "      <td>166.5</td>\n",
              "      <td>70.0</td>\n",
              "      <td>N</td>\n",
              "      <td>1</td>\n",
              "      <td>2019/9/4</td>\n",
              "      <td>0:04:20</td>\n",
              "    </tr>\n",
              "    <tr>\n",
              "      <th>2</th>\n",
              "      <td>Shanghai Jiao Tong University</td>\n",
              "      <td>Senior</td>\n",
              "      <td>Mei Sun</td>\n",
              "      <td>Male</td>\n",
              "      <td>188.9</td>\n",
              "      <td>89.0</td>\n",
              "      <td>N</td>\n",
              "      <td>2</td>\n",
              "      <td>2019/9/12</td>\n",
              "      <td>0:05:22</td>\n",
              "    </tr>\n",
              "    <tr>\n",
              "      <th>3</th>\n",
              "      <td>Fudan University</td>\n",
              "      <td>Sophomore</td>\n",
              "      <td>Xiaojuan Sun</td>\n",
              "      <td>Female</td>\n",
              "      <td>NaN</td>\n",
              "      <td>41.0</td>\n",
              "      <td>N</td>\n",
              "      <td>2</td>\n",
              "      <td>2020/1/3</td>\n",
              "      <td>0:04:08</td>\n",
              "    </tr>\n",
              "    <tr>\n",
              "      <th>4</th>\n",
              "      <td>Fudan University</td>\n",
              "      <td>Sophomore</td>\n",
              "      <td>Gaojuan You</td>\n",
              "      <td>Male</td>\n",
              "      <td>174.0</td>\n",
              "      <td>74.0</td>\n",
              "      <td>N</td>\n",
              "      <td>2</td>\n",
              "      <td>2019/11/6</td>\n",
              "      <td>0:05:22</td>\n",
              "    </tr>\n",
              "  </tbody>\n",
              "</table>\n",
              "</div>"
            ],
            "text/plain": [
              "                          School      Grade  ...  Test_Date Time_Record\n",
              "0  Shanghai Jiao Tong University   Freshman  ...  2019/10/5     0:04:34\n",
              "1              Peking University   Freshman  ...   2019/9/4     0:04:20\n",
              "2  Shanghai Jiao Tong University     Senior  ...  2019/9/12     0:05:22\n",
              "3               Fudan University  Sophomore  ...   2020/1/3     0:04:08\n",
              "4               Fudan University  Sophomore  ...  2019/11/6     0:05:22\n",
              "\n",
              "[5 rows x 10 columns]"
            ]
          },
          "metadata": {
            "tags": []
          },
          "execution_count": 8
        }
      ]
    },
    {
      "cell_type": "markdown",
      "metadata": {
        "id": "vAcLQ-bDMvCo"
      },
      "source": [
        "#### 2. 分组依据的本质\r\n",
        "如果是根据多个维度进行分组，只需在`groupby`中传入相应列名构成的列表即可。"
      ]
    },
    {
      "cell_type": "code",
      "metadata": {
        "colab": {
          "base_uri": "https://localhost:8080/"
        },
        "id": "Lp5khasTMn0r",
        "outputId": "dac6c4fc-416b-4cbd-8828-06cdfe3039dc"
      },
      "source": [
        "#根据学校和性别进行分组，统计身高的均值\r\n",
        "df.groupby(['School','Gender'])['Height'].mean()"
      ],
      "execution_count": 9,
      "outputs": [
        {
          "output_type": "execute_result",
          "data": {
            "text/plain": [
              "School                         Gender\n",
              "Fudan University               Female    158.776923\n",
              "                               Male      174.212500\n",
              "Peking University              Female    158.666667\n",
              "                               Male      172.030000\n",
              "Shanghai Jiao Tong University  Female    159.122500\n",
              "                               Male      176.760000\n",
              "Tsinghua University            Female    159.753333\n",
              "                               Male      171.638889\n",
              "Name: Height, dtype: float64"
            ]
          },
          "metadata": {
            "tags": []
          },
          "execution_count": 9
        }
      ]
    },
    {
      "cell_type": "markdown",
      "metadata": {
        "id": "bb38NUdVNghg"
      },
      "source": [
        "`groupby`的分组依据都是直接可以从列中按照名字获取的，如果是通过一定的复杂逻辑来分组，就应该先写出分组条件，然后再将其传入`groupby`中："
      ]
    },
    {
      "cell_type": "code",
      "metadata": {
        "id": "kYklaIQZNUpk"
      },
      "source": [
        "#分组条件\r\n",
        "condition = df.Weight > df.Weight.mean()"
      ],
      "execution_count": 16,
      "outputs": []
    },
    {
      "cell_type": "code",
      "metadata": {
        "colab": {
          "base_uri": "https://localhost:8080/"
        },
        "id": "AV8pwAZfNSaQ",
        "outputId": "d4a022df-2783-4062-93aa-1e60fe17d8d2"
      },
      "source": [
        "# 然后将其传入goupby\r\n",
        "df.groupby(condition)['Height'].mean()"
      ],
      "execution_count": 17,
      "outputs": [
        {
          "output_type": "execute_result",
          "data": {
            "text/plain": [
              "Weight\n",
              "False    159.034646\n",
              "True     172.705357\n",
              "Name: Height, dtype: float64"
            ]
          },
          "metadata": {
            "tags": []
          },
          "execution_count": 17
        }
      ]
    },
    {
      "cell_type": "code",
      "metadata": {
        "colab": {
          "base_uri": "https://localhost:8080/"
        },
        "id": "_2JFNwsLNTma",
        "outputId": "dc1363b7-5cc6-4999-9811-b7b9053c2940"
      },
      "source": [
        "# 按照上下四分位数分割，将体重分为high、normal、low三组，统计身高的均值\r\n",
        "# 第一四分位数\r\n",
        "low_condition = df.Weight > df.Weight.quantile(.25)\r\n",
        "df.groupby(low_condition)['Height'].mean()\r\n",
        "\r\n",
        "\r\n"
      ],
      "execution_count": 12,
      "outputs": [
        {
          "output_type": "execute_result",
          "data": {
            "text/plain": [
              "Weight\n",
              "False    155.891071\n",
              "True     166.448819\n",
              "Name: Height, dtype: float64"
            ]
          },
          "metadata": {
            "tags": []
          },
          "execution_count": 12
        }
      ]
    },
    {
      "cell_type": "code",
      "metadata": {
        "colab": {
          "base_uri": "https://localhost:8080/"
        },
        "id": "eh15sOddNPMs",
        "outputId": "74292189-25db-4d38-94e5-3a2e7a71cc77"
      },
      "source": [
        "# 第二四分位数\r\n",
        "# 等价于中位数\r\n",
        "normal_condition = df.Weight > df.Weight.quantile(.5)\r\n",
        "df.groupby(normal_condition)['Height'].mean()\r\n"
      ],
      "execution_count": 18,
      "outputs": [
        {
          "output_type": "execute_result",
          "data": {
            "text/plain": [
              "Weight\n",
              "False    157.811881\n",
              "True     169.876829\n",
              "Name: Height, dtype: float64"
            ]
          },
          "metadata": {
            "tags": []
          },
          "execution_count": 18
        }
      ]
    },
    {
      "cell_type": "code",
      "metadata": {
        "colab": {
          "base_uri": "https://localhost:8080/"
        },
        "id": "NR6YFKWSPseR",
        "outputId": "562f4782-00c1-4f71-88f1-5218dfcdc930"
      },
      "source": [
        "# 第三四分位数\r\n",
        "high_condition = df.Weight > df.Weight.quantile(.75)\r\n",
        "df.groupby(high_condition)['Height'].mean()\r\n"
      ],
      "execution_count": 19,
      "outputs": [
        {
          "output_type": "execute_result",
          "data": {
            "text/plain": [
              "Weight\n",
              "False    159.727660\n",
              "True     174.935714\n",
              "Name: Height, dtype: float64"
            ]
          },
          "metadata": {
            "tags": []
          },
          "execution_count": 19
        }
      ]
    },
    {
      "cell_type": "markdown",
      "metadata": {
        "id": "VP4zY_SkQB29"
      },
      "source": [
        "> 从索引来看，最后产生的结果就是按照条件列表中元素的值（也就是`True`和`False`）来分组。"
      ]
    },
    {
      "cell_type": "code",
      "metadata": {
        "colab": {
          "base_uri": "https://localhost:8080/"
        },
        "id": "5BArKmVJQAHX",
        "outputId": "34540859-97a3-4021-d939-17546e225a0f"
      },
      "source": [
        "item = np.random.choice(list('abc'), df.shape[0])\r\n",
        "print(item)\r\n",
        "df.groupby(item)['Height'].mean()"
      ],
      "execution_count": 21,
      "outputs": [
        {
          "output_type": "stream",
          "text": [
            "['c' 'b' 'a' 'c' 'b' 'a' 'c' 'c' 'c' 'a' 'c' 'a' 'a' 'a' 'c' 'c' 'c' 'a'\n",
            " 'a' 'a' 'c' 'a' 'c' 'b' 'a' 'a' 'c' 'b' 'a' 'a' 'b' 'a' 'c' 'b' 'b' 'b'\n",
            " 'a' 'b' 'b' 'b' 'a' 'a' 'c' 'a' 'b' 'b' 'b' 'a' 'a' 'a' 'b' 'a' 'b' 'a'\n",
            " 'a' 'a' 'b' 'b' 'b' 'a' 'b' 'b' 'c' 'c' 'a' 'b' 'c' 'a' 'a' 'a' 'b' 'b'\n",
            " 'c' 'c' 'a' 'b' 'b' 'a' 'a' 'b' 'c' 'b' 'c' 'c' 'b' 'b' 'a' 'b' 'b' 'c'\n",
            " 'a' 'a' 'c' 'b' 'b' 'b' 'b' 'c' 'a' 'c' 'b' 'c' 'c' 'a' 'b' 'b' 'b' 'a'\n",
            " 'a' 'b' 'b' 'a' 'a' 'c' 'a' 'c' 'a' 'a' 'b' 'a' 'b' 'b' 'c' 'c' 'c' 'b'\n",
            " 'b' 'b' 'b' 'b' 'a' 'a' 'a' 'c' 'c' 'a' 'a' 'c' 'a' 'c' 'a' 'a' 'b' 'c'\n",
            " 'c' 'a' 'b' 'b' 'b' 'c' 'a' 'b' 'c' 'b' 'b' 'b' 'c' 'b' 'c' 'b' 'b' 'a'\n",
            " 'c' 'b' 'b' 'b' 'c' 'a' 'b' 'b' 'c' 'a' 'a' 'a' 'b' 'b' 'b' 'c' 'b' 'a'\n",
            " 'a' 'c' 'c' 'c' 'a' 'b' 'a' 'c' 'a' 'a' 'b' 'c' 'a' 'a' 'a' 'b' 'c' 'c'\n",
            " 'a' 'b']\n"
          ],
          "name": "stdout"
        },
        {
          "output_type": "execute_result",
          "data": {
            "text/plain": [
              "a    164.214062\n",
              "b    162.728169\n",
              "c    162.614583\n",
              "Name: Height, dtype: float64"
            ]
          },
          "metadata": {
            "tags": []
          },
          "execution_count": 21
        }
      ]
    },
    {
      "cell_type": "markdown",
      "metadata": {
        "id": "2wyXRfBYRADA"
      },
      "source": [
        "如果传入多个序列进入`groupby`，那么最后分组的依据就是这两个序列对应行的唯一组合：\r\n"
      ]
    },
    {
      "cell_type": "code",
      "metadata": {
        "colab": {
          "base_uri": "https://localhost:8080/"
        },
        "id": "NDqJqrT6QcmH",
        "outputId": "1252f1fd-802e-4e79-917c-b8ff600b08a5"
      },
      "source": [
        "df.groupby([condition, item])['Height'].mean()"
      ],
      "execution_count": 23,
      "outputs": [
        {
          "output_type": "execute_result",
          "data": {
            "text/plain": [
              "Weight   \n",
              "False   a    159.247500\n",
              "        b    159.288679\n",
              "        c    158.388235\n",
              "True    a    172.491667\n",
              "        b    172.855556\n",
              "        c    172.878571\n",
              "Name: Height, dtype: float64"
            ]
          },
          "metadata": {
            "tags": []
          },
          "execution_count": 23
        }
      ]
    },
    {
      "cell_type": "markdown",
      "metadata": {
        "id": "KohbfiF0ReZr"
      },
      "source": [
        "从上例中可以看出，之前传入列名只是一种简便的记号，实际上等价于传入的是一个或多个列，最后分组依据来自于数据来源组合的unique值，通过`drop_duplicates`就能知道具体的组类别。"
      ]
    },
    {
      "cell_type": "code",
      "metadata": {
        "colab": {
          "base_uri": "https://localhost:8080/",
          "height": 294
        },
        "id": "_qG3dmz6RcyK",
        "outputId": "cd731f37-9b97-4366-9fe0-b3ae8196ebcf"
      },
      "source": [
        "#drop_duplicates()用于去重\r\n",
        "df[['School', 'Gender']].drop_duplicates()"
      ],
      "execution_count": 24,
      "outputs": [
        {
          "output_type": "execute_result",
          "data": {
            "text/html": [
              "<div>\n",
              "<style scoped>\n",
              "    .dataframe tbody tr th:only-of-type {\n",
              "        vertical-align: middle;\n",
              "    }\n",
              "\n",
              "    .dataframe tbody tr th {\n",
              "        vertical-align: top;\n",
              "    }\n",
              "\n",
              "    .dataframe thead th {\n",
              "        text-align: right;\n",
              "    }\n",
              "</style>\n",
              "<table border=\"1\" class=\"dataframe\">\n",
              "  <thead>\n",
              "    <tr style=\"text-align: right;\">\n",
              "      <th></th>\n",
              "      <th>School</th>\n",
              "      <th>Gender</th>\n",
              "    </tr>\n",
              "  </thead>\n",
              "  <tbody>\n",
              "    <tr>\n",
              "      <th>0</th>\n",
              "      <td>Shanghai Jiao Tong University</td>\n",
              "      <td>Female</td>\n",
              "    </tr>\n",
              "    <tr>\n",
              "      <th>1</th>\n",
              "      <td>Peking University</td>\n",
              "      <td>Male</td>\n",
              "    </tr>\n",
              "    <tr>\n",
              "      <th>2</th>\n",
              "      <td>Shanghai Jiao Tong University</td>\n",
              "      <td>Male</td>\n",
              "    </tr>\n",
              "    <tr>\n",
              "      <th>3</th>\n",
              "      <td>Fudan University</td>\n",
              "      <td>Female</td>\n",
              "    </tr>\n",
              "    <tr>\n",
              "      <th>4</th>\n",
              "      <td>Fudan University</td>\n",
              "      <td>Male</td>\n",
              "    </tr>\n",
              "    <tr>\n",
              "      <th>5</th>\n",
              "      <td>Tsinghua University</td>\n",
              "      <td>Female</td>\n",
              "    </tr>\n",
              "    <tr>\n",
              "      <th>9</th>\n",
              "      <td>Peking University</td>\n",
              "      <td>Female</td>\n",
              "    </tr>\n",
              "    <tr>\n",
              "      <th>16</th>\n",
              "      <td>Tsinghua University</td>\n",
              "      <td>Male</td>\n",
              "    </tr>\n",
              "  </tbody>\n",
              "</table>\n",
              "</div>"
            ],
            "text/plain": [
              "                           School  Gender\n",
              "0   Shanghai Jiao Tong University  Female\n",
              "1               Peking University    Male\n",
              "2   Shanghai Jiao Tong University    Male\n",
              "3                Fudan University  Female\n",
              "4                Fudan University    Male\n",
              "5             Tsinghua University  Female\n",
              "9               Peking University  Female\n",
              "16            Tsinghua University    Male"
            ]
          },
          "metadata": {
            "tags": []
          },
          "execution_count": 24
        }
      ]
    },
    {
      "cell_type": "code",
      "metadata": {
        "colab": {
          "base_uri": "https://localhost:8080/"
        },
        "id": "CD7QX3mWRTET",
        "outputId": "fde46968-a029-443a-fb69-30eacfee4494"
      },
      "source": [
        "df.groupby([df['School'], df['Gender']])['Height'].mean()"
      ],
      "execution_count": 25,
      "outputs": [
        {
          "output_type": "execute_result",
          "data": {
            "text/plain": [
              "School                         Gender\n",
              "Fudan University               Female    158.776923\n",
              "                               Male      174.212500\n",
              "Peking University              Female    158.666667\n",
              "                               Male      172.030000\n",
              "Shanghai Jiao Tong University  Female    159.122500\n",
              "                               Male      176.760000\n",
              "Tsinghua University            Female    159.753333\n",
              "                               Male      171.638889\n",
              "Name: Height, dtype: float64"
            ]
          },
          "metadata": {
            "tags": []
          },
          "execution_count": 25
        }
      ]
    },
    {
      "cell_type": "markdown",
      "metadata": {
        "id": "y26i9-QUSDeR"
      },
      "source": [
        "#### 3. Groupby对象\r\n",
        "最终具体做分组操作时，所调用的方法都来自于`pandas`中的`groupby`对象。因此也就具有一些方便的属性。"
      ]
    },
    {
      "cell_type": "code",
      "metadata": {
        "colab": {
          "base_uri": "https://localhost:8080/"
        },
        "id": "NMsgYvfySCF6",
        "outputId": "17cf7bce-10b1-409f-8607-710e8cc63baa"
      },
      "source": [
        "gb = df.groupby(['School','Grade'])\r\n",
        "\r\n",
        "gb"
      ],
      "execution_count": 26,
      "outputs": [
        {
          "output_type": "execute_result",
          "data": {
            "text/plain": [
              "<pandas.core.groupby.generic.DataFrameGroupBy object at 0x7f60416ff860>"
            ]
          },
          "metadata": {
            "tags": []
          },
          "execution_count": 26
        }
      ]
    },
    {
      "cell_type": "code",
      "metadata": {
        "colab": {
          "base_uri": "https://localhost:8080/"
        },
        "id": "cHAEh4YXSYdo",
        "outputId": "6ec5eb5a-dc62-4820-ed75-102414cb606c"
      },
      "source": [
        "# ngroups属性:分组个数\r\n",
        "gb.ngroups"
      ],
      "execution_count": 27,
      "outputs": [
        {
          "output_type": "execute_result",
          "data": {
            "text/plain": [
              "16"
            ]
          },
          "metadata": {
            "tags": []
          },
          "execution_count": 27
        }
      ]
    },
    {
      "cell_type": "code",
      "metadata": {
        "colab": {
          "base_uri": "https://localhost:8080/"
        },
        "id": "8lq7dJnbSea5",
        "outputId": "d5f69856-cb56-4537-eac3-7bc5ff0f39fd"
      },
      "source": [
        "#groups属性，可以返回从组名映射到组索引列表的字典\r\n",
        "res=gb.groups\r\n",
        "# res.keys()\r\n",
        "print(res)"
      ],
      "execution_count": 30,
      "outputs": [
        {
          "output_type": "stream",
          "text": [
            "{('Fudan University', 'Freshman'): [15, 28, 63, 70, 73, 105, 108, 157, 186], ('Fudan University', 'Junior'): [26, 41, 82, 84, 90, 107, 145, 152, 173, 187, 189, 195], ('Fudan University', 'Senior'): [39, 46, 49, 52, 66, 77, 112, 129, 131, 138, 144], ('Fudan University', 'Sophomore'): [3, 4, 37, 48, 68, 98, 135, 170], ('Peking University', 'Freshman'): [1, 32, 35, 36, 38, 45, 54, 57, 88, 96, 99, 140, 185], ('Peking University', 'Junior'): [9, 20, 59, 72, 75, 102, 159, 183], ('Peking University', 'Senior'): [30, 86, 116, 127, 130, 132, 147, 194], ('Peking University', 'Sophomore'): [29, 61, 83, 101, 120], ('Shanghai Jiao Tong University', 'Freshman'): [0, 6, 10, 60, 114, 117, 119, 121, 141, 148, 149, 153, 184], ('Shanghai Jiao Tong University', 'Junior'): [31, 42, 50, 56, 58, 64, 85, 93, 115, 122, 143, 155, 164, 172, 174, 188, 190], ('Shanghai Jiao Tong University', 'Senior'): [2, 12, 19, 21, 22, 23, 79, 87, 89, 103, 104, 109, 123, 134, 156, 161, 165, 166, 171, 192, 197, 198], ('Shanghai Jiao Tong University', 'Sophomore'): [13, 65, 71, 124, 167], ('Tsinghua University', 'Freshman'): [5, 8, 33, 34, 43, 44, 47, 51, 62, 67, 81, 111, 125, 133, 136, 142, 146], ('Tsinghua University', 'Junior'): [7, 11, 16, 17, 27, 69, 94, 95, 113, 118, 128, 137, 150, 154, 158, 160, 162, 163, 169, 176, 177, 191], ('Tsinghua University', 'Senior'): [14, 18, 24, 25, 78, 92, 100, 126, 168, 175, 179, 180, 193, 196], ('Tsinghua University', 'Sophomore'): [40, 53, 55, 74, 76, 80, 91, 97, 106, 110, 139, 151, 178, 181, 182, 199]}\n"
          ],
          "name": "stdout"
        }
      ]
    },
    {
      "cell_type": "code",
      "metadata": {
        "colab": {
          "base_uri": "https://localhost:8080/"
        },
        "id": "H-98U9t3Spx8",
        "outputId": "a773eab7-3fed-4bbc-c805-c849011a58e9"
      },
      "source": [
        "# 上一小节介绍了可以通过 drop_duplicates 得到具体的组类别，\r\n",
        "# 现请用 groups 属性完成类似的功能。\r\n",
        "print('School, Grade')\r\n",
        "for key in res.keys():\r\n",
        "  print('{}, {}'.format(key[0], key[1]))\r\n"
      ],
      "execution_count": 33,
      "outputs": [
        {
          "output_type": "stream",
          "text": [
            "School, Grade\n",
            "Fudan University, Freshman\n",
            "Fudan University, Junior\n",
            "Fudan University, Senior\n",
            "Fudan University, Sophomore\n",
            "Peking University, Freshman\n",
            "Peking University, Junior\n",
            "Peking University, Senior\n",
            "Peking University, Sophomore\n",
            "Shanghai Jiao Tong University, Freshman\n",
            "Shanghai Jiao Tong University, Junior\n",
            "Shanghai Jiao Tong University, Senior\n",
            "Shanghai Jiao Tong University, Sophomore\n",
            "Tsinghua University, Freshman\n",
            "Tsinghua University, Junior\n",
            "Tsinghua University, Senior\n",
            "Tsinghua University, Sophomore\n"
          ],
          "name": "stdout"
        }
      ]
    },
    {
      "cell_type": "markdown",
      "metadata": {
        "id": "rLoFaoiITp1G"
      },
      "source": [
        "当`size`作为`DataFrame`的属性时，返回的是表长乘以表宽的大小，但在`groupby`对象上表示的是统计每个组的元素个数："
      ]
    },
    {
      "cell_type": "code",
      "metadata": {
        "colab": {
          "base_uri": "https://localhost:8080/"
        },
        "id": "8gRTfFcMTIso",
        "outputId": "4094079e-c125-47b3-aa79-db8892aaf56e"
      },
      "source": [
        "gb.size()"
      ],
      "execution_count": 34,
      "outputs": [
        {
          "output_type": "execute_result",
          "data": {
            "text/plain": [
              "School                         Grade    \n",
              "Fudan University               Freshman      9\n",
              "                               Junior       12\n",
              "                               Senior       11\n",
              "                               Sophomore     8\n",
              "Peking University              Freshman     13\n",
              "                               Junior        8\n",
              "                               Senior        8\n",
              "                               Sophomore     5\n",
              "Shanghai Jiao Tong University  Freshman     13\n",
              "                               Junior       17\n",
              "                               Senior       22\n",
              "                               Sophomore     5\n",
              "Tsinghua University            Freshman     17\n",
              "                               Junior       22\n",
              "                               Senior       14\n",
              "                               Sophomore    16\n",
              "dtype: int64"
            ]
          },
          "metadata": {
            "tags": []
          },
          "execution_count": 34
        }
      ]
    },
    {
      "cell_type": "code",
      "metadata": {
        "colab": {
          "base_uri": "https://localhost:8080/",
          "height": 141
        },
        "id": "Oc3xuwkbT5_R",
        "outputId": "2a32c1fd-0014-443f-ac7a-13072cbcd783"
      },
      "source": [
        "# 通过get_group方法可以直接获取所在组对应的行，此时必须知道组的具体名字\r\n",
        "gb.get_group(('Fudan University', 'Freshman')).iloc[:3, :3]"
      ],
      "execution_count": 37,
      "outputs": [
        {
          "output_type": "execute_result",
          "data": {
            "text/html": [
              "<div>\n",
              "<style scoped>\n",
              "    .dataframe tbody tr th:only-of-type {\n",
              "        vertical-align: middle;\n",
              "    }\n",
              "\n",
              "    .dataframe tbody tr th {\n",
              "        vertical-align: top;\n",
              "    }\n",
              "\n",
              "    .dataframe thead th {\n",
              "        text-align: right;\n",
              "    }\n",
              "</style>\n",
              "<table border=\"1\" class=\"dataframe\">\n",
              "  <thead>\n",
              "    <tr style=\"text-align: right;\">\n",
              "      <th></th>\n",
              "      <th>School</th>\n",
              "      <th>Grade</th>\n",
              "      <th>Name</th>\n",
              "    </tr>\n",
              "  </thead>\n",
              "  <tbody>\n",
              "    <tr>\n",
              "      <th>15</th>\n",
              "      <td>Fudan University</td>\n",
              "      <td>Freshman</td>\n",
              "      <td>Changqiang Yang</td>\n",
              "    </tr>\n",
              "    <tr>\n",
              "      <th>28</th>\n",
              "      <td>Fudan University</td>\n",
              "      <td>Freshman</td>\n",
              "      <td>Gaoqiang Qin</td>\n",
              "    </tr>\n",
              "    <tr>\n",
              "      <th>63</th>\n",
              "      <td>Fudan University</td>\n",
              "      <td>Freshman</td>\n",
              "      <td>Gaofeng Zhao</td>\n",
              "    </tr>\n",
              "  </tbody>\n",
              "</table>\n",
              "</div>"
            ],
            "text/plain": [
              "              School     Grade             Name\n",
              "15  Fudan University  Freshman  Changqiang Yang\n",
              "28  Fudan University  Freshman     Gaoqiang Qin\n",
              "63  Fudan University  Freshman     Gaofeng Zhao"
            ]
          },
          "metadata": {
            "tags": []
          },
          "execution_count": 37
        }
      ]
    },
    {
      "cell_type": "markdown",
      "metadata": {
        "id": "y7pLRF7pUnq-"
      },
      "source": [
        "#### 4. 分组的三大操作\r\n",
        "**聚合、变换和过滤。**\r\n",
        "\r\n",
        "### 二、聚合函数\r\n",
        "#### 1. 内置聚合函数\r\n",
        "* 一些直接定义在groupby对象的聚合函数，因为它的速度基本都会经过内部的优化，使用功能时应当优先考虑。根据返回标量值的原则，包括如下函数： `max/min/mean/median/count/all/any/idxmax/idxmin/mad/nunique/skew/quantile/sum/std/var/sem/size/prod`。\r\n",
        "\r\n"
      ]
    },
    {
      "cell_type": "code",
      "metadata": {
        "colab": {
          "base_uri": "https://localhost:8080/"
        },
        "id": "Bw-xvVYGUNpm",
        "outputId": "f1853275-ca4f-44e0-b9aa-d3bbbd0962ff"
      },
      "source": [
        "# 返回分组后最小值的索引\r\n",
        "gb = df.groupby('Gender')['Height']\r\n",
        "gb.idxmin()"
      ],
      "execution_count": 39,
      "outputs": [
        {
          "output_type": "execute_result",
          "data": {
            "text/plain": [
              "Gender\n",
              "Female    143\n",
              "Male      199\n",
              "Name: Height, dtype: int64"
            ]
          },
          "metadata": {
            "tags": []
          },
          "execution_count": 39
        }
      ]
    },
    {
      "cell_type": "code",
      "metadata": {
        "colab": {
          "base_uri": "https://localhost:8080/"
        },
        "id": "-tqlrVHVVLMu",
        "outputId": "3bf44603-8d93-4102-cd5c-edc307ad2cb0"
      },
      "source": [
        "# 返回0.95分位数\r\n",
        "gb.quantile(0.95)"
      ],
      "execution_count": 40,
      "outputs": [
        {
          "output_type": "execute_result",
          "data": {
            "text/plain": [
              "Gender\n",
              "Female    166.8\n",
              "Male      185.9\n",
              "Name: Height, dtype: float64"
            ]
          },
          "metadata": {
            "tags": []
          },
          "execution_count": 40
        }
      ]
    },
    {
      "cell_type": "code",
      "metadata": {
        "colab": {
          "base_uri": "https://localhost:8080/",
          "height": 141
        },
        "id": "VCI_pEdlVXYQ",
        "outputId": "c301429b-0b8a-4a53-e991-fad4c4147607"
      },
      "source": [
        "# 如果传入的数据来源包含多个列时，将按照列进行迭代计算\r\n",
        "gb = df.groupby('Gender')[['Height', 'Weight']]\r\n",
        "gb.max()"
      ],
      "execution_count": 41,
      "outputs": [
        {
          "output_type": "execute_result",
          "data": {
            "text/html": [
              "<div>\n",
              "<style scoped>\n",
              "    .dataframe tbody tr th:only-of-type {\n",
              "        vertical-align: middle;\n",
              "    }\n",
              "\n",
              "    .dataframe tbody tr th {\n",
              "        vertical-align: top;\n",
              "    }\n",
              "\n",
              "    .dataframe thead th {\n",
              "        text-align: right;\n",
              "    }\n",
              "</style>\n",
              "<table border=\"1\" class=\"dataframe\">\n",
              "  <thead>\n",
              "    <tr style=\"text-align: right;\">\n",
              "      <th></th>\n",
              "      <th>Height</th>\n",
              "      <th>Weight</th>\n",
              "    </tr>\n",
              "    <tr>\n",
              "      <th>Gender</th>\n",
              "      <th></th>\n",
              "      <th></th>\n",
              "    </tr>\n",
              "  </thead>\n",
              "  <tbody>\n",
              "    <tr>\n",
              "      <th>Female</th>\n",
              "      <td>170.2</td>\n",
              "      <td>63.0</td>\n",
              "    </tr>\n",
              "    <tr>\n",
              "      <th>Male</th>\n",
              "      <td>193.9</td>\n",
              "      <td>89.0</td>\n",
              "    </tr>\n",
              "  </tbody>\n",
              "</table>\n",
              "</div>"
            ],
            "text/plain": [
              "        Height  Weight\n",
              "Gender                \n",
              "Female   170.2    63.0\n",
              "Male     193.9    89.0"
            ]
          },
          "metadata": {
            "tags": []
          },
          "execution_count": 41
        }
      ]
    },
    {
      "cell_type": "markdown",
      "metadata": {
        "id": "an-OiSNEVsTs"
      },
      "source": [
        "#### 2. agg方法\r\n",
        "上述的内置函数定义了许多方便的函数，但是仍然有以下不便之处：\r\n",
        "* 无法同时使用多个函数\r\n",
        "\r\n",
        "* 无法对特定的列使用特定的聚合函数\r\n",
        "\r\n",
        "* 无法使用自定义的聚合函数\r\n",
        "\r\n",
        "* 无法直接对结果的列名在聚合前进行自定义命名\r\n",
        "\r\n",
        "因此可以使用`agg`函数解决以上问题：\r\n",
        "\r\n",
        "* 使用多个函数\r\n",
        "\r\n",
        "当使用多个聚合函数时，需要用列表的形式把内置聚合函数对应的字符串传入，先前提到的所有字符串都是合法的"
      ]
    },
    {
      "cell_type": "code",
      "metadata": {
        "colab": {
          "base_uri": "https://localhost:8080/",
          "height": 171
        },
        "id": "UjHoQg2dVqv4",
        "outputId": "6f947a21-80bc-4147-f511-49af07c1d3b8"
      },
      "source": [
        "# 此时列索引为多级索引，第一层为数据源，第二层为使用的聚合方法，\r\n",
        "# 分别逐一对列使用聚合，因此结果为6列\r\n",
        "gb.agg(['sum', 'idxmax', 'skew'])"
      ],
      "execution_count": 43,
      "outputs": [
        {
          "output_type": "execute_result",
          "data": {
            "text/html": [
              "<div>\n",
              "<style scoped>\n",
              "    .dataframe tbody tr th:only-of-type {\n",
              "        vertical-align: middle;\n",
              "    }\n",
              "\n",
              "    .dataframe tbody tr th {\n",
              "        vertical-align: top;\n",
              "    }\n",
              "\n",
              "    .dataframe thead tr th {\n",
              "        text-align: left;\n",
              "    }\n",
              "\n",
              "    .dataframe thead tr:last-of-type th {\n",
              "        text-align: right;\n",
              "    }\n",
              "</style>\n",
              "<table border=\"1\" class=\"dataframe\">\n",
              "  <thead>\n",
              "    <tr>\n",
              "      <th></th>\n",
              "      <th colspan=\"3\" halign=\"left\">Height</th>\n",
              "      <th colspan=\"3\" halign=\"left\">Weight</th>\n",
              "    </tr>\n",
              "    <tr>\n",
              "      <th></th>\n",
              "      <th>sum</th>\n",
              "      <th>idxmax</th>\n",
              "      <th>skew</th>\n",
              "      <th>sum</th>\n",
              "      <th>idxmax</th>\n",
              "      <th>skew</th>\n",
              "    </tr>\n",
              "    <tr>\n",
              "      <th>Gender</th>\n",
              "      <th></th>\n",
              "      <th></th>\n",
              "      <th></th>\n",
              "      <th></th>\n",
              "      <th></th>\n",
              "      <th></th>\n",
              "    </tr>\n",
              "  </thead>\n",
              "  <tbody>\n",
              "    <tr>\n",
              "      <th>Female</th>\n",
              "      <td>21014.0</td>\n",
              "      <td>28</td>\n",
              "      <td>-0.219253</td>\n",
              "      <td>6469.0</td>\n",
              "      <td>28</td>\n",
              "      <td>-0.268482</td>\n",
              "    </tr>\n",
              "    <tr>\n",
              "      <th>Male</th>\n",
              "      <td>8854.9</td>\n",
              "      <td>193</td>\n",
              "      <td>0.437535</td>\n",
              "      <td>3929.0</td>\n",
              "      <td>2</td>\n",
              "      <td>-0.332393</td>\n",
              "    </tr>\n",
              "  </tbody>\n",
              "</table>\n",
              "</div>"
            ],
            "text/plain": [
              "         Height                   Weight                 \n",
              "            sum idxmax      skew     sum idxmax      skew\n",
              "Gender                                                   \n",
              "Female  21014.0     28 -0.219253  6469.0     28 -0.268482\n",
              "Male     8854.9    193  0.437535  3929.0      2 -0.332393"
            ]
          },
          "metadata": {
            "tags": []
          },
          "execution_count": 43
        }
      ]
    },
    {
      "cell_type": "markdown",
      "metadata": {
        "id": "-n-b4yrgWd11"
      },
      "source": [
        "* 对特定的列使用特定的聚合函数\r\n",
        "\r\n",
        "对于方法和列的特殊对应，可以通过构造字典传入 agg 中实现，其中字典以列名为键，以聚合字符串或字符串列表为值。"
      ]
    },
    {
      "cell_type": "code",
      "metadata": {
        "colab": {
          "base_uri": "https://localhost:8080/",
          "height": 171
        },
        "id": "lgww1RDoWKgu",
        "outputId": "46025264-49bf-4686-a658-523200837774"
      },
      "source": [
        "gb.agg({'Height':['mean','max'], 'Weight':'count'})"
      ],
      "execution_count": 44,
      "outputs": [
        {
          "output_type": "execute_result",
          "data": {
            "text/html": [
              "<div>\n",
              "<style scoped>\n",
              "    .dataframe tbody tr th:only-of-type {\n",
              "        vertical-align: middle;\n",
              "    }\n",
              "\n",
              "    .dataframe tbody tr th {\n",
              "        vertical-align: top;\n",
              "    }\n",
              "\n",
              "    .dataframe thead tr th {\n",
              "        text-align: left;\n",
              "    }\n",
              "\n",
              "    .dataframe thead tr:last-of-type th {\n",
              "        text-align: right;\n",
              "    }\n",
              "</style>\n",
              "<table border=\"1\" class=\"dataframe\">\n",
              "  <thead>\n",
              "    <tr>\n",
              "      <th></th>\n",
              "      <th colspan=\"2\" halign=\"left\">Height</th>\n",
              "      <th>Weight</th>\n",
              "    </tr>\n",
              "    <tr>\n",
              "      <th></th>\n",
              "      <th>mean</th>\n",
              "      <th>max</th>\n",
              "      <th>count</th>\n",
              "    </tr>\n",
              "    <tr>\n",
              "      <th>Gender</th>\n",
              "      <th></th>\n",
              "      <th></th>\n",
              "      <th></th>\n",
              "    </tr>\n",
              "  </thead>\n",
              "  <tbody>\n",
              "    <tr>\n",
              "      <th>Female</th>\n",
              "      <td>159.19697</td>\n",
              "      <td>170.2</td>\n",
              "      <td>135</td>\n",
              "    </tr>\n",
              "    <tr>\n",
              "      <th>Male</th>\n",
              "      <td>173.62549</td>\n",
              "      <td>193.9</td>\n",
              "      <td>54</td>\n",
              "    </tr>\n",
              "  </tbody>\n",
              "</table>\n",
              "</div>"
            ],
            "text/plain": [
              "           Height        Weight\n",
              "             mean    max  count\n",
              "Gender                         \n",
              "Female  159.19697  170.2    135\n",
              "Male    173.62549  193.9     54"
            ]
          },
          "metadata": {
            "tags": []
          },
          "execution_count": 44
        }
      ]
    },
    {
      "cell_type": "markdown",
      "metadata": {
        "id": "Bvmz5uYAWpPr"
      },
      "source": [
        "* 使用自定义函数\r\n",
        "\r\n",
        "在 agg 中可以使用具体的自定义函数，**需要注意传入函数的参数是之前数据源中的列，逐列进行计算**。"
      ]
    },
    {
      "cell_type": "code",
      "metadata": {
        "colab": {
          "base_uri": "https://localhost:8080/",
          "height": 141
        },
        "id": "jKZpjg_WWi70",
        "outputId": "841fccea-808c-45b6-b3c3-2b7bf7a730f4"
      },
      "source": [
        "gb.agg(lambda x: x.mean()-x.min())"
      ],
      "execution_count": 45,
      "outputs": [
        {
          "output_type": "execute_result",
          "data": {
            "text/html": [
              "<div>\n",
              "<style scoped>\n",
              "    .dataframe tbody tr th:only-of-type {\n",
              "        vertical-align: middle;\n",
              "    }\n",
              "\n",
              "    .dataframe tbody tr th {\n",
              "        vertical-align: top;\n",
              "    }\n",
              "\n",
              "    .dataframe thead th {\n",
              "        text-align: right;\n",
              "    }\n",
              "</style>\n",
              "<table border=\"1\" class=\"dataframe\">\n",
              "  <thead>\n",
              "    <tr style=\"text-align: right;\">\n",
              "      <th></th>\n",
              "      <th>Height</th>\n",
              "      <th>Weight</th>\n",
              "    </tr>\n",
              "    <tr>\n",
              "      <th>Gender</th>\n",
              "      <th></th>\n",
              "      <th></th>\n",
              "    </tr>\n",
              "  </thead>\n",
              "  <tbody>\n",
              "    <tr>\n",
              "      <th>Female</th>\n",
              "      <td>13.79697</td>\n",
              "      <td>13.918519</td>\n",
              "    </tr>\n",
              "    <tr>\n",
              "      <th>Male</th>\n",
              "      <td>17.92549</td>\n",
              "      <td>21.759259</td>\n",
              "    </tr>\n",
              "  </tbody>\n",
              "</table>\n",
              "</div>"
            ],
            "text/plain": [
              "          Height     Weight\n",
              "Gender                     \n",
              "Female  13.79697  13.918519\n",
              "Male    17.92549  21.759259"
            ]
          },
          "metadata": {
            "tags": []
          },
          "execution_count": 45
        }
      ]
    },
    {
      "cell_type": "markdown",
      "metadata": {
        "id": "eW1v-IA5W4X9"
      },
      "source": [
        "由于传入的是序列，因此序列上的方法和属性都是可以在函数中使用的，只需保证返回值是标量即可。"
      ]
    },
    {
      "cell_type": "code",
      "metadata": {
        "id": "RmWe-q3rWuqz"
      },
      "source": [
        "def my_func(s):\r\n",
        "  res = 'High'\r\n",
        "  if s.mean() <= df[s.name].mean():\r\n",
        "    res = 'Low'\r\n",
        "  return res"
      ],
      "execution_count": 46,
      "outputs": []
    },
    {
      "cell_type": "code",
      "metadata": {
        "colab": {
          "base_uri": "https://localhost:8080/",
          "height": 141
        },
        "id": "LdCSd62NXCM9",
        "outputId": "1a99ddb5-e1e1-4e7b-919e-874433616cdc"
      },
      "source": [
        "gb.agg(my_func)"
      ],
      "execution_count": 47,
      "outputs": [
        {
          "output_type": "execute_result",
          "data": {
            "text/html": [
              "<div>\n",
              "<style scoped>\n",
              "    .dataframe tbody tr th:only-of-type {\n",
              "        vertical-align: middle;\n",
              "    }\n",
              "\n",
              "    .dataframe tbody tr th {\n",
              "        vertical-align: top;\n",
              "    }\n",
              "\n",
              "    .dataframe thead th {\n",
              "        text-align: right;\n",
              "    }\n",
              "</style>\n",
              "<table border=\"1\" class=\"dataframe\">\n",
              "  <thead>\n",
              "    <tr style=\"text-align: right;\">\n",
              "      <th></th>\n",
              "      <th>Height</th>\n",
              "      <th>Weight</th>\n",
              "    </tr>\n",
              "    <tr>\n",
              "      <th>Gender</th>\n",
              "      <th></th>\n",
              "      <th></th>\n",
              "    </tr>\n",
              "  </thead>\n",
              "  <tbody>\n",
              "    <tr>\n",
              "      <th>Female</th>\n",
              "      <td>Low</td>\n",
              "      <td>Low</td>\n",
              "    </tr>\n",
              "    <tr>\n",
              "      <th>Male</th>\n",
              "      <td>High</td>\n",
              "      <td>High</td>\n",
              "    </tr>\n",
              "  </tbody>\n",
              "</table>\n",
              "</div>"
            ],
            "text/plain": [
              "       Height Weight\n",
              "Gender              \n",
              "Female    Low    Low\n",
              "Male     High   High"
            ]
          },
          "metadata": {
            "tags": []
          },
          "execution_count": 47
        }
      ]
    },
    {
      "cell_type": "markdown",
      "metadata": {
        "id": "X37Bl6csXG3P"
      },
      "source": [
        "* 聚合结果重命名\r\n",
        "\r\n",
        "如果想要对聚合结果的列名进行重命名，只需要将上述函数的位置改写成元组，元组的第一个元素为新的名字，第二个位置为原来的函数，包括聚合字符串和自定义函数"
      ]
    },
    {
      "cell_type": "code",
      "metadata": {
        "colab": {
          "base_uri": "https://localhost:8080/",
          "height": 171
        },
        "id": "vg5YMEJKXETM",
        "outputId": "15356b0e-936f-426c-a16c-10d0deb8fc98"
      },
      "source": [
        " gb.agg([('range', lambda x: x.max()-x.min()), ('my_sum', 'sum')])"
      ],
      "execution_count": 48,
      "outputs": [
        {
          "output_type": "execute_result",
          "data": {
            "text/html": [
              "<div>\n",
              "<style scoped>\n",
              "    .dataframe tbody tr th:only-of-type {\n",
              "        vertical-align: middle;\n",
              "    }\n",
              "\n",
              "    .dataframe tbody tr th {\n",
              "        vertical-align: top;\n",
              "    }\n",
              "\n",
              "    .dataframe thead tr th {\n",
              "        text-align: left;\n",
              "    }\n",
              "\n",
              "    .dataframe thead tr:last-of-type th {\n",
              "        text-align: right;\n",
              "    }\n",
              "</style>\n",
              "<table border=\"1\" class=\"dataframe\">\n",
              "  <thead>\n",
              "    <tr>\n",
              "      <th></th>\n",
              "      <th colspan=\"2\" halign=\"left\">Height</th>\n",
              "      <th colspan=\"2\" halign=\"left\">Weight</th>\n",
              "    </tr>\n",
              "    <tr>\n",
              "      <th></th>\n",
              "      <th>range</th>\n",
              "      <th>my_sum</th>\n",
              "      <th>range</th>\n",
              "      <th>my_sum</th>\n",
              "    </tr>\n",
              "    <tr>\n",
              "      <th>Gender</th>\n",
              "      <th></th>\n",
              "      <th></th>\n",
              "      <th></th>\n",
              "      <th></th>\n",
              "    </tr>\n",
              "  </thead>\n",
              "  <tbody>\n",
              "    <tr>\n",
              "      <th>Female</th>\n",
              "      <td>24.8</td>\n",
              "      <td>21014.0</td>\n",
              "      <td>29.0</td>\n",
              "      <td>6469.0</td>\n",
              "    </tr>\n",
              "    <tr>\n",
              "      <th>Male</th>\n",
              "      <td>38.2</td>\n",
              "      <td>8854.9</td>\n",
              "      <td>38.0</td>\n",
              "      <td>3929.0</td>\n",
              "    </tr>\n",
              "  </tbody>\n",
              "</table>\n",
              "</div>"
            ],
            "text/plain": [
              "       Height          Weight        \n",
              "        range   my_sum  range  my_sum\n",
              "Gender                               \n",
              "Female   24.8  21014.0   29.0  6469.0\n",
              "Male     38.2   8854.9   38.0  3929.0"
            ]
          },
          "metadata": {
            "tags": []
          },
          "execution_count": 48
        }
      ]
    },
    {
      "cell_type": "code",
      "metadata": {
        "colab": {
          "base_uri": "https://localhost:8080/",
          "height": 171
        },
        "id": "4oB7YafNXLWp",
        "outputId": "3c4cdd60-d7f5-4903-ec0d-0cefff9aa68b"
      },
      "source": [
        "gb.agg({'Height': [('my_func', my_func), 'sum'],\r\n",
        "         'Weight': lambda x:x.max()})"
      ],
      "execution_count": 49,
      "outputs": [
        {
          "output_type": "execute_result",
          "data": {
            "text/html": [
              "<div>\n",
              "<style scoped>\n",
              "    .dataframe tbody tr th:only-of-type {\n",
              "        vertical-align: middle;\n",
              "    }\n",
              "\n",
              "    .dataframe tbody tr th {\n",
              "        vertical-align: top;\n",
              "    }\n",
              "\n",
              "    .dataframe thead tr th {\n",
              "        text-align: left;\n",
              "    }\n",
              "\n",
              "    .dataframe thead tr:last-of-type th {\n",
              "        text-align: right;\n",
              "    }\n",
              "</style>\n",
              "<table border=\"1\" class=\"dataframe\">\n",
              "  <thead>\n",
              "    <tr>\n",
              "      <th></th>\n",
              "      <th colspan=\"2\" halign=\"left\">Height</th>\n",
              "      <th>Weight</th>\n",
              "    </tr>\n",
              "    <tr>\n",
              "      <th></th>\n",
              "      <th>my_func</th>\n",
              "      <th>sum</th>\n",
              "      <th>&lt;lambda&gt;</th>\n",
              "    </tr>\n",
              "    <tr>\n",
              "      <th>Gender</th>\n",
              "      <th></th>\n",
              "      <th></th>\n",
              "      <th></th>\n",
              "    </tr>\n",
              "  </thead>\n",
              "  <tbody>\n",
              "    <tr>\n",
              "      <th>Female</th>\n",
              "      <td>Low</td>\n",
              "      <td>21014.0</td>\n",
              "      <td>63.0</td>\n",
              "    </tr>\n",
              "    <tr>\n",
              "      <th>Male</th>\n",
              "      <td>High</td>\n",
              "      <td>8854.9</td>\n",
              "      <td>89.0</td>\n",
              "    </tr>\n",
              "  </tbody>\n",
              "</table>\n",
              "</div>"
            ],
            "text/plain": [
              "        Height            Weight\n",
              "       my_func      sum <lambda>\n",
              "Gender                          \n",
              "Female     Low  21014.0     63.0\n",
              "Male      High   8854.9     89.0"
            ]
          },
          "metadata": {
            "tags": []
          },
          "execution_count": 49
        }
      ]
    },
    {
      "cell_type": "markdown",
      "metadata": {
        "id": "Zc1Iyu01XVBG"
      },
      "source": [
        "> 另外需要注意，使用对一个或者多个列使用单个聚合的时候，重命名需要加方括号，否则就不知道是新的名字还是手误输错的内置函数字符串："
      ]
    },
    {
      "cell_type": "code",
      "metadata": {
        "colab": {
          "base_uri": "https://localhost:8080/",
          "height": 171
        },
        "id": "7DNotQsYXP35",
        "outputId": "61c4b886-e9c1-43d3-eac0-3c81d5417a41"
      },
      "source": [
        "gb.agg([('my_sum', 'sum')])"
      ],
      "execution_count": 50,
      "outputs": [
        {
          "output_type": "execute_result",
          "data": {
            "text/html": [
              "<div>\n",
              "<style scoped>\n",
              "    .dataframe tbody tr th:only-of-type {\n",
              "        vertical-align: middle;\n",
              "    }\n",
              "\n",
              "    .dataframe tbody tr th {\n",
              "        vertical-align: top;\n",
              "    }\n",
              "\n",
              "    .dataframe thead tr th {\n",
              "        text-align: left;\n",
              "    }\n",
              "\n",
              "    .dataframe thead tr:last-of-type th {\n",
              "        text-align: right;\n",
              "    }\n",
              "</style>\n",
              "<table border=\"1\" class=\"dataframe\">\n",
              "  <thead>\n",
              "    <tr>\n",
              "      <th></th>\n",
              "      <th>Height</th>\n",
              "      <th>Weight</th>\n",
              "    </tr>\n",
              "    <tr>\n",
              "      <th></th>\n",
              "      <th>my_sum</th>\n",
              "      <th>my_sum</th>\n",
              "    </tr>\n",
              "    <tr>\n",
              "      <th>Gender</th>\n",
              "      <th></th>\n",
              "      <th></th>\n",
              "    </tr>\n",
              "  </thead>\n",
              "  <tbody>\n",
              "    <tr>\n",
              "      <th>Female</th>\n",
              "      <td>21014.0</td>\n",
              "      <td>6469.0</td>\n",
              "    </tr>\n",
              "    <tr>\n",
              "      <th>Male</th>\n",
              "      <td>8854.9</td>\n",
              "      <td>3929.0</td>\n",
              "    </tr>\n",
              "  </tbody>\n",
              "</table>\n",
              "</div>"
            ],
            "text/plain": [
              "         Height  Weight\n",
              "         my_sum  my_sum\n",
              "Gender                 \n",
              "Female  21014.0  6469.0\n",
              "Male     8854.9  3929.0"
            ]
          },
          "metadata": {
            "tags": []
          },
          "execution_count": 50
        }
      ]
    },
    {
      "cell_type": "code",
      "metadata": {
        "colab": {
          "base_uri": "https://localhost:8080/",
          "height": 171
        },
        "id": "WHiyMV8rXXcm",
        "outputId": "372712aa-7518-44b8-e264-8f24fa1892be"
      },
      "source": [
        "gb.agg({'Height': [('my_func', my_func), 'sum'],\r\n",
        "         'Weight': [('range', lambda x:x.max())]})"
      ],
      "execution_count": 51,
      "outputs": [
        {
          "output_type": "execute_result",
          "data": {
            "text/html": [
              "<div>\n",
              "<style scoped>\n",
              "    .dataframe tbody tr th:only-of-type {\n",
              "        vertical-align: middle;\n",
              "    }\n",
              "\n",
              "    .dataframe tbody tr th {\n",
              "        vertical-align: top;\n",
              "    }\n",
              "\n",
              "    .dataframe thead tr th {\n",
              "        text-align: left;\n",
              "    }\n",
              "\n",
              "    .dataframe thead tr:last-of-type th {\n",
              "        text-align: right;\n",
              "    }\n",
              "</style>\n",
              "<table border=\"1\" class=\"dataframe\">\n",
              "  <thead>\n",
              "    <tr>\n",
              "      <th></th>\n",
              "      <th colspan=\"2\" halign=\"left\">Height</th>\n",
              "      <th>Weight</th>\n",
              "    </tr>\n",
              "    <tr>\n",
              "      <th></th>\n",
              "      <th>my_func</th>\n",
              "      <th>sum</th>\n",
              "      <th>range</th>\n",
              "    </tr>\n",
              "    <tr>\n",
              "      <th>Gender</th>\n",
              "      <th></th>\n",
              "      <th></th>\n",
              "      <th></th>\n",
              "    </tr>\n",
              "  </thead>\n",
              "  <tbody>\n",
              "    <tr>\n",
              "      <th>Female</th>\n",
              "      <td>Low</td>\n",
              "      <td>21014.0</td>\n",
              "      <td>63.0</td>\n",
              "    </tr>\n",
              "    <tr>\n",
              "      <th>Male</th>\n",
              "      <td>High</td>\n",
              "      <td>8854.9</td>\n",
              "      <td>89.0</td>\n",
              "    </tr>\n",
              "  </tbody>\n",
              "</table>\n",
              "</div>"
            ],
            "text/plain": [
              "        Height          Weight\n",
              "       my_func      sum  range\n",
              "Gender                        \n",
              "Female     Low  21014.0   63.0\n",
              "Male      High   8854.9   89.0"
            ]
          },
          "metadata": {
            "tags": []
          },
          "execution_count": 51
        }
      ]
    },
    {
      "cell_type": "markdown",
      "metadata": {
        "id": "wehQ8woMXe7Y"
      },
      "source": [
        "### 变换和过滤\r\n",
        "#### 1. 变换函数与transform方法\r\n",
        "变换函数的返回值为同长度的序列，最常用的内置变换函数是累计函数： cumcount/cumsum/cumprod/cummax/cummin ，它们的使用方式和聚合函数类似，只不过完成的是组内累计操作。"
      ]
    },
    {
      "cell_type": "code",
      "metadata": {
        "colab": {
          "base_uri": "https://localhost:8080/",
          "height": 202
        },
        "id": "gXcmf2NeXdLM",
        "outputId": "e97b74e6-349d-40b4-ab30-d24155fcbbd0"
      },
      "source": [
        "gb.cummax().head()"
      ],
      "execution_count": 52,
      "outputs": [
        {
          "output_type": "execute_result",
          "data": {
            "text/html": [
              "<div>\n",
              "<style scoped>\n",
              "    .dataframe tbody tr th:only-of-type {\n",
              "        vertical-align: middle;\n",
              "    }\n",
              "\n",
              "    .dataframe tbody tr th {\n",
              "        vertical-align: top;\n",
              "    }\n",
              "\n",
              "    .dataframe thead th {\n",
              "        text-align: right;\n",
              "    }\n",
              "</style>\n",
              "<table border=\"1\" class=\"dataframe\">\n",
              "  <thead>\n",
              "    <tr style=\"text-align: right;\">\n",
              "      <th></th>\n",
              "      <th>Height</th>\n",
              "      <th>Weight</th>\n",
              "    </tr>\n",
              "  </thead>\n",
              "  <tbody>\n",
              "    <tr>\n",
              "      <th>0</th>\n",
              "      <td>158.9</td>\n",
              "      <td>46.0</td>\n",
              "    </tr>\n",
              "    <tr>\n",
              "      <th>1</th>\n",
              "      <td>166.5</td>\n",
              "      <td>70.0</td>\n",
              "    </tr>\n",
              "    <tr>\n",
              "      <th>2</th>\n",
              "      <td>188.9</td>\n",
              "      <td>89.0</td>\n",
              "    </tr>\n",
              "    <tr>\n",
              "      <th>3</th>\n",
              "      <td>NaN</td>\n",
              "      <td>46.0</td>\n",
              "    </tr>\n",
              "    <tr>\n",
              "      <th>4</th>\n",
              "      <td>188.9</td>\n",
              "      <td>89.0</td>\n",
              "    </tr>\n",
              "  </tbody>\n",
              "</table>\n",
              "</div>"
            ],
            "text/plain": [
              "   Height  Weight\n",
              "0   158.9    46.0\n",
              "1   166.5    70.0\n",
              "2   188.9    89.0\n",
              "3     NaN    46.0\n",
              "4   188.9    89.0"
            ]
          },
          "metadata": {
            "tags": []
          },
          "execution_count": 52
        }
      ]
    },
    {
      "cell_type": "markdown",
      "metadata": {
        "id": "-pNDBU0HXpWH"
      },
      "source": [
        "> 当用自定义变换时需要使用 transform 方法，被调用的自定义函数， 其传入值为数据源的序列 ，与 agg 的传入类型是一致的，其最后的返回结果是行列索引与数据源一致的 DataFrame 。"
      ]
    },
    {
      "cell_type": "code",
      "metadata": {
        "colab": {
          "base_uri": "https://localhost:8080/",
          "height": 202
        },
        "id": "-uypv5ktXlpU",
        "outputId": "de242974-8d9a-4398-a2e8-75bfceac0fbb"
      },
      "source": [
        "# 对身高和体重进行分组标准化，即减去组均值后除以组的标准差\r\n",
        "gb.transform(lambda x: (x-x.mean())/x.std()).head()\r\n"
      ],
      "execution_count": 53,
      "outputs": [
        {
          "output_type": "execute_result",
          "data": {
            "text/html": [
              "<div>\n",
              "<style scoped>\n",
              "    .dataframe tbody tr th:only-of-type {\n",
              "        vertical-align: middle;\n",
              "    }\n",
              "\n",
              "    .dataframe tbody tr th {\n",
              "        vertical-align: top;\n",
              "    }\n",
              "\n",
              "    .dataframe thead th {\n",
              "        text-align: right;\n",
              "    }\n",
              "</style>\n",
              "<table border=\"1\" class=\"dataframe\">\n",
              "  <thead>\n",
              "    <tr style=\"text-align: right;\">\n",
              "      <th></th>\n",
              "      <th>Height</th>\n",
              "      <th>Weight</th>\n",
              "    </tr>\n",
              "  </thead>\n",
              "  <tbody>\n",
              "    <tr>\n",
              "      <th>0</th>\n",
              "      <td>-0.058760</td>\n",
              "      <td>-0.354888</td>\n",
              "    </tr>\n",
              "    <tr>\n",
              "      <th>1</th>\n",
              "      <td>-1.010925</td>\n",
              "      <td>-0.355000</td>\n",
              "    </tr>\n",
              "    <tr>\n",
              "      <th>2</th>\n",
              "      <td>2.167063</td>\n",
              "      <td>2.089498</td>\n",
              "    </tr>\n",
              "    <tr>\n",
              "      <th>3</th>\n",
              "      <td>NaN</td>\n",
              "      <td>-1.279789</td>\n",
              "    </tr>\n",
              "    <tr>\n",
              "      <th>4</th>\n",
              "      <td>0.053133</td>\n",
              "      <td>0.159631</td>\n",
              "    </tr>\n",
              "  </tbody>\n",
              "</table>\n",
              "</div>"
            ],
            "text/plain": [
              "     Height    Weight\n",
              "0 -0.058760 -0.354888\n",
              "1 -1.010925 -0.355000\n",
              "2  2.167063  2.089498\n",
              "3       NaN -1.279789\n",
              "4  0.053133  0.159631"
            ]
          },
          "metadata": {
            "tags": []
          },
          "execution_count": 53
        }
      ]
    },
    {
      "cell_type": "markdown",
      "metadata": {
        "id": "_EU4EFBlX4jv"
      },
      "source": [
        ">  transform 只能返回同长度的序列，但事实上还可以返回一个标量，这会使得结果被广播到其所在的整个组，这种 标量广播 的技巧在特征工程中是非常常见的"
      ]
    },
    {
      "cell_type": "code",
      "metadata": {
        "colab": {
          "base_uri": "https://localhost:8080/",
          "height": 202
        },
        "id": "4aXzTjabX0Ec",
        "outputId": "f67d8583-d7ff-49d1-8891-c0ddbeb46406"
      },
      "source": [
        "# 传入返回标量的函数也是可以的\r\n",
        "gb.transform('mean').head()"
      ],
      "execution_count": 54,
      "outputs": [
        {
          "output_type": "execute_result",
          "data": {
            "text/html": [
              "<div>\n",
              "<style scoped>\n",
              "    .dataframe tbody tr th:only-of-type {\n",
              "        vertical-align: middle;\n",
              "    }\n",
              "\n",
              "    .dataframe tbody tr th {\n",
              "        vertical-align: top;\n",
              "    }\n",
              "\n",
              "    .dataframe thead th {\n",
              "        text-align: right;\n",
              "    }\n",
              "</style>\n",
              "<table border=\"1\" class=\"dataframe\">\n",
              "  <thead>\n",
              "    <tr style=\"text-align: right;\">\n",
              "      <th></th>\n",
              "      <th>Height</th>\n",
              "      <th>Weight</th>\n",
              "    </tr>\n",
              "  </thead>\n",
              "  <tbody>\n",
              "    <tr>\n",
              "      <th>0</th>\n",
              "      <td>159.19697</td>\n",
              "      <td>47.918519</td>\n",
              "    </tr>\n",
              "    <tr>\n",
              "      <th>1</th>\n",
              "      <td>173.62549</td>\n",
              "      <td>72.759259</td>\n",
              "    </tr>\n",
              "    <tr>\n",
              "      <th>2</th>\n",
              "      <td>173.62549</td>\n",
              "      <td>72.759259</td>\n",
              "    </tr>\n",
              "    <tr>\n",
              "      <th>3</th>\n",
              "      <td>159.19697</td>\n",
              "      <td>47.918519</td>\n",
              "    </tr>\n",
              "    <tr>\n",
              "      <th>4</th>\n",
              "      <td>173.62549</td>\n",
              "      <td>72.759259</td>\n",
              "    </tr>\n",
              "  </tbody>\n",
              "</table>\n",
              "</div>"
            ],
            "text/plain": [
              "      Height     Weight\n",
              "0  159.19697  47.918519\n",
              "1  173.62549  72.759259\n",
              "2  173.62549  72.759259\n",
              "3  159.19697  47.918519\n",
              "4  173.62549  72.759259"
            ]
          },
          "metadata": {
            "tags": []
          },
          "execution_count": 54
        }
      ]
    },
    {
      "cell_type": "markdown",
      "metadata": {
        "id": "4RHes4dPYDKW"
      },
      "source": [
        "#### 2. 组索引与过滤\r\n",
        "* 过滤在分组中是对于组的过滤，而索引是对于行的过滤，在第二章中的返回值，无论是布尔列表还是元素列表或者位置列表，本质上都是对于行的筛选，即如果符合筛选条件的则选入结果表，否则不选入。\r\n",
        "\r\n",
        "* 组过滤作为行过滤的推广，指的是如果对一个组的全体所在行进行统计的结果返回 True 则会被保留， False 则该组会被过滤，最后把所有未被过滤的组其对应的所在行拼接起来作为 DataFrame 返回。\r\n",
        "\r\n",
        "* 在 groupby 对象中，定义了 filter 方法进行组的筛选，其中自定义函数的输入参数为数据源构成的 DataFrame 本身，在之前例子中定义的 groupby 对象中，传入的就是 df[['Height', 'Weight']] ，因此所有表方法和属性都可以在自定义函数中相应地使用，同时只需保证自定义函数的返回为布尔值即可。"
      ]
    },
    {
      "cell_type": "code",
      "metadata": {
        "colab": {
          "base_uri": "https://localhost:8080/",
          "height": 202
        },
        "id": "rir2DfGMX_VK",
        "outputId": "e4502685-5933-4ebd-dc5e-c0614fedf842"
      },
      "source": [
        "# 在原表中通过过滤得到所有容量大于100的组\r\n",
        "gb.filter(lambda x: x.shape[0] > 100).head()"
      ],
      "execution_count": 55,
      "outputs": [
        {
          "output_type": "execute_result",
          "data": {
            "text/html": [
              "<div>\n",
              "<style scoped>\n",
              "    .dataframe tbody tr th:only-of-type {\n",
              "        vertical-align: middle;\n",
              "    }\n",
              "\n",
              "    .dataframe tbody tr th {\n",
              "        vertical-align: top;\n",
              "    }\n",
              "\n",
              "    .dataframe thead th {\n",
              "        text-align: right;\n",
              "    }\n",
              "</style>\n",
              "<table border=\"1\" class=\"dataframe\">\n",
              "  <thead>\n",
              "    <tr style=\"text-align: right;\">\n",
              "      <th></th>\n",
              "      <th>Height</th>\n",
              "      <th>Weight</th>\n",
              "    </tr>\n",
              "  </thead>\n",
              "  <tbody>\n",
              "    <tr>\n",
              "      <th>0</th>\n",
              "      <td>158.9</td>\n",
              "      <td>46.0</td>\n",
              "    </tr>\n",
              "    <tr>\n",
              "      <th>3</th>\n",
              "      <td>NaN</td>\n",
              "      <td>41.0</td>\n",
              "    </tr>\n",
              "    <tr>\n",
              "      <th>5</th>\n",
              "      <td>158.0</td>\n",
              "      <td>51.0</td>\n",
              "    </tr>\n",
              "    <tr>\n",
              "      <th>6</th>\n",
              "      <td>162.5</td>\n",
              "      <td>52.0</td>\n",
              "    </tr>\n",
              "    <tr>\n",
              "      <th>7</th>\n",
              "      <td>161.9</td>\n",
              "      <td>50.0</td>\n",
              "    </tr>\n",
              "  </tbody>\n",
              "</table>\n",
              "</div>"
            ],
            "text/plain": [
              "   Height  Weight\n",
              "0   158.9    46.0\n",
              "3     NaN    41.0\n",
              "5   158.0    51.0\n",
              "6   162.5    52.0\n",
              "7   161.9    50.0"
            ]
          },
          "metadata": {
            "tags": []
          },
          "execution_count": 55
        }
      ]
    },
    {
      "cell_type": "markdown",
      "metadata": {
        "id": "Cpe1ooXGYXP3"
      },
      "source": [
        "### 四、跨列分组\r\n",
        "#### 1. apply的使用\r\n",
        "apply 的自定义函数传入参数与 filter 完全一致，只不过后者只允许返回布尔值。\r\n"
      ]
    },
    {
      "cell_type": "code",
      "metadata": {
        "id": "JcX5E-hIYU5_"
      },
      "source": [
        "def BMI(x):\r\n",
        "  Height = x['Height']/100\r\n",
        "  Weight = x['Weight']\r\n",
        "  BMI_value = Weight/Height**2\r\n",
        "  return BMI_value.mean()"
      ],
      "execution_count": 56,
      "outputs": []
    },
    {
      "cell_type": "code",
      "metadata": {
        "colab": {
          "base_uri": "https://localhost:8080/"
        },
        "id": "meIdCJ2vYnmb",
        "outputId": "51587fe3-22bf-46a0-b202-9aadc2c4f306"
      },
      "source": [
        "gb.apply(BMI)"
      ],
      "execution_count": 57,
      "outputs": [
        {
          "output_type": "execute_result",
          "data": {
            "text/plain": [
              "Gender\n",
              "Female    18.860930\n",
              "Male      24.318654\n",
              "dtype: float64"
            ]
          },
          "metadata": {
            "tags": []
          },
          "execution_count": 57
        }
      ]
    },
    {
      "cell_type": "markdown",
      "metadata": {
        "id": "i7NzipGAYuk8"
      },
      "source": [
        "除了返回标量之外， apply 方法还可以返回一维 Series 和二维 DataFrame:\r\n",
        "* 标量情况：结果得到的是 Series ，索引与 agg 的结果一致："
      ]
    },
    {
      "cell_type": "code",
      "metadata": {
        "colab": {
          "base_uri": "https://localhost:8080/"
        },
        "id": "2bJlFxBQYqoj",
        "outputId": "5dc30b03-d4d3-46b0-9075-f5e88bf3dc77"
      },
      "source": [
        "gb = df.groupby(['Gender','Test_Number'])[['Height','Weight']]\r\n",
        "\r\n",
        "gb.apply(lambda x: 0)"
      ],
      "execution_count": 58,
      "outputs": [
        {
          "output_type": "execute_result",
          "data": {
            "text/plain": [
              "Gender  Test_Number\n",
              "Female  1              0\n",
              "        2              0\n",
              "        3              0\n",
              "Male    1              0\n",
              "        2              0\n",
              "        3              0\n",
              "dtype: int64"
            ]
          },
          "metadata": {
            "tags": []
          },
          "execution_count": 58
        }
      ]
    },
    {
      "cell_type": "code",
      "metadata": {
        "colab": {
          "base_uri": "https://localhost:8080/"
        },
        "id": "d8vRrkusY396",
        "outputId": "fc4762b8-ea83-4c08-ebf9-d6436b5551e7"
      },
      "source": [
        "gb.apply(lambda x: [0, 0]) # 虽然是列表，但是作为返回值仍然看作标量\r\n"
      ],
      "execution_count": 59,
      "outputs": [
        {
          "output_type": "execute_result",
          "data": {
            "text/plain": [
              "Gender  Test_Number\n",
              "Female  1              [0, 0]\n",
              "        2              [0, 0]\n",
              "        3              [0, 0]\n",
              "Male    1              [0, 0]\n",
              "        2              [0, 0]\n",
              "        3              [0, 0]\n",
              "dtype: object"
            ]
          },
          "metadata": {
            "tags": []
          },
          "execution_count": 59
        }
      ]
    },
    {
      "cell_type": "markdown",
      "metadata": {
        "id": "k5KwLq3oY92G"
      },
      "source": [
        "* Series 情况：得到的是 DataFrame ，行索引与标量情况一致，列索引为 Series 的索引："
      ]
    },
    {
      "cell_type": "code",
      "metadata": {
        "colab": {
          "base_uri": "https://localhost:8080/",
          "height": 263
        },
        "id": "MOACwPwnY7iQ",
        "outputId": "8d6b50b3-5a79-4c7b-b198-923ab3246f93"
      },
      "source": [
        "gb.apply(lambda x: pd.Series([0,0],index=['a','b']))"
      ],
      "execution_count": 60,
      "outputs": [
        {
          "output_type": "execute_result",
          "data": {
            "text/html": [
              "<div>\n",
              "<style scoped>\n",
              "    .dataframe tbody tr th:only-of-type {\n",
              "        vertical-align: middle;\n",
              "    }\n",
              "\n",
              "    .dataframe tbody tr th {\n",
              "        vertical-align: top;\n",
              "    }\n",
              "\n",
              "    .dataframe thead th {\n",
              "        text-align: right;\n",
              "    }\n",
              "</style>\n",
              "<table border=\"1\" class=\"dataframe\">\n",
              "  <thead>\n",
              "    <tr style=\"text-align: right;\">\n",
              "      <th></th>\n",
              "      <th></th>\n",
              "      <th>a</th>\n",
              "      <th>b</th>\n",
              "    </tr>\n",
              "    <tr>\n",
              "      <th>Gender</th>\n",
              "      <th>Test_Number</th>\n",
              "      <th></th>\n",
              "      <th></th>\n",
              "    </tr>\n",
              "  </thead>\n",
              "  <tbody>\n",
              "    <tr>\n",
              "      <th rowspan=\"3\" valign=\"top\">Female</th>\n",
              "      <th>1</th>\n",
              "      <td>0</td>\n",
              "      <td>0</td>\n",
              "    </tr>\n",
              "    <tr>\n",
              "      <th>2</th>\n",
              "      <td>0</td>\n",
              "      <td>0</td>\n",
              "    </tr>\n",
              "    <tr>\n",
              "      <th>3</th>\n",
              "      <td>0</td>\n",
              "      <td>0</td>\n",
              "    </tr>\n",
              "    <tr>\n",
              "      <th rowspan=\"3\" valign=\"top\">Male</th>\n",
              "      <th>1</th>\n",
              "      <td>0</td>\n",
              "      <td>0</td>\n",
              "    </tr>\n",
              "    <tr>\n",
              "      <th>2</th>\n",
              "      <td>0</td>\n",
              "      <td>0</td>\n",
              "    </tr>\n",
              "    <tr>\n",
              "      <th>3</th>\n",
              "      <td>0</td>\n",
              "      <td>0</td>\n",
              "    </tr>\n",
              "  </tbody>\n",
              "</table>\n",
              "</div>"
            ],
            "text/plain": [
              "                    a  b\n",
              "Gender Test_Number      \n",
              "Female 1            0  0\n",
              "       2            0  0\n",
              "       3            0  0\n",
              "Male   1            0  0\n",
              "       2            0  0\n",
              "       3            0  0"
            ]
          },
          "metadata": {
            "tags": []
          },
          "execution_count": 60
        }
      ]
    },
    {
      "cell_type": "markdown",
      "metadata": {
        "id": "BaovNg5SZGNY"
      },
      "source": [
        "* Series 情况：得到的是 DataFrame ，行索引与标量情况一致，列索引为 Series 的索引"
      ]
    },
    {
      "cell_type": "code",
      "metadata": {
        "colab": {
          "base_uri": "https://localhost:8080/",
          "height": 263
        },
        "id": "jsphPv_fZEf4",
        "outputId": "79f9bc72-9f09-4600-98b3-669f8d6b3083"
      },
      "source": [
        "gb.apply(lambda x: pd.Series([0,0],index=['a','b']))"
      ],
      "execution_count": 61,
      "outputs": [
        {
          "output_type": "execute_result",
          "data": {
            "text/html": [
              "<div>\n",
              "<style scoped>\n",
              "    .dataframe tbody tr th:only-of-type {\n",
              "        vertical-align: middle;\n",
              "    }\n",
              "\n",
              "    .dataframe tbody tr th {\n",
              "        vertical-align: top;\n",
              "    }\n",
              "\n",
              "    .dataframe thead th {\n",
              "        text-align: right;\n",
              "    }\n",
              "</style>\n",
              "<table border=\"1\" class=\"dataframe\">\n",
              "  <thead>\n",
              "    <tr style=\"text-align: right;\">\n",
              "      <th></th>\n",
              "      <th></th>\n",
              "      <th>a</th>\n",
              "      <th>b</th>\n",
              "    </tr>\n",
              "    <tr>\n",
              "      <th>Gender</th>\n",
              "      <th>Test_Number</th>\n",
              "      <th></th>\n",
              "      <th></th>\n",
              "    </tr>\n",
              "  </thead>\n",
              "  <tbody>\n",
              "    <tr>\n",
              "      <th rowspan=\"3\" valign=\"top\">Female</th>\n",
              "      <th>1</th>\n",
              "      <td>0</td>\n",
              "      <td>0</td>\n",
              "    </tr>\n",
              "    <tr>\n",
              "      <th>2</th>\n",
              "      <td>0</td>\n",
              "      <td>0</td>\n",
              "    </tr>\n",
              "    <tr>\n",
              "      <th>3</th>\n",
              "      <td>0</td>\n",
              "      <td>0</td>\n",
              "    </tr>\n",
              "    <tr>\n",
              "      <th rowspan=\"3\" valign=\"top\">Male</th>\n",
              "      <th>1</th>\n",
              "      <td>0</td>\n",
              "      <td>0</td>\n",
              "    </tr>\n",
              "    <tr>\n",
              "      <th>2</th>\n",
              "      <td>0</td>\n",
              "      <td>0</td>\n",
              "    </tr>\n",
              "    <tr>\n",
              "      <th>3</th>\n",
              "      <td>0</td>\n",
              "      <td>0</td>\n",
              "    </tr>\n",
              "  </tbody>\n",
              "</table>\n",
              "</div>"
            ],
            "text/plain": [
              "                    a  b\n",
              "Gender Test_Number      \n",
              "Female 1            0  0\n",
              "       2            0  0\n",
              "       3            0  0\n",
              "Male   1            0  0\n",
              "       2            0  0\n",
              "       3            0  0"
            ]
          },
          "metadata": {
            "tags": []
          },
          "execution_count": 61
        }
      ]
    },
    {
      "cell_type": "markdown",
      "metadata": {
        "id": "gZYSoxDhZNQ9"
      },
      "source": [
        "*  DataFrame 情况：得到的是 DataFrame ，行索引最内层在每个组原先 agg 的结果索引上，再加一层返回的 DataFrame 行索引，同时分组结果 DataFrame 的列索引和返回的 DataFrame 列索引一致。"
      ]
    },
    {
      "cell_type": "code",
      "metadata": {
        "colab": {
          "base_uri": "https://localhost:8080/",
          "height": 478
        },
        "id": "75eJIaa6ZLQz",
        "outputId": "74874e67-4570-4f47-a290-95103e2af55a"
      },
      "source": [
        "gb.apply(lambda x: pd.DataFrame(np.ones((2,2)),\r\n",
        "  index = ['a','b'],\r\n",
        "  columns=pd.Index([('w','x'),('y','z')])))"
      ],
      "execution_count": 62,
      "outputs": [
        {
          "output_type": "execute_result",
          "data": {
            "text/html": [
              "<div>\n",
              "<style scoped>\n",
              "    .dataframe tbody tr th:only-of-type {\n",
              "        vertical-align: middle;\n",
              "    }\n",
              "\n",
              "    .dataframe tbody tr th {\n",
              "        vertical-align: top;\n",
              "    }\n",
              "\n",
              "    .dataframe thead tr th {\n",
              "        text-align: left;\n",
              "    }\n",
              "\n",
              "    .dataframe thead tr:last-of-type th {\n",
              "        text-align: right;\n",
              "    }\n",
              "</style>\n",
              "<table border=\"1\" class=\"dataframe\">\n",
              "  <thead>\n",
              "    <tr>\n",
              "      <th></th>\n",
              "      <th></th>\n",
              "      <th></th>\n",
              "      <th>w</th>\n",
              "      <th>y</th>\n",
              "    </tr>\n",
              "    <tr>\n",
              "      <th></th>\n",
              "      <th></th>\n",
              "      <th></th>\n",
              "      <th>x</th>\n",
              "      <th>z</th>\n",
              "    </tr>\n",
              "    <tr>\n",
              "      <th>Gender</th>\n",
              "      <th>Test_Number</th>\n",
              "      <th></th>\n",
              "      <th></th>\n",
              "      <th></th>\n",
              "    </tr>\n",
              "  </thead>\n",
              "  <tbody>\n",
              "    <tr>\n",
              "      <th rowspan=\"6\" valign=\"top\">Female</th>\n",
              "      <th rowspan=\"2\" valign=\"top\">1</th>\n",
              "      <th>a</th>\n",
              "      <td>1.0</td>\n",
              "      <td>1.0</td>\n",
              "    </tr>\n",
              "    <tr>\n",
              "      <th>b</th>\n",
              "      <td>1.0</td>\n",
              "      <td>1.0</td>\n",
              "    </tr>\n",
              "    <tr>\n",
              "      <th rowspan=\"2\" valign=\"top\">2</th>\n",
              "      <th>a</th>\n",
              "      <td>1.0</td>\n",
              "      <td>1.0</td>\n",
              "    </tr>\n",
              "    <tr>\n",
              "      <th>b</th>\n",
              "      <td>1.0</td>\n",
              "      <td>1.0</td>\n",
              "    </tr>\n",
              "    <tr>\n",
              "      <th rowspan=\"2\" valign=\"top\">3</th>\n",
              "      <th>a</th>\n",
              "      <td>1.0</td>\n",
              "      <td>1.0</td>\n",
              "    </tr>\n",
              "    <tr>\n",
              "      <th>b</th>\n",
              "      <td>1.0</td>\n",
              "      <td>1.0</td>\n",
              "    </tr>\n",
              "    <tr>\n",
              "      <th rowspan=\"6\" valign=\"top\">Male</th>\n",
              "      <th rowspan=\"2\" valign=\"top\">1</th>\n",
              "      <th>a</th>\n",
              "      <td>1.0</td>\n",
              "      <td>1.0</td>\n",
              "    </tr>\n",
              "    <tr>\n",
              "      <th>b</th>\n",
              "      <td>1.0</td>\n",
              "      <td>1.0</td>\n",
              "    </tr>\n",
              "    <tr>\n",
              "      <th rowspan=\"2\" valign=\"top\">2</th>\n",
              "      <th>a</th>\n",
              "      <td>1.0</td>\n",
              "      <td>1.0</td>\n",
              "    </tr>\n",
              "    <tr>\n",
              "      <th>b</th>\n",
              "      <td>1.0</td>\n",
              "      <td>1.0</td>\n",
              "    </tr>\n",
              "    <tr>\n",
              "      <th rowspan=\"2\" valign=\"top\">3</th>\n",
              "      <th>a</th>\n",
              "      <td>1.0</td>\n",
              "      <td>1.0</td>\n",
              "    </tr>\n",
              "    <tr>\n",
              "      <th>b</th>\n",
              "      <td>1.0</td>\n",
              "      <td>1.0</td>\n",
              "    </tr>\n",
              "  </tbody>\n",
              "</table>\n",
              "</div>"
            ],
            "text/plain": [
              "                        w    y\n",
              "                        x    z\n",
              "Gender Test_Number            \n",
              "Female 1           a  1.0  1.0\n",
              "                   b  1.0  1.0\n",
              "       2           a  1.0  1.0\n",
              "                   b  1.0  1.0\n",
              "       3           a  1.0  1.0\n",
              "                   b  1.0  1.0\n",
              "Male   1           a  1.0  1.0\n",
              "                   b  1.0  1.0\n",
              "       2           a  1.0  1.0\n",
              "                   b  1.0  1.0\n",
              "       3           a  1.0  1.0\n",
              "                   b  1.0  1.0"
            ]
          },
          "metadata": {
            "tags": []
          },
          "execution_count": 62
        }
      ]
    },
    {
      "cell_type": "markdown",
      "metadata": {
        "id": "5unBHtpaZawb"
      },
      "source": [
        ">  apply 函数的灵活性是以牺牲一定性能为代价换得的，除非需要使用跨列处理的分组处理，否则应当使用其他专门设计的 groupby 对象方法，否则在性能上会存在较大的差距。同时，在使用聚合函数和变换函数时，也应当优先使用内置函数，它们经过了高度的性能优化，一般而言在速度上都会快于用自定义函数来实现。"
      ]
    },
    {
      "cell_type": "markdown",
      "metadata": {
        "id": "bbLTwbC_ZeIG"
      },
      "source": [
        "#### Ex1: 汽车数据集\r\n",
        "现有一份汽车数据集，其中 Brand, Disp., HP 分别代表汽车品牌、发动机蓄量、发动机输出。"
      ]
    },
    {
      "cell_type": "code",
      "metadata": {
        "colab": {
          "base_uri": "https://localhost:8080/",
          "height": 141
        },
        "id": "76KRpf9JZUns",
        "outputId": "678b3661-f466-45e5-811b-efcd6fe954be"
      },
      "source": [
        "df = pd.read_csv('data/car.csv')\r\n",
        "df.head(3)"
      ],
      "execution_count": 64,
      "outputs": [
        {
          "output_type": "execute_result",
          "data": {
            "text/html": [
              "<div>\n",
              "<style scoped>\n",
              "    .dataframe tbody tr th:only-of-type {\n",
              "        vertical-align: middle;\n",
              "    }\n",
              "\n",
              "    .dataframe tbody tr th {\n",
              "        vertical-align: top;\n",
              "    }\n",
              "\n",
              "    .dataframe thead th {\n",
              "        text-align: right;\n",
              "    }\n",
              "</style>\n",
              "<table border=\"1\" class=\"dataframe\">\n",
              "  <thead>\n",
              "    <tr style=\"text-align: right;\">\n",
              "      <th></th>\n",
              "      <th>Brand</th>\n",
              "      <th>Price</th>\n",
              "      <th>Country</th>\n",
              "      <th>Reliability</th>\n",
              "      <th>Mileage</th>\n",
              "      <th>Type</th>\n",
              "      <th>Weight</th>\n",
              "      <th>Disp.</th>\n",
              "      <th>HP</th>\n",
              "    </tr>\n",
              "  </thead>\n",
              "  <tbody>\n",
              "    <tr>\n",
              "      <th>0</th>\n",
              "      <td>Eagle Summit 4</td>\n",
              "      <td>8895</td>\n",
              "      <td>USA</td>\n",
              "      <td>4.0</td>\n",
              "      <td>33</td>\n",
              "      <td>Small</td>\n",
              "      <td>2560</td>\n",
              "      <td>97</td>\n",
              "      <td>113</td>\n",
              "    </tr>\n",
              "    <tr>\n",
              "      <th>1</th>\n",
              "      <td>Ford Escort   4</td>\n",
              "      <td>7402</td>\n",
              "      <td>USA</td>\n",
              "      <td>2.0</td>\n",
              "      <td>33</td>\n",
              "      <td>Small</td>\n",
              "      <td>2345</td>\n",
              "      <td>114</td>\n",
              "      <td>90</td>\n",
              "    </tr>\n",
              "    <tr>\n",
              "      <th>2</th>\n",
              "      <td>Ford Festiva 4</td>\n",
              "      <td>6319</td>\n",
              "      <td>Korea</td>\n",
              "      <td>4.0</td>\n",
              "      <td>37</td>\n",
              "      <td>Small</td>\n",
              "      <td>1845</td>\n",
              "      <td>81</td>\n",
              "      <td>63</td>\n",
              "    </tr>\n",
              "  </tbody>\n",
              "</table>\n",
              "</div>"
            ],
            "text/plain": [
              "             Brand  Price Country  Reliability  ...   Type Weight  Disp.   HP\n",
              "0   Eagle Summit 4   8895     USA          4.0  ...  Small   2560     97  113\n",
              "1  Ford Escort   4   7402     USA          2.0  ...  Small   2345    114   90\n",
              "2   Ford Festiva 4   6319   Korea          4.0  ...  Small   1845     81   63\n",
              "\n",
              "[3 rows x 9 columns]"
            ]
          },
          "metadata": {
            "tags": []
          },
          "execution_count": 64
        }
      ]
    },
    {
      "cell_type": "code",
      "metadata": {
        "colab": {
          "base_uri": "https://localhost:8080/",
          "height": 202
        },
        "id": "B7rz9oMGZonm",
        "outputId": "cc4a649c-dd7a-4b2a-b4ef-57774d930a76"
      },
      "source": [
        "\r\n",
        "df.groupby('Country').filter(lambda x:x.shape[0]>2).groupby(\r\n",
        "            'Country')['Price'].agg([\r\n",
        "            ('CoV', lambda x: x.std()/x.mean()), \r\n",
        "            'mean', 'count'])"
      ],
      "execution_count": 67,
      "outputs": [
        {
          "output_type": "execute_result",
          "data": {
            "text/html": [
              "<div>\n",
              "<style scoped>\n",
              "    .dataframe tbody tr th:only-of-type {\n",
              "        vertical-align: middle;\n",
              "    }\n",
              "\n",
              "    .dataframe tbody tr th {\n",
              "        vertical-align: top;\n",
              "    }\n",
              "\n",
              "    .dataframe thead th {\n",
              "        text-align: right;\n",
              "    }\n",
              "</style>\n",
              "<table border=\"1\" class=\"dataframe\">\n",
              "  <thead>\n",
              "    <tr style=\"text-align: right;\">\n",
              "      <th></th>\n",
              "      <th>CoV</th>\n",
              "      <th>mean</th>\n",
              "      <th>count</th>\n",
              "    </tr>\n",
              "    <tr>\n",
              "      <th>Country</th>\n",
              "      <th></th>\n",
              "      <th></th>\n",
              "      <th></th>\n",
              "    </tr>\n",
              "  </thead>\n",
              "  <tbody>\n",
              "    <tr>\n",
              "      <th>Japan</th>\n",
              "      <td>0.387429</td>\n",
              "      <td>13938.052632</td>\n",
              "      <td>19</td>\n",
              "    </tr>\n",
              "    <tr>\n",
              "      <th>Japan/USA</th>\n",
              "      <td>0.240040</td>\n",
              "      <td>10067.571429</td>\n",
              "      <td>7</td>\n",
              "    </tr>\n",
              "    <tr>\n",
              "      <th>Korea</th>\n",
              "      <td>0.243435</td>\n",
              "      <td>7857.333333</td>\n",
              "      <td>3</td>\n",
              "    </tr>\n",
              "    <tr>\n",
              "      <th>USA</th>\n",
              "      <td>0.203344</td>\n",
              "      <td>12543.269231</td>\n",
              "      <td>26</td>\n",
              "    </tr>\n",
              "  </tbody>\n",
              "</table>\n",
              "</div>"
            ],
            "text/plain": [
              "                CoV          mean  count\n",
              "Country                                 \n",
              "Japan      0.387429  13938.052632     19\n",
              "Japan/USA  0.240040  10067.571429      7\n",
              "Korea      0.243435   7857.333333      3\n",
              "USA        0.203344  12543.269231     26"
            ]
          },
          "metadata": {
            "tags": []
          },
          "execution_count": 67
        }
      ]
    },
    {
      "cell_type": "code",
      "metadata": {
        "colab": {
          "base_uri": "https://localhost:8080/"
        },
        "id": "MRmD-AM6cJi3",
        "outputId": "94ca3af6-6a98-4be4-e3a2-321d6c6ed851"
      },
      "source": [
        "df.shape[0]"
      ],
      "execution_count": 70,
      "outputs": [
        {
          "output_type": "execute_result",
          "data": {
            "text/plain": [
              "60"
            ]
          },
          "metadata": {
            "tags": []
          },
          "execution_count": 70
        }
      ]
    },
    {
      "cell_type": "code",
      "metadata": {
        "colab": {
          "base_uri": "https://localhost:8080/"
        },
        "id": "-86rSEqVaOIP",
        "outputId": "d336fb4b-91c3-440c-ed27-858fceb61499"
      },
      "source": [
        "condition = ['Head']*20+['Mid']*20+['Tail']*20\r\n",
        "df.groupby(condition)['Price'].mean()\r\n",
        "\r\n",
        "\r\n"
      ],
      "execution_count": 71,
      "outputs": [
        {
          "output_type": "execute_result",
          "data": {
            "text/plain": [
              "Head     9069.95\n",
              "Mid     13356.40\n",
              "Tail    15420.65\n",
              "Name: Price, dtype: float64"
            ]
          },
          "metadata": {
            "tags": []
          },
          "execution_count": 71
        }
      ]
    },
    {
      "cell_type": "code",
      "metadata": {
        "colab": {
          "base_uri": "https://localhost:8080/"
        },
        "id": "NAchzv7Gb7GI",
        "outputId": "d5758cde-af36-4129-dcf5-cf201381e756"
      },
      "source": [
        "res = df.groupby('Type').agg({'Price': ['max'], 'HP': ['min']})\r\n",
        "\r\n",
        "res.columns = res.columns.map(lambda x:'_'.join(x))\r\n",
        "print(res)"
      ],
      "execution_count": 72,
      "outputs": [
        {
          "output_type": "stream",
          "text": [
            "         Price_max  HP_min\n",
            "Type                      \n",
            "Compact      18900      95\n",
            "Large        17257     150\n",
            "Medium       24760     110\n",
            "Small         9995      63\n",
            "Sporty       13945      92\n",
            "Van          15395     106\n"
          ],
          "name": "stdout"
        }
      ]
    },
    {
      "cell_type": "code",
      "metadata": {
        "colab": {
          "base_uri": "https://localhost:8080/"
        },
        "id": "ulW9HKlccfv2",
        "outputId": "0edc8b78-13f1-44b8-90eb-04a45868d2f7"
      },
      "source": [
        "def normalize(s):\r\n",
        "  s_min, s_max = s.min(), s.max()\r\n",
        "  res = (s - s_min)/(s_max - s_min)\r\n",
        "  return res\r\n",
        "df.groupby('Type')['HP'].transform(normalize).head()"
      ],
      "execution_count": 73,
      "outputs": [
        {
          "output_type": "execute_result",
          "data": {
            "text/plain": [
              "0    1.00\n",
              "1    0.54\n",
              "2    0.00\n",
              "3    0.58\n",
              "4    0.80\n",
              "Name: HP, dtype: float64"
            ]
          },
          "metadata": {
            "tags": []
          },
          "execution_count": 73
        }
      ]
    },
    {
      "cell_type": "code",
      "metadata": {
        "colab": {
          "base_uri": "https://localhost:8080/"
        },
        "id": "to3wnnJjctAf",
        "outputId": "08cf604f-2579-4108-bd48-b05c0c0080aa"
      },
      "source": [
        "df.groupby('Type')[['HP', 'Disp.']].apply(\r\n",
        "  lambda x:np.corrcoef(x['HP'].values, x['Disp.'].values)[0,1])"
      ],
      "execution_count": 74,
      "outputs": [
        {
          "output_type": "execute_result",
          "data": {
            "text/plain": [
              "Type\n",
              "Compact    0.586087\n",
              "Large     -0.242765\n",
              "Medium     0.370491\n",
              "Small      0.603916\n",
              "Sporty     0.871426\n",
              "Van        0.819881\n",
              "dtype: float64"
            ]
          },
          "metadata": {
            "tags": []
          },
          "execution_count": 74
        }
      ]
    },
    {
      "cell_type": "code",
      "metadata": {
        "id": "D4aTjHn2c0rF"
      },
      "source": [
        ""
      ],
      "execution_count": null,
      "outputs": []
    }
  ]
}
